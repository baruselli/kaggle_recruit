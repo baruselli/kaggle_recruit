{
 "cells": [
  {
   "cell_type": "markdown",
   "metadata": {},
   "source": [
    "### Read files"
   ]
  },
  {
   "cell_type": "code",
   "execution_count": 1,
   "metadata": {},
   "outputs": [
    {
     "name": "stderr",
     "output_type": "stream",
     "text": [
      "/home/baruselli/anaconda3/lib/python3.5/site-packages/sklearn/cross_validation.py:44: DeprecationWarning: This module was deprecated in version 0.18 in favor of the model_selection module into which all the refactored classes and functions are moved. Also note that the interface of the new CV iterators are different from that of this module. This module will be removed in 0.20.\n",
      "  \"This module will be removed in 0.20.\", DeprecationWarning)\n",
      "/home/baruselli/anaconda3/lib/python3.5/site-packages/sklearn/grid_search.py:43: DeprecationWarning: This module was deprecated in version 0.18 in favor of the model_selection module into which all the refactored classes and functions are moved. This module will be removed in 0.20.\n",
      "  DeprecationWarning)\n",
      "/home/baruselli/anaconda3/lib/python3.5/site-packages/sklearn/lda.py:6: DeprecationWarning: lda.LDA has been moved to discriminant_analysis.LinearDiscriminantAnalysis in 0.17 and will be removed in 0.19\n",
      "  \"in 0.17 and will be removed in 0.19\", DeprecationWarning)\n",
      "/home/baruselli/anaconda3/lib/python3.5/site-packages/sklearn/learning_curve.py:23: DeprecationWarning: This module was deprecated in version 0.18 in favor of the model_selection module into which all the functions are moved. This module will be removed in 0.20\n",
      "  DeprecationWarning)\n",
      "/home/baruselli/anaconda3/lib/python3.5/site-packages/sklearn/qda.py:6: DeprecationWarning: qda.QDA has been moved to discriminant_analysis.QuadraticDiscriminantAnalysis in 0.17 and will be removed in 0.19.\n",
      "  \"in 0.17 and will be removed in 0.19.\", DeprecationWarning)\n"
     ]
    }
   ],
   "source": [
    "import glob, re\n",
    "import numpy as np\n",
    "import pandas as pd\n",
    "from datetime import datetime\n",
    "from sklearn import *\n",
    "\n",
    "data = {\n",
    "    #visitors\n",
    "    'tra': pd.read_csv('./input/air_visit_data.csv',parse_dates=[\"visit_date\"]),\n",
    "    #reservations\n",
    "    'ar': pd.read_csv('./input/air_reserve.csv',parse_dates=[\"visit_datetime\",\"reserve_datetime\"]),\n",
    "    'hr': pd.read_csv('./input/hpg_reserve.csv',parse_dates=[\"visit_datetime\",\"reserve_datetime\"]),\n",
    "    #store info\n",
    "    'as': pd.read_csv('./input/air_store_info.csv'),\n",
    "    'hs': pd.read_csv('./input/hpg_store_info.csv'),\n",
    "    #air<->hpg\n",
    "    'id': pd.read_csv('./input/store_id_relation.csv'),\n",
    "    #days\n",
    "    'hol': pd.read_csv('./input/date_info.csv',parse_dates=[\"calendar_date\"]), #.rename(columns={'calendar_date':'visit_date'})\n",
    "    #\n",
    "    'tes': pd.read_csv('./input/sample_submission.csv'),\n",
    "    }"
   ]
  },
  {
   "cell_type": "code",
   "execution_count": 2,
   "metadata": {},
   "outputs": [],
   "source": [
    "def RMSLE(y, pred):\n",
    "    return metrics.mean_squared_error(np.log(y+1), np.log(pred+1))**0.5\n",
    "def RMSE(y, pred):\n",
    "    return metrics.mean_squared_error(y, pred)**0.5"
   ]
  },
  {
   "cell_type": "markdown",
   "metadata": {},
   "source": [
    "### Some data categorizing to reduce space"
   ]
  },
  {
   "cell_type": "code",
   "execution_count": 3,
   "metadata": {},
   "outputs": [
    {
     "name": "stdout",
     "output_type": "stream",
     "text": [
      "tes 2.9315261840820312\n",
      "hol 0.039612770080566406\n",
      "as 0.23502159118652344\n",
      "hs 1.3301172256469727\n",
      "hr 192.67313385009766\n",
      "id 0.022129058837890625\n",
      "ar 8.898050308227539\n",
      "tra 4.42775821685791\n",
      "total 210.5573492050171\n"
     ]
    }
   ],
   "source": [
    "import sys\n",
    "data[\"tra\"][\"air_store_id\"]=data[\"tra\"][\"air_store_id\"].astype('category')\n",
    "total=0\n",
    "for k,v in data.items():\n",
    "    size_k=sys.getsizeof(data[k])/1024/1024\n",
    "    total+=size_k\n",
    "    print(k,size_k)\n",
    "print(\"total\",total)"
   ]
  },
  {
   "cell_type": "code",
   "execution_count": 4,
   "metadata": {},
   "outputs": [],
   "source": [
    "data[\"tra\"][\"air_store_id\"]=data[\"tra\"][\"air_store_id\"].astype('category')\n",
    "data[\"as\"][\"air_store_id\"]=data[\"as\"][\"air_store_id\"].astype('category')\n",
    "data[\"as\"][\"air_genre_name\"]=data[\"as\"][\"air_genre_name\"].astype('category')\n",
    "data[\"as\"][\"air_area_name\"]=data[\"as\"][\"air_area_name\"].astype('category')\n",
    "data[\"hs\"][\"hpg_store_id\"]=data[\"hs\"][\"hpg_store_id\"].astype('category')\n",
    "data[\"hs\"][\"hpg_genre_name\"]=data[\"hs\"][\"hpg_genre_name\"].astype('category')\n",
    "data[\"hs\"][\"hpg_area_name\"]=data[\"hs\"][\"hpg_area_name\"].astype('category')\n",
    "data[\"ar\"][\"air_store_id\"]=data[\"ar\"][\"air_store_id\"].astype('category')\n",
    "data[\"hr\"][\"hpg_store_id\"]=data[\"hr\"][\"hpg_store_id\"].astype('category')\n",
    "data[\"id\"][\"hpg_store_id\"]=data[\"id\"][\"hpg_store_id\"].astype('category')\n",
    "data[\"id\"][\"air_store_id\"]=data[\"id\"][\"air_store_id\"].astype('category')\n",
    "data[\"hol\"][\"day_of_week\"]=data[\"hol\"][\"day_of_week\"].astype('category')\n",
    "data[\"hol\"][\"holiday_flg\"]=data[\"hol\"][\"holiday_flg\"].astype('category')"
   ]
  },
  {
   "cell_type": "code",
   "execution_count": 5,
   "metadata": {},
   "outputs": [
    {
     "name": "stdout",
     "output_type": "stream",
     "text": [
      "tes 2.9315261840820312\n",
      "hol 0.005854606628417969\n",
      "as 0.13867950439453125\n",
      "hs 0.6168069839477539\n",
      "hr 51.20259189605713\n",
      "id 0.032466888427734375\n",
      "ar 2.323484420776367\n",
      "tra 4.42775821685791\n",
      "total 61.679168701171875\n"
     ]
    }
   ],
   "source": [
    "total=0\n",
    "for k,v in data.items():\n",
    "    size_k=sys.getsizeof(data[k])/1024/1024\n",
    "    total+=size_k\n",
    "    print(k,size_k)\n",
    "print(\"total\",total)"
   ]
  },
  {
   "cell_type": "code",
   "execution_count": 6,
   "metadata": {},
   "outputs": [
    {
     "data": {
      "text/html": [
       "<div>\n",
       "<style scoped>\n",
       "    .dataframe tbody tr th:only-of-type {\n",
       "        vertical-align: middle;\n",
       "    }\n",
       "\n",
       "    .dataframe tbody tr th {\n",
       "        vertical-align: top;\n",
       "    }\n",
       "\n",
       "    .dataframe thead th {\n",
       "        text-align: right;\n",
       "    }\n",
       "</style>\n",
       "<table border=\"1\" class=\"dataframe\">\n",
       "  <thead>\n",
       "    <tr style=\"text-align: right;\">\n",
       "      <th></th>\n",
       "      <th>air_store_id</th>\n",
       "      <th>visit_date</th>\n",
       "      <th>visitors</th>\n",
       "    </tr>\n",
       "  </thead>\n",
       "  <tbody>\n",
       "    <tr>\n",
       "      <th>0</th>\n",
       "      <td>air_ba937bf13d40fb24</td>\n",
       "      <td>2016-01-13</td>\n",
       "      <td>3.258097</td>\n",
       "    </tr>\n",
       "    <tr>\n",
       "      <th>1</th>\n",
       "      <td>air_ba937bf13d40fb24</td>\n",
       "      <td>2016-01-14</td>\n",
       "      <td>3.496508</td>\n",
       "    </tr>\n",
       "    <tr>\n",
       "      <th>2</th>\n",
       "      <td>air_ba937bf13d40fb24</td>\n",
       "      <td>2016-01-15</td>\n",
       "      <td>3.401197</td>\n",
       "    </tr>\n",
       "    <tr>\n",
       "      <th>3</th>\n",
       "      <td>air_ba937bf13d40fb24</td>\n",
       "      <td>2016-01-16</td>\n",
       "      <td>3.135494</td>\n",
       "    </tr>\n",
       "    <tr>\n",
       "      <th>4</th>\n",
       "      <td>air_ba937bf13d40fb24</td>\n",
       "      <td>2016-01-18</td>\n",
       "      <td>1.945910</td>\n",
       "    </tr>\n",
       "  </tbody>\n",
       "</table>\n",
       "</div>"
      ],
      "text/plain": [
       "           air_store_id visit_date  visitors\n",
       "0  air_ba937bf13d40fb24 2016-01-13  3.258097\n",
       "1  air_ba937bf13d40fb24 2016-01-14  3.496508\n",
       "2  air_ba937bf13d40fb24 2016-01-15  3.401197\n",
       "3  air_ba937bf13d40fb24 2016-01-16  3.135494\n",
       "4  air_ba937bf13d40fb24 2016-01-18  1.945910"
      ]
     },
     "execution_count": 6,
     "metadata": {},
     "output_type": "execute_result"
    }
   ],
   "source": [
    "data[\"tra\"][\"visitors\"]=np.log1p(data[\"tra\"][\"visitors\"])\n",
    "data[\"tra\"].head()"
   ]
  },
  {
   "cell_type": "markdown",
   "metadata": {},
   "source": [
    "### test"
   ]
  },
  {
   "cell_type": "code",
   "execution_count": 7,
   "metadata": {},
   "outputs": [],
   "source": [
    "data[\"tes\"][[\"store_id\",\"time\"]]=data[\"tes\"][\"id\"].str.split(\"_2017\",expand=True)\n",
    "data[\"tes\"][\"time\"]=\"2017\"+data[\"tes\"][\"time\"]\n",
    "from dateutil import parser\n",
    "data[\"tes\"][\"time\"] = pd.to_datetime(data[\"tes\"][\"time\"])\n",
    "#data[\"tes\"][\"kind\"]=data[\"tes\"][\"id\"].str.split(\"_\",expand=True)[0] #they are all air type"
   ]
  },
  {
   "cell_type": "code",
   "execution_count": 8,
   "metadata": {},
   "outputs": [
    {
     "name": "stdout",
     "output_type": "stream",
     "text": [
      "id                  object\n",
      "visitors             int64\n",
      "store_id            object\n",
      "time        datetime64[ns]\n",
      "dtype: object\n"
     ]
    }
   ],
   "source": [
    "print(data[\"tes\"].dtypes)\n",
    "#data[\"tes\"].head(5)"
   ]
  },
  {
   "cell_type": "markdown",
   "metadata": {},
   "source": [
    "I add the test dates/stores to the train df"
   ]
  },
  {
   "cell_type": "code",
   "execution_count": 9,
   "metadata": {},
   "outputs": [
    {
     "name": "stdout",
     "output_type": "stream",
     "text": [
      "252108\n"
     ]
    }
   ],
   "source": [
    "print(len(data[\"tra\"]))"
   ]
  },
  {
   "cell_type": "code",
   "execution_count": 10,
   "metadata": {},
   "outputs": [],
   "source": [
    "data[\"tra\"]\n",
    "test_dates=data[\"tes\"][\"time\"].unique()\n",
    "test_stores=data[\"tes\"][\"store_id\"].unique()\n",
    "\n",
    "days = pd.DataFrame({'visit_date':test_dates})\n",
    "stores = pd.DataFrame({'air_store_id':test_stores})\n",
    "stores['key'] = 0\n",
    "days['key'] = 0\n",
    "days_and_stores = days.merge(stores, how='left', on = 'key')\n",
    "days_and_stores.drop('key',1, inplace=True)\n",
    "days_and_stores\n",
    "\n",
    "data[\"tra\"]=data[\"tra\"].append(days_and_stores)"
   ]
  },
  {
   "cell_type": "code",
   "execution_count": 11,
   "metadata": {},
   "outputs": [
    {
     "name": "stdout",
     "output_type": "stream",
     "text": [
      "32019\n",
      "284127\n"
     ]
    }
   ],
   "source": [
    "print(len(days_and_stores))\n",
    "print(len(data[\"tra\"]))\n",
    "#data[\"tra\"]"
   ]
  },
  {
   "cell_type": "markdown",
   "metadata": {},
   "source": [
    "### Analysis"
   ]
  },
  {
   "cell_type": "markdown",
   "metadata": {},
   "source": [
    "Join dataframes\n",
    "\n",
    "- train + store info"
   ]
  },
  {
   "cell_type": "code",
   "execution_count": 12,
   "metadata": {},
   "outputs": [
    {
     "data": {
      "text/html": [
       "<div>\n",
       "<style scoped>\n",
       "    .dataframe tbody tr th:only-of-type {\n",
       "        vertical-align: middle;\n",
       "    }\n",
       "\n",
       "    .dataframe tbody tr th {\n",
       "        vertical-align: top;\n",
       "    }\n",
       "\n",
       "    .dataframe thead th {\n",
       "        text-align: right;\n",
       "    }\n",
       "</style>\n",
       "<table border=\"1\" class=\"dataframe\">\n",
       "  <thead>\n",
       "    <tr style=\"text-align: right;\">\n",
       "      <th></th>\n",
       "      <th>air_store_id</th>\n",
       "      <th>visit_date</th>\n",
       "      <th>visitors</th>\n",
       "      <th>air_genre_name</th>\n",
       "      <th>air_area_name</th>\n",
       "      <th>latitude</th>\n",
       "      <th>longitude</th>\n",
       "    </tr>\n",
       "  </thead>\n",
       "  <tbody>\n",
       "    <tr>\n",
       "      <th>0</th>\n",
       "      <td>air_ba937bf13d40fb24</td>\n",
       "      <td>2016-01-13</td>\n",
       "      <td>3.258097</td>\n",
       "      <td>Dining bar</td>\n",
       "      <td>Tōkyō-to Minato-ku Shibakōen</td>\n",
       "      <td>35.658068</td>\n",
       "      <td>139.751599</td>\n",
       "    </tr>\n",
       "    <tr>\n",
       "      <th>1</th>\n",
       "      <td>air_ba937bf13d40fb24</td>\n",
       "      <td>2016-01-14</td>\n",
       "      <td>3.496508</td>\n",
       "      <td>Dining bar</td>\n",
       "      <td>Tōkyō-to Minato-ku Shibakōen</td>\n",
       "      <td>35.658068</td>\n",
       "      <td>139.751599</td>\n",
       "    </tr>\n",
       "    <tr>\n",
       "      <th>2</th>\n",
       "      <td>air_ba937bf13d40fb24</td>\n",
       "      <td>2016-01-15</td>\n",
       "      <td>3.401197</td>\n",
       "      <td>Dining bar</td>\n",
       "      <td>Tōkyō-to Minato-ku Shibakōen</td>\n",
       "      <td>35.658068</td>\n",
       "      <td>139.751599</td>\n",
       "    </tr>\n",
       "    <tr>\n",
       "      <th>3</th>\n",
       "      <td>air_ba937bf13d40fb24</td>\n",
       "      <td>2016-01-16</td>\n",
       "      <td>3.135494</td>\n",
       "      <td>Dining bar</td>\n",
       "      <td>Tōkyō-to Minato-ku Shibakōen</td>\n",
       "      <td>35.658068</td>\n",
       "      <td>139.751599</td>\n",
       "    </tr>\n",
       "    <tr>\n",
       "      <th>4</th>\n",
       "      <td>air_ba937bf13d40fb24</td>\n",
       "      <td>2016-01-18</td>\n",
       "      <td>1.945910</td>\n",
       "      <td>Dining bar</td>\n",
       "      <td>Tōkyō-to Minato-ku Shibakōen</td>\n",
       "      <td>35.658068</td>\n",
       "      <td>139.751599</td>\n",
       "    </tr>\n",
       "  </tbody>\n",
       "</table>\n",
       "</div>"
      ],
      "text/plain": [
       "           air_store_id visit_date  visitors air_genre_name  \\\n",
       "0  air_ba937bf13d40fb24 2016-01-13  3.258097     Dining bar   \n",
       "1  air_ba937bf13d40fb24 2016-01-14  3.496508     Dining bar   \n",
       "2  air_ba937bf13d40fb24 2016-01-15  3.401197     Dining bar   \n",
       "3  air_ba937bf13d40fb24 2016-01-16  3.135494     Dining bar   \n",
       "4  air_ba937bf13d40fb24 2016-01-18  1.945910     Dining bar   \n",
       "\n",
       "                  air_area_name   latitude   longitude  \n",
       "0  Tōkyō-to Minato-ku Shibakōen  35.658068  139.751599  \n",
       "1  Tōkyō-to Minato-ku Shibakōen  35.658068  139.751599  \n",
       "2  Tōkyō-to Minato-ku Shibakōen  35.658068  139.751599  \n",
       "3  Tōkyō-to Minato-ku Shibakōen  35.658068  139.751599  \n",
       "4  Tōkyō-to Minato-ku Shibakōen  35.658068  139.751599  "
      ]
     },
     "execution_count": 12,
     "metadata": {},
     "output_type": "execute_result"
    }
   ],
   "source": [
    "data[\"tra_as\"]=data[\"tra\"].merge(data[\"as\"],on=\"air_store_id\")\n",
    "data[\"tra_as\"].head()"
   ]
  },
  {
   "cell_type": "code",
   "execution_count": 13,
   "metadata": {},
   "outputs": [
    {
     "data": {
      "text/html": [
       "<div>\n",
       "<style scoped>\n",
       "    .dataframe tbody tr th:only-of-type {\n",
       "        vertical-align: middle;\n",
       "    }\n",
       "\n",
       "    .dataframe tbody tr th {\n",
       "        vertical-align: top;\n",
       "    }\n",
       "\n",
       "    .dataframe thead th {\n",
       "        text-align: right;\n",
       "    }\n",
       "</style>\n",
       "<table border=\"1\" class=\"dataframe\">\n",
       "  <thead>\n",
       "    <tr style=\"text-align: right;\">\n",
       "      <th></th>\n",
       "      <th>air_genre_name</th>\n",
       "      <th>genre_mean</th>\n",
       "      <th>genre_median</th>\n",
       "      <th>genre_min</th>\n",
       "      <th>genre_max</th>\n",
       "      <th>genre_std</th>\n",
       "    </tr>\n",
       "  </thead>\n",
       "  <tbody>\n",
       "    <tr>\n",
       "      <th>0</th>\n",
       "      <td>Asian</td>\n",
       "      <td>3.542722</td>\n",
       "      <td>3.663562</td>\n",
       "      <td>0.693147</td>\n",
       "      <td>4.553877</td>\n",
       "      <td>0.581095</td>\n",
       "    </tr>\n",
       "    <tr>\n",
       "      <th>1</th>\n",
       "      <td>Bar/Cocktail</td>\n",
       "      <td>2.356875</td>\n",
       "      <td>2.397895</td>\n",
       "      <td>0.693147</td>\n",
       "      <td>6.777647</td>\n",
       "      <td>0.787862</td>\n",
       "    </tr>\n",
       "    <tr>\n",
       "      <th>2</th>\n",
       "      <td>Cafe/Sweets</td>\n",
       "      <td>2.900469</td>\n",
       "      <td>2.995732</td>\n",
       "      <td>0.693147</td>\n",
       "      <td>6.442540</td>\n",
       "      <td>0.771509</td>\n",
       "    </tr>\n",
       "    <tr>\n",
       "      <th>3</th>\n",
       "      <td>Creative cuisine</td>\n",
       "      <td>2.933145</td>\n",
       "      <td>3.044522</td>\n",
       "      <td>0.693147</td>\n",
       "      <td>6.244167</td>\n",
       "      <td>0.793320</td>\n",
       "    </tr>\n",
       "    <tr>\n",
       "      <th>4</th>\n",
       "      <td>Dining bar</td>\n",
       "      <td>2.652224</td>\n",
       "      <td>2.708050</td>\n",
       "      <td>0.693147</td>\n",
       "      <td>5.855072</td>\n",
       "      <td>0.860469</td>\n",
       "    </tr>\n",
       "  </tbody>\n",
       "</table>\n",
       "</div>"
      ],
      "text/plain": [
       "     air_genre_name  genre_mean  genre_median  genre_min  genre_max  genre_std\n",
       "0             Asian    3.542722      3.663562   0.693147   4.553877   0.581095\n",
       "1      Bar/Cocktail    2.356875      2.397895   0.693147   6.777647   0.787862\n",
       "2       Cafe/Sweets    2.900469      2.995732   0.693147   6.442540   0.771509\n",
       "3  Creative cuisine    2.933145      3.044522   0.693147   6.244167   0.793320\n",
       "4        Dining bar    2.652224      2.708050   0.693147   5.855072   0.860469"
      ]
     },
     "execution_count": 13,
     "metadata": {},
     "output_type": "execute_result"
    }
   ],
   "source": [
    "genre_mean_0=pd.DataFrame()\n",
    "genre_mean_0[\"genre_mean\"]=data[\"tra_as\"].groupby(\"air_genre_name\").visitors.mean()\n",
    "genre_mean_0[\"genre_median\"]=data[\"tra_as\"].groupby(\"air_genre_name\").visitors.median()\n",
    "genre_mean_0[\"genre_min\"]=data[\"tra_as\"].groupby(\"air_genre_name\").visitors.min()\n",
    "genre_mean_0[\"genre_max\"]=data[\"tra_as\"].groupby(\"air_genre_name\").visitors.max()\n",
    "genre_mean_0[\"genre_std\"]=data[\"tra_as\"].groupby(\"air_genre_name\").visitors.std()\n",
    "genre_mean_0.reset_index(inplace=True)\n",
    "genre_mean_0.head()"
   ]
  },
  {
   "cell_type": "code",
   "execution_count": 14,
   "metadata": {},
   "outputs": [
    {
     "data": {
      "text/html": [
       "<div>\n",
       "<style scoped>\n",
       "    .dataframe tbody tr th:only-of-type {\n",
       "        vertical-align: middle;\n",
       "    }\n",
       "\n",
       "    .dataframe tbody tr th {\n",
       "        vertical-align: top;\n",
       "    }\n",
       "\n",
       "    .dataframe thead th {\n",
       "        text-align: right;\n",
       "    }\n",
       "</style>\n",
       "<table border=\"1\" class=\"dataframe\">\n",
       "  <thead>\n",
       "    <tr style=\"text-align: right;\">\n",
       "      <th></th>\n",
       "      <th>air_area_name</th>\n",
       "      <th>area_mean</th>\n",
       "      <th>area_median</th>\n",
       "      <th>area_min</th>\n",
       "      <th>area_max</th>\n",
       "      <th>area_std</th>\n",
       "    </tr>\n",
       "  </thead>\n",
       "  <tbody>\n",
       "    <tr>\n",
       "      <th>0</th>\n",
       "      <td>Fukuoka-ken Fukuoka-shi Daimyō</td>\n",
       "      <td>2.777729</td>\n",
       "      <td>2.890372</td>\n",
       "      <td>0.693147</td>\n",
       "      <td>6.442540</td>\n",
       "      <td>0.828480</td>\n",
       "    </tr>\n",
       "    <tr>\n",
       "      <th>1</th>\n",
       "      <td>Fukuoka-ken Fukuoka-shi Hakata Ekimae</td>\n",
       "      <td>2.850805</td>\n",
       "      <td>2.944439</td>\n",
       "      <td>0.693147</td>\n",
       "      <td>4.753590</td>\n",
       "      <td>0.749238</td>\n",
       "    </tr>\n",
       "    <tr>\n",
       "      <th>2</th>\n",
       "      <td>Fukuoka-ken Fukuoka-shi Imaizumi</td>\n",
       "      <td>2.664785</td>\n",
       "      <td>2.772589</td>\n",
       "      <td>0.693147</td>\n",
       "      <td>4.077537</td>\n",
       "      <td>0.614848</td>\n",
       "    </tr>\n",
       "    <tr>\n",
       "      <th>3</th>\n",
       "      <td>Fukuoka-ken Fukuoka-shi Momochi</td>\n",
       "      <td>2.667087</td>\n",
       "      <td>2.484907</td>\n",
       "      <td>0.693147</td>\n",
       "      <td>4.615121</td>\n",
       "      <td>0.906507</td>\n",
       "    </tr>\n",
       "    <tr>\n",
       "      <th>4</th>\n",
       "      <td>Fukuoka-ken Fukuoka-shi Shiobaru</td>\n",
       "      <td>2.569413</td>\n",
       "      <td>2.639057</td>\n",
       "      <td>0.693147</td>\n",
       "      <td>5.480639</td>\n",
       "      <td>0.845859</td>\n",
       "    </tr>\n",
       "  </tbody>\n",
       "</table>\n",
       "</div>"
      ],
      "text/plain": [
       "                           air_area_name  area_mean  area_median  area_min  \\\n",
       "0         Fukuoka-ken Fukuoka-shi Daimyō   2.777729     2.890372  0.693147   \n",
       "1  Fukuoka-ken Fukuoka-shi Hakata Ekimae   2.850805     2.944439  0.693147   \n",
       "2       Fukuoka-ken Fukuoka-shi Imaizumi   2.664785     2.772589  0.693147   \n",
       "3        Fukuoka-ken Fukuoka-shi Momochi   2.667087     2.484907  0.693147   \n",
       "4       Fukuoka-ken Fukuoka-shi Shiobaru   2.569413     2.639057  0.693147   \n",
       "\n",
       "   area_max  area_std  \n",
       "0  6.442540  0.828480  \n",
       "1  4.753590  0.749238  \n",
       "2  4.077537  0.614848  \n",
       "3  4.615121  0.906507  \n",
       "4  5.480639  0.845859  "
      ]
     },
     "execution_count": 14,
     "metadata": {},
     "output_type": "execute_result"
    }
   ],
   "source": [
    "area_mean_0=pd.DataFrame()\n",
    "area_mean_0[\"area_mean\"]=data[\"tra_as\"].groupby(\"air_area_name\").visitors.mean()\n",
    "area_mean_0[\"area_median\"]=data[\"tra_as\"].groupby(\"air_area_name\").visitors.median()\n",
    "area_mean_0[\"area_min\"]=data[\"tra_as\"].groupby(\"air_area_name\").visitors.min()\n",
    "area_mean_0[\"area_max\"]=data[\"tra_as\"].groupby(\"air_area_name\").visitors.max()\n",
    "area_mean_0[\"area_std\"]=data[\"tra_as\"].groupby(\"air_area_name\").visitors.std()\n",
    "area_mean_0.reset_index(inplace=True)\n",
    "area_mean_0.head()"
   ]
  },
  {
   "cell_type": "markdown",
   "metadata": {},
   "source": [
    "- train + day + store info"
   ]
  },
  {
   "cell_type": "code",
   "execution_count": 15,
   "metadata": {},
   "outputs": [
    {
     "ename": "ValueError",
     "evalue": "Buffer dtype mismatch, expected 'Python object' but got 'long'",
     "output_type": "error",
     "traceback": [
      "\u001b[0;31m---------------------------------------------------------------------------\u001b[0m",
      "\u001b[0;31mValueError\u001b[0m                                Traceback (most recent call last)",
      "\u001b[0;31mValueError\u001b[0m: Buffer dtype mismatch, expected 'Python object' but got 'long'"
     ]
    },
    {
     "name": "stderr",
     "output_type": "stream",
     "text": [
      "Exception ignored in: 'pandas._libs.lib.is_bool_array'\n",
      "ValueError: Buffer dtype mismatch, expected 'Python object' but got 'long'\n"
     ]
    },
    {
     "data": {
      "text/html": [
       "<div>\n",
       "<style scoped>\n",
       "    .dataframe tbody tr th:only-of-type {\n",
       "        vertical-align: middle;\n",
       "    }\n",
       "\n",
       "    .dataframe tbody tr th {\n",
       "        vertical-align: top;\n",
       "    }\n",
       "\n",
       "    .dataframe thead th {\n",
       "        text-align: right;\n",
       "    }\n",
       "</style>\n",
       "<table border=\"1\" class=\"dataframe\">\n",
       "  <thead>\n",
       "    <tr style=\"text-align: right;\">\n",
       "      <th></th>\n",
       "      <th>air_store_id</th>\n",
       "      <th>visit_date</th>\n",
       "      <th>visitors</th>\n",
       "      <th>air_genre_name</th>\n",
       "      <th>air_area_name</th>\n",
       "      <th>latitude</th>\n",
       "      <th>longitude</th>\n",
       "      <th>day_of_week</th>\n",
       "      <th>holiday_flg</th>\n",
       "    </tr>\n",
       "  </thead>\n",
       "  <tbody>\n",
       "    <tr>\n",
       "      <th>0</th>\n",
       "      <td>air_ba937bf13d40fb24</td>\n",
       "      <td>2016-01-13</td>\n",
       "      <td>3.258097</td>\n",
       "      <td>Dining bar</td>\n",
       "      <td>Tōkyō-to Minato-ku Shibakōen</td>\n",
       "      <td>35.658068</td>\n",
       "      <td>139.751599</td>\n",
       "      <td>Wednesday</td>\n",
       "      <td>0</td>\n",
       "    </tr>\n",
       "    <tr>\n",
       "      <th>1</th>\n",
       "      <td>air_25e9888d30b386df</td>\n",
       "      <td>2016-01-13</td>\n",
       "      <td>3.091042</td>\n",
       "      <td>Izakaya</td>\n",
       "      <td>Tōkyō-to Shinagawa-ku Higashigotanda</td>\n",
       "      <td>35.626568</td>\n",
       "      <td>139.725858</td>\n",
       "      <td>Wednesday</td>\n",
       "      <td>0</td>\n",
       "    </tr>\n",
       "    <tr>\n",
       "      <th>2</th>\n",
       "      <td>air_fd6aac1043520e83</td>\n",
       "      <td>2016-01-13</td>\n",
       "      <td>3.713572</td>\n",
       "      <td>Izakaya</td>\n",
       "      <td>Tōkyō-to Minato-ku Shibakōen</td>\n",
       "      <td>35.658068</td>\n",
       "      <td>139.751599</td>\n",
       "      <td>Wednesday</td>\n",
       "      <td>0</td>\n",
       "    </tr>\n",
       "    <tr>\n",
       "      <th>3</th>\n",
       "      <td>air_64d4491ad8cdb1c6</td>\n",
       "      <td>2016-01-13</td>\n",
       "      <td>1.791759</td>\n",
       "      <td>Dining bar</td>\n",
       "      <td>Tōkyō-to Minato-ku Shibakōen</td>\n",
       "      <td>35.658068</td>\n",
       "      <td>139.751599</td>\n",
       "      <td>Wednesday</td>\n",
       "      <td>0</td>\n",
       "    </tr>\n",
       "    <tr>\n",
       "      <th>4</th>\n",
       "      <td>air_ee3a01f0c71a769f</td>\n",
       "      <td>2016-01-13</td>\n",
       "      <td>2.944439</td>\n",
       "      <td>Cafe/Sweets</td>\n",
       "      <td>Shizuoka-ken Hamamatsu-shi Motoshirochō</td>\n",
       "      <td>34.710895</td>\n",
       "      <td>137.725940</td>\n",
       "      <td>Wednesday</td>\n",
       "      <td>0</td>\n",
       "    </tr>\n",
       "  </tbody>\n",
       "</table>\n",
       "</div>"
      ],
      "text/plain": [
       "           air_store_id visit_date  visitors air_genre_name  \\\n",
       "0  air_ba937bf13d40fb24 2016-01-13  3.258097     Dining bar   \n",
       "1  air_25e9888d30b386df 2016-01-13  3.091042        Izakaya   \n",
       "2  air_fd6aac1043520e83 2016-01-13  3.713572        Izakaya   \n",
       "3  air_64d4491ad8cdb1c6 2016-01-13  1.791759     Dining bar   \n",
       "4  air_ee3a01f0c71a769f 2016-01-13  2.944439    Cafe/Sweets   \n",
       "\n",
       "                             air_area_name   latitude   longitude day_of_week  \\\n",
       "0             Tōkyō-to Minato-ku Shibakōen  35.658068  139.751599   Wednesday   \n",
       "1     Tōkyō-to Shinagawa-ku Higashigotanda  35.626568  139.725858   Wednesday   \n",
       "2             Tōkyō-to Minato-ku Shibakōen  35.658068  139.751599   Wednesday   \n",
       "3             Tōkyō-to Minato-ku Shibakōen  35.658068  139.751599   Wednesday   \n",
       "4  Shizuoka-ken Hamamatsu-shi Motoshirochō  34.710895  137.725940   Wednesday   \n",
       "\n",
       "  holiday_flg  \n",
       "0           0  \n",
       "1           0  \n",
       "2           0  \n",
       "3           0  \n",
       "4           0  "
      ]
     },
     "execution_count": 15,
     "metadata": {},
     "output_type": "execute_result"
    }
   ],
   "source": [
    "data[\"tra_as_hol_0\"]=data[\"tra\"].merge(data[\"as\"],on=\"air_store_id\").merge(data[\"hol\"],left_on=\"visit_date\",right_on=\"calendar_date\").\\\n",
    "                    drop(\"calendar_date\",axis=1)\n",
    "data[\"tra_as_hol_0\"].head()"
   ]
  },
  {
   "cell_type": "code",
   "execution_count": 16,
   "metadata": {},
   "outputs": [
    {
     "data": {
      "text/html": [
       "<div>\n",
       "<style scoped>\n",
       "    .dataframe tbody tr th:only-of-type {\n",
       "        vertical-align: middle;\n",
       "    }\n",
       "\n",
       "    .dataframe tbody tr th {\n",
       "        vertical-align: top;\n",
       "    }\n",
       "\n",
       "    .dataframe thead th {\n",
       "        text-align: right;\n",
       "    }\n",
       "</style>\n",
       "<table border=\"1\" class=\"dataframe\">\n",
       "  <thead>\n",
       "    <tr style=\"text-align: right;\">\n",
       "      <th></th>\n",
       "      <th>air_genre_name</th>\n",
       "      <th>day_of_week</th>\n",
       "      <th>genre_mean_dow</th>\n",
       "      <th>genre_median_dow</th>\n",
       "      <th>genre_min_dow</th>\n",
       "      <th>genre_max_dow</th>\n",
       "      <th>genre_std_dow</th>\n",
       "    </tr>\n",
       "  </thead>\n",
       "  <tbody>\n",
       "    <tr>\n",
       "      <th>0</th>\n",
       "      <td>Asian</td>\n",
       "      <td>Friday</td>\n",
       "      <td>3.607254</td>\n",
       "      <td>3.663562</td>\n",
       "      <td>2.302585</td>\n",
       "      <td>4.465908</td>\n",
       "      <td>0.415031</td>\n",
       "    </tr>\n",
       "    <tr>\n",
       "      <th>1</th>\n",
       "      <td>Asian</td>\n",
       "      <td>Monday</td>\n",
       "      <td>3.417091</td>\n",
       "      <td>3.496508</td>\n",
       "      <td>1.791759</td>\n",
       "      <td>4.553877</td>\n",
       "      <td>0.553194</td>\n",
       "    </tr>\n",
       "    <tr>\n",
       "      <th>2</th>\n",
       "      <td>Asian</td>\n",
       "      <td>Saturday</td>\n",
       "      <td>3.703325</td>\n",
       "      <td>3.912023</td>\n",
       "      <td>0.693147</td>\n",
       "      <td>4.330733</td>\n",
       "      <td>0.588903</td>\n",
       "    </tr>\n",
       "    <tr>\n",
       "      <th>3</th>\n",
       "      <td>Asian</td>\n",
       "      <td>Sunday</td>\n",
       "      <td>3.724632</td>\n",
       "      <td>3.951244</td>\n",
       "      <td>2.302585</td>\n",
       "      <td>4.543295</td>\n",
       "      <td>0.612823</td>\n",
       "    </tr>\n",
       "    <tr>\n",
       "      <th>4</th>\n",
       "      <td>Asian</td>\n",
       "      <td>Thursday</td>\n",
       "      <td>3.391383</td>\n",
       "      <td>3.540854</td>\n",
       "      <td>2.079442</td>\n",
       "      <td>4.174387</td>\n",
       "      <td>0.590244</td>\n",
       "    </tr>\n",
       "  </tbody>\n",
       "</table>\n",
       "</div>"
      ],
      "text/plain": [
       "  air_genre_name day_of_week  genre_mean_dow  genre_median_dow  genre_min_dow  \\\n",
       "0          Asian      Friday        3.607254          3.663562       2.302585   \n",
       "1          Asian      Monday        3.417091          3.496508       1.791759   \n",
       "2          Asian    Saturday        3.703325          3.912023       0.693147   \n",
       "3          Asian      Sunday        3.724632          3.951244       2.302585   \n",
       "4          Asian    Thursday        3.391383          3.540854       2.079442   \n",
       "\n",
       "   genre_max_dow  genre_std_dow  \n",
       "0       4.465908       0.415031  \n",
       "1       4.553877       0.553194  \n",
       "2       4.330733       0.588903  \n",
       "3       4.543295       0.612823  \n",
       "4       4.174387       0.590244  "
      ]
     },
     "execution_count": 16,
     "metadata": {},
     "output_type": "execute_result"
    }
   ],
   "source": [
    "genre_mean_dow=pd.DataFrame()\n",
    "genre_mean_dow[\"genre_mean_dow\"]=data[\"tra_as_hol_0\"].groupby([\"air_genre_name\",\"day_of_week\"]).visitors.mean()\n",
    "genre_mean_dow[\"genre_median_dow\"]=data[\"tra_as_hol_0\"].groupby([\"air_genre_name\",\"day_of_week\"]).visitors.median()\n",
    "genre_mean_dow[\"genre_min_dow\"]=data[\"tra_as_hol_0\"].groupby([\"air_genre_name\",\"day_of_week\"]).visitors.min()\n",
    "genre_mean_dow[\"genre_max_dow\"]=data[\"tra_as_hol_0\"].groupby([\"air_genre_name\",\"day_of_week\"]).visitors.max()\n",
    "genre_mean_dow[\"genre_std_dow\"]=data[\"tra_as_hol_0\"].groupby([\"air_genre_name\",\"day_of_week\"]).visitors.std()\n",
    "genre_mean_dow.reset_index(inplace=True)\n",
    "genre_mean_dow.head()"
   ]
  },
  {
   "cell_type": "code",
   "execution_count": 17,
   "metadata": {},
   "outputs": [
    {
     "data": {
      "text/html": [
       "<div>\n",
       "<style scoped>\n",
       "    .dataframe tbody tr th:only-of-type {\n",
       "        vertical-align: middle;\n",
       "    }\n",
       "\n",
       "    .dataframe tbody tr th {\n",
       "        vertical-align: top;\n",
       "    }\n",
       "\n",
       "    .dataframe thead th {\n",
       "        text-align: right;\n",
       "    }\n",
       "</style>\n",
       "<table border=\"1\" class=\"dataframe\">\n",
       "  <thead>\n",
       "    <tr style=\"text-align: right;\">\n",
       "      <th></th>\n",
       "      <th>air_genre_name</th>\n",
       "      <th>holiday_flg</th>\n",
       "      <th>genre_mean_hol</th>\n",
       "      <th>genre_median_hol</th>\n",
       "      <th>genre_min_hol</th>\n",
       "      <th>genre_max_hol</th>\n",
       "      <th>genre_std_hol</th>\n",
       "    </tr>\n",
       "  </thead>\n",
       "  <tbody>\n",
       "    <tr>\n",
       "      <th>0</th>\n",
       "      <td>Asian</td>\n",
       "      <td>0</td>\n",
       "      <td>3.542931</td>\n",
       "      <td>3.637586</td>\n",
       "      <td>0.693147</td>\n",
       "      <td>4.553877</td>\n",
       "      <td>0.559882</td>\n",
       "    </tr>\n",
       "    <tr>\n",
       "      <th>1</th>\n",
       "      <td>Asian</td>\n",
       "      <td>1</td>\n",
       "      <td>3.538796</td>\n",
       "      <td>3.688879</td>\n",
       "      <td>0.693147</td>\n",
       "      <td>4.442651</td>\n",
       "      <td>0.906990</td>\n",
       "    </tr>\n",
       "    <tr>\n",
       "      <th>2</th>\n",
       "      <td>Bar/Cocktail</td>\n",
       "      <td>0</td>\n",
       "      <td>2.346673</td>\n",
       "      <td>2.397895</td>\n",
       "      <td>0.693147</td>\n",
       "      <td>6.777647</td>\n",
       "      <td>0.783126</td>\n",
       "    </tr>\n",
       "    <tr>\n",
       "      <th>3</th>\n",
       "      <td>Bar/Cocktail</td>\n",
       "      <td>1</td>\n",
       "      <td>2.537055</td>\n",
       "      <td>2.564949</td>\n",
       "      <td>0.693147</td>\n",
       "      <td>5.129899</td>\n",
       "      <td>0.847550</td>\n",
       "    </tr>\n",
       "    <tr>\n",
       "      <th>4</th>\n",
       "      <td>Cafe/Sweets</td>\n",
       "      <td>0</td>\n",
       "      <td>2.891199</td>\n",
       "      <td>2.995732</td>\n",
       "      <td>0.693147</td>\n",
       "      <td>6.442540</td>\n",
       "      <td>0.768829</td>\n",
       "    </tr>\n",
       "  </tbody>\n",
       "</table>\n",
       "</div>"
      ],
      "text/plain": [
       "  air_genre_name holiday_flg  genre_mean_hol  genre_median_hol  genre_min_hol  \\\n",
       "0          Asian           0        3.542931          3.637586       0.693147   \n",
       "1          Asian           1        3.538796          3.688879       0.693147   \n",
       "2   Bar/Cocktail           0        2.346673          2.397895       0.693147   \n",
       "3   Bar/Cocktail           1        2.537055          2.564949       0.693147   \n",
       "4    Cafe/Sweets           0        2.891199          2.995732       0.693147   \n",
       "\n",
       "   genre_max_hol  genre_std_hol  \n",
       "0       4.553877       0.559882  \n",
       "1       4.442651       0.906990  \n",
       "2       6.777647       0.783126  \n",
       "3       5.129899       0.847550  \n",
       "4       6.442540       0.768829  "
      ]
     },
     "execution_count": 17,
     "metadata": {},
     "output_type": "execute_result"
    }
   ],
   "source": [
    "genre_mean_hol=pd.DataFrame()\n",
    "genre_mean_hol[\"genre_mean_hol\"]=data[\"tra_as_hol_0\"].groupby([\"air_genre_name\",\"holiday_flg\"]).visitors.mean()\n",
    "genre_mean_hol[\"genre_median_hol\"]=data[\"tra_as_hol_0\"].groupby([\"air_genre_name\",\"holiday_flg\"]).visitors.median()\n",
    "genre_mean_hol[\"genre_min_hol\"]=data[\"tra_as_hol_0\"].groupby([\"air_genre_name\",\"holiday_flg\"]).visitors.min()\n",
    "genre_mean_hol[\"genre_max_hol\"]=data[\"tra_as_hol_0\"].groupby([\"air_genre_name\",\"holiday_flg\"]).visitors.max()\n",
    "genre_mean_hol[\"genre_std_hol\"]=data[\"tra_as_hol_0\"].groupby([\"air_genre_name\",\"holiday_flg\"]).visitors.std()\n",
    "genre_mean_hol.reset_index(inplace=True)\n",
    "genre_mean_hol.head()"
   ]
  },
  {
   "cell_type": "code",
   "execution_count": 18,
   "metadata": {},
   "outputs": [
    {
     "data": {
      "text/html": [
       "<div>\n",
       "<style scoped>\n",
       "    .dataframe tbody tr th:only-of-type {\n",
       "        vertical-align: middle;\n",
       "    }\n",
       "\n",
       "    .dataframe tbody tr th {\n",
       "        vertical-align: top;\n",
       "    }\n",
       "\n",
       "    .dataframe thead th {\n",
       "        text-align: right;\n",
       "    }\n",
       "</style>\n",
       "<table border=\"1\" class=\"dataframe\">\n",
       "  <thead>\n",
       "    <tr style=\"text-align: right;\">\n",
       "      <th></th>\n",
       "      <th>air_area_name</th>\n",
       "      <th>day_of_week</th>\n",
       "      <th>area_mean_dow</th>\n",
       "      <th>area_median_dow</th>\n",
       "      <th>area_min_dow</th>\n",
       "      <th>area_max_dow</th>\n",
       "      <th>area_std_dow</th>\n",
       "    </tr>\n",
       "  </thead>\n",
       "  <tbody>\n",
       "    <tr>\n",
       "      <th>0</th>\n",
       "      <td>Fukuoka-ken Fukuoka-shi Daimyō</td>\n",
       "      <td>Friday</td>\n",
       "      <td>2.850668</td>\n",
       "      <td>2.944439</td>\n",
       "      <td>0.693147</td>\n",
       "      <td>5.786897</td>\n",
       "      <td>0.786739</td>\n",
       "    </tr>\n",
       "    <tr>\n",
       "      <th>1</th>\n",
       "      <td>Fukuoka-ken Fukuoka-shi Daimyō</td>\n",
       "      <td>Monday</td>\n",
       "      <td>2.641746</td>\n",
       "      <td>2.772589</td>\n",
       "      <td>0.693147</td>\n",
       "      <td>4.700480</td>\n",
       "      <td>0.838314</td>\n",
       "    </tr>\n",
       "    <tr>\n",
       "      <th>2</th>\n",
       "      <td>Fukuoka-ken Fukuoka-shi Daimyō</td>\n",
       "      <td>Saturday</td>\n",
       "      <td>3.057634</td>\n",
       "      <td>3.178054</td>\n",
       "      <td>0.693147</td>\n",
       "      <td>6.016157</td>\n",
       "      <td>0.770112</td>\n",
       "    </tr>\n",
       "    <tr>\n",
       "      <th>3</th>\n",
       "      <td>Fukuoka-ken Fukuoka-shi Daimyō</td>\n",
       "      <td>Sunday</td>\n",
       "      <td>2.889522</td>\n",
       "      <td>3.044522</td>\n",
       "      <td>0.693147</td>\n",
       "      <td>4.744932</td>\n",
       "      <td>0.821924</td>\n",
       "    </tr>\n",
       "    <tr>\n",
       "      <th>4</th>\n",
       "      <td>Fukuoka-ken Fukuoka-shi Daimyō</td>\n",
       "      <td>Thursday</td>\n",
       "      <td>2.684179</td>\n",
       "      <td>2.772589</td>\n",
       "      <td>0.693147</td>\n",
       "      <td>5.786897</td>\n",
       "      <td>0.804178</td>\n",
       "    </tr>\n",
       "  </tbody>\n",
       "</table>\n",
       "</div>"
      ],
      "text/plain": [
       "                    air_area_name day_of_week  area_mean_dow  area_median_dow  \\\n",
       "0  Fukuoka-ken Fukuoka-shi Daimyō      Friday       2.850668         2.944439   \n",
       "1  Fukuoka-ken Fukuoka-shi Daimyō      Monday       2.641746         2.772589   \n",
       "2  Fukuoka-ken Fukuoka-shi Daimyō    Saturday       3.057634         3.178054   \n",
       "3  Fukuoka-ken Fukuoka-shi Daimyō      Sunday       2.889522         3.044522   \n",
       "4  Fukuoka-ken Fukuoka-shi Daimyō    Thursday       2.684179         2.772589   \n",
       "\n",
       "   area_min_dow  area_max_dow  area_std_dow  \n",
       "0      0.693147      5.786897      0.786739  \n",
       "1      0.693147      4.700480      0.838314  \n",
       "2      0.693147      6.016157      0.770112  \n",
       "3      0.693147      4.744932      0.821924  \n",
       "4      0.693147      5.786897      0.804178  "
      ]
     },
     "execution_count": 18,
     "metadata": {},
     "output_type": "execute_result"
    }
   ],
   "source": [
    "area_mean_dow=pd.DataFrame()\n",
    "area_mean_dow[\"area_mean_dow\"]=data[\"tra_as_hol_0\"].groupby([\"air_area_name\",\"day_of_week\"]).visitors.mean()\n",
    "area_mean_dow[\"area_median_dow\"]=data[\"tra_as_hol_0\"].groupby([\"air_area_name\",\"day_of_week\"]).visitors.median()\n",
    "area_mean_dow[\"area_min_dow\"]=data[\"tra_as_hol_0\"].groupby([\"air_area_name\",\"day_of_week\"]).visitors.min()\n",
    "area_mean_dow[\"area_max_dow\"]=data[\"tra_as_hol_0\"].groupby([\"air_area_name\",\"day_of_week\"]).visitors.max()\n",
    "area_mean_dow[\"area_std_dow\"]=data[\"tra_as_hol_0\"].groupby([\"air_area_name\",\"day_of_week\"]).visitors.std()\n",
    "area_mean_dow.reset_index(inplace=True)\n",
    "area_mean_dow.head()"
   ]
  },
  {
   "cell_type": "code",
   "execution_count": 19,
   "metadata": {},
   "outputs": [
    {
     "data": {
      "text/html": [
       "<div>\n",
       "<style scoped>\n",
       "    .dataframe tbody tr th:only-of-type {\n",
       "        vertical-align: middle;\n",
       "    }\n",
       "\n",
       "    .dataframe tbody tr th {\n",
       "        vertical-align: top;\n",
       "    }\n",
       "\n",
       "    .dataframe thead th {\n",
       "        text-align: right;\n",
       "    }\n",
       "</style>\n",
       "<table border=\"1\" class=\"dataframe\">\n",
       "  <thead>\n",
       "    <tr style=\"text-align: right;\">\n",
       "      <th></th>\n",
       "      <th>air_area_name</th>\n",
       "      <th>holiday_flg</th>\n",
       "      <th>area_mean_hol</th>\n",
       "      <th>area_median_hol</th>\n",
       "      <th>area_min_hol</th>\n",
       "      <th>area_max_hol</th>\n",
       "      <th>area_std_hol</th>\n",
       "    </tr>\n",
       "  </thead>\n",
       "  <tbody>\n",
       "    <tr>\n",
       "      <th>0</th>\n",
       "      <td>Fukuoka-ken Fukuoka-shi Daimyō</td>\n",
       "      <td>0</td>\n",
       "      <td>2.769502</td>\n",
       "      <td>2.890372</td>\n",
       "      <td>0.693147</td>\n",
       "      <td>6.442540</td>\n",
       "      <td>0.829587</td>\n",
       "    </tr>\n",
       "    <tr>\n",
       "      <th>1</th>\n",
       "      <td>Fukuoka-ken Fukuoka-shi Daimyō</td>\n",
       "      <td>1</td>\n",
       "      <td>2.919033</td>\n",
       "      <td>3.044522</td>\n",
       "      <td>0.693147</td>\n",
       "      <td>5.105945</td>\n",
       "      <td>0.796428</td>\n",
       "    </tr>\n",
       "    <tr>\n",
       "      <th>2</th>\n",
       "      <td>Fukuoka-ken Fukuoka-shi Hakata Ekimae</td>\n",
       "      <td>0</td>\n",
       "      <td>2.846443</td>\n",
       "      <td>2.890372</td>\n",
       "      <td>0.693147</td>\n",
       "      <td>4.753590</td>\n",
       "      <td>0.748114</td>\n",
       "    </tr>\n",
       "    <tr>\n",
       "      <th>3</th>\n",
       "      <td>Fukuoka-ken Fukuoka-shi Hakata Ekimae</td>\n",
       "      <td>1</td>\n",
       "      <td>2.928172</td>\n",
       "      <td>2.995732</td>\n",
       "      <td>0.693147</td>\n",
       "      <td>4.418841</td>\n",
       "      <td>0.766191</td>\n",
       "    </tr>\n",
       "    <tr>\n",
       "      <th>4</th>\n",
       "      <td>Fukuoka-ken Fukuoka-shi Imaizumi</td>\n",
       "      <td>0</td>\n",
       "      <td>2.668142</td>\n",
       "      <td>2.772589</td>\n",
       "      <td>0.693147</td>\n",
       "      <td>4.077537</td>\n",
       "      <td>0.614654</td>\n",
       "    </tr>\n",
       "  </tbody>\n",
       "</table>\n",
       "</div>"
      ],
      "text/plain": [
       "                           air_area_name holiday_flg  area_mean_hol  \\\n",
       "0         Fukuoka-ken Fukuoka-shi Daimyō           0       2.769502   \n",
       "1         Fukuoka-ken Fukuoka-shi Daimyō           1       2.919033   \n",
       "2  Fukuoka-ken Fukuoka-shi Hakata Ekimae           0       2.846443   \n",
       "3  Fukuoka-ken Fukuoka-shi Hakata Ekimae           1       2.928172   \n",
       "4       Fukuoka-ken Fukuoka-shi Imaizumi           0       2.668142   \n",
       "\n",
       "   area_median_hol  area_min_hol  area_max_hol  area_std_hol  \n",
       "0         2.890372      0.693147      6.442540      0.829587  \n",
       "1         3.044522      0.693147      5.105945      0.796428  \n",
       "2         2.890372      0.693147      4.753590      0.748114  \n",
       "3         2.995732      0.693147      4.418841      0.766191  \n",
       "4         2.772589      0.693147      4.077537      0.614654  "
      ]
     },
     "execution_count": 19,
     "metadata": {},
     "output_type": "execute_result"
    }
   ],
   "source": [
    "area_mean_hol=pd.DataFrame()\n",
    "area_mean_hol[\"area_mean_hol\"]=data[\"tra_as_hol_0\"].groupby([\"air_area_name\",\"holiday_flg\"]).visitors.mean()\n",
    "area_mean_hol[\"area_median_hol\"]=data[\"tra_as_hol_0\"].groupby([\"air_area_name\",\"holiday_flg\"]).visitors.median()\n",
    "area_mean_hol[\"area_min_hol\"]=data[\"tra_as_hol_0\"].groupby([\"air_area_name\",\"holiday_flg\"]).visitors.min()\n",
    "area_mean_hol[\"area_max_hol\"]=data[\"tra_as_hol_0\"].groupby([\"air_area_name\",\"holiday_flg\"]).visitors.max()\n",
    "area_mean_hol[\"area_std_hol\"]=data[\"tra_as_hol_0\"].groupby([\"air_area_name\",\"holiday_flg\"]).visitors.std()\n",
    "area_mean_hol.reset_index(inplace=True)\n",
    "area_mean_hol.head()"
   ]
  },
  {
   "cell_type": "markdown",
   "metadata": {},
   "source": [
    "- train + day info"
   ]
  },
  {
   "cell_type": "code",
   "execution_count": 20,
   "metadata": {},
   "outputs": [
    {
     "ename": "ValueError",
     "evalue": "Buffer dtype mismatch, expected 'Python object' but got 'long'",
     "output_type": "error",
     "traceback": [
      "\u001b[0;31m---------------------------------------------------------------------------\u001b[0m",
      "\u001b[0;31mValueError\u001b[0m                                Traceback (most recent call last)",
      "\u001b[0;31mValueError\u001b[0m: Buffer dtype mismatch, expected 'Python object' but got 'long'"
     ]
    },
    {
     "name": "stderr",
     "output_type": "stream",
     "text": [
      "Exception ignored in: 'pandas._libs.lib.is_bool_array'\n",
      "ValueError: Buffer dtype mismatch, expected 'Python object' but got 'long'\n"
     ]
    },
    {
     "data": {
      "text/html": [
       "<div>\n",
       "<style scoped>\n",
       "    .dataframe tbody tr th:only-of-type {\n",
       "        vertical-align: middle;\n",
       "    }\n",
       "\n",
       "    .dataframe tbody tr th {\n",
       "        vertical-align: top;\n",
       "    }\n",
       "\n",
       "    .dataframe thead th {\n",
       "        text-align: right;\n",
       "    }\n",
       "</style>\n",
       "<table border=\"1\" class=\"dataframe\">\n",
       "  <thead>\n",
       "    <tr style=\"text-align: right;\">\n",
       "      <th></th>\n",
       "      <th>air_store_id</th>\n",
       "      <th>visit_date</th>\n",
       "      <th>visitors</th>\n",
       "      <th>day_of_week</th>\n",
       "      <th>holiday_flg</th>\n",
       "    </tr>\n",
       "  </thead>\n",
       "  <tbody>\n",
       "    <tr>\n",
       "      <th>0</th>\n",
       "      <td>air_ba937bf13d40fb24</td>\n",
       "      <td>2016-01-13</td>\n",
       "      <td>3.258097</td>\n",
       "      <td>Wednesday</td>\n",
       "      <td>0</td>\n",
       "    </tr>\n",
       "    <tr>\n",
       "      <th>1</th>\n",
       "      <td>air_25e9888d30b386df</td>\n",
       "      <td>2016-01-13</td>\n",
       "      <td>3.091042</td>\n",
       "      <td>Wednesday</td>\n",
       "      <td>0</td>\n",
       "    </tr>\n",
       "    <tr>\n",
       "      <th>2</th>\n",
       "      <td>air_fd6aac1043520e83</td>\n",
       "      <td>2016-01-13</td>\n",
       "      <td>3.713572</td>\n",
       "      <td>Wednesday</td>\n",
       "      <td>0</td>\n",
       "    </tr>\n",
       "    <tr>\n",
       "      <th>3</th>\n",
       "      <td>air_64d4491ad8cdb1c6</td>\n",
       "      <td>2016-01-13</td>\n",
       "      <td>1.791759</td>\n",
       "      <td>Wednesday</td>\n",
       "      <td>0</td>\n",
       "    </tr>\n",
       "    <tr>\n",
       "      <th>4</th>\n",
       "      <td>air_ee3a01f0c71a769f</td>\n",
       "      <td>2016-01-13</td>\n",
       "      <td>2.944439</td>\n",
       "      <td>Wednesday</td>\n",
       "      <td>0</td>\n",
       "    </tr>\n",
       "  </tbody>\n",
       "</table>\n",
       "</div>"
      ],
      "text/plain": [
       "           air_store_id visit_date  visitors day_of_week holiday_flg\n",
       "0  air_ba937bf13d40fb24 2016-01-13  3.258097   Wednesday           0\n",
       "1  air_25e9888d30b386df 2016-01-13  3.091042   Wednesday           0\n",
       "2  air_fd6aac1043520e83 2016-01-13  3.713572   Wednesday           0\n",
       "3  air_64d4491ad8cdb1c6 2016-01-13  1.791759   Wednesday           0\n",
       "4  air_ee3a01f0c71a769f 2016-01-13  2.944439   Wednesday           0"
      ]
     },
     "execution_count": 20,
     "metadata": {},
     "output_type": "execute_result"
    }
   ],
   "source": [
    "data[\"tra_hol\"]=data[\"tra\"].merge(data[\"hol\"],left_on=\"visit_date\",right_on=\"calendar_date\").\\\n",
    "            drop(\"calendar_date\",axis=1)\n",
    "data[\"tra_hol\"].head()"
   ]
  },
  {
   "cell_type": "code",
   "execution_count": 21,
   "metadata": {},
   "outputs": [
    {
     "data": {
      "text/html": [
       "<div>\n",
       "<style scoped>\n",
       "    .dataframe tbody tr th:only-of-type {\n",
       "        vertical-align: middle;\n",
       "    }\n",
       "\n",
       "    .dataframe tbody tr th {\n",
       "        vertical-align: top;\n",
       "    }\n",
       "\n",
       "    .dataframe thead th {\n",
       "        text-align: right;\n",
       "    }\n",
       "</style>\n",
       "<table border=\"1\" class=\"dataframe\">\n",
       "  <thead>\n",
       "    <tr style=\"text-align: right;\">\n",
       "      <th></th>\n",
       "      <th>air_store_id</th>\n",
       "      <th>store_mean</th>\n",
       "      <th>store_median</th>\n",
       "      <th>store_min</th>\n",
       "      <th>store_max</th>\n",
       "      <th>store_std</th>\n",
       "    </tr>\n",
       "  </thead>\n",
       "  <tbody>\n",
       "    <tr>\n",
       "      <th>0</th>\n",
       "      <td>air_00a91d42b08b08d9</td>\n",
       "      <td>3.167414</td>\n",
       "      <td>3.295837</td>\n",
       "      <td>0.693147</td>\n",
       "      <td>4.605170</td>\n",
       "      <td>0.576968</td>\n",
       "    </tr>\n",
       "    <tr>\n",
       "      <th>1</th>\n",
       "      <td>air_0164b9927d20bcc3</td>\n",
       "      <td>2.117522</td>\n",
       "      <td>2.197225</td>\n",
       "      <td>0.693147</td>\n",
       "      <td>3.332205</td>\n",
       "      <td>0.685494</td>\n",
       "    </tr>\n",
       "    <tr>\n",
       "      <th>2</th>\n",
       "      <td>air_0241aa3964b7f861</td>\n",
       "      <td>2.236649</td>\n",
       "      <td>2.302585</td>\n",
       "      <td>0.693147</td>\n",
       "      <td>3.891820</td>\n",
       "      <td>0.565187</td>\n",
       "    </tr>\n",
       "    <tr>\n",
       "      <th>3</th>\n",
       "      <td>air_0328696196e46f18</td>\n",
       "      <td>1.966041</td>\n",
       "      <td>1.945910</td>\n",
       "      <td>0.693147</td>\n",
       "      <td>3.737670</td>\n",
       "      <td>0.662686</td>\n",
       "    </tr>\n",
       "    <tr>\n",
       "      <th>4</th>\n",
       "      <td>air_034a3d5b40d5b1b1</td>\n",
       "      <td>2.457141</td>\n",
       "      <td>2.564949</td>\n",
       "      <td>0.693147</td>\n",
       "      <td>4.762174</td>\n",
       "      <td>0.823890</td>\n",
       "    </tr>\n",
       "  </tbody>\n",
       "</table>\n",
       "</div>"
      ],
      "text/plain": [
       "           air_store_id  store_mean  store_median  store_min  store_max  \\\n",
       "0  air_00a91d42b08b08d9    3.167414      3.295837   0.693147   4.605170   \n",
       "1  air_0164b9927d20bcc3    2.117522      2.197225   0.693147   3.332205   \n",
       "2  air_0241aa3964b7f861    2.236649      2.302585   0.693147   3.891820   \n",
       "3  air_0328696196e46f18    1.966041      1.945910   0.693147   3.737670   \n",
       "4  air_034a3d5b40d5b1b1    2.457141      2.564949   0.693147   4.762174   \n",
       "\n",
       "   store_std  \n",
       "0   0.576968  \n",
       "1   0.685494  \n",
       "2   0.565187  \n",
       "3   0.662686  \n",
       "4   0.823890  "
      ]
     },
     "execution_count": 21,
     "metadata": {},
     "output_type": "execute_result"
    }
   ],
   "source": [
    "store_mean_0=pd.DataFrame()\n",
    "store_mean_0[\"store_mean\"]=data[\"tra\"].groupby(\"air_store_id\").visitors.mean()\n",
    "store_mean_0[\"store_median\"]=data[\"tra\"].groupby(\"air_store_id\").visitors.median()\n",
    "store_mean_0[\"store_min\"]=data[\"tra\"].groupby(\"air_store_id\").visitors.min()\n",
    "store_mean_0[\"store_max\"]=data[\"tra\"].groupby(\"air_store_id\").visitors.max()\n",
    "store_mean_0[\"store_std\"]=data[\"tra\"].groupby(\"air_store_id\").visitors.std()\n",
    "store_mean_0.reset_index(inplace=True)\n",
    "store_mean_0.head()\n"
   ]
  },
  {
   "cell_type": "code",
   "execution_count": 22,
   "metadata": {},
   "outputs": [
    {
     "data": {
      "text/html": [
       "<div>\n",
       "<style scoped>\n",
       "    .dataframe tbody tr th:only-of-type {\n",
       "        vertical-align: middle;\n",
       "    }\n",
       "\n",
       "    .dataframe tbody tr th {\n",
       "        vertical-align: top;\n",
       "    }\n",
       "\n",
       "    .dataframe thead th {\n",
       "        text-align: right;\n",
       "    }\n",
       "</style>\n",
       "<table border=\"1\" class=\"dataframe\">\n",
       "  <thead>\n",
       "    <tr style=\"text-align: right;\">\n",
       "      <th></th>\n",
       "      <th>air_store_id</th>\n",
       "      <th>day_of_week</th>\n",
       "      <th>store_dow_mdn</th>\n",
       "      <th>store_dow_mean</th>\n",
       "      <th>store_dow_min</th>\n",
       "      <th>store_dow_max</th>\n",
       "      <th>store_dow_std</th>\n",
       "    </tr>\n",
       "  </thead>\n",
       "  <tbody>\n",
       "    <tr>\n",
       "      <th>0</th>\n",
       "      <td>air_00a91d42b08b08d9</td>\n",
       "      <td>Friday</td>\n",
       "      <td>3.597218</td>\n",
       "      <td>3.595110</td>\n",
       "      <td>2.890372</td>\n",
       "      <td>4.060443</td>\n",
       "      <td>0.249142</td>\n",
       "    </tr>\n",
       "    <tr>\n",
       "      <th>1</th>\n",
       "      <td>air_00a91d42b08b08d9</td>\n",
       "      <td>Monday</td>\n",
       "      <td>2.995732</td>\n",
       "      <td>3.056744</td>\n",
       "      <td>0.693147</td>\n",
       "      <td>3.871201</td>\n",
       "      <td>0.522171</td>\n",
       "    </tr>\n",
       "    <tr>\n",
       "      <th>2</th>\n",
       "      <td>air_00a91d42b08b08d9</td>\n",
       "      <td>Saturday</td>\n",
       "      <td>2.484907</td>\n",
       "      <td>2.505629</td>\n",
       "      <td>1.386294</td>\n",
       "      <td>4.605170</td>\n",
       "      <td>0.665186</td>\n",
       "    </tr>\n",
       "    <tr>\n",
       "      <th>3</th>\n",
       "      <td>air_00a91d42b08b08d9</td>\n",
       "      <td>Sunday</td>\n",
       "      <td>1.098612</td>\n",
       "      <td>1.098612</td>\n",
       "      <td>1.098612</td>\n",
       "      <td>1.098612</td>\n",
       "      <td>0.000000</td>\n",
       "    </tr>\n",
       "    <tr>\n",
       "      <th>4</th>\n",
       "      <td>air_00a91d42b08b08d9</td>\n",
       "      <td>Thursday</td>\n",
       "      <td>3.433987</td>\n",
       "      <td>3.401823</td>\n",
       "      <td>2.772589</td>\n",
       "      <td>3.871201</td>\n",
       "      <td>0.244663</td>\n",
       "    </tr>\n",
       "  </tbody>\n",
       "</table>\n",
       "</div>"
      ],
      "text/plain": [
       "           air_store_id day_of_week  store_dow_mdn  store_dow_mean  \\\n",
       "0  air_00a91d42b08b08d9      Friday       3.597218        3.595110   \n",
       "1  air_00a91d42b08b08d9      Monday       2.995732        3.056744   \n",
       "2  air_00a91d42b08b08d9    Saturday       2.484907        2.505629   \n",
       "3  air_00a91d42b08b08d9      Sunday       1.098612        1.098612   \n",
       "4  air_00a91d42b08b08d9    Thursday       3.433987        3.401823   \n",
       "\n",
       "   store_dow_min  store_dow_max  store_dow_std  \n",
       "0       2.890372       4.060443       0.249142  \n",
       "1       0.693147       3.871201       0.522171  \n",
       "2       1.386294       4.605170       0.665186  \n",
       "3       1.098612       1.098612       0.000000  \n",
       "4       2.772589       3.871201       0.244663  "
      ]
     },
     "execution_count": 22,
     "metadata": {},
     "output_type": "execute_result"
    }
   ],
   "source": [
    "store_mean_dow=pd.DataFrame()\n",
    "store_mean_dow[\"store_dow_mdn\"]=data[\"tra_hol\"].groupby([\"air_store_id\",\"day_of_week\"]).visitors.median() #.reset_index()\n",
    "store_mean_dow[\"store_dow_mean\"]=data[\"tra_hol\"].groupby([\"air_store_id\",\"day_of_week\"]).visitors.mean() #.reset_index()\n",
    "store_mean_dow[\"store_dow_min\"]=data[\"tra_hol\"].groupby([\"air_store_id\",\"day_of_week\"]).visitors.min() #.reset_index()\n",
    "store_mean_dow[\"store_dow_max\"]=data[\"tra_hol\"].groupby([\"air_store_id\",\"day_of_week\"]).visitors.max() #.reset_index()\n",
    "store_mean_dow[\"store_dow_std\"]=data[\"tra_hol\"].groupby([\"air_store_id\",\"day_of_week\"]).visitors.std() #.reset_index()\n",
    "store_mean_dow[\"store_dow_mdn\"].fillna(store_mean_0[\"store_median\"],inplace=True)\n",
    "store_mean_dow[\"store_dow_mean\"].fillna(store_mean_0[\"store_mean\"],inplace=True)\n",
    "store_mean_dow[\"store_dow_min\"].fillna(store_mean_0[\"store_min\"],inplace=True)\n",
    "store_mean_dow[\"store_dow_max\"].fillna(store_mean_0[\"store_max\"],inplace=True)\n",
    "store_mean_dow[\"store_dow_std\"].fillna(store_mean_0[\"store_std\"],inplace=True)\n",
    "store_mean_dow.fillna(0,inplace=True)\n",
    "#store_mean_dow=store_mean_dow.drop(\"visitors\",axis=1)\n",
    "store_mean_dow=store_mean_dow.reset_index() #unstack(level=1)\n",
    "store_mean_dow.head()"
   ]
  },
  {
   "cell_type": "code",
   "execution_count": 23,
   "metadata": {},
   "outputs": [
    {
     "data": {
      "text/html": [
       "<div>\n",
       "<style scoped>\n",
       "    .dataframe tbody tr th:only-of-type {\n",
       "        vertical-align: middle;\n",
       "    }\n",
       "\n",
       "    .dataframe tbody tr th {\n",
       "        vertical-align: top;\n",
       "    }\n",
       "\n",
       "    .dataframe thead th {\n",
       "        text-align: right;\n",
       "    }\n",
       "</style>\n",
       "<table border=\"1\" class=\"dataframe\">\n",
       "  <thead>\n",
       "    <tr style=\"text-align: right;\">\n",
       "      <th></th>\n",
       "      <th>air_store_id</th>\n",
       "      <th>day_of_week</th>\n",
       "      <th>holiday_flg</th>\n",
       "      <th>store_dow_hol_mdn</th>\n",
       "      <th>store_dow_hol_mean</th>\n",
       "      <th>store_dow_hol_min</th>\n",
       "      <th>store_dow_hol_max</th>\n",
       "      <th>store_dow_hol_std</th>\n",
       "    </tr>\n",
       "  </thead>\n",
       "  <tbody>\n",
       "    <tr>\n",
       "      <th>0</th>\n",
       "      <td>air_00a91d42b08b08d9</td>\n",
       "      <td>Friday</td>\n",
       "      <td>0</td>\n",
       "      <td>3.597218</td>\n",
       "      <td>3.595110</td>\n",
       "      <td>2.890372</td>\n",
       "      <td>4.060443</td>\n",
       "      <td>0.249142</td>\n",
       "    </tr>\n",
       "    <tr>\n",
       "      <th>1</th>\n",
       "      <td>air_00a91d42b08b08d9</td>\n",
       "      <td>Friday</td>\n",
       "      <td>1</td>\n",
       "      <td>0.000000</td>\n",
       "      <td>0.000000</td>\n",
       "      <td>0.000000</td>\n",
       "      <td>0.000000</td>\n",
       "      <td>0.000000</td>\n",
       "    </tr>\n",
       "    <tr>\n",
       "      <th>2</th>\n",
       "      <td>air_00a91d42b08b08d9</td>\n",
       "      <td>Monday</td>\n",
       "      <td>0</td>\n",
       "      <td>2.995732</td>\n",
       "      <td>3.055735</td>\n",
       "      <td>0.693147</td>\n",
       "      <td>3.871201</td>\n",
       "      <td>0.529989</td>\n",
       "    </tr>\n",
       "    <tr>\n",
       "      <th>3</th>\n",
       "      <td>air_00a91d42b08b08d9</td>\n",
       "      <td>Monday</td>\n",
       "      <td>1</td>\n",
       "      <td>3.091042</td>\n",
       "      <td>3.091042</td>\n",
       "      <td>3.091042</td>\n",
       "      <td>3.091042</td>\n",
       "      <td>0.000000</td>\n",
       "    </tr>\n",
       "    <tr>\n",
       "      <th>4</th>\n",
       "      <td>air_00a91d42b08b08d9</td>\n",
       "      <td>Saturday</td>\n",
       "      <td>0</td>\n",
       "      <td>2.484907</td>\n",
       "      <td>2.505629</td>\n",
       "      <td>1.386294</td>\n",
       "      <td>4.605170</td>\n",
       "      <td>0.665186</td>\n",
       "    </tr>\n",
       "  </tbody>\n",
       "</table>\n",
       "</div>"
      ],
      "text/plain": [
       "           air_store_id day_of_week holiday_flg  store_dow_hol_mdn  \\\n",
       "0  air_00a91d42b08b08d9      Friday           0           3.597218   \n",
       "1  air_00a91d42b08b08d9      Friday           1           0.000000   \n",
       "2  air_00a91d42b08b08d9      Monday           0           2.995732   \n",
       "3  air_00a91d42b08b08d9      Monday           1           3.091042   \n",
       "4  air_00a91d42b08b08d9    Saturday           0           2.484907   \n",
       "\n",
       "   store_dow_hol_mean  store_dow_hol_min  store_dow_hol_max  store_dow_hol_std  \n",
       "0            3.595110           2.890372           4.060443           0.249142  \n",
       "1            0.000000           0.000000           0.000000           0.000000  \n",
       "2            3.055735           0.693147           3.871201           0.529989  \n",
       "3            3.091042           3.091042           3.091042           0.000000  \n",
       "4            2.505629           1.386294           4.605170           0.665186  "
      ]
     },
     "execution_count": 23,
     "metadata": {},
     "output_type": "execute_result"
    }
   ],
   "source": [
    "store_mean_dow_hol=pd.DataFrame()\n",
    "store_mean_dow_hol[\"store_dow_hol_mdn\"]=data[\"tra_hol\"].groupby([\"air_store_id\",\"day_of_week\",'holiday_flg']).visitors.median() #.reset_index()\n",
    "store_mean_dow_hol[\"store_dow_hol_mean\"]=data[\"tra_hol\"].groupby([\"air_store_id\",\"day_of_week\",'holiday_flg']).visitors.mean() #.reset_index()\n",
    "store_mean_dow_hol[\"store_dow_hol_min\"]=data[\"tra_hol\"].groupby([\"air_store_id\",\"day_of_week\",'holiday_flg']).visitors.min() #.reset_index()\n",
    "store_mean_dow_hol[\"store_dow_hol_max\"]=data[\"tra_hol\"].groupby([\"air_store_id\",\"day_of_week\",'holiday_flg']).visitors.max() #.reset_index()\n",
    "store_mean_dow_hol[\"store_dow_hol_std\"]=data[\"tra_hol\"].groupby([\"air_store_id\",\"day_of_week\",'holiday_flg']).visitors.std() #.reset_index()\n",
    "store_mean_dow_hol[\"store_dow_hol_mdn\"].fillna(store_mean_dow[\"store_dow_mdn\"],inplace=True)\n",
    "store_mean_dow_hol[\"store_dow_hol_mean\"].fillna(store_mean_dow[\"store_dow_mean\"],inplace=True)\n",
    "store_mean_dow_hol[\"store_dow_hol_min\"].fillna(store_mean_dow[\"store_dow_min\"],inplace=True)\n",
    "store_mean_dow_hol[\"store_dow_hol_max\"].fillna(store_mean_dow[\"store_dow_max\"],inplace=True)\n",
    "store_mean_dow_hol[\"store_dow_hol_std\"].fillna(store_mean_dow[\"store_dow_std\"],inplace=True)\n",
    "store_mean_dow_hol=store_mean_dow_hol.fillna(0)\n",
    "#store_mean_dow=store_mean_dow.drop(\"visitors\",axis=1)\n",
    "store_mean_dow_hol=store_mean_dow_hol.reset_index() #unstack(level=1)\n",
    "store_mean_dow_hol.head()"
   ]
  },
  {
   "cell_type": "code",
   "execution_count": 24,
   "metadata": {},
   "outputs": [],
   "source": [
    "data[\"tra\"][\"month\"]=data[\"tra\"].visit_date.map(lambda x: x.month)\n",
    "data[\"tra\"][\"month\"]=data[\"tra\"][\"month\"].astype('category')"
   ]
  },
  {
   "cell_type": "markdown",
   "metadata": {},
   "source": [
    "- train +store info + store mean + day info"
   ]
  },
  {
   "cell_type": "code",
   "execution_count": 26,
   "metadata": {
    "scrolled": false
   },
   "outputs": [
    {
     "ename": "ValueError",
     "evalue": "Buffer dtype mismatch, expected 'Python object' but got 'long'",
     "output_type": "error",
     "traceback": [
      "\u001b[0;31m---------------------------------------------------------------------------\u001b[0m",
      "\u001b[0;31mValueError\u001b[0m                                Traceback (most recent call last)",
      "\u001b[0;31mValueError\u001b[0m: Buffer dtype mismatch, expected 'Python object' but got 'long'"
     ]
    },
    {
     "name": "stderr",
     "output_type": "stream",
     "text": [
      "Exception ignored in: 'pandas._libs.lib.is_bool_array'\n",
      "ValueError: Buffer dtype mismatch, expected 'Python object' but got 'long'\n"
     ]
    },
    {
     "ename": "ValueError",
     "evalue": "Buffer dtype mismatch, expected 'Python object' but got 'long'",
     "output_type": "error",
     "traceback": [
      "\u001b[0;31m---------------------------------------------------------------------------\u001b[0m",
      "\u001b[0;31mValueError\u001b[0m                                Traceback (most recent call last)",
      "\u001b[0;31mValueError\u001b[0m: Buffer dtype mismatch, expected 'Python object' but got 'long'"
     ]
    },
    {
     "name": "stderr",
     "output_type": "stream",
     "text": [
      "Exception ignored in: 'pandas._libs.lib.is_bool_array'\n",
      "ValueError: Buffer dtype mismatch, expected 'Python object' but got 'long'\n"
     ]
    },
    {
     "ename": "ValueError",
     "evalue": "Buffer dtype mismatch, expected 'Python object' but got 'long'",
     "output_type": "error",
     "traceback": [
      "\u001b[0;31m---------------------------------------------------------------------------\u001b[0m",
      "\u001b[0;31mValueError\u001b[0m                                Traceback (most recent call last)",
      "\u001b[0;31mValueError\u001b[0m: Buffer dtype mismatch, expected 'Python object' but got 'long'"
     ]
    },
    {
     "name": "stderr",
     "output_type": "stream",
     "text": [
      "Exception ignored in: 'pandas._libs.lib.is_bool_array'\n",
      "ValueError: Buffer dtype mismatch, expected 'Python object' but got 'long'\n"
     ]
    },
    {
     "ename": "ValueError",
     "evalue": "Buffer dtype mismatch, expected 'Python object' but got 'long'",
     "output_type": "error",
     "traceback": [
      "\u001b[0;31m---------------------------------------------------------------------------\u001b[0m",
      "\u001b[0;31mValueError\u001b[0m                                Traceback (most recent call last)",
      "\u001b[0;31mValueError\u001b[0m: Buffer dtype mismatch, expected 'Python object' but got 'long'"
     ]
    },
    {
     "name": "stderr",
     "output_type": "stream",
     "text": [
      "Exception ignored in: 'pandas._libs.lib.is_bool_array'\n",
      "ValueError: Buffer dtype mismatch, expected 'Python object' but got 'long'\n"
     ]
    },
    {
     "ename": "ValueError",
     "evalue": "Buffer dtype mismatch, expected 'Python object' but got 'long'",
     "output_type": "error",
     "traceback": [
      "\u001b[0;31m---------------------------------------------------------------------------\u001b[0m",
      "\u001b[0;31mValueError\u001b[0m                                Traceback (most recent call last)",
      "\u001b[0;31mValueError\u001b[0m: Buffer dtype mismatch, expected 'Python object' but got 'long'"
     ]
    },
    {
     "name": "stderr",
     "output_type": "stream",
     "text": [
      "Exception ignored in: 'pandas._libs.lib.is_bool_array'\n",
      "ValueError: Buffer dtype mismatch, expected 'Python object' but got 'long'\n"
     ]
    },
    {
     "ename": "ValueError",
     "evalue": "Buffer dtype mismatch, expected 'Python object' but got 'long'",
     "output_type": "error",
     "traceback": [
      "\u001b[0;31m---------------------------------------------------------------------------\u001b[0m",
      "\u001b[0;31mValueError\u001b[0m                                Traceback (most recent call last)",
      "\u001b[0;31mValueError\u001b[0m: Buffer dtype mismatch, expected 'Python object' but got 'long'"
     ]
    },
    {
     "name": "stderr",
     "output_type": "stream",
     "text": [
      "Exception ignored in: 'pandas._libs.lib.is_bool_array'\n",
      "ValueError: Buffer dtype mismatch, expected 'Python object' but got 'long'\n"
     ]
    },
    {
     "ename": "ValueError",
     "evalue": "Buffer dtype mismatch, expected 'Python object' but got 'long'",
     "output_type": "error",
     "traceback": [
      "\u001b[0;31m---------------------------------------------------------------------------\u001b[0m",
      "\u001b[0;31mValueError\u001b[0m                                Traceback (most recent call last)",
      "\u001b[0;31mValueError\u001b[0m: Buffer dtype mismatch, expected 'Python object' but got 'long'"
     ]
    },
    {
     "name": "stderr",
     "output_type": "stream",
     "text": [
      "Exception ignored in: 'pandas._libs.lib.is_bool_array'\n",
      "ValueError: Buffer dtype mismatch, expected 'Python object' but got 'long'\n"
     ]
    },
    {
     "ename": "ValueError",
     "evalue": "Buffer dtype mismatch, expected 'Python object' but got 'long'",
     "output_type": "error",
     "traceback": [
      "\u001b[0;31m---------------------------------------------------------------------------\u001b[0m",
      "\u001b[0;31mValueError\u001b[0m                                Traceback (most recent call last)",
      "\u001b[0;31mValueError\u001b[0m: Buffer dtype mismatch, expected 'Python object' but got 'long'"
     ]
    },
    {
     "name": "stderr",
     "output_type": "stream",
     "text": [
      "Exception ignored in: 'pandas._libs.lib.is_bool_array'\n",
      "ValueError: Buffer dtype mismatch, expected 'Python object' but got 'long'\n"
     ]
    },
    {
     "ename": "ValueError",
     "evalue": "Buffer dtype mismatch, expected 'Python object' but got 'long'",
     "output_type": "error",
     "traceback": [
      "\u001b[0;31m---------------------------------------------------------------------------\u001b[0m",
      "\u001b[0;31mValueError\u001b[0m                                Traceback (most recent call last)",
      "\u001b[0;31mValueError\u001b[0m: Buffer dtype mismatch, expected 'Python object' but got 'long'"
     ]
    },
    {
     "name": "stderr",
     "output_type": "stream",
     "text": [
      "Exception ignored in: 'pandas._libs.lib.is_bool_array'\n",
      "ValueError: Buffer dtype mismatch, expected 'Python object' but got 'long'\n"
     ]
    },
    {
     "ename": "ValueError",
     "evalue": "Buffer dtype mismatch, expected 'Python object' but got 'long'",
     "output_type": "error",
     "traceback": [
      "\u001b[0;31m---------------------------------------------------------------------------\u001b[0m",
      "\u001b[0;31mValueError\u001b[0m                                Traceback (most recent call last)",
      "\u001b[0;31mValueError\u001b[0m: Buffer dtype mismatch, expected 'Python object' but got 'long'"
     ]
    },
    {
     "name": "stderr",
     "output_type": "stream",
     "text": [
      "Exception ignored in: 'pandas._libs.lib.is_bool_array'\n",
      "ValueError: Buffer dtype mismatch, expected 'Python object' but got 'long'\n"
     ]
    },
    {
     "ename": "ValueError",
     "evalue": "Buffer dtype mismatch, expected 'Python object' but got 'long'",
     "output_type": "error",
     "traceback": [
      "\u001b[0;31m---------------------------------------------------------------------------\u001b[0m",
      "\u001b[0;31mValueError\u001b[0m                                Traceback (most recent call last)",
      "\u001b[0;31mValueError\u001b[0m: Buffer dtype mismatch, expected 'Python object' but got 'long'"
     ]
    },
    {
     "name": "stderr",
     "output_type": "stream",
     "text": [
      "Exception ignored in: 'pandas._libs.lib.is_bool_array'\n",
      "ValueError: Buffer dtype mismatch, expected 'Python object' but got 'long'\n"
     ]
    },
    {
     "ename": "ValueError",
     "evalue": "Buffer dtype mismatch, expected 'Python object' but got 'long'",
     "output_type": "error",
     "traceback": [
      "\u001b[0;31m---------------------------------------------------------------------------\u001b[0m",
      "\u001b[0;31mValueError\u001b[0m                                Traceback (most recent call last)",
      "\u001b[0;31mValueError\u001b[0m: Buffer dtype mismatch, expected 'Python object' but got 'long'"
     ]
    },
    {
     "name": "stderr",
     "output_type": "stream",
     "text": [
      "Exception ignored in: 'pandas._libs.lib.is_bool_array'\n",
      "ValueError: Buffer dtype mismatch, expected 'Python object' but got 'long'\n"
     ]
    },
    {
     "ename": "ValueError",
     "evalue": "Buffer dtype mismatch, expected 'Python object' but got 'long'",
     "output_type": "error",
     "traceback": [
      "\u001b[0;31m---------------------------------------------------------------------------\u001b[0m",
      "\u001b[0;31mValueError\u001b[0m                                Traceback (most recent call last)",
      "\u001b[0;31mValueError\u001b[0m: Buffer dtype mismatch, expected 'Python object' but got 'long'"
     ]
    },
    {
     "name": "stderr",
     "output_type": "stream",
     "text": [
      "Exception ignored in: 'pandas._libs.lib.is_bool_array'\n",
      "ValueError: Buffer dtype mismatch, expected 'Python object' but got 'long'\n"
     ]
    },
    {
     "ename": "ValueError",
     "evalue": "Buffer dtype mismatch, expected 'Python object' but got 'long'",
     "output_type": "error",
     "traceback": [
      "\u001b[0;31m---------------------------------------------------------------------------\u001b[0m",
      "\u001b[0;31mValueError\u001b[0m                                Traceback (most recent call last)",
      "\u001b[0;31mValueError\u001b[0m: Buffer dtype mismatch, expected 'Python object' but got 'long'"
     ]
    },
    {
     "name": "stderr",
     "output_type": "stream",
     "text": [
      "Exception ignored in: 'pandas._libs.lib.is_bool_array'\n",
      "ValueError: Buffer dtype mismatch, expected 'Python object' but got 'long'\n"
     ]
    },
    {
     "ename": "ValueError",
     "evalue": "Buffer dtype mismatch, expected 'Python object' but got 'long'",
     "output_type": "error",
     "traceback": [
      "\u001b[0;31m---------------------------------------------------------------------------\u001b[0m",
      "\u001b[0;31mValueError\u001b[0m                                Traceback (most recent call last)",
      "\u001b[0;31mValueError\u001b[0m: Buffer dtype mismatch, expected 'Python object' but got 'long'"
     ]
    },
    {
     "name": "stderr",
     "output_type": "stream",
     "text": [
      "Exception ignored in: 'pandas._libs.lib.is_bool_array'\n",
      "ValueError: Buffer dtype mismatch, expected 'Python object' but got 'long'\n"
     ]
    },
    {
     "ename": "ValueError",
     "evalue": "Buffer dtype mismatch, expected 'Python object' but got 'long'",
     "output_type": "error",
     "traceback": [
      "\u001b[0;31m---------------------------------------------------------------------------\u001b[0m",
      "\u001b[0;31mValueError\u001b[0m                                Traceback (most recent call last)",
      "\u001b[0;31mValueError\u001b[0m: Buffer dtype mismatch, expected 'Python object' but got 'long'"
     ]
    },
    {
     "name": "stderr",
     "output_type": "stream",
     "text": [
      "Exception ignored in: 'pandas._libs.lib.is_bool_array'\n",
      "ValueError: Buffer dtype mismatch, expected 'Python object' but got 'long'\n"
     ]
    },
    {
     "ename": "ValueError",
     "evalue": "Buffer dtype mismatch, expected 'Python object' but got 'long'",
     "output_type": "error",
     "traceback": [
      "\u001b[0;31m---------------------------------------------------------------------------\u001b[0m",
      "\u001b[0;31mValueError\u001b[0m                                Traceback (most recent call last)",
      "\u001b[0;31mValueError\u001b[0m: Buffer dtype mismatch, expected 'Python object' but got 'long'"
     ]
    },
    {
     "name": "stderr",
     "output_type": "stream",
     "text": [
      "Exception ignored in: 'pandas._libs.lib.is_bool_array'\n",
      "ValueError: Buffer dtype mismatch, expected 'Python object' but got 'long'\n"
     ]
    },
    {
     "ename": "ValueError",
     "evalue": "Buffer dtype mismatch, expected 'Python object' but got 'long'",
     "output_type": "error",
     "traceback": [
      "\u001b[0;31m---------------------------------------------------------------------------\u001b[0m",
      "\u001b[0;31mValueError\u001b[0m                                Traceback (most recent call last)",
      "\u001b[0;31mValueError\u001b[0m: Buffer dtype mismatch, expected 'Python object' but got 'long'"
     ]
    },
    {
     "name": "stderr",
     "output_type": "stream",
     "text": [
      "Exception ignored in: 'pandas._libs.lib.is_bool_array'\n",
      "ValueError: Buffer dtype mismatch, expected 'Python object' but got 'long'\n"
     ]
    },
    {
     "ename": "ValueError",
     "evalue": "Buffer dtype mismatch, expected 'Python object' but got 'long'",
     "output_type": "error",
     "traceback": [
      "\u001b[0;31m---------------------------------------------------------------------------\u001b[0m",
      "\u001b[0;31mValueError\u001b[0m                                Traceback (most recent call last)",
      "\u001b[0;31mValueError\u001b[0m: Buffer dtype mismatch, expected 'Python object' but got 'long'"
     ]
    },
    {
     "name": "stderr",
     "output_type": "stream",
     "text": [
      "Exception ignored in: 'pandas._libs.lib.is_bool_array'\n",
      "ValueError: Buffer dtype mismatch, expected 'Python object' but got 'long'\n"
     ]
    },
    {
     "ename": "ValueError",
     "evalue": "Buffer dtype mismatch, expected 'Python object' but got 'long'",
     "output_type": "error",
     "traceback": [
      "\u001b[0;31m---------------------------------------------------------------------------\u001b[0m",
      "\u001b[0;31mValueError\u001b[0m                                Traceback (most recent call last)",
      "\u001b[0;31mValueError\u001b[0m: Buffer dtype mismatch, expected 'Python object' but got 'long'"
     ]
    },
    {
     "name": "stderr",
     "output_type": "stream",
     "text": [
      "Exception ignored in: 'pandas._libs.lib.is_bool_array'\n",
      "ValueError: Buffer dtype mismatch, expected 'Python object' but got 'long'\n"
     ]
    },
    {
     "ename": "ValueError",
     "evalue": "Buffer dtype mismatch, expected 'Python object' but got 'long'",
     "output_type": "error",
     "traceback": [
      "\u001b[0;31m---------------------------------------------------------------------------\u001b[0m",
      "\u001b[0;31mValueError\u001b[0m                                Traceback (most recent call last)",
      "\u001b[0;31mValueError\u001b[0m: Buffer dtype mismatch, expected 'Python object' but got 'long'"
     ]
    },
    {
     "name": "stderr",
     "output_type": "stream",
     "text": [
      "Exception ignored in: 'pandas._libs.lib.is_bool_array'\n",
      "ValueError: Buffer dtype mismatch, expected 'Python object' but got 'long'\n"
     ]
    },
    {
     "ename": "ValueError",
     "evalue": "Buffer dtype mismatch, expected 'Python object' but got 'long'",
     "output_type": "error",
     "traceback": [
      "\u001b[0;31m---------------------------------------------------------------------------\u001b[0m",
      "\u001b[0;31mValueError\u001b[0m                                Traceback (most recent call last)",
      "\u001b[0;31mValueError\u001b[0m: Buffer dtype mismatch, expected 'Python object' but got 'long'"
     ]
    },
    {
     "name": "stderr",
     "output_type": "stream",
     "text": [
      "Exception ignored in: 'pandas._libs.lib.is_bool_array'\n",
      "ValueError: Buffer dtype mismatch, expected 'Python object' but got 'long'\n"
     ]
    },
    {
     "data": {
      "text/html": [
       "<div>\n",
       "<style scoped>\n",
       "    .dataframe tbody tr th:only-of-type {\n",
       "        vertical-align: middle;\n",
       "    }\n",
       "\n",
       "    .dataframe tbody tr th {\n",
       "        vertical-align: top;\n",
       "    }\n",
       "\n",
       "    .dataframe thead th {\n",
       "        text-align: right;\n",
       "    }\n",
       "</style>\n",
       "<table border=\"1\" class=\"dataframe\">\n",
       "  <thead>\n",
       "    <tr style=\"text-align: right;\">\n",
       "      <th></th>\n",
       "      <th>0</th>\n",
       "      <th>1</th>\n",
       "      <th>2</th>\n",
       "      <th>3</th>\n",
       "      <th>4</th>\n",
       "    </tr>\n",
       "  </thead>\n",
       "  <tbody>\n",
       "    <tr>\n",
       "      <th>air_store_id</th>\n",
       "      <td>air_ba937bf13d40fb24</td>\n",
       "      <td>air_ba937bf13d40fb24</td>\n",
       "      <td>air_ba937bf13d40fb24</td>\n",
       "      <td>air_ba937bf13d40fb24</td>\n",
       "      <td>air_ba937bf13d40fb24</td>\n",
       "    </tr>\n",
       "    <tr>\n",
       "      <th>visit_date</th>\n",
       "      <td>2016-01-13 00:00:00</td>\n",
       "      <td>2016-01-20 00:00:00</td>\n",
       "      <td>2016-01-27 00:00:00</td>\n",
       "      <td>2016-02-03 00:00:00</td>\n",
       "      <td>2016-02-10 00:00:00</td>\n",
       "    </tr>\n",
       "    <tr>\n",
       "      <th>visitors</th>\n",
       "      <td>3.2581</td>\n",
       "      <td>3.46574</td>\n",
       "      <td>3.21888</td>\n",
       "      <td>2.94444</td>\n",
       "      <td>3.49651</td>\n",
       "    </tr>\n",
       "    <tr>\n",
       "      <th>month</th>\n",
       "      <td>1</td>\n",
       "      <td>1</td>\n",
       "      <td>1</td>\n",
       "      <td>2</td>\n",
       "      <td>2</td>\n",
       "    </tr>\n",
       "    <tr>\n",
       "      <th>day_of_week</th>\n",
       "      <td>Wednesday</td>\n",
       "      <td>Wednesday</td>\n",
       "      <td>Wednesday</td>\n",
       "      <td>Wednesday</td>\n",
       "      <td>Wednesday</td>\n",
       "    </tr>\n",
       "    <tr>\n",
       "      <th>holiday_flg</th>\n",
       "      <td>0</td>\n",
       "      <td>0</td>\n",
       "      <td>0</td>\n",
       "      <td>0</td>\n",
       "      <td>0</td>\n",
       "    </tr>\n",
       "    <tr>\n",
       "      <th>store_dow_mdn</th>\n",
       "      <td>3.2581</td>\n",
       "      <td>3.2581</td>\n",
       "      <td>3.2581</td>\n",
       "      <td>3.2581</td>\n",
       "      <td>3.2581</td>\n",
       "    </tr>\n",
       "    <tr>\n",
       "      <th>store_dow_mean</th>\n",
       "      <td>3.13781</td>\n",
       "      <td>3.13781</td>\n",
       "      <td>3.13781</td>\n",
       "      <td>3.13781</td>\n",
       "      <td>3.13781</td>\n",
       "    </tr>\n",
       "    <tr>\n",
       "      <th>store_dow_min</th>\n",
       "      <td>2.07944</td>\n",
       "      <td>2.07944</td>\n",
       "      <td>2.07944</td>\n",
       "      <td>2.07944</td>\n",
       "      <td>2.07944</td>\n",
       "    </tr>\n",
       "    <tr>\n",
       "      <th>store_dow_max</th>\n",
       "      <td>4.06044</td>\n",
       "      <td>4.06044</td>\n",
       "      <td>4.06044</td>\n",
       "      <td>4.06044</td>\n",
       "      <td>4.06044</td>\n",
       "    </tr>\n",
       "    <tr>\n",
       "      <th>store_dow_std</th>\n",
       "      <td>0.406326</td>\n",
       "      <td>0.406326</td>\n",
       "      <td>0.406326</td>\n",
       "      <td>0.406326</td>\n",
       "      <td>0.406326</td>\n",
       "    </tr>\n",
       "    <tr>\n",
       "      <th>store_dow_hol_mdn</th>\n",
       "      <td>3.2581</td>\n",
       "      <td>3.2581</td>\n",
       "      <td>3.2581</td>\n",
       "      <td>3.2581</td>\n",
       "      <td>3.2581</td>\n",
       "    </tr>\n",
       "    <tr>\n",
       "      <th>store_dow_hol_mean</th>\n",
       "      <td>3.15274</td>\n",
       "      <td>3.15274</td>\n",
       "      <td>3.15274</td>\n",
       "      <td>3.15274</td>\n",
       "      <td>3.15274</td>\n",
       "    </tr>\n",
       "    <tr>\n",
       "      <th>store_dow_hol_min</th>\n",
       "      <td>2.07944</td>\n",
       "      <td>2.07944</td>\n",
       "      <td>2.07944</td>\n",
       "      <td>2.07944</td>\n",
       "      <td>2.07944</td>\n",
       "    </tr>\n",
       "    <tr>\n",
       "      <th>store_dow_hol_max</th>\n",
       "      <td>4.06044</td>\n",
       "      <td>4.06044</td>\n",
       "      <td>4.06044</td>\n",
       "      <td>4.06044</td>\n",
       "      <td>4.06044</td>\n",
       "    </tr>\n",
       "    <tr>\n",
       "      <th>store_dow_hol_std</th>\n",
       "      <td>0.391494</td>\n",
       "      <td>0.391494</td>\n",
       "      <td>0.391494</td>\n",
       "      <td>0.391494</td>\n",
       "      <td>0.391494</td>\n",
       "    </tr>\n",
       "    <tr>\n",
       "      <th>air_genre_name</th>\n",
       "      <td>Dining bar</td>\n",
       "      <td>Dining bar</td>\n",
       "      <td>Dining bar</td>\n",
       "      <td>Dining bar</td>\n",
       "      <td>Dining bar</td>\n",
       "    </tr>\n",
       "    <tr>\n",
       "      <th>air_area_name</th>\n",
       "      <td>Tōkyō-to Minato-ku Shibakōen</td>\n",
       "      <td>Tōkyō-to Minato-ku Shibakōen</td>\n",
       "      <td>Tōkyō-to Minato-ku Shibakōen</td>\n",
       "      <td>Tōkyō-to Minato-ku Shibakōen</td>\n",
       "      <td>Tōkyō-to Minato-ku Shibakōen</td>\n",
       "    </tr>\n",
       "    <tr>\n",
       "      <th>latitude</th>\n",
       "      <td>35.6581</td>\n",
       "      <td>35.6581</td>\n",
       "      <td>35.6581</td>\n",
       "      <td>35.6581</td>\n",
       "      <td>35.6581</td>\n",
       "    </tr>\n",
       "    <tr>\n",
       "      <th>longitude</th>\n",
       "      <td>139.752</td>\n",
       "      <td>139.752</td>\n",
       "      <td>139.752</td>\n",
       "      <td>139.752</td>\n",
       "      <td>139.752</td>\n",
       "    </tr>\n",
       "    <tr>\n",
       "      <th>store_mean</th>\n",
       "      <td>3.01439</td>\n",
       "      <td>3.01439</td>\n",
       "      <td>3.01439</td>\n",
       "      <td>3.01439</td>\n",
       "      <td>3.01439</td>\n",
       "    </tr>\n",
       "    <tr>\n",
       "      <th>store_median</th>\n",
       "      <td>3.13549</td>\n",
       "      <td>3.13549</td>\n",
       "      <td>3.13549</td>\n",
       "      <td>3.13549</td>\n",
       "      <td>3.13549</td>\n",
       "    </tr>\n",
       "    <tr>\n",
       "      <th>store_min</th>\n",
       "      <td>0.693147</td>\n",
       "      <td>0.693147</td>\n",
       "      <td>0.693147</td>\n",
       "      <td>0.693147</td>\n",
       "      <td>0.693147</td>\n",
       "    </tr>\n",
       "    <tr>\n",
       "      <th>store_max</th>\n",
       "      <td>4.12713</td>\n",
       "      <td>4.12713</td>\n",
       "      <td>4.12713</td>\n",
       "      <td>4.12713</td>\n",
       "      <td>4.12713</td>\n",
       "    </tr>\n",
       "    <tr>\n",
       "      <th>store_std</th>\n",
       "      <td>0.616634</td>\n",
       "      <td>0.616634</td>\n",
       "      <td>0.616634</td>\n",
       "      <td>0.616634</td>\n",
       "      <td>0.616634</td>\n",
       "    </tr>\n",
       "    <tr>\n",
       "      <th>area_mean</th>\n",
       "      <td>2.71661</td>\n",
       "      <td>2.71661</td>\n",
       "      <td>2.71661</td>\n",
       "      <td>2.71661</td>\n",
       "      <td>2.71661</td>\n",
       "    </tr>\n",
       "    <tr>\n",
       "      <th>area_median</th>\n",
       "      <td>2.77259</td>\n",
       "      <td>2.77259</td>\n",
       "      <td>2.77259</td>\n",
       "      <td>2.77259</td>\n",
       "      <td>2.77259</td>\n",
       "    </tr>\n",
       "    <tr>\n",
       "      <th>area_min</th>\n",
       "      <td>0.693147</td>\n",
       "      <td>0.693147</td>\n",
       "      <td>0.693147</td>\n",
       "      <td>0.693147</td>\n",
       "      <td>0.693147</td>\n",
       "    </tr>\n",
       "    <tr>\n",
       "      <th>area_max</th>\n",
       "      <td>5.72359</td>\n",
       "      <td>5.72359</td>\n",
       "      <td>5.72359</td>\n",
       "      <td>5.72359</td>\n",
       "      <td>5.72359</td>\n",
       "    </tr>\n",
       "    <tr>\n",
       "      <th>area_std</th>\n",
       "      <td>0.837676</td>\n",
       "      <td>0.837676</td>\n",
       "      <td>0.837676</td>\n",
       "      <td>0.837676</td>\n",
       "      <td>0.837676</td>\n",
       "    </tr>\n",
       "    <tr>\n",
       "      <th>area_mean_dow</th>\n",
       "      <td>2.77729</td>\n",
       "      <td>2.77729</td>\n",
       "      <td>2.77729</td>\n",
       "      <td>2.77729</td>\n",
       "      <td>2.77729</td>\n",
       "    </tr>\n",
       "    <tr>\n",
       "      <th>area_median_dow</th>\n",
       "      <td>2.89037</td>\n",
       "      <td>2.89037</td>\n",
       "      <td>2.89037</td>\n",
       "      <td>2.89037</td>\n",
       "      <td>2.89037</td>\n",
       "    </tr>\n",
       "    <tr>\n",
       "      <th>area_min_dow</th>\n",
       "      <td>0.693147</td>\n",
       "      <td>0.693147</td>\n",
       "      <td>0.693147</td>\n",
       "      <td>0.693147</td>\n",
       "      <td>0.693147</td>\n",
       "    </tr>\n",
       "    <tr>\n",
       "      <th>area_max_dow</th>\n",
       "      <td>4.97673</td>\n",
       "      <td>4.97673</td>\n",
       "      <td>4.97673</td>\n",
       "      <td>4.97673</td>\n",
       "      <td>4.97673</td>\n",
       "    </tr>\n",
       "    <tr>\n",
       "      <th>area_std_dow</th>\n",
       "      <td>0.802935</td>\n",
       "      <td>0.802935</td>\n",
       "      <td>0.802935</td>\n",
       "      <td>0.802935</td>\n",
       "      <td>0.802935</td>\n",
       "    </tr>\n",
       "    <tr>\n",
       "      <th>area_mean_hol</th>\n",
       "      <td>2.7199</td>\n",
       "      <td>2.7199</td>\n",
       "      <td>2.7199</td>\n",
       "      <td>2.7199</td>\n",
       "      <td>2.7199</td>\n",
       "    </tr>\n",
       "    <tr>\n",
       "      <th>area_median_hol</th>\n",
       "      <td>2.83321</td>\n",
       "      <td>2.83321</td>\n",
       "      <td>2.83321</td>\n",
       "      <td>2.83321</td>\n",
       "      <td>2.83321</td>\n",
       "    </tr>\n",
       "    <tr>\n",
       "      <th>area_min_hol</th>\n",
       "      <td>0.693147</td>\n",
       "      <td>0.693147</td>\n",
       "      <td>0.693147</td>\n",
       "      <td>0.693147</td>\n",
       "      <td>0.693147</td>\n",
       "    </tr>\n",
       "    <tr>\n",
       "      <th>area_max_hol</th>\n",
       "      <td>5.72359</td>\n",
       "      <td>5.72359</td>\n",
       "      <td>5.72359</td>\n",
       "      <td>5.72359</td>\n",
       "      <td>5.72359</td>\n",
       "    </tr>\n",
       "    <tr>\n",
       "      <th>area_std_hol</th>\n",
       "      <td>0.835915</td>\n",
       "      <td>0.835915</td>\n",
       "      <td>0.835915</td>\n",
       "      <td>0.835915</td>\n",
       "      <td>0.835915</td>\n",
       "    </tr>\n",
       "    <tr>\n",
       "      <th>genre_mean_hol</th>\n",
       "      <td>2.64869</td>\n",
       "      <td>2.64869</td>\n",
       "      <td>2.64869</td>\n",
       "      <td>2.64869</td>\n",
       "      <td>2.64869</td>\n",
       "    </tr>\n",
       "    <tr>\n",
       "      <th>genre_median_hol</th>\n",
       "      <td>2.70805</td>\n",
       "      <td>2.70805</td>\n",
       "      <td>2.70805</td>\n",
       "      <td>2.70805</td>\n",
       "      <td>2.70805</td>\n",
       "    </tr>\n",
       "    <tr>\n",
       "      <th>genre_min_hol</th>\n",
       "      <td>0.693147</td>\n",
       "      <td>0.693147</td>\n",
       "      <td>0.693147</td>\n",
       "      <td>0.693147</td>\n",
       "      <td>0.693147</td>\n",
       "    </tr>\n",
       "    <tr>\n",
       "      <th>genre_max_hol</th>\n",
       "      <td>5.85507</td>\n",
       "      <td>5.85507</td>\n",
       "      <td>5.85507</td>\n",
       "      <td>5.85507</td>\n",
       "      <td>5.85507</td>\n",
       "    </tr>\n",
       "    <tr>\n",
       "      <th>genre_std_hol</th>\n",
       "      <td>0.860133</td>\n",
       "      <td>0.860133</td>\n",
       "      <td>0.860133</td>\n",
       "      <td>0.860133</td>\n",
       "      <td>0.860133</td>\n",
       "    </tr>\n",
       "    <tr>\n",
       "      <th>genre_mean_dow</th>\n",
       "      <td>2.56432</td>\n",
       "      <td>2.56432</td>\n",
       "      <td>2.56432</td>\n",
       "      <td>2.56432</td>\n",
       "      <td>2.56432</td>\n",
       "    </tr>\n",
       "    <tr>\n",
       "      <th>genre_median_dow</th>\n",
       "      <td>2.63906</td>\n",
       "      <td>2.63906</td>\n",
       "      <td>2.63906</td>\n",
       "      <td>2.63906</td>\n",
       "      <td>2.63906</td>\n",
       "    </tr>\n",
       "    <tr>\n",
       "      <th>genre_min_dow</th>\n",
       "      <td>0.693147</td>\n",
       "      <td>0.693147</td>\n",
       "      <td>0.693147</td>\n",
       "      <td>0.693147</td>\n",
       "      <td>0.693147</td>\n",
       "    </tr>\n",
       "    <tr>\n",
       "      <th>genre_max_dow</th>\n",
       "      <td>5.09375</td>\n",
       "      <td>5.09375</td>\n",
       "      <td>5.09375</td>\n",
       "      <td>5.09375</td>\n",
       "      <td>5.09375</td>\n",
       "    </tr>\n",
       "    <tr>\n",
       "      <th>genre_std_dow</th>\n",
       "      <td>0.852946</td>\n",
       "      <td>0.852946</td>\n",
       "      <td>0.852946</td>\n",
       "      <td>0.852946</td>\n",
       "      <td>0.852946</td>\n",
       "    </tr>\n",
       "    <tr>\n",
       "      <th>genre_mean</th>\n",
       "      <td>2.65222</td>\n",
       "      <td>2.65222</td>\n",
       "      <td>2.65222</td>\n",
       "      <td>2.65222</td>\n",
       "      <td>2.65222</td>\n",
       "    </tr>\n",
       "    <tr>\n",
       "      <th>genre_median</th>\n",
       "      <td>2.70805</td>\n",
       "      <td>2.70805</td>\n",
       "      <td>2.70805</td>\n",
       "      <td>2.70805</td>\n",
       "      <td>2.70805</td>\n",
       "    </tr>\n",
       "    <tr>\n",
       "      <th>genre_min</th>\n",
       "      <td>0.693147</td>\n",
       "      <td>0.693147</td>\n",
       "      <td>0.693147</td>\n",
       "      <td>0.693147</td>\n",
       "      <td>0.693147</td>\n",
       "    </tr>\n",
       "    <tr>\n",
       "      <th>genre_max</th>\n",
       "      <td>5.85507</td>\n",
       "      <td>5.85507</td>\n",
       "      <td>5.85507</td>\n",
       "      <td>5.85507</td>\n",
       "      <td>5.85507</td>\n",
       "    </tr>\n",
       "    <tr>\n",
       "      <th>genre_std</th>\n",
       "      <td>0.860469</td>\n",
       "      <td>0.860469</td>\n",
       "      <td>0.860469</td>\n",
       "      <td>0.860469</td>\n",
       "      <td>0.860469</td>\n",
       "    </tr>\n",
       "    <tr>\n",
       "      <th>time_numeric</th>\n",
       "      <td>1.0368e+10</td>\n",
       "      <td>1.6416e+10</td>\n",
       "      <td>2.2464e+10</td>\n",
       "      <td>2.8512e+10</td>\n",
       "      <td>3.456e+10</td>\n",
       "    </tr>\n",
       "  </tbody>\n",
       "</table>\n",
       "</div>"
      ],
      "text/plain": [
       "                                               0  \\\n",
       "air_store_id                air_ba937bf13d40fb24   \n",
       "visit_date                   2016-01-13 00:00:00   \n",
       "visitors                                  3.2581   \n",
       "month                                          1   \n",
       "day_of_week                            Wednesday   \n",
       "holiday_flg                                    0   \n",
       "store_dow_mdn                             3.2581   \n",
       "store_dow_mean                           3.13781   \n",
       "store_dow_min                            2.07944   \n",
       "store_dow_max                            4.06044   \n",
       "store_dow_std                           0.406326   \n",
       "store_dow_hol_mdn                         3.2581   \n",
       "store_dow_hol_mean                       3.15274   \n",
       "store_dow_hol_min                        2.07944   \n",
       "store_dow_hol_max                        4.06044   \n",
       "store_dow_hol_std                       0.391494   \n",
       "air_genre_name                        Dining bar   \n",
       "air_area_name       Tōkyō-to Minato-ku Shibakōen   \n",
       "latitude                                 35.6581   \n",
       "longitude                                139.752   \n",
       "store_mean                               3.01439   \n",
       "store_median                             3.13549   \n",
       "store_min                               0.693147   \n",
       "store_max                                4.12713   \n",
       "store_std                               0.616634   \n",
       "area_mean                                2.71661   \n",
       "area_median                              2.77259   \n",
       "area_min                                0.693147   \n",
       "area_max                                 5.72359   \n",
       "area_std                                0.837676   \n",
       "area_mean_dow                            2.77729   \n",
       "area_median_dow                          2.89037   \n",
       "area_min_dow                            0.693147   \n",
       "area_max_dow                             4.97673   \n",
       "area_std_dow                            0.802935   \n",
       "area_mean_hol                             2.7199   \n",
       "area_median_hol                          2.83321   \n",
       "area_min_hol                            0.693147   \n",
       "area_max_hol                             5.72359   \n",
       "area_std_hol                            0.835915   \n",
       "genre_mean_hol                           2.64869   \n",
       "genre_median_hol                         2.70805   \n",
       "genre_min_hol                           0.693147   \n",
       "genre_max_hol                            5.85507   \n",
       "genre_std_hol                           0.860133   \n",
       "genre_mean_dow                           2.56432   \n",
       "genre_median_dow                         2.63906   \n",
       "genre_min_dow                           0.693147   \n",
       "genre_max_dow                            5.09375   \n",
       "genre_std_dow                           0.852946   \n",
       "genre_mean                               2.65222   \n",
       "genre_median                             2.70805   \n",
       "genre_min                               0.693147   \n",
       "genre_max                                5.85507   \n",
       "genre_std                               0.860469   \n",
       "time_numeric                          1.0368e+10   \n",
       "\n",
       "                                               1  \\\n",
       "air_store_id                air_ba937bf13d40fb24   \n",
       "visit_date                   2016-01-20 00:00:00   \n",
       "visitors                                 3.46574   \n",
       "month                                          1   \n",
       "day_of_week                            Wednesday   \n",
       "holiday_flg                                    0   \n",
       "store_dow_mdn                             3.2581   \n",
       "store_dow_mean                           3.13781   \n",
       "store_dow_min                            2.07944   \n",
       "store_dow_max                            4.06044   \n",
       "store_dow_std                           0.406326   \n",
       "store_dow_hol_mdn                         3.2581   \n",
       "store_dow_hol_mean                       3.15274   \n",
       "store_dow_hol_min                        2.07944   \n",
       "store_dow_hol_max                        4.06044   \n",
       "store_dow_hol_std                       0.391494   \n",
       "air_genre_name                        Dining bar   \n",
       "air_area_name       Tōkyō-to Minato-ku Shibakōen   \n",
       "latitude                                 35.6581   \n",
       "longitude                                139.752   \n",
       "store_mean                               3.01439   \n",
       "store_median                             3.13549   \n",
       "store_min                               0.693147   \n",
       "store_max                                4.12713   \n",
       "store_std                               0.616634   \n",
       "area_mean                                2.71661   \n",
       "area_median                              2.77259   \n",
       "area_min                                0.693147   \n",
       "area_max                                 5.72359   \n",
       "area_std                                0.837676   \n",
       "area_mean_dow                            2.77729   \n",
       "area_median_dow                          2.89037   \n",
       "area_min_dow                            0.693147   \n",
       "area_max_dow                             4.97673   \n",
       "area_std_dow                            0.802935   \n",
       "area_mean_hol                             2.7199   \n",
       "area_median_hol                          2.83321   \n",
       "area_min_hol                            0.693147   \n",
       "area_max_hol                             5.72359   \n",
       "area_std_hol                            0.835915   \n",
       "genre_mean_hol                           2.64869   \n",
       "genre_median_hol                         2.70805   \n",
       "genre_min_hol                           0.693147   \n",
       "genre_max_hol                            5.85507   \n",
       "genre_std_hol                           0.860133   \n",
       "genre_mean_dow                           2.56432   \n",
       "genre_median_dow                         2.63906   \n",
       "genre_min_dow                           0.693147   \n",
       "genre_max_dow                            5.09375   \n",
       "genre_std_dow                           0.852946   \n",
       "genre_mean                               2.65222   \n",
       "genre_median                             2.70805   \n",
       "genre_min                               0.693147   \n",
       "genre_max                                5.85507   \n",
       "genre_std                               0.860469   \n",
       "time_numeric                          1.6416e+10   \n",
       "\n",
       "                                               2  \\\n",
       "air_store_id                air_ba937bf13d40fb24   \n",
       "visit_date                   2016-01-27 00:00:00   \n",
       "visitors                                 3.21888   \n",
       "month                                          1   \n",
       "day_of_week                            Wednesday   \n",
       "holiday_flg                                    0   \n",
       "store_dow_mdn                             3.2581   \n",
       "store_dow_mean                           3.13781   \n",
       "store_dow_min                            2.07944   \n",
       "store_dow_max                            4.06044   \n",
       "store_dow_std                           0.406326   \n",
       "store_dow_hol_mdn                         3.2581   \n",
       "store_dow_hol_mean                       3.15274   \n",
       "store_dow_hol_min                        2.07944   \n",
       "store_dow_hol_max                        4.06044   \n",
       "store_dow_hol_std                       0.391494   \n",
       "air_genre_name                        Dining bar   \n",
       "air_area_name       Tōkyō-to Minato-ku Shibakōen   \n",
       "latitude                                 35.6581   \n",
       "longitude                                139.752   \n",
       "store_mean                               3.01439   \n",
       "store_median                             3.13549   \n",
       "store_min                               0.693147   \n",
       "store_max                                4.12713   \n",
       "store_std                               0.616634   \n",
       "area_mean                                2.71661   \n",
       "area_median                              2.77259   \n",
       "area_min                                0.693147   \n",
       "area_max                                 5.72359   \n",
       "area_std                                0.837676   \n",
       "area_mean_dow                            2.77729   \n",
       "area_median_dow                          2.89037   \n",
       "area_min_dow                            0.693147   \n",
       "area_max_dow                             4.97673   \n",
       "area_std_dow                            0.802935   \n",
       "area_mean_hol                             2.7199   \n",
       "area_median_hol                          2.83321   \n",
       "area_min_hol                            0.693147   \n",
       "area_max_hol                             5.72359   \n",
       "area_std_hol                            0.835915   \n",
       "genre_mean_hol                           2.64869   \n",
       "genre_median_hol                         2.70805   \n",
       "genre_min_hol                           0.693147   \n",
       "genre_max_hol                            5.85507   \n",
       "genre_std_hol                           0.860133   \n",
       "genre_mean_dow                           2.56432   \n",
       "genre_median_dow                         2.63906   \n",
       "genre_min_dow                           0.693147   \n",
       "genre_max_dow                            5.09375   \n",
       "genre_std_dow                           0.852946   \n",
       "genre_mean                               2.65222   \n",
       "genre_median                             2.70805   \n",
       "genre_min                               0.693147   \n",
       "genre_max                                5.85507   \n",
       "genre_std                               0.860469   \n",
       "time_numeric                          2.2464e+10   \n",
       "\n",
       "                                               3                             4  \n",
       "air_store_id                air_ba937bf13d40fb24          air_ba937bf13d40fb24  \n",
       "visit_date                   2016-02-03 00:00:00           2016-02-10 00:00:00  \n",
       "visitors                                 2.94444                       3.49651  \n",
       "month                                          2                             2  \n",
       "day_of_week                            Wednesday                     Wednesday  \n",
       "holiday_flg                                    0                             0  \n",
       "store_dow_mdn                             3.2581                        3.2581  \n",
       "store_dow_mean                           3.13781                       3.13781  \n",
       "store_dow_min                            2.07944                       2.07944  \n",
       "store_dow_max                            4.06044                       4.06044  \n",
       "store_dow_std                           0.406326                      0.406326  \n",
       "store_dow_hol_mdn                         3.2581                        3.2581  \n",
       "store_dow_hol_mean                       3.15274                       3.15274  \n",
       "store_dow_hol_min                        2.07944                       2.07944  \n",
       "store_dow_hol_max                        4.06044                       4.06044  \n",
       "store_dow_hol_std                       0.391494                      0.391494  \n",
       "air_genre_name                        Dining bar                    Dining bar  \n",
       "air_area_name       Tōkyō-to Minato-ku Shibakōen  Tōkyō-to Minato-ku Shibakōen  \n",
       "latitude                                 35.6581                       35.6581  \n",
       "longitude                                139.752                       139.752  \n",
       "store_mean                               3.01439                       3.01439  \n",
       "store_median                             3.13549                       3.13549  \n",
       "store_min                               0.693147                      0.693147  \n",
       "store_max                                4.12713                       4.12713  \n",
       "store_std                               0.616634                      0.616634  \n",
       "area_mean                                2.71661                       2.71661  \n",
       "area_median                              2.77259                       2.77259  \n",
       "area_min                                0.693147                      0.693147  \n",
       "area_max                                 5.72359                       5.72359  \n",
       "area_std                                0.837676                      0.837676  \n",
       "area_mean_dow                            2.77729                       2.77729  \n",
       "area_median_dow                          2.89037                       2.89037  \n",
       "area_min_dow                            0.693147                      0.693147  \n",
       "area_max_dow                             4.97673                       4.97673  \n",
       "area_std_dow                            0.802935                      0.802935  \n",
       "area_mean_hol                             2.7199                        2.7199  \n",
       "area_median_hol                          2.83321                       2.83321  \n",
       "area_min_hol                            0.693147                      0.693147  \n",
       "area_max_hol                             5.72359                       5.72359  \n",
       "area_std_hol                            0.835915                      0.835915  \n",
       "genre_mean_hol                           2.64869                       2.64869  \n",
       "genre_median_hol                         2.70805                       2.70805  \n",
       "genre_min_hol                           0.693147                      0.693147  \n",
       "genre_max_hol                            5.85507                       5.85507  \n",
       "genre_std_hol                           0.860133                      0.860133  \n",
       "genre_mean_dow                           2.56432                       2.56432  \n",
       "genre_median_dow                         2.63906                       2.63906  \n",
       "genre_min_dow                           0.693147                      0.693147  \n",
       "genre_max_dow                            5.09375                       5.09375  \n",
       "genre_std_dow                           0.852946                      0.852946  \n",
       "genre_mean                               2.65222                       2.65222  \n",
       "genre_median                             2.70805                       2.70805  \n",
       "genre_min                               0.693147                      0.693147  \n",
       "genre_max                                5.85507                       5.85507  \n",
       "genre_std                               0.860469                      0.860469  \n",
       "time_numeric                          2.8512e+10                     3.456e+10  "
      ]
     },
     "execution_count": 26,
     "metadata": {},
     "output_type": "execute_result"
    }
   ],
   "source": [
    "final_df= data[\"tra\"].merge(data[\"hol\"],left_on=\"visit_date\",right_on=\"calendar_date\").\\\n",
    "                    drop(\"calendar_date\",axis=1).\\\n",
    "                    merge(store_mean_dow,on=[\"air_store_id\",\"day_of_week\"]).\\\n",
    "                    merge(store_mean_dow_hol,on=[\"air_store_id\",\"day_of_week\",'holiday_flg']).\\\n",
    "                    merge(data[\"as\"],on=[\"air_store_id\"]).\\\n",
    "                    merge(store_mean_0,on=[\"air_store_id\"]) .\\\n",
    "                    merge(area_mean_0,on=[\"air_area_name\"]).\\\n",
    "                    merge(area_mean_dow,on=[\"air_area_name\",\"day_of_week\"]) .\\\n",
    "                    merge(area_mean_hol,on=[\"air_area_name\",\"holiday_flg\"]) .\\\n",
    "                    merge(genre_mean_hol,on=[\"air_genre_name\",\"holiday_flg\"]).\\\n",
    "                    merge(genre_mean_dow,on=[\"air_genre_name\",\"day_of_week\"]).\\\n",
    "                    merge(genre_mean_0,on=[\"air_genre_name\"])\n",
    "            \n",
    "final_df[\"time_numeric\"]=pd.to_numeric(final_df.visit_date-final_df.visit_date.min())/100000\n",
    "final_df.head().T\n",
    "\n"
   ]
  },
  {
   "cell_type": "markdown",
   "metadata": {},
   "source": [
    "One-hot encoding for day of week, holiday, month, genre, area"
   ]
  },
  {
   "cell_type": "code",
   "execution_count": 27,
   "metadata": {
    "scrolled": true
   },
   "outputs": [
    {
     "name": "stdout",
     "output_type": "stream",
     "text": [
      "186\n"
     ]
    }
   ],
   "source": [
    "final_df[\"month\"]=final_df[\"month\"].astype('category')\n",
    "#data[\"tra_as_hol\"].dtypes\n",
    "cols_to_enc=[\"month\",\"day_of_week\",\"air_genre_name\", 'air_area_name']\n",
    "dummies=pd.get_dummies(final_df[cols_to_enc])\n",
    "#data[\"tra_as_hol\"].join(dummies)\n",
    "enc=final_df.join(dummies)\n",
    "#enc.describe()\n",
    "enc=enc.drop(cols_to_enc,axis=1).drop([\"latitude\",\"longitude\"],axis=1)\n",
    "enc.head()\n",
    "#for c in enc.columns: print(c)\n",
    "print(len(enc.columns))\n",
    "#print(enc.columns)\n",
    "\n"
   ]
  },
  {
   "cell_type": "markdown",
   "metadata": {},
   "source": [
    "Binary encoder"
   ]
  },
  {
   "cell_type": "code",
   "execution_count": 28,
   "metadata": {},
   "outputs": [],
   "source": [
    "def f64_to_32(df):\n",
    "    float_cols=df.select_dtypes(include=[\"float64\"]).columns\n",
    "    int_cols=df.select_dtypes(include=[\"int64\"]).columns\n",
    "    for fc in float_cols:\n",
    "        print(fc)\n",
    "        df[fc]=df[fc].astype(\"float32\")\n",
    "    for ic in int_cols:\n",
    "        print(ic)\n",
    "        df[ic]=df[ic].astype(\"int32\")\n",
    " \n"
   ]
  },
  {
   "cell_type": "code",
   "execution_count": 29,
   "metadata": {},
   "outputs": [
    {
     "name": "stdout",
     "output_type": "stream",
     "text": [
      "170.70782661437988\n",
      "visitors\n",
      "store_dow_mdn\n",
      "store_dow_mean\n",
      "store_dow_min\n",
      "store_dow_max\n",
      "store_dow_std\n",
      "store_dow_hol_mdn\n",
      "store_dow_hol_mean\n",
      "store_dow_hol_min\n",
      "store_dow_hol_max\n",
      "store_dow_hol_std\n",
      "latitude\n",
      "longitude\n",
      "store_mean\n",
      "store_median\n",
      "store_min\n",
      "store_max\n",
      "store_std\n",
      "area_mean\n",
      "area_median\n",
      "area_min\n",
      "area_max\n",
      "area_std\n",
      "area_mean_dow\n",
      "area_median_dow\n",
      "area_min_dow\n",
      "area_max_dow\n",
      "area_std_dow\n",
      "area_mean_hol\n",
      "area_median_hol\n",
      "area_min_hol\n",
      "area_max_hol\n",
      "area_std_hol\n",
      "genre_mean_hol\n",
      "genre_median_hol\n",
      "genre_min_hol\n",
      "genre_max_hol\n",
      "genre_std_hol\n",
      "genre_mean_dow\n",
      "genre_median_dow\n",
      "genre_min_dow\n",
      "genre_max_dow\n",
      "genre_std_dow\n",
      "genre_mean\n",
      "genre_median\n",
      "genre_min\n",
      "genre_max\n",
      "genre_std\n",
      "time_numeric\n",
      "month_0\n",
      "month_1\n",
      "month_2\n",
      "month_3\n",
      "day_of_week_0\n",
      "day_of_week_1\n",
      "day_of_week_2\n",
      "air_genre_name_0\n",
      "air_genre_name_1\n",
      "air_genre_name_2\n",
      "air_genre_name_3\n",
      "air_area_name_0\n",
      "air_area_name_1\n",
      "air_area_name_2\n",
      "air_area_name_3\n",
      "air_area_name_4\n",
      "air_area_name_5\n",
      "air_area_name_6\n",
      "98.08930778503418\n"
     ]
    }
   ],
   "source": [
    "import category_encoders as ce\n",
    "encoder = ce.BinaryEncoder(cols=cols_to_enc)\n",
    "enc2=encoder.fit_transform(final_df)\n",
    "\n",
    "print(sys.getsizeof(enc2)/1024/1024)\n",
    "f64_to_32(enc2)\n",
    "print(sys.getsizeof(enc2)/1024/1024)"
   ]
  },
  {
   "cell_type": "markdown",
   "metadata": {},
   "source": [
    "Divide train-test before-after"
   ]
  },
  {
   "cell_type": "code",
   "execution_count": 30,
   "metadata": {},
   "outputs": [
    {
     "name": "stderr",
     "output_type": "stream",
     "text": [
      "/home/baruselli/anaconda3/lib/python3.5/site-packages/ipykernel/__main__.py:4: UserWarning: Boolean Series key will be reindexed to match DataFrame index.\n",
      "/home/baruselli/anaconda3/lib/python3.5/site-packages/ipykernel/__main__.py:5: UserWarning: Boolean Series key will be reindexed to match DataFrame index.\n"
     ]
    }
   ],
   "source": [
    "cut_date='2017-3-1'\n",
    "\n",
    "def train_test_eval(df,cut_date):\n",
    "    df_train=df[df.visitors.notnull()][df[\"visit_date\"]<cut_date]        #train\n",
    "    df_test= df[df.visitors.notnull()][df[\"visit_date\"]>= cut_date]      #test (I have data to check)\n",
    "    df_eval= df[df.visitors.isnull()]                                   #eval (for submission only, no data to check)\n",
    "    return(df_train,df_test,df_eval)\n",
    "    \n",
    "df_train,df_test,df_eval=train_test_eval(enc,cut_date)"
   ]
  },
  {
   "cell_type": "code",
   "execution_count": 31,
   "metadata": {},
   "outputs": [
    {
     "data": {
      "text/plain": [
       "<matplotlib.axes._subplots.AxesSubplot at 0x7f9f7aff3fd0>"
      ]
     },
     "execution_count": 31,
     "metadata": {},
     "output_type": "execute_result"
    },
    {
     "data": {
      "image/png": "[encoded data removed]",
      "text/plain": [
       "<matplotlib.figure.Figure at 0x7f9fc00dccf8>"
      ]
     },
     "metadata": {},
     "output_type": "display_data"
    }
   ],
   "source": [
    "%matplotlib inline\n",
    "df_train.groupby(\"visit_date\")[\"visitors\"].mean().plot()\n",
    "df_test.groupby(\"visit_date\")[\"visitors\"].mean().plot()"
   ]
  },
  {
   "cell_type": "code",
   "execution_count": 32,
   "metadata": {},
   "outputs": [
    {
     "name": "stdout",
     "output_type": "stream",
     "text": [
      "103 108 108\n",
      "108 108\n"
     ]
    }
   ],
   "source": [
    "print(\n",
    "len(final_df[\"air_area_name\"].unique()),\n",
    "len(final_df[\"longitude\"].unique()),\n",
    "len(final_df[\"latitude\"].unique()),\n",
    ")\n",
    "print(\n",
    "len(final_df.groupby(['latitude', 'longitude']).size()),\n",
    "len(final_df.groupby([\"air_area_name\",'latitude', 'longitude']).size())\n",
    ")"
   ]
  },
  {
   "cell_type": "markdown",
   "metadata": {},
   "source": [
    "For each store I use mean, min, max, std, area, genre, day and holiday as predictors"
   ]
  },
  {
   "cell_type": "code",
   "execution_count": 33,
   "metadata": {},
   "outputs": [
    {
     "data": {
      "text/html": [
       "<div>\n",
       "<style scoped>\n",
       "    .dataframe tbody tr th:only-of-type {\n",
       "        vertical-align: middle;\n",
       "    }\n",
       "\n",
       "    .dataframe tbody tr th {\n",
       "        vertical-align: top;\n",
       "    }\n",
       "\n",
       "    .dataframe thead th {\n",
       "        text-align: right;\n",
       "    }\n",
       "</style>\n",
       "<table border=\"1\" class=\"dataframe\">\n",
       "  <thead>\n",
       "    <tr style=\"text-align: right;\">\n",
       "      <th></th>\n",
       "      <th>air_store_id</th>\n",
       "      <th>visit_date</th>\n",
       "      <th>visitors</th>\n",
       "      <th>holiday_flg</th>\n",
       "      <th>store_dow_mdn</th>\n",
       "      <th>store_dow_mean</th>\n",
       "      <th>store_dow_min</th>\n",
       "      <th>store_dow_max</th>\n",
       "      <th>store_dow_std</th>\n",
       "      <th>store_dow_hol_mdn</th>\n",
       "      <th>...</th>\n",
       "      <th>air_area_name_Ōsaka-fu Sakai-shi Minamikawaramachi</th>\n",
       "      <th>air_area_name_Ōsaka-fu Suita-shi Izumichō</th>\n",
       "      <th>air_area_name_Ōsaka-fu Ōsaka-shi Fuminosato</th>\n",
       "      <th>air_area_name_Ōsaka-fu Ōsaka-shi Kyōmachibori</th>\n",
       "      <th>air_area_name_Ōsaka-fu Ōsaka-shi Kyūtarōmachi</th>\n",
       "      <th>air_area_name_Ōsaka-fu Ōsaka-shi Nakanochō</th>\n",
       "      <th>air_area_name_Ōsaka-fu Ōsaka-shi Nanbasennichimae</th>\n",
       "      <th>air_area_name_Ōsaka-fu Ōsaka-shi Shinmachi</th>\n",
       "      <th>air_area_name_Ōsaka-fu Ōsaka-shi Ōgimachi</th>\n",
       "      <th>air_area_name_Ōsaka-fu Ōsaka-shi Ōhiraki</th>\n",
       "    </tr>\n",
       "  </thead>\n",
       "  <tbody>\n",
       "    <tr>\n",
       "      <th>0</th>\n",
       "      <td>air_ba937bf13d40fb24</td>\n",
       "      <td>2016-01-13</td>\n",
       "      <td>3.258097</td>\n",
       "      <td>0</td>\n",
       "      <td>3.258097</td>\n",
       "      <td>3.137813</td>\n",
       "      <td>2.079442</td>\n",
       "      <td>4.060443</td>\n",
       "      <td>0.406326</td>\n",
       "      <td>3.258097</td>\n",
       "      <td>...</td>\n",
       "      <td>0</td>\n",
       "      <td>0</td>\n",
       "      <td>0</td>\n",
       "      <td>0</td>\n",
       "      <td>0</td>\n",
       "      <td>0</td>\n",
       "      <td>0</td>\n",
       "      <td>0</td>\n",
       "      <td>0</td>\n",
       "      <td>0</td>\n",
       "    </tr>\n",
       "    <tr>\n",
       "      <th>1</th>\n",
       "      <td>air_ba937bf13d40fb24</td>\n",
       "      <td>2016-01-20</td>\n",
       "      <td>3.465736</td>\n",
       "      <td>0</td>\n",
       "      <td>3.258097</td>\n",
       "      <td>3.137813</td>\n",
       "      <td>2.079442</td>\n",
       "      <td>4.060443</td>\n",
       "      <td>0.406326</td>\n",
       "      <td>3.258097</td>\n",
       "      <td>...</td>\n",
       "      <td>0</td>\n",
       "      <td>0</td>\n",
       "      <td>0</td>\n",
       "      <td>0</td>\n",
       "      <td>0</td>\n",
       "      <td>0</td>\n",
       "      <td>0</td>\n",
       "      <td>0</td>\n",
       "      <td>0</td>\n",
       "      <td>0</td>\n",
       "    </tr>\n",
       "    <tr>\n",
       "      <th>2</th>\n",
       "      <td>air_ba937bf13d40fb24</td>\n",
       "      <td>2016-01-27</td>\n",
       "      <td>3.218876</td>\n",
       "      <td>0</td>\n",
       "      <td>3.258097</td>\n",
       "      <td>3.137813</td>\n",
       "      <td>2.079442</td>\n",
       "      <td>4.060443</td>\n",
       "      <td>0.406326</td>\n",
       "      <td>3.258097</td>\n",
       "      <td>...</td>\n",
       "      <td>0</td>\n",
       "      <td>0</td>\n",
       "      <td>0</td>\n",
       "      <td>0</td>\n",
       "      <td>0</td>\n",
       "      <td>0</td>\n",
       "      <td>0</td>\n",
       "      <td>0</td>\n",
       "      <td>0</td>\n",
       "      <td>0</td>\n",
       "    </tr>\n",
       "    <tr>\n",
       "      <th>3</th>\n",
       "      <td>air_ba937bf13d40fb24</td>\n",
       "      <td>2016-02-03</td>\n",
       "      <td>2.944439</td>\n",
       "      <td>0</td>\n",
       "      <td>3.258097</td>\n",
       "      <td>3.137813</td>\n",
       "      <td>2.079442</td>\n",
       "      <td>4.060443</td>\n",
       "      <td>0.406326</td>\n",
       "      <td>3.258097</td>\n",
       "      <td>...</td>\n",
       "      <td>0</td>\n",
       "      <td>0</td>\n",
       "      <td>0</td>\n",
       "      <td>0</td>\n",
       "      <td>0</td>\n",
       "      <td>0</td>\n",
       "      <td>0</td>\n",
       "      <td>0</td>\n",
       "      <td>0</td>\n",
       "      <td>0</td>\n",
       "    </tr>\n",
       "    <tr>\n",
       "      <th>4</th>\n",
       "      <td>air_ba937bf13d40fb24</td>\n",
       "      <td>2016-02-10</td>\n",
       "      <td>3.496508</td>\n",
       "      <td>0</td>\n",
       "      <td>3.258097</td>\n",
       "      <td>3.137813</td>\n",
       "      <td>2.079442</td>\n",
       "      <td>4.060443</td>\n",
       "      <td>0.406326</td>\n",
       "      <td>3.258097</td>\n",
       "      <td>...</td>\n",
       "      <td>0</td>\n",
       "      <td>0</td>\n",
       "      <td>0</td>\n",
       "      <td>0</td>\n",
       "      <td>0</td>\n",
       "      <td>0</td>\n",
       "      <td>0</td>\n",
       "      <td>0</td>\n",
       "      <td>0</td>\n",
       "      <td>0</td>\n",
       "    </tr>\n",
       "  </tbody>\n",
       "</table>\n",
       "<p>5 rows × 186 columns</p>\n",
       "</div>"
      ],
      "text/plain": [
       "           air_store_id visit_date  visitors holiday_flg  store_dow_mdn  \\\n",
       "0  air_ba937bf13d40fb24 2016-01-13  3.258097           0       3.258097   \n",
       "1  air_ba937bf13d40fb24 2016-01-20  3.465736           0       3.258097   \n",
       "2  air_ba937bf13d40fb24 2016-01-27  3.218876           0       3.258097   \n",
       "3  air_ba937bf13d40fb24 2016-02-03  2.944439           0       3.258097   \n",
       "4  air_ba937bf13d40fb24 2016-02-10  3.496508           0       3.258097   \n",
       "\n",
       "   store_dow_mean  store_dow_min  store_dow_max  store_dow_std  \\\n",
       "0        3.137813       2.079442       4.060443       0.406326   \n",
       "1        3.137813       2.079442       4.060443       0.406326   \n",
       "2        3.137813       2.079442       4.060443       0.406326   \n",
       "3        3.137813       2.079442       4.060443       0.406326   \n",
       "4        3.137813       2.079442       4.060443       0.406326   \n",
       "\n",
       "   store_dow_hol_mdn                    ...                     \\\n",
       "0           3.258097                    ...                      \n",
       "1           3.258097                    ...                      \n",
       "2           3.258097                    ...                      \n",
       "3           3.258097                    ...                      \n",
       "4           3.258097                    ...                      \n",
       "\n",
       "   air_area_name_Ōsaka-fu Sakai-shi Minamikawaramachi  \\\n",
       "0                                                  0    \n",
       "1                                                  0    \n",
       "2                                                  0    \n",
       "3                                                  0    \n",
       "4                                                  0    \n",
       "\n",
       "   air_area_name_Ōsaka-fu Suita-shi Izumichō  \\\n",
       "0                                          0   \n",
       "1                                          0   \n",
       "2                                          0   \n",
       "3                                          0   \n",
       "4                                          0   \n",
       "\n",
       "   air_area_name_Ōsaka-fu Ōsaka-shi Fuminosato  \\\n",
       "0                                            0   \n",
       "1                                            0   \n",
       "2                                            0   \n",
       "3                                            0   \n",
       "4                                            0   \n",
       "\n",
       "   air_area_name_Ōsaka-fu Ōsaka-shi Kyōmachibori  \\\n",
       "0                                              0   \n",
       "1                                              0   \n",
       "2                                              0   \n",
       "3                                              0   \n",
       "4                                              0   \n",
       "\n",
       "   air_area_name_Ōsaka-fu Ōsaka-shi Kyūtarōmachi  \\\n",
       "0                                              0   \n",
       "1                                              0   \n",
       "2                                              0   \n",
       "3                                              0   \n",
       "4                                              0   \n",
       "\n",
       "   air_area_name_Ōsaka-fu Ōsaka-shi Nakanochō  \\\n",
       "0                                           0   \n",
       "1                                           0   \n",
       "2                                           0   \n",
       "3                                           0   \n",
       "4                                           0   \n",
       "\n",
       "   air_area_name_Ōsaka-fu Ōsaka-shi Nanbasennichimae  \\\n",
       "0                                                  0   \n",
       "1                                                  0   \n",
       "2                                                  0   \n",
       "3                                                  0   \n",
       "4                                                  0   \n",
       "\n",
       "   air_area_name_Ōsaka-fu Ōsaka-shi Shinmachi  \\\n",
       "0                                           0   \n",
       "1                                           0   \n",
       "2                                           0   \n",
       "3                                           0   \n",
       "4                                           0   \n",
       "\n",
       "   air_area_name_Ōsaka-fu Ōsaka-shi Ōgimachi  \\\n",
       "0                                          0   \n",
       "1                                          0   \n",
       "2                                          0   \n",
       "3                                          0   \n",
       "4                                          0   \n",
       "\n",
       "   air_area_name_Ōsaka-fu Ōsaka-shi Ōhiraki  \n",
       "0                                         0  \n",
       "1                                         0  \n",
       "2                                         0  \n",
       "3                                         0  \n",
       "4                                         0  \n",
       "\n",
       "[5 rows x 186 columns]"
      ]
     },
     "execution_count": 33,
     "metadata": {},
     "output_type": "execute_result"
    }
   ],
   "source": [
    "df_train.head()"
   ]
  },
  {
   "cell_type": "code",
   "execution_count": 34,
   "metadata": {
    "scrolled": true
   },
   "outputs": [],
   "source": [
    "def xy_train_test(df_train,df_test):\n",
    "    try:\n",
    "        X_train = df_train.drop([\"visitors\",\"visit_date\",\"air_store_id\",\"latitude\",\"longitude\"],axis=1).as_matrix()\n",
    "        X_test =  df_test.drop([\"visitors\",\"visit_date\",\"air_store_id\",\"latitude\",\"longitude\"],axis=1).as_matrix()\n",
    "    except:\n",
    "        #try:\n",
    "            X_train = df_train.drop([\"visitors\",\"visit_date\",\"air_store_id\"],axis=1).as_matrix()\n",
    "            X_test =  df_test.drop([\"visitors\",\"visit_date\",\"air_store_id\"],axis=1).as_matrix()\n",
    "        #except: \n",
    "        #            try:\n",
    "        #                X_train = df_train.drop([\"col_visitors\",\"col_visit_date\",\"col_air_store_id\",\"col_latitude\",\"col_longitude\"],axis=1).as_matrix()\n",
    "        #                X_test =  df_test.drop([\"col_visitors\",\"col_visit_date\",\"col_air_store_id\",\"col_latitude\",\"col_longitude\"],axis=1).as_matrix()\n",
    "        #            except:\n",
    "        #                X_train = df_train.drop([\"col_visitors\",\"col_visit_date\",\"col_air_store_id\"],axis=1).as_matrix()\n",
    "        #                X_test =  df_test.drop([\"col_visitors\",\"col_visit_date\",\"col_air_store_id\"],axis=1).as_matrix()\"\"\"\n",
    "    # Split the targets into training/testing sets\n",
    "    try:\n",
    "        y_train = df_train[\"visitors\"].values\n",
    "        y_test =  df_test[\"visitors\"].values\n",
    "    except:\n",
    "        y_train = df_train[\"col_visitors\"].values\n",
    "        y_test =  df_test[\"col_visitors\"].values\n",
    "        \n",
    "    #return(X_train,X_test,y_train,y_test)              \n",
    "    return(X_train.astype(\"float32\"),X_test.astype(\"float32\"),y_train.astype(\"float32\"),y_test.astype(\"float32\"))              \n",
    "\n",
    "\n",
    "def test(df_train,df_test,regr):\n",
    "    #print(df_train.columns)\n",
    "\n",
    "    (X_train,X_test,y_train,y_test) = xy_train_test(df_train,df_test)\n",
    "\n",
    "    #print(X_train.shape,y_train.shape)\n",
    "    #print(X_test.shape,y_test.shape)\n",
    "    regr.fit(X_train, y_train)\n",
    "    y_pred_train = regr.predict(X_train)\n",
    "    y_pred = regr.predict(X_test)\n",
    "    y_pred=np.maximum(0,y_pred)\n",
    "    y_pred_train=np.maximum(0,y_pred_train)\n",
    "    error=RMSE(y_test, y_pred)\n",
    "    error_train=RMSE(y_train, y_pred_train)\n",
    "    print(error,error_train)\n",
    "    return error,error_train"
   ]
  },
  {
   "cell_type": "code",
   "execution_count": 35,
   "metadata": {},
   "outputs": [],
   "source": [
    "(X_train,X_test,y_train,y_test) = xy_train_test(df_train,df_test)"
   ]
  },
  {
   "cell_type": "code",
   "execution_count": 36,
   "metadata": {
    "scrolled": false
   },
   "outputs": [
    {
     "name": "stderr",
     "output_type": "stream",
     "text": [
      "/home/baruselli/anaconda3/lib/python3.5/site-packages/ipykernel/__main__.py:4: UserWarning: Boolean Series key will be reindexed to match DataFrame index.\n",
      "/home/baruselli/anaconda3/lib/python3.5/site-packages/ipykernel/__main__.py:5: UserWarning: Boolean Series key will be reindexed to match DataFrame index.\n"
     ]
    },
    {
     "name": "stdout",
     "output_type": "stream",
     "text": [
      "0.830475024587 0.803764798545\n",
      "0.848252480639 0.806534115645\n"
     ]
    },
    {
     "data": {
      "text/plain": [
       "(0.84825248063879222, 0.80653411564464483)"
      ]
     },
     "execution_count": 36,
     "metadata": {},
     "output_type": "execute_result"
    }
   ],
   "source": [
    "df_train,df_test,df_eval=train_test_eval(enc,cut_date)\n",
    "test(df_train,df_test, linear_model.LinearRegression())\n",
    "df_train,df_test,df_eval=train_test_eval(enc2,cut_date)\n",
    "test(df_train,df_test, linear_model.LinearRegression())"
   ]
  },
  {
   "cell_type": "code",
   "execution_count": 37,
   "metadata": {},
   "outputs": [],
   "source": [
    "#encoder = ce.BinaryEncoder(cols=cols_to_enc)\n",
    "#enc2=encoder.fit_transform(data[\"tra_as_hol\"])"
   ]
  },
  {
   "cell_type": "code",
   "execution_count": 38,
   "metadata": {},
   "outputs": [
    {
     "name": "stderr",
     "output_type": "stream",
     "text": [
      "/home/baruselli/anaconda3/lib/python3.5/site-packages/ipykernel/__main__.py:4: UserWarning: Boolean Series key will be reindexed to match DataFrame index.\n",
      "/home/baruselli/anaconda3/lib/python3.5/site-packages/ipykernel/__main__.py:5: UserWarning: Boolean Series key will be reindexed to match DataFrame index.\n"
     ]
    },
    {
     "name": "stdout",
     "output_type": "stream",
     "text": [
      "0.848252480639 0.806534115645\n",
      "0.507341267336 0.502583328609\n",
      "0.507341210685 0.502583328631\n",
      "0.507340670006 0.502583330696\n",
      "0.507336918508 0.502583436487\n",
      "0.507325631791 0.502585277916\n",
      "0.507290824771 0.502637644324\n",
      "0.5074325103 0.50325767389\n"
     ]
    },
    {
     "data": {
      "text/plain": [
       "(0.50743251030008163, 0.50325767389038367)"
      ]
     },
     "execution_count": 38,
     "metadata": {},
     "output_type": "execute_result"
    }
   ],
   "source": [
    "df_train,df_test,df_eval=train_test_eval(enc2,cut_date)\n",
    "#df_train,df_test,df_eval=train_test_eval(enc,cut_date)\n",
    "\n",
    "test(df_train,df_test, linear_model.LinearRegression())\n",
    "test(df_train,df_test, linear_model.Ridge(alpha=0.001))\n",
    "test(df_train,df_test, linear_model.Ridge(alpha=0.01))\n",
    "test(df_train,df_test, linear_model.Ridge(alpha=0.1))\n",
    "test(df_train,df_test, linear_model.Ridge(alpha=1))\n",
    "test(df_train,df_test, linear_model.Ridge(alpha=10))\n",
    "test(df_train,df_test, linear_model.Ridge(alpha=100))\n",
    "test(df_train,df_test, linear_model.Ridge(alpha=1000))\n",
    "#test(df_train,df_test, linear_model.Lasso(alpha=0.01))"
   ]
  },
  {
   "cell_type": "code",
   "execution_count": 39,
   "metadata": {},
   "outputs": [
    {
     "name": "stdout",
     "output_type": "stream",
     "text": [
      "0.515215517542 0.500101157181\n",
      "0.514373017279 0.502909218965\n",
      "0.514406135583 0.506078662178\n",
      "0.514972585053 0.508703643113\n"
     ]
    },
    {
     "data": {
      "text/plain": [
       "(0.51497258505270138, 0.50870364311322946)"
      ]
     },
     "execution_count": 39,
     "metadata": {},
     "output_type": "execute_result"
    }
   ],
   "source": [
    "\n",
    "\n",
    "\n",
    "#test(df_train,df_test, svm.SVR(C=0.01))\n",
    "#test(df_train,df_test, svm.SVR(C=0.1))\n",
    "#test(df_train,df_test, svm.SVR(C=1))\n",
    "#test(df_train,df_test, svm.SVR(C=10))\n",
    "#test(df_train,df_test, svm.SVR(C=100))\n",
    "\n",
    "#test(df_train,df_test,ensemble.RandomForestRegressor(n_estimators=100,max_features=\"sqrt\",max_depth=20))\n",
    "#test(df_train,df_test,ensemble.RandomForestRegressor(n_estimators=5,max_features=\"sqrt\",max_depth=20))\n",
    "#test(df_train,df_test,ensemble.AdaBoostRegressor)\n",
    "#test(df_train,df_test,ensemble.RandomForestRegressor(n_estimators=200,max_features=\"log2\",max_depth=10))\n",
    "#test(df_train,df_test,ensemble.RandomForestRegressor(n_estimators=100,max_features=\"log2\",max_depth=16))\n",
    "#test(df_train,df_test,ensemble.RandomForestRegressor(n_estimators=100,max_features=\"log2\",max_depth=15))\n",
    "#test(df_train,df_test,ensemble.RandomForestRegressor(n_estimators=100,max_features=\"log2\",max_depth=14))\n",
    "#test(df_train,df_test,ensemble.RandomForestRegressor(n_estimators=100,max_features=\"log2\",max_depth=13))\n",
    "#test(df_train,df_test,ensemble.RandomForestRegressor(n_estimators=100,max_features=\"log2\",max_depth=12))\n",
    "#test(df_train,df_test,ensemble.RandomForestRegressor(n_estimators=100,max_features=\"log2\",max_depth=11))\n",
    "test(df_train,df_test,ensemble.RandomForestRegressor(n_estimators=100,max_features=\"log2\",max_depth=10))\n",
    "test(df_train,df_test,ensemble.RandomForestRegressor(n_estimators=100,max_features=\"log2\",max_depth=9))\n",
    "test(df_train,df_test,ensemble.RandomForestRegressor(n_estimators=100,max_features=\"log2\",max_depth=8))\n",
    "test(df_train,df_test,ensemble.RandomForestRegressor(n_estimators=100,max_features=\"log2\",max_depth=7))\n",
    "#test(df_train,df_test,ensemble.RandomForestRegressor(n_estimators=90,max_features=\"log2\",max_depth=17))\n",
    "#test(df_train,df_test,ensemble.RandomForestRegressor(n_estimators=120,max_features=\"log2\",max_depth=13))\n",
    "#test(df_train,df_test,ensemble.RandomForestRegressor(n_estimators=80,max_features=\"log2\",max_depth=18))\n",
    "#test(df_train,df_test,ensemble.RandomForestRegressor(n_estimators=150,max_features=\"log2\",max_depth=12))\n",
    "#test(df_train,df_test,ensemble.RandomForestRegressor(n_estimators=180,max_features=\"log2\",max_depth=10))\n",
    "#test(df_train,df_test,ensemble.RandomForestRegressor(n_estimators=80,max_features=\"log2\",max_depth=15))\n",
    "#test(df_train,df_test,ensemble.RandomForestRegressor(n_estimators=100,max_features=\"log2\",max_depth=15))\n",
    "#test(df_train,df_test,ensemble.RandomForestRegressor(n_estimators=100,max_features=\"log2\",max_depth=14))\n",
    "\n",
    "#test(df_train,df_test,ensemble.RandomForestRegressor(n_estimators=100,max_features=\"log2\",max_depth=14))\n",
    "#test(df_train,df_test,ensemble.RandomForestRegressor(n_estimators=100,max_features=\"log2\",max_depth=13))\n",
    "#test(df_train,df_test,ensemble.RandomForestRegressor(n_estimators=200,max_features=\"log2\",max_depth=15))\n",
    "#test(df_train,df_test,ensemble.RandomForestRegressor(n_estimators=500,max_features=\"log2\",max_depth=15))\n"
   ]
  },
  {
   "cell_type": "code",
   "execution_count": 40,
   "metadata": {},
   "outputs": [
    {
     "name": "stdout",
     "output_type": "stream",
     "text": [
      "PredefinedSplit(test_fold=array([-1, -1, ...,  0,  0]))\n",
      "214046 38062\n",
      "214046 38062\n",
      "[     0      1      2 ..., 214043 214044 214045] [214046 214047 214048 ..., 252105 252106 252107]\n"
     ]
    }
   ],
   "source": [
    "from sklearn.model_selection import PredefinedSplit\n",
    "test_fold=np.append(-np.ones(len(df_train)),np.zeros(len(df_test)))\n",
    "ps = PredefinedSplit(test_fold)\n",
    "ps.get_n_splits()\n",
    "print(ps)       \n",
    "for train_index, test_index in ps.split():\n",
    "    print(len(train_index),len(test_index))\n",
    "    print(len(df_train),len(df_test))\n",
    "    print(train_index,test_index)\n"
   ]
  },
  {
   "cell_type": "code",
   "execution_count": 41,
   "metadata": {},
   "outputs": [
    {
     "name": "stdout",
     "output_type": "stream",
     "text": [
      "Fitting 1 folds for each of 10 candidates, totalling 10 fits\n",
      "[CV] n_estimators=215, max_features=sqrt, max_depth=13 ...............\n",
      "[CV]  n_estimators=215, max_features=sqrt, max_depth=13, score=-0.267592, total= 3.0min\n",
      "[CV] n_estimators=237, max_features=log2, max_depth=13 ...............\n"
     ]
    },
    {
     "name": "stderr",
     "output_type": "stream",
     "text": [
      "[Parallel(n_jobs=1)]: Done   1 out of   1 | elapsed:  3.2min remaining:    0.0s\n"
     ]
    },
    {
     "name": "stdout",
     "output_type": "stream",
     "text": [
      "[CV]  n_estimators=237, max_features=log2, max_depth=13, score=-0.268952, total= 2.6min\n",
      "[CV] n_estimators=85, max_features=sqrt, max_depth=12 ................\n"
     ]
    },
    {
     "name": "stderr",
     "output_type": "stream",
     "text": [
      "[Parallel(n_jobs=1)]: Done   2 out of   2 | elapsed:  6.0min remaining:    0.0s\n"
     ]
    },
    {
     "name": "stdout",
     "output_type": "stream",
     "text": [
      "[CV]  n_estimators=85, max_features=sqrt, max_depth=12, score=-0.267045, total= 1.1min\n",
      "[CV] n_estimators=74, max_features=log2, max_depth=12 ................\n"
     ]
    },
    {
     "name": "stderr",
     "output_type": "stream",
     "text": [
      "[Parallel(n_jobs=1)]: Done   3 out of   3 | elapsed:  7.1min remaining:    0.0s\n"
     ]
    },
    {
     "name": "stdout",
     "output_type": "stream",
     "text": [
      "[CV]  n_estimators=74, max_features=log2, max_depth=12, score=-0.267679, total=  46.5s\n",
      "[CV] n_estimators=148, max_features=sqrt, max_depth=7 ................\n"
     ]
    },
    {
     "name": "stderr",
     "output_type": "stream",
     "text": [
      "[Parallel(n_jobs=1)]: Done   4 out of   4 | elapsed:  8.0min remaining:    0.0s\n"
     ]
    },
    {
     "name": "stdout",
     "output_type": "stream",
     "text": [
      "[CV]  n_estimators=148, max_features=sqrt, max_depth=7, score=-0.262619, total= 1.4min\n",
      "[CV] n_estimators=196, max_features=sqrt, max_depth=18 ...............\n"
     ]
    },
    {
     "name": "stderr",
     "output_type": "stream",
     "text": [
      "[Parallel(n_jobs=1)]: Done   5 out of   5 | elapsed:  9.4min remaining:    0.0s\n"
     ]
    },
    {
     "name": "stdout",
     "output_type": "stream",
     "text": [
      "[CV]  n_estimators=196, max_features=sqrt, max_depth=18, score=-0.274053, total= 3.7min\n",
      "[CV] n_estimators=221, max_features=sqrt, max_depth=5 ................\n"
     ]
    },
    {
     "name": "stderr",
     "output_type": "stream",
     "text": [
      "[Parallel(n_jobs=1)]: Done   6 out of   6 | elapsed: 13.3min remaining:    0.0s\n"
     ]
    },
    {
     "ename": "KeyboardInterrupt",
     "evalue": "",
     "output_type": "error",
     "traceback": [
      "\u001b[0;31m---------------------------------------------------------------------------\u001b[0m",
      "\u001b[0;31mKeyboardInterrupt\u001b[0m                         Traceback (most recent call last)",
      "\u001b[0;32m<ipython-input-41-0fefe76ddaca>\u001b[0m in \u001b[0;36m<module>\u001b[0;34m()\u001b[0m\n\u001b[1;32m     12\u001b[0m \u001b[0my_tot\u001b[0m\u001b[0;34m=\u001b[0m\u001b[0mnp\u001b[0m\u001b[0;34m.\u001b[0m\u001b[0mappend\u001b[0m\u001b[0;34m(\u001b[0m\u001b[0my_train\u001b[0m\u001b[0;34m,\u001b[0m\u001b[0my_test\u001b[0m\u001b[0;34m,\u001b[0m\u001b[0maxis\u001b[0m\u001b[0;34m=\u001b[0m\u001b[0;36m0\u001b[0m\u001b[0;34m)\u001b[0m\u001b[0;34m\u001b[0m\u001b[0m\n\u001b[1;32m     13\u001b[0m \u001b[0;34m\u001b[0m\u001b[0m\n\u001b[0;32m---> 14\u001b[0;31m \u001b[0mgrid\u001b[0m\u001b[0;34m.\u001b[0m\u001b[0mfit\u001b[0m\u001b[0;34m(\u001b[0m\u001b[0mX_tot\u001b[0m\u001b[0;34m,\u001b[0m\u001b[0my_tot\u001b[0m\u001b[0;34m)\u001b[0m\u001b[0;34m\u001b[0m\u001b[0m\n\u001b[0m",
      "\u001b[0;32m~/anaconda3/lib/python3.5/site-packages/sklearn/model_selection/_search.py\u001b[0m in \u001b[0;36mfit\u001b[0;34m(self, X, y, groups)\u001b[0m\n\u001b[1;32m   1188\u001b[0m                                           \u001b[0mself\u001b[0m\u001b[0;34m.\u001b[0m\u001b[0mn_iter\u001b[0m\u001b[0;34m,\u001b[0m\u001b[0;34m\u001b[0m\u001b[0m\n\u001b[1;32m   1189\u001b[0m                                           random_state=self.random_state)\n\u001b[0;32m-> 1190\u001b[0;31m         \u001b[0;32mreturn\u001b[0m \u001b[0mself\u001b[0m\u001b[0;34m.\u001b[0m\u001b[0m_fit\u001b[0m\u001b[0;34m(\u001b[0m\u001b[0mX\u001b[0m\u001b[0;34m,\u001b[0m \u001b[0my\u001b[0m\u001b[0;34m,\u001b[0m \u001b[0mgroups\u001b[0m\u001b[0;34m,\u001b[0m \u001b[0msampled_params\u001b[0m\u001b[0;34m)\u001b[0m\u001b[0;34m\u001b[0m\u001b[0m\n\u001b[0m",
      "\u001b[0;32m~/anaconda3/lib/python3.5/site-packages/sklearn/model_selection/_search.py\u001b[0m in \u001b[0;36m_fit\u001b[0;34m(self, X, y, groups, parameter_iterable)\u001b[0m\n\u001b[1;32m    562\u001b[0m                                   \u001b[0mreturn_times\u001b[0m\u001b[0;34m=\u001b[0m\u001b[0;32mTrue\u001b[0m\u001b[0;34m,\u001b[0m \u001b[0mreturn_parameters\u001b[0m\u001b[0;34m=\u001b[0m\u001b[0;32mTrue\u001b[0m\u001b[0;34m,\u001b[0m\u001b[0;34m\u001b[0m\u001b[0m\n\u001b[1;32m    563\u001b[0m                                   error_score=self.error_score)\n\u001b[0;32m--> 564\u001b[0;31m           \u001b[0;32mfor\u001b[0m \u001b[0mparameters\u001b[0m \u001b[0;32min\u001b[0m \u001b[0mparameter_iterable\u001b[0m\u001b[0;34m\u001b[0m\u001b[0m\n\u001b[0m\u001b[1;32m    565\u001b[0m           for train, test in cv_iter)\n\u001b[1;32m    566\u001b[0m \u001b[0;34m\u001b[0m\u001b[0m\n",
      "\u001b[0;32m~/anaconda3/lib/python3.5/site-packages/sklearn/externals/joblib/parallel.py\u001b[0m in \u001b[0;36m__call__\u001b[0;34m(self, iterable)\u001b[0m\n\u001b[1;32m    756\u001b[0m             \u001b[0;31m# was dispatched. In particular this covers the edge\u001b[0m\u001b[0;34m\u001b[0m\u001b[0;34m\u001b[0m\u001b[0m\n\u001b[1;32m    757\u001b[0m             \u001b[0;31m# case of Parallel used with an exhausted iterator.\u001b[0m\u001b[0;34m\u001b[0m\u001b[0;34m\u001b[0m\u001b[0m\n\u001b[0;32m--> 758\u001b[0;31m             \u001b[0;32mwhile\u001b[0m \u001b[0mself\u001b[0m\u001b[0;34m.\u001b[0m\u001b[0mdispatch_one_batch\u001b[0m\u001b[0;34m(\u001b[0m\u001b[0miterator\u001b[0m\u001b[0;34m)\u001b[0m\u001b[0;34m:\u001b[0m\u001b[0;34m\u001b[0m\u001b[0m\n\u001b[0m\u001b[1;32m    759\u001b[0m                 \u001b[0mself\u001b[0m\u001b[0;34m.\u001b[0m\u001b[0m_iterating\u001b[0m \u001b[0;34m=\u001b[0m \u001b[0;32mTrue\u001b[0m\u001b[0;34m\u001b[0m\u001b[0m\n\u001b[1;32m    760\u001b[0m             \u001b[0;32melse\u001b[0m\u001b[0;34m:\u001b[0m\u001b[0;34m\u001b[0m\u001b[0m\n",
      "\u001b[0;32m~/anaconda3/lib/python3.5/site-packages/sklearn/externals/joblib/parallel.py\u001b[0m in \u001b[0;36mdispatch_one_batch\u001b[0;34m(self, iterator)\u001b[0m\n\u001b[1;32m    606\u001b[0m                 \u001b[0;32mreturn\u001b[0m \u001b[0;32mFalse\u001b[0m\u001b[0;34m\u001b[0m\u001b[0m\n\u001b[1;32m    607\u001b[0m             \u001b[0;32melse\u001b[0m\u001b[0;34m:\u001b[0m\u001b[0;34m\u001b[0m\u001b[0m\n\u001b[0;32m--> 608\u001b[0;31m                 \u001b[0mself\u001b[0m\u001b[0;34m.\u001b[0m\u001b[0m_dispatch\u001b[0m\u001b[0;34m(\u001b[0m\u001b[0mtasks\u001b[0m\u001b[0;34m)\u001b[0m\u001b[0;34m\u001b[0m\u001b[0m\n\u001b[0m\u001b[1;32m    609\u001b[0m                 \u001b[0;32mreturn\u001b[0m \u001b[0;32mTrue\u001b[0m\u001b[0;34m\u001b[0m\u001b[0m\n\u001b[1;32m    610\u001b[0m \u001b[0;34m\u001b[0m\u001b[0m\n",
      "\u001b[0;32m~/anaconda3/lib/python3.5/site-packages/sklearn/externals/joblib/parallel.py\u001b[0m in \u001b[0;36m_dispatch\u001b[0;34m(self, batch)\u001b[0m\n\u001b[1;32m    569\u001b[0m         \u001b[0mdispatch_timestamp\u001b[0m \u001b[0;34m=\u001b[0m \u001b[0mtime\u001b[0m\u001b[0;34m.\u001b[0m\u001b[0mtime\u001b[0m\u001b[0;34m(\u001b[0m\u001b[0;34m)\u001b[0m\u001b[0;34m\u001b[0m\u001b[0m\n\u001b[1;32m    570\u001b[0m         \u001b[0mcb\u001b[0m \u001b[0;34m=\u001b[0m \u001b[0mBatchCompletionCallBack\u001b[0m\u001b[0;34m(\u001b[0m\u001b[0mdispatch_timestamp\u001b[0m\u001b[0;34m,\u001b[0m \u001b[0mlen\u001b[0m\u001b[0;34m(\u001b[0m\u001b[0mbatch\u001b[0m\u001b[0;34m)\u001b[0m\u001b[0;34m,\u001b[0m \u001b[0mself\u001b[0m\u001b[0;34m)\u001b[0m\u001b[0;34m\u001b[0m\u001b[0m\n\u001b[0;32m--> 571\u001b[0;31m         \u001b[0mjob\u001b[0m \u001b[0;34m=\u001b[0m \u001b[0mself\u001b[0m\u001b[0;34m.\u001b[0m\u001b[0m_backend\u001b[0m\u001b[0;34m.\u001b[0m\u001b[0mapply_async\u001b[0m\u001b[0;34m(\u001b[0m\u001b[0mbatch\u001b[0m\u001b[0;34m,\u001b[0m \u001b[0mcallback\u001b[0m\u001b[0;34m=\u001b[0m\u001b[0mcb\u001b[0m\u001b[0;34m)\u001b[0m\u001b[0;34m\u001b[0m\u001b[0m\n\u001b[0m\u001b[1;32m    572\u001b[0m         \u001b[0mself\u001b[0m\u001b[0;34m.\u001b[0m\u001b[0m_jobs\u001b[0m\u001b[0;34m.\u001b[0m\u001b[0mappend\u001b[0m\u001b[0;34m(\u001b[0m\u001b[0mjob\u001b[0m\u001b[0;34m)\u001b[0m\u001b[0;34m\u001b[0m\u001b[0m\n\u001b[1;32m    573\u001b[0m \u001b[0;34m\u001b[0m\u001b[0m\n",
      "\u001b[0;32m~/anaconda3/lib/python3.5/site-packages/sklearn/externals/joblib/_parallel_backends.py\u001b[0m in \u001b[0;36mapply_async\u001b[0;34m(self, func, callback)\u001b[0m\n\u001b[1;32m    107\u001b[0m     \u001b[0;32mdef\u001b[0m \u001b[0mapply_async\u001b[0m\u001b[0;34m(\u001b[0m\u001b[0mself\u001b[0m\u001b[0;34m,\u001b[0m \u001b[0mfunc\u001b[0m\u001b[0;34m,\u001b[0m \u001b[0mcallback\u001b[0m\u001b[0;34m=\u001b[0m\u001b[0;32mNone\u001b[0m\u001b[0;34m)\u001b[0m\u001b[0;34m:\u001b[0m\u001b[0;34m\u001b[0m\u001b[0m\n\u001b[1;32m    108\u001b[0m         \u001b[0;34m\"\"\"Schedule a func to be run\"\"\"\u001b[0m\u001b[0;34m\u001b[0m\u001b[0m\n\u001b[0;32m--> 109\u001b[0;31m         \u001b[0mresult\u001b[0m \u001b[0;34m=\u001b[0m \u001b[0mImmediateResult\u001b[0m\u001b[0;34m(\u001b[0m\u001b[0mfunc\u001b[0m\u001b[0;34m)\u001b[0m\u001b[0;34m\u001b[0m\u001b[0m\n\u001b[0m\u001b[1;32m    110\u001b[0m         \u001b[0;32mif\u001b[0m \u001b[0mcallback\u001b[0m\u001b[0;34m:\u001b[0m\u001b[0;34m\u001b[0m\u001b[0m\n\u001b[1;32m    111\u001b[0m             \u001b[0mcallback\u001b[0m\u001b[0;34m(\u001b[0m\u001b[0mresult\u001b[0m\u001b[0;34m)\u001b[0m\u001b[0;34m\u001b[0m\u001b[0m\n",
      "\u001b[0;32m~/anaconda3/lib/python3.5/site-packages/sklearn/externals/joblib/_parallel_backends.py\u001b[0m in \u001b[0;36m__init__\u001b[0;34m(self, batch)\u001b[0m\n\u001b[1;32m    324\u001b[0m         \u001b[0;31m# Don't delay the application, to avoid keeping the input\u001b[0m\u001b[0;34m\u001b[0m\u001b[0;34m\u001b[0m\u001b[0m\n\u001b[1;32m    325\u001b[0m         \u001b[0;31m# arguments in memory\u001b[0m\u001b[0;34m\u001b[0m\u001b[0;34m\u001b[0m\u001b[0m\n\u001b[0;32m--> 326\u001b[0;31m         \u001b[0mself\u001b[0m\u001b[0;34m.\u001b[0m\u001b[0mresults\u001b[0m \u001b[0;34m=\u001b[0m \u001b[0mbatch\u001b[0m\u001b[0;34m(\u001b[0m\u001b[0;34m)\u001b[0m\u001b[0;34m\u001b[0m\u001b[0m\n\u001b[0m\u001b[1;32m    327\u001b[0m \u001b[0;34m\u001b[0m\u001b[0m\n\u001b[1;32m    328\u001b[0m     \u001b[0;32mdef\u001b[0m \u001b[0mget\u001b[0m\u001b[0;34m(\u001b[0m\u001b[0mself\u001b[0m\u001b[0;34m)\u001b[0m\u001b[0;34m:\u001b[0m\u001b[0;34m\u001b[0m\u001b[0m\n",
      "\u001b[0;32m~/anaconda3/lib/python3.5/site-packages/sklearn/externals/joblib/parallel.py\u001b[0m in \u001b[0;36m__call__\u001b[0;34m(self)\u001b[0m\n\u001b[1;32m    129\u001b[0m \u001b[0;34m\u001b[0m\u001b[0m\n\u001b[1;32m    130\u001b[0m     \u001b[0;32mdef\u001b[0m \u001b[0m__call__\u001b[0m\u001b[0;34m(\u001b[0m\u001b[0mself\u001b[0m\u001b[0;34m)\u001b[0m\u001b[0;34m:\u001b[0m\u001b[0;34m\u001b[0m\u001b[0m\n\u001b[0;32m--> 131\u001b[0;31m         \u001b[0;32mreturn\u001b[0m \u001b[0;34m[\u001b[0m\u001b[0mfunc\u001b[0m\u001b[0;34m(\u001b[0m\u001b[0;34m*\u001b[0m\u001b[0margs\u001b[0m\u001b[0;34m,\u001b[0m \u001b[0;34m**\u001b[0m\u001b[0mkwargs\u001b[0m\u001b[0;34m)\u001b[0m \u001b[0;32mfor\u001b[0m \u001b[0mfunc\u001b[0m\u001b[0;34m,\u001b[0m \u001b[0margs\u001b[0m\u001b[0;34m,\u001b[0m \u001b[0mkwargs\u001b[0m \u001b[0;32min\u001b[0m \u001b[0mself\u001b[0m\u001b[0;34m.\u001b[0m\u001b[0mitems\u001b[0m\u001b[0;34m]\u001b[0m\u001b[0;34m\u001b[0m\u001b[0m\n\u001b[0m\u001b[1;32m    132\u001b[0m \u001b[0;34m\u001b[0m\u001b[0m\n\u001b[1;32m    133\u001b[0m     \u001b[0;32mdef\u001b[0m \u001b[0m__len__\u001b[0m\u001b[0;34m(\u001b[0m\u001b[0mself\u001b[0m\u001b[0;34m)\u001b[0m\u001b[0;34m:\u001b[0m\u001b[0;34m\u001b[0m\u001b[0m\n",
      "\u001b[0;32m~/anaconda3/lib/python3.5/site-packages/sklearn/externals/joblib/parallel.py\u001b[0m in \u001b[0;36m<listcomp>\u001b[0;34m(.0)\u001b[0m\n\u001b[1;32m    129\u001b[0m \u001b[0;34m\u001b[0m\u001b[0m\n\u001b[1;32m    130\u001b[0m     \u001b[0;32mdef\u001b[0m \u001b[0m__call__\u001b[0m\u001b[0;34m(\u001b[0m\u001b[0mself\u001b[0m\u001b[0;34m)\u001b[0m\u001b[0;34m:\u001b[0m\u001b[0;34m\u001b[0m\u001b[0m\n\u001b[0;32m--> 131\u001b[0;31m         \u001b[0;32mreturn\u001b[0m \u001b[0;34m[\u001b[0m\u001b[0mfunc\u001b[0m\u001b[0;34m(\u001b[0m\u001b[0;34m*\u001b[0m\u001b[0margs\u001b[0m\u001b[0;34m,\u001b[0m \u001b[0;34m**\u001b[0m\u001b[0mkwargs\u001b[0m\u001b[0;34m)\u001b[0m \u001b[0;32mfor\u001b[0m \u001b[0mfunc\u001b[0m\u001b[0;34m,\u001b[0m \u001b[0margs\u001b[0m\u001b[0;34m,\u001b[0m \u001b[0mkwargs\u001b[0m \u001b[0;32min\u001b[0m \u001b[0mself\u001b[0m\u001b[0;34m.\u001b[0m\u001b[0mitems\u001b[0m\u001b[0;34m]\u001b[0m\u001b[0;34m\u001b[0m\u001b[0m\n\u001b[0m\u001b[1;32m    132\u001b[0m \u001b[0;34m\u001b[0m\u001b[0m\n\u001b[1;32m    133\u001b[0m     \u001b[0;32mdef\u001b[0m \u001b[0m__len__\u001b[0m\u001b[0;34m(\u001b[0m\u001b[0mself\u001b[0m\u001b[0;34m)\u001b[0m\u001b[0;34m:\u001b[0m\u001b[0;34m\u001b[0m\u001b[0m\n",
      "\u001b[0;32m~/anaconda3/lib/python3.5/site-packages/sklearn/model_selection/_validation.py\u001b[0m in \u001b[0;36m_fit_and_score\u001b[0;34m(estimator, X, y, scorer, train, test, verbose, parameters, fit_params, return_train_score, return_parameters, return_n_test_samples, return_times, error_score)\u001b[0m\n\u001b[1;32m    261\u001b[0m         \u001b[0mscore_time\u001b[0m \u001b[0;34m=\u001b[0m \u001b[0mtime\u001b[0m\u001b[0;34m.\u001b[0m\u001b[0mtime\u001b[0m\u001b[0;34m(\u001b[0m\u001b[0;34m)\u001b[0m \u001b[0;34m-\u001b[0m \u001b[0mstart_time\u001b[0m \u001b[0;34m-\u001b[0m \u001b[0mfit_time\u001b[0m\u001b[0;34m\u001b[0m\u001b[0m\n\u001b[1;32m    262\u001b[0m         \u001b[0;32mif\u001b[0m \u001b[0mreturn_train_score\u001b[0m\u001b[0;34m:\u001b[0m\u001b[0;34m\u001b[0m\u001b[0m\n\u001b[0;32m--> 263\u001b[0;31m             \u001b[0mtrain_score\u001b[0m \u001b[0;34m=\u001b[0m \u001b[0m_score\u001b[0m\u001b[0;34m(\u001b[0m\u001b[0mestimator\u001b[0m\u001b[0;34m,\u001b[0m \u001b[0mX_train\u001b[0m\u001b[0;34m,\u001b[0m \u001b[0my_train\u001b[0m\u001b[0;34m,\u001b[0m \u001b[0mscorer\u001b[0m\u001b[0;34m)\u001b[0m\u001b[0;34m\u001b[0m\u001b[0m\n\u001b[0m\u001b[1;32m    264\u001b[0m \u001b[0;34m\u001b[0m\u001b[0m\n\u001b[1;32m    265\u001b[0m     \u001b[0;32mif\u001b[0m \u001b[0mverbose\u001b[0m \u001b[0;34m>\u001b[0m \u001b[0;36m2\u001b[0m\u001b[0;34m:\u001b[0m\u001b[0;34m\u001b[0m\u001b[0m\n",
      "\u001b[0;32m~/anaconda3/lib/python3.5/site-packages/sklearn/model_selection/_validation.py\u001b[0m in \u001b[0;36m_score\u001b[0;34m(estimator, X_test, y_test, scorer)\u001b[0m\n\u001b[1;32m    286\u001b[0m         \u001b[0mscore\u001b[0m \u001b[0;34m=\u001b[0m \u001b[0mscorer\u001b[0m\u001b[0;34m(\u001b[0m\u001b[0mestimator\u001b[0m\u001b[0;34m,\u001b[0m \u001b[0mX_test\u001b[0m\u001b[0;34m)\u001b[0m\u001b[0;34m\u001b[0m\u001b[0m\n\u001b[1;32m    287\u001b[0m     \u001b[0;32melse\u001b[0m\u001b[0;34m:\u001b[0m\u001b[0;34m\u001b[0m\u001b[0m\n\u001b[0;32m--> 288\u001b[0;31m         \u001b[0mscore\u001b[0m \u001b[0;34m=\u001b[0m \u001b[0mscorer\u001b[0m\u001b[0;34m(\u001b[0m\u001b[0mestimator\u001b[0m\u001b[0;34m,\u001b[0m \u001b[0mX_test\u001b[0m\u001b[0;34m,\u001b[0m \u001b[0my_test\u001b[0m\u001b[0;34m)\u001b[0m\u001b[0;34m\u001b[0m\u001b[0m\n\u001b[0m\u001b[1;32m    289\u001b[0m     \u001b[0;32mif\u001b[0m \u001b[0mhasattr\u001b[0m\u001b[0;34m(\u001b[0m\u001b[0mscore\u001b[0m\u001b[0;34m,\u001b[0m \u001b[0;34m'item'\u001b[0m\u001b[0;34m)\u001b[0m\u001b[0;34m:\u001b[0m\u001b[0;34m\u001b[0m\u001b[0m\n\u001b[1;32m    290\u001b[0m         \u001b[0;32mtry\u001b[0m\u001b[0;34m:\u001b[0m\u001b[0;34m\u001b[0m\u001b[0m\n",
      "\u001b[0;32m~/anaconda3/lib/python3.5/site-packages/sklearn/metrics/scorer.py\u001b[0m in \u001b[0;36m__call__\u001b[0;34m(self, estimator, X, y_true, sample_weight)\u001b[0m\n\u001b[1;32m     89\u001b[0m         super(_PredictScorer, self).__call__(estimator, X, y_true,\n\u001b[1;32m     90\u001b[0m                                              sample_weight=sample_weight)\n\u001b[0;32m---> 91\u001b[0;31m         \u001b[0my_pred\u001b[0m \u001b[0;34m=\u001b[0m \u001b[0mestimator\u001b[0m\u001b[0;34m.\u001b[0m\u001b[0mpredict\u001b[0m\u001b[0;34m(\u001b[0m\u001b[0mX\u001b[0m\u001b[0;34m)\u001b[0m\u001b[0;34m\u001b[0m\u001b[0m\n\u001b[0m\u001b[1;32m     92\u001b[0m         \u001b[0;32mif\u001b[0m \u001b[0msample_weight\u001b[0m \u001b[0;32mis\u001b[0m \u001b[0;32mnot\u001b[0m \u001b[0;32mNone\u001b[0m\u001b[0;34m:\u001b[0m\u001b[0;34m\u001b[0m\u001b[0m\n\u001b[1;32m     93\u001b[0m             return self._sign * self._score_func(y_true, y_pred,\n",
      "\u001b[0;32m~/anaconda3/lib/python3.5/site-packages/sklearn/ensemble/forest.py\u001b[0m in \u001b[0;36mpredict\u001b[0;34m(self, X)\u001b[0m\n\u001b[1;32m    692\u001b[0m                              \u001b[0mbackend\u001b[0m\u001b[0;34m=\u001b[0m\u001b[0;34m\"threading\"\u001b[0m\u001b[0;34m)\u001b[0m\u001b[0;34m(\u001b[0m\u001b[0;34m\u001b[0m\u001b[0m\n\u001b[1;32m    693\u001b[0m             \u001b[0mdelayed\u001b[0m\u001b[0;34m(\u001b[0m\u001b[0mparallel_helper\u001b[0m\u001b[0;34m)\u001b[0m\u001b[0;34m(\u001b[0m\u001b[0me\u001b[0m\u001b[0;34m,\u001b[0m \u001b[0;34m'predict'\u001b[0m\u001b[0;34m,\u001b[0m \u001b[0mX\u001b[0m\u001b[0;34m,\u001b[0m \u001b[0mcheck_input\u001b[0m\u001b[0;34m=\u001b[0m\u001b[0;32mFalse\u001b[0m\u001b[0;34m)\u001b[0m\u001b[0;34m\u001b[0m\u001b[0m\n\u001b[0;32m--> 694\u001b[0;31m             for e in self.estimators_)\n\u001b[0m\u001b[1;32m    695\u001b[0m \u001b[0;34m\u001b[0m\u001b[0m\n\u001b[1;32m    696\u001b[0m         \u001b[0;31m# Reduce\u001b[0m\u001b[0;34m\u001b[0m\u001b[0;34m\u001b[0m\u001b[0m\n",
      "\u001b[0;32m~/anaconda3/lib/python3.5/site-packages/sklearn/externals/joblib/parallel.py\u001b[0m in \u001b[0;36m__call__\u001b[0;34m(self, iterable)\u001b[0m\n\u001b[1;32m    756\u001b[0m             \u001b[0;31m# was dispatched. In particular this covers the edge\u001b[0m\u001b[0;34m\u001b[0m\u001b[0;34m\u001b[0m\u001b[0m\n\u001b[1;32m    757\u001b[0m             \u001b[0;31m# case of Parallel used with an exhausted iterator.\u001b[0m\u001b[0;34m\u001b[0m\u001b[0;34m\u001b[0m\u001b[0m\n\u001b[0;32m--> 758\u001b[0;31m             \u001b[0;32mwhile\u001b[0m \u001b[0mself\u001b[0m\u001b[0;34m.\u001b[0m\u001b[0mdispatch_one_batch\u001b[0m\u001b[0;34m(\u001b[0m\u001b[0miterator\u001b[0m\u001b[0;34m)\u001b[0m\u001b[0;34m:\u001b[0m\u001b[0;34m\u001b[0m\u001b[0m\n\u001b[0m\u001b[1;32m    759\u001b[0m                 \u001b[0mself\u001b[0m\u001b[0;34m.\u001b[0m\u001b[0m_iterating\u001b[0m \u001b[0;34m=\u001b[0m \u001b[0;32mTrue\u001b[0m\u001b[0;34m\u001b[0m\u001b[0m\n\u001b[1;32m    760\u001b[0m             \u001b[0;32melse\u001b[0m\u001b[0;34m:\u001b[0m\u001b[0;34m\u001b[0m\u001b[0m\n",
      "\u001b[0;32m~/anaconda3/lib/python3.5/site-packages/sklearn/externals/joblib/parallel.py\u001b[0m in \u001b[0;36mdispatch_one_batch\u001b[0;34m(self, iterator)\u001b[0m\n\u001b[1;32m    606\u001b[0m                 \u001b[0;32mreturn\u001b[0m \u001b[0;32mFalse\u001b[0m\u001b[0;34m\u001b[0m\u001b[0m\n\u001b[1;32m    607\u001b[0m             \u001b[0;32melse\u001b[0m\u001b[0;34m:\u001b[0m\u001b[0;34m\u001b[0m\u001b[0m\n\u001b[0;32m--> 608\u001b[0;31m                 \u001b[0mself\u001b[0m\u001b[0;34m.\u001b[0m\u001b[0m_dispatch\u001b[0m\u001b[0;34m(\u001b[0m\u001b[0mtasks\u001b[0m\u001b[0;34m)\u001b[0m\u001b[0;34m\u001b[0m\u001b[0m\n\u001b[0m\u001b[1;32m    609\u001b[0m                 \u001b[0;32mreturn\u001b[0m \u001b[0;32mTrue\u001b[0m\u001b[0;34m\u001b[0m\u001b[0m\n\u001b[1;32m    610\u001b[0m \u001b[0;34m\u001b[0m\u001b[0m\n",
      "\u001b[0;32m~/anaconda3/lib/python3.5/site-packages/sklearn/externals/joblib/parallel.py\u001b[0m in \u001b[0;36m_dispatch\u001b[0;34m(self, batch)\u001b[0m\n\u001b[1;32m    569\u001b[0m         \u001b[0mdispatch_timestamp\u001b[0m \u001b[0;34m=\u001b[0m \u001b[0mtime\u001b[0m\u001b[0;34m.\u001b[0m\u001b[0mtime\u001b[0m\u001b[0;34m(\u001b[0m\u001b[0;34m)\u001b[0m\u001b[0;34m\u001b[0m\u001b[0m\n\u001b[1;32m    570\u001b[0m         \u001b[0mcb\u001b[0m \u001b[0;34m=\u001b[0m \u001b[0mBatchCompletionCallBack\u001b[0m\u001b[0;34m(\u001b[0m\u001b[0mdispatch_timestamp\u001b[0m\u001b[0;34m,\u001b[0m \u001b[0mlen\u001b[0m\u001b[0;34m(\u001b[0m\u001b[0mbatch\u001b[0m\u001b[0;34m)\u001b[0m\u001b[0;34m,\u001b[0m \u001b[0mself\u001b[0m\u001b[0;34m)\u001b[0m\u001b[0;34m\u001b[0m\u001b[0m\n\u001b[0;32m--> 571\u001b[0;31m         \u001b[0mjob\u001b[0m \u001b[0;34m=\u001b[0m \u001b[0mself\u001b[0m\u001b[0;34m.\u001b[0m\u001b[0m_backend\u001b[0m\u001b[0;34m.\u001b[0m\u001b[0mapply_async\u001b[0m\u001b[0;34m(\u001b[0m\u001b[0mbatch\u001b[0m\u001b[0;34m,\u001b[0m \u001b[0mcallback\u001b[0m\u001b[0;34m=\u001b[0m\u001b[0mcb\u001b[0m\u001b[0;34m)\u001b[0m\u001b[0;34m\u001b[0m\u001b[0m\n\u001b[0m\u001b[1;32m    572\u001b[0m         \u001b[0mself\u001b[0m\u001b[0;34m.\u001b[0m\u001b[0m_jobs\u001b[0m\u001b[0;34m.\u001b[0m\u001b[0mappend\u001b[0m\u001b[0;34m(\u001b[0m\u001b[0mjob\u001b[0m\u001b[0;34m)\u001b[0m\u001b[0;34m\u001b[0m\u001b[0m\n\u001b[1;32m    573\u001b[0m \u001b[0;34m\u001b[0m\u001b[0m\n",
      "\u001b[0;32m~/anaconda3/lib/python3.5/site-packages/sklearn/externals/joblib/_parallel_backends.py\u001b[0m in \u001b[0;36mapply_async\u001b[0;34m(self, func, callback)\u001b[0m\n\u001b[1;32m    107\u001b[0m     \u001b[0;32mdef\u001b[0m \u001b[0mapply_async\u001b[0m\u001b[0;34m(\u001b[0m\u001b[0mself\u001b[0m\u001b[0;34m,\u001b[0m \u001b[0mfunc\u001b[0m\u001b[0;34m,\u001b[0m \u001b[0mcallback\u001b[0m\u001b[0;34m=\u001b[0m\u001b[0;32mNone\u001b[0m\u001b[0;34m)\u001b[0m\u001b[0;34m:\u001b[0m\u001b[0;34m\u001b[0m\u001b[0m\n\u001b[1;32m    108\u001b[0m         \u001b[0;34m\"\"\"Schedule a func to be run\"\"\"\u001b[0m\u001b[0;34m\u001b[0m\u001b[0m\n\u001b[0;32m--> 109\u001b[0;31m         \u001b[0mresult\u001b[0m \u001b[0;34m=\u001b[0m \u001b[0mImmediateResult\u001b[0m\u001b[0;34m(\u001b[0m\u001b[0mfunc\u001b[0m\u001b[0;34m)\u001b[0m\u001b[0;34m\u001b[0m\u001b[0m\n\u001b[0m\u001b[1;32m    110\u001b[0m         \u001b[0;32mif\u001b[0m \u001b[0mcallback\u001b[0m\u001b[0;34m:\u001b[0m\u001b[0;34m\u001b[0m\u001b[0m\n\u001b[1;32m    111\u001b[0m             \u001b[0mcallback\u001b[0m\u001b[0;34m(\u001b[0m\u001b[0mresult\u001b[0m\u001b[0;34m)\u001b[0m\u001b[0;34m\u001b[0m\u001b[0m\n",
      "\u001b[0;32m~/anaconda3/lib/python3.5/site-packages/sklearn/externals/joblib/_parallel_backends.py\u001b[0m in \u001b[0;36m__init__\u001b[0;34m(self, batch)\u001b[0m\n\u001b[1;32m    324\u001b[0m         \u001b[0;31m# Don't delay the application, to avoid keeping the input\u001b[0m\u001b[0;34m\u001b[0m\u001b[0;34m\u001b[0m\u001b[0m\n\u001b[1;32m    325\u001b[0m         \u001b[0;31m# arguments in memory\u001b[0m\u001b[0;34m\u001b[0m\u001b[0;34m\u001b[0m\u001b[0m\n\u001b[0;32m--> 326\u001b[0;31m         \u001b[0mself\u001b[0m\u001b[0;34m.\u001b[0m\u001b[0mresults\u001b[0m \u001b[0;34m=\u001b[0m \u001b[0mbatch\u001b[0m\u001b[0;34m(\u001b[0m\u001b[0;34m)\u001b[0m\u001b[0;34m\u001b[0m\u001b[0m\n\u001b[0m\u001b[1;32m    327\u001b[0m \u001b[0;34m\u001b[0m\u001b[0m\n\u001b[1;32m    328\u001b[0m     \u001b[0;32mdef\u001b[0m \u001b[0mget\u001b[0m\u001b[0;34m(\u001b[0m\u001b[0mself\u001b[0m\u001b[0;34m)\u001b[0m\u001b[0;34m:\u001b[0m\u001b[0;34m\u001b[0m\u001b[0m\n",
      "\u001b[0;32m~/anaconda3/lib/python3.5/site-packages/sklearn/externals/joblib/parallel.py\u001b[0m in \u001b[0;36m__call__\u001b[0;34m(self)\u001b[0m\n\u001b[1;32m    129\u001b[0m \u001b[0;34m\u001b[0m\u001b[0m\n\u001b[1;32m    130\u001b[0m     \u001b[0;32mdef\u001b[0m \u001b[0m__call__\u001b[0m\u001b[0;34m(\u001b[0m\u001b[0mself\u001b[0m\u001b[0;34m)\u001b[0m\u001b[0;34m:\u001b[0m\u001b[0;34m\u001b[0m\u001b[0m\n\u001b[0;32m--> 131\u001b[0;31m         \u001b[0;32mreturn\u001b[0m \u001b[0;34m[\u001b[0m\u001b[0mfunc\u001b[0m\u001b[0;34m(\u001b[0m\u001b[0;34m*\u001b[0m\u001b[0margs\u001b[0m\u001b[0;34m,\u001b[0m \u001b[0;34m**\u001b[0m\u001b[0mkwargs\u001b[0m\u001b[0;34m)\u001b[0m \u001b[0;32mfor\u001b[0m \u001b[0mfunc\u001b[0m\u001b[0;34m,\u001b[0m \u001b[0margs\u001b[0m\u001b[0;34m,\u001b[0m \u001b[0mkwargs\u001b[0m \u001b[0;32min\u001b[0m \u001b[0mself\u001b[0m\u001b[0;34m.\u001b[0m\u001b[0mitems\u001b[0m\u001b[0;34m]\u001b[0m\u001b[0;34m\u001b[0m\u001b[0m\n\u001b[0m\u001b[1;32m    132\u001b[0m \u001b[0;34m\u001b[0m\u001b[0m\n\u001b[1;32m    133\u001b[0m     \u001b[0;32mdef\u001b[0m \u001b[0m__len__\u001b[0m\u001b[0;34m(\u001b[0m\u001b[0mself\u001b[0m\u001b[0;34m)\u001b[0m\u001b[0;34m:\u001b[0m\u001b[0;34m\u001b[0m\u001b[0m\n",
      "\u001b[0;32m~/anaconda3/lib/python3.5/site-packages/sklearn/externals/joblib/parallel.py\u001b[0m in \u001b[0;36m<listcomp>\u001b[0;34m(.0)\u001b[0m\n\u001b[1;32m    129\u001b[0m \u001b[0;34m\u001b[0m\u001b[0m\n\u001b[1;32m    130\u001b[0m     \u001b[0;32mdef\u001b[0m \u001b[0m__call__\u001b[0m\u001b[0;34m(\u001b[0m\u001b[0mself\u001b[0m\u001b[0;34m)\u001b[0m\u001b[0;34m:\u001b[0m\u001b[0;34m\u001b[0m\u001b[0m\n\u001b[0;32m--> 131\u001b[0;31m         \u001b[0;32mreturn\u001b[0m \u001b[0;34m[\u001b[0m\u001b[0mfunc\u001b[0m\u001b[0;34m(\u001b[0m\u001b[0;34m*\u001b[0m\u001b[0margs\u001b[0m\u001b[0;34m,\u001b[0m \u001b[0;34m**\u001b[0m\u001b[0mkwargs\u001b[0m\u001b[0;34m)\u001b[0m \u001b[0;32mfor\u001b[0m \u001b[0mfunc\u001b[0m\u001b[0;34m,\u001b[0m \u001b[0margs\u001b[0m\u001b[0;34m,\u001b[0m \u001b[0mkwargs\u001b[0m \u001b[0;32min\u001b[0m \u001b[0mself\u001b[0m\u001b[0;34m.\u001b[0m\u001b[0mitems\u001b[0m\u001b[0;34m]\u001b[0m\u001b[0;34m\u001b[0m\u001b[0m\n\u001b[0m\u001b[1;32m    132\u001b[0m \u001b[0;34m\u001b[0m\u001b[0m\n\u001b[1;32m    133\u001b[0m     \u001b[0;32mdef\u001b[0m \u001b[0m__len__\u001b[0m\u001b[0;34m(\u001b[0m\u001b[0mself\u001b[0m\u001b[0;34m)\u001b[0m\u001b[0;34m:\u001b[0m\u001b[0;34m\u001b[0m\u001b[0m\n",
      "\u001b[0;32m~/anaconda3/lib/python3.5/site-packages/sklearn/utils/fixes.py\u001b[0m in \u001b[0;36mparallel_helper\u001b[0;34m(obj, methodname, *args, **kwargs)\u001b[0m\n\u001b[1;32m    313\u001b[0m \u001b[0;32mdef\u001b[0m \u001b[0mparallel_helper\u001b[0m\u001b[0;34m(\u001b[0m\u001b[0mobj\u001b[0m\u001b[0;34m,\u001b[0m \u001b[0mmethodname\u001b[0m\u001b[0;34m,\u001b[0m \u001b[0;34m*\u001b[0m\u001b[0margs\u001b[0m\u001b[0;34m,\u001b[0m \u001b[0;34m**\u001b[0m\u001b[0mkwargs\u001b[0m\u001b[0;34m)\u001b[0m\u001b[0;34m:\u001b[0m\u001b[0;34m\u001b[0m\u001b[0m\n\u001b[1;32m    314\u001b[0m     \u001b[0;34m\"\"\"Helper to workaround Python 2 limitations of pickling instance methods\"\"\"\u001b[0m\u001b[0;34m\u001b[0m\u001b[0m\n\u001b[0;32m--> 315\u001b[0;31m     \u001b[0;32mreturn\u001b[0m \u001b[0mgetattr\u001b[0m\u001b[0;34m(\u001b[0m\u001b[0mobj\u001b[0m\u001b[0;34m,\u001b[0m \u001b[0mmethodname\u001b[0m\u001b[0;34m)\u001b[0m\u001b[0;34m(\u001b[0m\u001b[0;34m*\u001b[0m\u001b[0margs\u001b[0m\u001b[0;34m,\u001b[0m \u001b[0;34m**\u001b[0m\u001b[0mkwargs\u001b[0m\u001b[0;34m)\u001b[0m\u001b[0;34m\u001b[0m\u001b[0m\n\u001b[0m\u001b[1;32m    316\u001b[0m \u001b[0;34m\u001b[0m\u001b[0m\n\u001b[1;32m    317\u001b[0m \u001b[0;34m\u001b[0m\u001b[0m\n",
      "\u001b[0;32m~/anaconda3/lib/python3.5/site-packages/sklearn/tree/tree.py\u001b[0m in \u001b[0;36mpredict\u001b[0;34m(self, X, check_input)\u001b[0m\n\u001b[1;32m    403\u001b[0m \u001b[0;34m\u001b[0m\u001b[0m\n\u001b[1;32m    404\u001b[0m         \u001b[0mX\u001b[0m \u001b[0;34m=\u001b[0m \u001b[0mself\u001b[0m\u001b[0;34m.\u001b[0m\u001b[0m_validate_X_predict\u001b[0m\u001b[0;34m(\u001b[0m\u001b[0mX\u001b[0m\u001b[0;34m,\u001b[0m \u001b[0mcheck_input\u001b[0m\u001b[0;34m)\u001b[0m\u001b[0;34m\u001b[0m\u001b[0m\n\u001b[0;32m--> 405\u001b[0;31m         \u001b[0mproba\u001b[0m \u001b[0;34m=\u001b[0m \u001b[0mself\u001b[0m\u001b[0;34m.\u001b[0m\u001b[0mtree_\u001b[0m\u001b[0;34m.\u001b[0m\u001b[0mpredict\u001b[0m\u001b[0;34m(\u001b[0m\u001b[0mX\u001b[0m\u001b[0;34m)\u001b[0m\u001b[0;34m\u001b[0m\u001b[0m\n\u001b[0m\u001b[1;32m    406\u001b[0m         \u001b[0mn_samples\u001b[0m \u001b[0;34m=\u001b[0m \u001b[0mX\u001b[0m\u001b[0;34m.\u001b[0m\u001b[0mshape\u001b[0m\u001b[0;34m[\u001b[0m\u001b[0;36m0\u001b[0m\u001b[0;34m]\u001b[0m\u001b[0;34m\u001b[0m\u001b[0m\n\u001b[1;32m    407\u001b[0m \u001b[0;34m\u001b[0m\u001b[0m\n",
      "\u001b[0;31mKeyboardInterrupt\u001b[0m: "
     ]
    }
   ],
   "source": [
    "import scipy\n",
    "from  sklearn.model_selection import RandomizedSearchCV\n",
    "grid=RandomizedSearchCV(ensemble.RandomForestRegressor(), \n",
    "                                        param_distributions=\n",
    "                        {\"max_depth\": scipy.stats.randint(5,20), \n",
    "                         'n_estimators': scipy.stats.randint(50,250),\n",
    "                        'max_features':('log2','sqrt')},\n",
    "                                        n_iter=10,verbose=10,cv=ps,scoring=\"neg_mean_squared_error\" )\n",
    "\n",
    "(X_train,X_test,y_train,y_test) = xy_train_test(df_train,df_test)\n",
    "X_tot=np.append(X_train,X_test,axis=0)\n",
    "y_tot=np.append(y_train,y_test,axis=0)\n",
    "\n",
    "grid.fit(X_tot,y_tot)"
   ]
  },
  {
   "cell_type": "code",
   "execution_count": null,
   "metadata": {},
   "outputs": [],
   "source": [
    "grid.best_score_,np.sqrt(-grid.best_score_),grid.best_params_"
   ]
  },
  {
   "cell_type": "code",
   "execution_count": null,
   "metadata": {
    "scrolled": true
   },
   "outputs": [],
   "source": [
    "test(df_train,df_test,ensemble.GradientBoostingRegressor(loss=\"ls\", learning_rate=1, n_estimators=50,max_depth=5))\n",
    "test(df_train,df_test,ensemble.GradientBoostingRegressor(loss=\"ls\", learning_rate=1, n_estimators=100,max_depth=5))\n",
    "#test(df_train,df_test,ensemble.GradientBoostingRegressor(loss=\"ls\", learning_rate=1, n_estimators=50,max_depth=10))\n",
    "#test(df_train,df_test,ensemble.GradientBoostingRegressor(loss=\"ls\", learning_rate=1, n_estimators=100,max_depth=10))\n",
    "#test(df_train,df_test,ensemble.AdaBoostRegressor(n_estimators=100, learning_rate=0.5, loss=\"square\"))"
   ]
  },
  {
   "cell_type": "code",
   "execution_count": null,
   "metadata": {},
   "outputs": [],
   "source": [
    "from xgboost import XGBRegressor\n",
    "for rate in 0.1,:\n",
    "    print(rate)\n",
    "    test(df_train,df_test,XGBRegressor(max_depth=10, learning_rate=rate, n_estimators=50))"
   ]
  },
  {
   "cell_type": "code",
   "execution_count": null,
   "metadata": {},
   "outputs": [],
   "source": [
    "ps = PredefinedSplit(test_fold=your_test_fold)"
   ]
  },
  {
   "cell_type": "code",
   "execution_count": null,
   "metadata": {},
   "outputs": [],
   "source": [
    "def lognuniform(low=0, high=1, size=None, base=10):\n",
    "    return np.power(base, np.random.uniform(low, high, size))"
   ]
  },
  {
   "cell_type": "code",
   "execution_count": null,
   "metadata": {},
   "outputs": [],
   "source": [
    "a=lognuniform(low=-4,high=0,size=10,base=10)\n",
    "a"
   ]
  },
  {
   "cell_type": "code",
   "execution_count": null,
   "metadata": {},
   "outputs": [],
   "source": [
    "import scipy\n",
    "\n",
    "\n",
    "grid=model_selection.RandomizedSearchCV(XGBRegressor(), \n",
    "                                        param_distributions={\n",
    "                        \"max_depth\": scipy.stats.randint(2,10), \n",
    "                         'n_estimators': scipy.stats.randint(50,400),\n",
    "                         'learning_rate':lognuniform(low=-1.5,high=-0.5,base=10,size=100),\n",
    "                        }, \n",
    "                                        n_iter=100,verbose=10 ,cv=ps,scoring=\"neg_mean_squared_error\")\n",
    "\n",
    "(X_train,X_test,y_train,y_test) = xy_train_test(df_train,df_test)\n",
    "\n",
    "X_tot=np.append(X_train,X_test,axis=0)\n",
    "y_tot=np.append(y_train,y_test,axis=0)\n",
    "\n",
    "\n",
    "grid.fit(X_tot,y_tot)"
   ]
  },
  {
   "cell_type": "code",
   "execution_count": null,
   "metadata": {},
   "outputs": [],
   "source": [
    "np.sqrt(-grid.best_score_),grid.best_params_"
   ]
  },
  {
   "cell_type": "code",
   "execution_count": null,
   "metadata": {},
   "outputs": [],
   "source": [
    "test(df_train,df_test,XGBRegressor(learning_rate=0.1, n_estimators=89,max_depth=5))\n"
   ]
  },
  {
   "cell_type": "code",
   "execution_count": null,
   "metadata": {},
   "outputs": [],
   "source": []
  },
  {
   "cell_type": "markdown",
   "metadata": {},
   "source": [
    "## For submission"
   ]
  },
  {
   "cell_type": "code",
   "execution_count": null,
   "metadata": {},
   "outputs": [],
   "source": [
    "df_eval"
   ]
  },
  {
   "cell_type": "code",
   "execution_count": null,
   "metadata": {},
   "outputs": [],
   "source": [
    "def make_csv(df_train,df_test,df_eval,regr,file):\n",
    "    df_train_tot=df_train.append(df_test)\n",
    "    print(df_train_tot.columns)\n",
    "    print(df_eval.columns)\n",
    "    X_train = df_train_tot.drop([\"visitors\",\"visit_date\",\"air_store_id\",\"latitude\",\"longitude\"],axis=1).as_matrix()\n",
    "    X_test =  df_eval.drop([\"visitors\",\"visit_date\",\"air_store_id\",\"latitude\",\"longitude\"],axis=1).as_matrix()\n",
    "    # Split the targets into training/testing sets\n",
    "    y_train = df_train_tot[\"visitors\"].values\n",
    "    print(X_train.shape,y_train.shape)\n",
    "    regr.fit(X_train, y_train)\n",
    "    y_pred = regr.predict(X_test)\n",
    "    y_pred=np.maximum(0,y_pred)\n",
    "    y_pred=np.expm1(y_pred)\n",
    "    df_eval[\"visitors\"]=y_pred\n",
    "    df_eval[\"id\"]=df_eval[\"air_store_id\"].map(str)+\"_\"+df_eval[\"visit_date\"].dt.strftime('%Y-%m-%d')\n",
    "    df_sub=df_eval[[\"id\",\"visitors\"]]\n",
    "    df_sub.to_csv(file,index=False)"
   ]
  },
  {
   "cell_type": "code",
   "execution_count": null,
   "metadata": {},
   "outputs": [],
   "source": [
    "df_eval=enc[enc.visitors.isna()]  \n",
    "make_csv(df_train,df_test,df_eval,linear_model.LinearRegression(),\"linear_binary.csv\")"
   ]
  },
  {
   "cell_type": "code",
   "execution_count": null,
   "metadata": {},
   "outputs": [],
   "source": [
    "df_train,df_test,df_eval=train_test_eval(enc2,cut_date)\n",
    "make_csv(df_train,df_test,df_eval,ensemble.RandomForestRegressor(n_estimators=90,max_features=\"log2\",max_depth=18),\n",
    "         \"random_f_binary_log.csv\")"
   ]
  },
  {
   "cell_type": "code",
   "execution_count": null,
   "metadata": {},
   "outputs": [],
   "source": [
    "df_train,df_test,df_eval=train_test_eval(enc2,cut_date)\n",
    "make_csv(df_train,df_test,df_eval,XGBRegressor(learning_rate=0.12, n_estimators=300,max_depth=2),\n",
    "         \"xgb_new.csv\")"
   ]
  },
  {
   "cell_type": "code",
   "execution_count": null,
   "metadata": {},
   "outputs": [],
   "source": [
    "df_train,df_test,df_eval=train_test_eval(enc2,cut_date)\n",
    "make_csv(df_train,df_test,df_eval,ensemble.RandomForestRegressor(n_estimators=100,max_features=\"log2\",max_depth=16),\n",
    "         \"forest.csv\")\n",
    "#df_train,df_test,df_eval=train_test_eval(enc2,cut_date)\n",
    "#make_csv(df_train,df_test,df_eval,ensemble.RandomForestRegressor(n_estimators=150,max_features=\"log2\",max_depth=7),\n",
    "#         \"forest.csv\")"
   ]
  },
  {
   "cell_type": "code",
   "execution_count": null,
   "metadata": {},
   "outputs": [],
   "source": []
  },
  {
   "cell_type": "code",
   "execution_count": null,
   "metadata": {},
   "outputs": [],
   "source": []
  },
  {
   "cell_type": "code",
   "execution_count": null,
   "metadata": {},
   "outputs": [],
   "source": []
  },
  {
   "cell_type": "code",
   "execution_count": null,
   "metadata": {},
   "outputs": [],
   "source": [
    "df_test=data[\"tes\"].merge(data[\"hol\"],left_on=\"time\",right_on=\"calendar_date\").\\\n",
    "            drop(\"time\",axis=1).\\\n",
    "            merge(data[\"as\"],right_on=\"air_store_id\",left_on=\"store_id\").\\\n",
    "            drop([\"store_id\"],axis=1)"
   ]
  },
  {
   "cell_type": "code",
   "execution_count": null,
   "metadata": {},
   "outputs": [],
   "source": [
    "df_test"
   ]
  },
  {
   "cell_type": "code",
   "execution_count": null,
   "metadata": {},
   "outputs": [],
   "source": [
    "df_test[\"month\"]=df_test.calendar_date.map(lambda x: x.month)\n",
    "df_test[\"month\"]=df_test[\"month\"].astype('category')"
   ]
  },
  {
   "cell_type": "code",
   "execution_count": null,
   "metadata": {},
   "outputs": [],
   "source": [
    "#cols_to_enc=[\"holiday_flg\",\"air_genre_name\",\"air_area_name\",\"day_of_week\"]\n",
    "cols_to_enc=[\"month\",\"holiday_flg\",\"day_of_week\",\"air_genre_name\", 'air_area_name']\n",
    "dummies=pd.get_dummies(df_test[cols_to_enc])\n",
    "#data[\"tra_as_hol\"].join(dummies)\n",
    "df_test=df_test.join(dummies)\n",
    "#enc.describe()\n",
    "df_test=df_test.drop(cols_to_enc,axis=1).drop([\"air_store_id\",\"latitude\",\"longitude\"],axis=1)\n",
    "enc.head()\n",
    "for c in df_test.columns: print(c)\n",
    "print(len(df_test.columns))"
   ]
  },
  {
   "cell_type": "code",
   "execution_count": null,
   "metadata": {},
   "outputs": [],
   "source": [
    "df_train"
   ]
  },
  {
   "cell_type": "markdown",
   "metadata": {},
   "source": [
    "### reservations"
   ]
  },
  {
   "cell_type": "code",
   "execution_count": null,
   "metadata": {
    "scrolled": true
   },
   "outputs": [],
   "source": [
    "#total number of reservations per day, for a stores\n",
    "data[\"ar\"][\"visit_date\"]=data[\"ar\"][\"visit_datetime\"].map(lambda x:x.date())\n",
    "data[\"ar\"][\"visit_date\"]=pd.to_datetime(data[\"ar\"][\"visit_date\"])\n",
    "#data[\"ar\"].groupby(\"air_store_id\",\"visit_date\")[\"reserve_visitors\"].sum()\n",
    "\n",
    "#data[\"ar\"]\n",
    "data[\"ar_sum\"]=data[\"ar\"].groupby([\"air_store_id\",\"visit_date\"]) [\"reserve_visitors\"].sum().reset_index()\n",
    "data[\"ar_sum\"].head()"
   ]
  },
  {
   "cell_type": "code",
   "execution_count": null,
   "metadata": {},
   "outputs": [],
   "source": [
    "#this contains only days with reservations\n",
    "data[\"tra_ar_sum\"]=data[\"ar_sum\"].merge(data[\"tra_as_hol\"],on=[\"visit_date\",\"air_store_id\"])\n",
    "data[\"tra_ar_sum\"].head()\n",
    "df_train"
   ]
  },
  {
   "cell_type": "code",
   "execution_count": null,
   "metadata": {},
   "outputs": [],
   "source": [
    "#cols_to_enc=[\"holiday_flg\",\"air_genre_name\",\"air_area_name\",\"day_of_week\"]\n",
    "cols_to_enc=[\"month\",\"holiday_flg\",\"day_of_week\",\"air_genre_name\", 'air_area_name']\n",
    "dummies=pd.get_dummies(data[\"tra_as_hol\"][cols_to_enc])\n",
    "#data[\"tra_as_hol\"].join(dummies)\n",
    "enc=data[\"tra_as_hol\"].join(dummies)\n",
    "#enc.describe()\n",
    "enc=enc.drop(cols_to_enc,axis=1).drop([\"air_store_id\",\"latitude\",\"longitude\"],axis=1)\n",
    "enc.head()\n",
    "for c in enc.columns: print(c)\n",
    "print(len(enc.columns))\n",
    "#print(enc.columns)\n",
    "df_train=enc[enc[\"visit_date\"]<cut_date]\n",
    "df_test= enc[enc[\"visit_date\"]>= cut_date]"
   ]
  },
  {
   "cell_type": "code",
   "execution_count": null,
   "metadata": {},
   "outputs": [],
   "source": [
    "from sklearn import *\n",
    "print(df_train.columns)\n",
    "X_train = df_train.drop([\"visitors\",\"visit_date\"],axis=1).as_matrix()\n",
    "X_test =  df_test.drop([\"visitors\",\"visit_date\"],axis=1).as_matrix()\n",
    "    # Split the targets into training/testing sets\n",
    "y_train = df_train[\"visitors\"].values\n",
    "y_test =  df_test[\"visitors\"].values\n",
    "print(X_train.shape,y_train.shape)\n",
    "print(X_test.shape,y_test.shape)\n",
    "regr = linear_model.LinearRegression()\n",
    "regr.fit(X_train, y_train)\n",
    "y_pred = regr.predict(X_test)\n",
    "y_pred=np.maximum(0,y_pred)\n",
    "error=RMSLE(y_test, y_pred)\n",
    "print(error)"
   ]
  },
  {
   "cell_type": "code",
   "execution_count": null,
   "metadata": {},
   "outputs": [],
   "source": [
    "df_store_test[[\"visitors\",\"visitors_predicted\"]]\n",
    "df_test[[\"visitors\",\"visitors_predicted\"]]"
   ]
  },
  {
   "cell_type": "code",
   "execution_count": null,
   "metadata": {},
   "outputs": [],
   "source": [
    "df_train.columns"
   ]
  },
  {
   "cell_type": "code",
   "execution_count": null,
   "metadata": {},
   "outputs": [],
   "source": [
    "X_train = df_train.drop([\"visitors\",\"visit_date\"],axis=1).values\n",
    "X_test =  df_test.drop([\"visitors\",\"visit_date\"],axis=1).values\n",
    "# Split the targets into training/testing sets\n",
    "y_train = df_train[\"visitors\"].values\n",
    "y_test =  df_test[\"visitors\"].values"
   ]
  },
  {
   "cell_type": "code",
   "execution_count": null,
   "metadata": {},
   "outputs": [],
   "source": [
    "y_train"
   ]
  },
  {
   "cell_type": "code",
   "execution_count": null,
   "metadata": {},
   "outputs": [],
   "source": [
    "regr = linear_model.LinearRegression()\n",
    "regr.fit(X_train, y_train)\n",
    "\n",
    "y_pred = regr.predict(X_test)"
   ]
  },
  {
   "cell_type": "markdown",
   "metadata": {},
   "source": [
    "### unique stores"
   ]
  },
  {
   "cell_type": "code",
   "execution_count": null,
   "metadata": {},
   "outputs": [],
   "source": [
    "data[\"hr\"]"
   ]
  },
  {
   "cell_type": "code",
   "execution_count": null,
   "metadata": {},
   "outputs": [],
   "source": [
    "stores_tra=set(data[\"tra\"].air_store_id.unique())\n",
    "stores_ar=set(data[\"ar\"].air_store_id.unique())\n",
    "stores_hr=set(data[\"hr\"].hpg_store_id.unique())\n",
    "stores_as=set(data[\"as\"].air_store_id.unique())\n",
    "stores_hs=set(data[\"hs\"].hpg_store_id.unique())\n",
    "stores_id_a=set(data[\"id\"].air_store_id.unique())\n",
    "stores_id_h=set(data[\"id\"].hpg_store_id.unique())\n",
    "stores_tes=set(data[\"tes\"].store_id.unique())"
   ]
  },
  {
   "cell_type": "code",
   "execution_count": null,
   "metadata": {
    "scrolled": true
   },
   "outputs": [],
   "source": [
    "stores_tes-stores_tra"
   ]
  },
  {
   "cell_type": "code",
   "execution_count": null,
   "metadata": {},
   "outputs": [],
   "source": [
    "print(\n",
    "    len(stores_tra),len(stores_ar),len(stores_as),len(stores_id_a),\"\\n\",\n",
    "                    len(stores_hr),len(stores_hs),len(stores_id_h),\"\\n\",\n",
    "    len(stores_tes))"
   ]
  },
  {
   "cell_type": "code",
   "execution_count": null,
   "metadata": {},
   "outputs": [],
   "source": [
    "X_train"
   ]
  },
  {
   "cell_type": "code",
   "execution_count": null,
   "metadata": {},
   "outputs": [],
   "source": [
    "df_train.shape,df_test.shape"
   ]
  },
  {
   "cell_type": "markdown",
   "metadata": {
    "collapsed": true
   },
   "source": [
    "### Time series"
   ]
  },
  {
   "cell_type": "code",
   "execution_count": null,
   "metadata": {},
   "outputs": [],
   "source": [
    "data[\"tra_as_hol\"]"
   ]
  },
  {
   "cell_type": "code",
   "execution_count": null,
   "metadata": {},
   "outputs": [],
   "source": [
    "stores_groups=data[\"tra_as_hol\"].groupby(\"air_store_id\")"
   ]
  },
  {
   "cell_type": "code",
   "execution_count": null,
   "metadata": {
    "scrolled": true
   },
   "outputs": [],
   "source": [
    "series_test=stores_groups.get_group(\"air_00a91d42b08b08d9\")[[\"visit_date\",\"visitors\"]]\n",
    "series_test=series_test.set_index(series_test.visit_date).drop(\"visit_date\",axis=1).dropna()\n",
    "series_test.plot()"
   ]
  },
  {
   "cell_type": "code",
   "execution_count": null,
   "metadata": {},
   "outputs": [],
   "source": [
    "from statsmodels.tsa.arima_model import ARIMA\n",
    "model = ARIMA(series_test, order=(1,1,0))\n",
    "model_fit = model.fit(disp=0)\n",
    "print(model_fit.summary())\n",
    "# plot residual errors\n",
    "residuals = pd.DataFrame(model_fit.resid)\n",
    "residuals.plot()\n",
    "residuals.plot(kind='kde')\n",
    "print(residuals.describe())"
   ]
  },
  {
   "cell_type": "code",
   "execution_count": null,
   "metadata": {},
   "outputs": [],
   "source": [
    "model_fit.fittedvalues.plot()\n",
    "series_test.plot()"
   ]
  },
  {
   "cell_type": "markdown",
   "metadata": {},
   "source": [
    "### DOW HOL average"
   ]
  },
  {
   "cell_type": "code",
   "execution_count": null,
   "metadata": {},
   "outputs": [],
   "source": [
    "df_train,df_test,df_eval=train_test_eval(data[\"tra_as_hol\"],cut_date)"
   ]
  },
  {
   "cell_type": "code",
   "execution_count": null,
   "metadata": {},
   "outputs": [],
   "source": [
    "def get_y_pred(df_train,df_test):\n",
    "    mean_store_dow_hol=df_train.groupby([\"air_store_id\",\"day_of_week\",\"holiday_flg\"]).visitors.mean().reset_index()\n",
    "    mean_store_dow=df_train.groupby([\"air_store_id\",\"day_of_week\"]).visitors.mean().reset_index()\n",
    "    mean_store_hol=df_train.groupby([\"air_store_id\",\"holiday_flg\"]).visitors.mean().reset_index()\n",
    "    mean_store=df_train.groupby([\"air_store_id\"]).visitors.mean().reset_index()\n",
    "    df_1=df_test.merge(mean_store_dow_hol,on=[\"air_store_id\",\"day_of_week\",\"holiday_flg\"],how=\"left\")\n",
    "    df_2=df_test.merge(mean_store_hol,on=[\"air_store_id\",\"holiday_flg\"],how=\"left\")\n",
    "    df_3=df_test.merge(mean_store_dow,on=[\"air_store_id\",\"day_of_week\"],how=\"left\")\n",
    "    df_4=df_test.merge(mean_store,on=[\"air_store_id\"],how=\"left\")\n",
    "    y_pred_1=df_1.visitors_y.values\n",
    "    y_pred_2=df_2.visitors_y.values\n",
    "    y_pred_3=df_3.visitors_y.values\n",
    "    y_pred_4=df_4.visitors_y.values\n",
    "    y_test=df_1.visitors_x.values\n",
    "    for i,y in enumerate(y_pred_1):\n",
    "        if np.isnan(y): \n",
    "            if not np.isnan(y_pred_2[i]): y_pred_1[i]=y_pred_2[i]\n",
    "            else:\n",
    "                if not np.isnan(y_pred_3[i]): y_pred_1[i]=y_pred_3[i]\n",
    "                else:\n",
    "                    if not np.isnan(y_pred_4[i]):y_pred_1[i]=y_pred_4[i]\n",
    "                    else:y_pred_1[i]=0\n",
    "    return (y_test,y_pred_1)\n",
    "\n",
    "\n",
    "\n",
    "\n",
    "y_test,y_pred=get_y_pred(df_train,df_test)\n",
    "y_train,y_pred_t=get_y_pred(df_train,df_train)"
   ]
  },
  {
   "cell_type": "code",
   "execution_count": null,
   "metadata": {},
   "outputs": [],
   "source": [
    "len(y_test),len(y_pred),len(y_train),len(y_pred_t)"
   ]
  },
  {
   "cell_type": "code",
   "execution_count": null,
   "metadata": {},
   "outputs": [],
   "source": [
    "RMSE(y_train,y_pred_t),RMSE(y_test,y_pred)"
   ]
  },
  {
   "cell_type": "markdown",
   "metadata": {
    "collapsed": true
   },
   "source": []
  }
 ],
 "metadata": {
  "kernelspec": {
   "display_name": "Python [default]",
   "language": "python",
   "name": "python3"
  },
  "language_info": {
   "codemirror_mode": {
    "name": "ipython",
    "version": 3
   },
   "file_extension": ".py",
   "mimetype": "text/x-python",
   "name": "python",
   "nbconvert_exporter": "python",
   "pygments_lexer": "ipython3",
   "version": "3.5.2"
  }
 },
 "nbformat": 4,
 "nbformat_minor": 2
}
