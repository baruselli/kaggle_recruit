{
 "cells": [
  {
   "cell_type": "code",
   "execution_count": 1,
   "metadata": {
    "collapsed": true
   },
   "outputs": [],
   "source": [
    "### Read files"
   ]
  },
  {
   "cell_type": "code",
   "execution_count": 2,
   "metadata": {
    "collapsed": false
   },
   "outputs": [
    {
     "name": "stderr",
     "output_type": "stream",
     "text": [
      "/scratch/baruselli/inst/intelpython35/lib/python3.5/site-packages/sklearn/cross_validation.py:41: DeprecationWarning: This module was deprecated in version 0.18 in favor of the model_selection module into which all the refactored classes and functions are moved. Also note that the interface of the new CV iterators are different from that of this module. This module will be removed in 0.20.\n",
      "  \"This module will be removed in 0.20.\", DeprecationWarning)\n",
      "/scratch/baruselli/inst/intelpython35/lib/python3.5/site-packages/sklearn/grid_search.py:42: DeprecationWarning: This module was deprecated in version 0.18 in favor of the model_selection module into which all the refactored classes and functions are moved. This module will be removed in 0.20.\n",
      "  DeprecationWarning)\n",
      "/scratch/baruselli/inst/intelpython35/lib/python3.5/site-packages/sklearn/learning_curve.py:22: DeprecationWarning: This module was deprecated in version 0.18 in favor of the model_selection module into which all the functions are moved. This module will be removed in 0.20\n",
      "  DeprecationWarning)\n"
     ]
    },
    {
     "name": "stdout",
     "output_type": "stream",
     "text": [
      "252108\n"
     ]
    }
   ],
   "source": [
    "import glob, re\n",
    "import numpy as np\n",
    "import pandas as pd\n",
    "from datetime import datetime\n",
    "from sklearn import *\n",
    "\n",
    "data = {\n",
    "    #visitors\n",
    "    'tra': pd.read_csv('./input/air_visit_data.csv',parse_dates=[\"visit_date\"]),\n",
    "    #reservations\n",
    "    'ar': pd.read_csv('./input/air_reserve.csv',parse_dates=[\"visit_datetime\",\"reserve_datetime\"]),\n",
    "    'hr': pd.read_csv('./input/hpg_reserve.csv',parse_dates=[\"visit_datetime\",\"reserve_datetime\"]),\n",
    "    #store info\n",
    "    'as': pd.read_csv('./input/air_store_info.csv'),\n",
    "    'hs': pd.read_csv('./input/hpg_store_info.csv'),\n",
    "    #air<->hpg\n",
    "    'id': pd.read_csv('./input/store_id_relation.csv'),\n",
    "    #days\n",
    "    'hol': pd.read_csv('./input/date_info.csv',parse_dates=[\"calendar_date\"]), #.rename(columns={'calendar_date':'visit_date'})\n",
    "    #\n",
    "    'tes': pd.read_csv('./input/sample_submission.csv'),\n",
    "    }\n",
    "\n",
    "data[\"tra\"][\"visitors\"]=np.log1p(data[\"tra\"][\"visitors\"])\n",
    "print(len(data[\"tra\"]))\n"
   ]
  },
  {
   "cell_type": "code",
   "execution_count": 3,
   "metadata": {
    "collapsed": true
   },
   "outputs": [],
   "source": [
    "def RMSLE(y, pred):\n",
    "    return metrics.mean_squared_error(np.log(y+1), np.log(pred+1))**0.5\n",
    "def RMSE(y, pred):\n",
    "    return metrics.mean_squared_error(y, pred)**0.5"
   ]
  },
  {
   "cell_type": "code",
   "execution_count": 4,
   "metadata": {
    "collapsed": false
   },
   "outputs": [
    {
     "name": "stdout",
     "output_type": "stream",
     "text": [
      "252108\n"
     ]
    }
   ],
   "source": [
    "\n",
    "\n",
    "print(len(data[\"tra\"]))"
   ]
  },
  {
   "cell_type": "markdown",
   "metadata": {},
   "source": [
    "### Some data categorizing to reduce space"
   ]
  },
  {
   "cell_type": "code",
   "execution_count": 5,
   "metadata": {
    "collapsed": false
   },
   "outputs": [
    {
     "name": "stdout",
     "output_type": "stream",
     "text": [
      "hol 0.039612770080566406\n",
      "tes 2.9315261840820312\n",
      "hs 1.3301172256469727\n",
      "as 0.23502159118652344\n",
      "hr 192.67313385009766\n",
      "tra 4.38869571685791\n",
      "id 0.022129058837890625\n",
      "ar 8.898050308227539\n",
      "total 210.5182867050171\n"
     ]
    }
   ],
   "source": [
    "import sys\n",
    "data[\"tra\"][\"air_store_id\"]=data[\"tra\"][\"air_store_id\"].astype('category')\n",
    "total=0\n",
    "for k,v in data.items():\n",
    "    size_k=sys.getsizeof(data[k])/1024/1024\n",
    "    total+=size_k\n",
    "    print(k,size_k)\n",
    "print(\"total\",total)"
   ]
  },
  {
   "cell_type": "code",
   "execution_count": 6,
   "metadata": {
    "collapsed": false
   },
   "outputs": [],
   "source": [
    "data[\"tra\"][\"air_store_id\"]=data[\"tra\"][\"air_store_id\"].astype('category')\n",
    "data[\"as\"][\"air_store_id\"]=data[\"as\"][\"air_store_id\"].astype('category')\n",
    "data[\"as\"][\"air_genre_name\"]=data[\"as\"][\"air_genre_name\"].astype('category')\n",
    "data[\"as\"][\"air_area_name\"]=data[\"as\"][\"air_area_name\"].astype('category')\n",
    "data[\"hs\"][\"hpg_store_id\"]=data[\"hs\"][\"hpg_store_id\"].astype('category')\n",
    "data[\"hs\"][\"hpg_genre_name\"]=data[\"hs\"][\"hpg_genre_name\"].astype('category')\n",
    "data[\"hs\"][\"hpg_area_name\"]=data[\"hs\"][\"hpg_area_name\"].astype('category')\n",
    "data[\"ar\"][\"air_store_id\"]=data[\"ar\"][\"air_store_id\"].astype('category')\n",
    "data[\"hr\"][\"hpg_store_id\"]=data[\"hr\"][\"hpg_store_id\"].astype('category')\n",
    "data[\"id\"][\"hpg_store_id\"]=data[\"id\"][\"hpg_store_id\"].astype('category')\n",
    "data[\"id\"][\"air_store_id\"]=data[\"id\"][\"air_store_id\"].astype('category')\n",
    "data[\"hol\"][\"day_of_week\"]=data[\"hol\"][\"day_of_week\"].astype('category')\n",
    "data[\"hol\"][\"holiday_flg\"]=data[\"hol\"][\"holiday_flg\"].astype('category')"
   ]
  },
  {
   "cell_type": "code",
   "execution_count": 7,
   "metadata": {
    "collapsed": false
   },
   "outputs": [
    {
     "name": "stdout",
     "output_type": "stream",
     "text": [
      "hol 0.005473136901855469\n",
      "tes 2.9315261840820312\n",
      "hs 0.45134544372558594\n",
      "as 0.09117889404296875\n",
      "hr 50.57759189605713\n",
      "tra 4.38869571685791\n",
      "id 0.022701263427734375\n",
      "ar 2.313718795776367\n",
      "total 60.78223133087158\n"
     ]
    }
   ],
   "source": [
    "total=0\n",
    "for k,v in data.items():\n",
    "    size_k=sys.getsizeof(data[k])/1024/1024\n",
    "    total+=size_k\n",
    "    print(k,size_k)\n",
    "print(\"total\",total)"
   ]
  },
  {
   "cell_type": "markdown",
   "metadata": {},
   "source": [
    "### test"
   ]
  },
  {
   "cell_type": "code",
   "execution_count": 8,
   "metadata": {
    "collapsed": false
   },
   "outputs": [
    {
     "name": "stdout",
     "output_type": "stream",
     "text": [
      "32019\n"
     ]
    }
   ],
   "source": [
    "data[\"tes\"][[\"store_id\",\"time\"]]=data[\"tes\"][\"id\"].str.split(\"_2017\",expand=True)\n",
    "data[\"tes\"][\"time\"]=\"2017\"+data[\"tes\"][\"time\"]\n",
    "from dateutil import parser\n",
    "data[\"tes\"][\"time\"] = pd.to_datetime(data[\"tes\"][\"time\"])\n",
    "#data[\"tes\"][\"kind\"]=data[\"tes\"][\"id\"].str.split(\"_\",expand=True)[0] #they are all air type\n",
    "print(len(data[\"tes\"]))"
   ]
  },
  {
   "cell_type": "code",
   "execution_count": 9,
   "metadata": {
    "collapsed": true
   },
   "outputs": [],
   "source": [
    "#print(data[\"tes\"].dtypes)\n",
    "#data[\"tes\"].head(5)"
   ]
  },
  {
   "cell_type": "markdown",
   "metadata": {},
   "source": [
    "I add the test dates/stores to the train df"
   ]
  },
  {
   "cell_type": "code",
   "execution_count": 10,
   "metadata": {
    "collapsed": true
   },
   "outputs": [],
   "source": [
    "test_dates=data[\"tes\"][\"time\"].unique()\n",
    "test_stores=data[\"tes\"][\"store_id\"].unique()\n",
    "\n",
    "days = pd.DataFrame({'visit_date':test_dates})\n",
    "stores = pd.DataFrame({'air_store_id':test_stores})\n",
    "stores['key'] = 0\n",
    "days['key'] = 0\n",
    "days_and_stores = days.merge(stores, how='left', on = 'key')\n",
    "days_and_stores.drop('key',1, inplace=True)\n",
    "days_and_stores\n",
    "\n",
    "data[\"tra_test\"]=data[\"tra\"].append(days_and_stores)"
   ]
  },
  {
   "cell_type": "code",
   "execution_count": 11,
   "metadata": {
    "collapsed": false
   },
   "outputs": [
    {
     "name": "stdout",
     "output_type": "stream",
     "text": [
      "32019\n",
      "252108\n",
      "284127\n",
      "32019\n"
     ]
    }
   ],
   "source": [
    "length_train_tot=len(data[\"tra\"])\n",
    "length_test=len(data[\"tra_test\"])-len(data[\"tra\"])\n",
    "print(len(days_and_stores))\n",
    "print(length_train_tot)\n",
    "print(len(data[\"tra_test\"]))\n",
    "print(length_test)\n",
    "#data[\"tra\"]"
   ]
  },
  {
   "cell_type": "code",
   "execution_count": 21,
   "metadata": {
    "collapsed": false
   },
   "outputs": [],
   "source": [
    "data[\"tra_test\"][\"month\"]=data[\"tra_test\"].visit_date.map(lambda x: x.month)\n",
    "data[\"tra_test\"][\"month\"]=data[\"tra_test\"][\"month\"].astype('category')\n",
    "data[\"tra_test\"][\"time_numeric\"]=pd.to_numeric(data[\"tra_test\"].visit_date-data[\"tra_test\"].visit_date.min())/1e12\n",
    "data[\"tra_test\"][\"time_numeric\"].fillna(0,inplace=True)\n",
    "data[\"tra\"]     [\"time_numeric\"]=pd.to_numeric(data[\"tra\"]     .visit_date-data[\"tra_test\"].visit_date.min())/1e12\n",
    "data[\"tra\"]     [\"time_numeric\"].fillna(0,inplace=True)\n",
    "data[\"tra_test\"][\"weights\"]=np.exp(data[\"tra_test\"][\"time_numeric\"]/data[\"tra_test\"][\"time_numeric\"].max())\n",
    "data[\"tra\"]     [\"weights\"]=np.exp(data[\"tra\"]     [\"time_numeric\"]/data[\"tra_test\"][\"time_numeric\"].max())"
   ]
  },
  {
   "cell_type": "markdown",
   "metadata": {},
   "source": [
    "### Analysis"
   ]
  },
  {
   "cell_type": "code",
   "execution_count": 22,
   "metadata": {
    "collapsed": false
   },
   "outputs": [],
   "source": [
    "cut_date='2017-3-15'\n",
    "\n",
    "def train_test_eval(df,cut_date):\n",
    "    df_train=df[df.visitors.notnull()][df[\"visit_date\"]<cut_date]        #train\n",
    "    df_test= df[df.visitors.notnull()][df[\"visit_date\"]>= cut_date]      #test (I have data to check)\n",
    "    df_eval= df[df.visitors.isnull()]                                   #eval (for submission only, no data to check)\n",
    "    for c in df_train.columns:\n",
    "        if(df_train[c].isnull().any()==True):\n",
    "            print(\"warning, null in df_train.\",c)\n",
    "            df_train[c].fillna(0,inplace=True)\n",
    "    for c in df_test.columns:\n",
    "        if(df_test[c].isnull().any()==True):\n",
    "            print(\"warning, null in df_test.\",c)\n",
    "            df_test[c].fillna(0,inplace=True)\n",
    "    for c in df_eval.columns:\n",
    "        if(df_eval[c].isnull().any()==True and c!=\"visitors\"):\n",
    "            print(\"warning, null in df_eval.\",c)\n",
    "            df_eval[c].fillna(0,inplace=True)\n",
    "\n",
    "\n",
    "    return(df_train,df_test,df_eval)"
   ]
  },
  {
   "cell_type": "markdown",
   "metadata": {},
   "source": [
    "Here I split data[\"tra\"] so that al the averages are only from the training period"
   ]
  },
  {
   "cell_type": "code",
   "execution_count": 23,
   "metadata": {
    "collapsed": false
   },
   "outputs": [
    {
     "data": {
      "text/plain": [
       "(224077, 28031, 252108)"
      ]
     },
     "execution_count": 23,
     "metadata": {},
     "output_type": "execute_result"
    }
   ],
   "source": [
    "datatra_train,datatra_test,_=train_test_eval(data[\"tra\"],cut_date)\n",
    "assert(length_train_tot==len(datatra_train)+len(datatra_test))\n",
    "len(datatra_train),len(datatra_test),len(datatra_train)+len(datatra_test)\n"
   ]
  },
  {
   "cell_type": "markdown",
   "metadata": {},
   "source": [
    "Join dataframes\n",
    "\n",
    "- train + store info"
   ]
  },
  {
   "cell_type": "code",
   "execution_count": 24,
   "metadata": {
    "collapsed": false
   },
   "outputs": [
    {
     "data": {
      "text/html": [
       "<div>\n",
       "<table border=\"1\" class=\"dataframe\">\n",
       "  <thead>\n",
       "    <tr style=\"text-align: right;\">\n",
       "      <th></th>\n",
       "      <th>air_store_id</th>\n",
       "      <th>visit_date</th>\n",
       "      <th>visitors</th>\n",
       "      <th>time_numeric</th>\n",
       "      <th>weights</th>\n",
       "      <th>air_genre_name</th>\n",
       "      <th>air_area_name</th>\n",
       "      <th>latitude</th>\n",
       "      <th>longitude</th>\n",
       "    </tr>\n",
       "  </thead>\n",
       "  <tbody>\n",
       "    <tr>\n",
       "      <th>0</th>\n",
       "      <td>air_ba937bf13d40fb24</td>\n",
       "      <td>2016-01-13</td>\n",
       "      <td>3.258097</td>\n",
       "      <td>1036.8</td>\n",
       "      <td>1.023528</td>\n",
       "      <td>Dining bar</td>\n",
       "      <td>Tōkyō-to Minato-ku Shibakōen</td>\n",
       "      <td>35.658068</td>\n",
       "      <td>139.751599</td>\n",
       "    </tr>\n",
       "    <tr>\n",
       "      <th>1</th>\n",
       "      <td>air_ba937bf13d40fb24</td>\n",
       "      <td>2016-01-14</td>\n",
       "      <td>3.496508</td>\n",
       "      <td>1123.2</td>\n",
       "      <td>1.025514</td>\n",
       "      <td>Dining bar</td>\n",
       "      <td>Tōkyō-to Minato-ku Shibakōen</td>\n",
       "      <td>35.658068</td>\n",
       "      <td>139.751599</td>\n",
       "    </tr>\n",
       "    <tr>\n",
       "      <th>2</th>\n",
       "      <td>air_ba937bf13d40fb24</td>\n",
       "      <td>2016-01-15</td>\n",
       "      <td>3.401197</td>\n",
       "      <td>1209.6</td>\n",
       "      <td>1.027503</td>\n",
       "      <td>Dining bar</td>\n",
       "      <td>Tōkyō-to Minato-ku Shibakōen</td>\n",
       "      <td>35.658068</td>\n",
       "      <td>139.751599</td>\n",
       "    </tr>\n",
       "    <tr>\n",
       "      <th>3</th>\n",
       "      <td>air_ba937bf13d40fb24</td>\n",
       "      <td>2016-01-16</td>\n",
       "      <td>3.135494</td>\n",
       "      <td>1296.0</td>\n",
       "      <td>1.029496</td>\n",
       "      <td>Dining bar</td>\n",
       "      <td>Tōkyō-to Minato-ku Shibakōen</td>\n",
       "      <td>35.658068</td>\n",
       "      <td>139.751599</td>\n",
       "    </tr>\n",
       "    <tr>\n",
       "      <th>4</th>\n",
       "      <td>air_ba937bf13d40fb24</td>\n",
       "      <td>2016-01-18</td>\n",
       "      <td>1.945910</td>\n",
       "      <td>1468.8</td>\n",
       "      <td>1.033494</td>\n",
       "      <td>Dining bar</td>\n",
       "      <td>Tōkyō-to Minato-ku Shibakōen</td>\n",
       "      <td>35.658068</td>\n",
       "      <td>139.751599</td>\n",
       "    </tr>\n",
       "  </tbody>\n",
       "</table>\n",
       "</div>"
      ],
      "text/plain": [
       "           air_store_id visit_date  visitors  time_numeric   weights  \\\n",
       "0  air_ba937bf13d40fb24 2016-01-13  3.258097        1036.8  1.023528   \n",
       "1  air_ba937bf13d40fb24 2016-01-14  3.496508        1123.2  1.025514   \n",
       "2  air_ba937bf13d40fb24 2016-01-15  3.401197        1209.6  1.027503   \n",
       "3  air_ba937bf13d40fb24 2016-01-16  3.135494        1296.0  1.029496   \n",
       "4  air_ba937bf13d40fb24 2016-01-18  1.945910        1468.8  1.033494   \n",
       "\n",
       "  air_genre_name                 air_area_name   latitude   longitude  \n",
       "0     Dining bar  Tōkyō-to Minato-ku Shibakōen  35.658068  139.751599  \n",
       "1     Dining bar  Tōkyō-to Minato-ku Shibakōen  35.658068  139.751599  \n",
       "2     Dining bar  Tōkyō-to Minato-ku Shibakōen  35.658068  139.751599  \n",
       "3     Dining bar  Tōkyō-to Minato-ku Shibakōen  35.658068  139.751599  \n",
       "4     Dining bar  Tōkyō-to Minato-ku Shibakōen  35.658068  139.751599  "
      ]
     },
     "execution_count": 24,
     "metadata": {},
     "output_type": "execute_result"
    }
   ],
   "source": [
    "data[\"tra_as\"]=datatra_train.merge(data[\"as\"],on=\"air_store_id\")\n",
    "data[\"tra_as\"].head()"
   ]
  },
  {
   "cell_type": "code",
   "execution_count": 25,
   "metadata": {
    "collapsed": false
   },
   "outputs": [
    {
     "data": {
      "text/html": [
       "<div>\n",
       "<table border=\"1\" class=\"dataframe\">\n",
       "  <thead>\n",
       "    <tr style=\"text-align: right;\">\n",
       "      <th></th>\n",
       "      <th>air_genre_name</th>\n",
       "      <th>genre_mean</th>\n",
       "      <th>genre_median</th>\n",
       "      <th>genre_min</th>\n",
       "      <th>genre_max</th>\n",
       "      <th>genre_std</th>\n",
       "      <th>genre_wht_mean</th>\n",
       "    </tr>\n",
       "  </thead>\n",
       "  <tbody>\n",
       "    <tr>\n",
       "      <th>0</th>\n",
       "      <td>Asian</td>\n",
       "      <td>3.560563</td>\n",
       "      <td>3.663562</td>\n",
       "      <td>0.693147</td>\n",
       "      <td>4.553877</td>\n",
       "      <td>0.576875</td>\n",
       "      <td>3.533687</td>\n",
       "    </tr>\n",
       "    <tr>\n",
       "      <th>1</th>\n",
       "      <td>Bar/Cocktail</td>\n",
       "      <td>2.361171</td>\n",
       "      <td>2.397895</td>\n",
       "      <td>0.693147</td>\n",
       "      <td>6.777647</td>\n",
       "      <td>0.787079</td>\n",
       "      <td>2.354324</td>\n",
       "    </tr>\n",
       "    <tr>\n",
       "      <th>2</th>\n",
       "      <td>Cafe/Sweets</td>\n",
       "      <td>2.894337</td>\n",
       "      <td>2.995732</td>\n",
       "      <td>0.693147</td>\n",
       "      <td>6.442540</td>\n",
       "      <td>0.766321</td>\n",
       "      <td>2.888424</td>\n",
       "    </tr>\n",
       "    <tr>\n",
       "      <th>3</th>\n",
       "      <td>Creative cuisine</td>\n",
       "      <td>2.911814</td>\n",
       "      <td>2.995732</td>\n",
       "      <td>0.693147</td>\n",
       "      <td>6.244167</td>\n",
       "      <td>0.788548</td>\n",
       "      <td>2.935405</td>\n",
       "    </tr>\n",
       "    <tr>\n",
       "      <th>4</th>\n",
       "      <td>Dining bar</td>\n",
       "      <td>2.654155</td>\n",
       "      <td>2.708050</td>\n",
       "      <td>0.693147</td>\n",
       "      <td>5.855072</td>\n",
       "      <td>0.856871</td>\n",
       "      <td>2.644035</td>\n",
       "    </tr>\n",
       "  </tbody>\n",
       "</table>\n",
       "</div>"
      ],
      "text/plain": [
       "     air_genre_name  genre_mean  genre_median  genre_min  genre_max  \\\n",
       "0             Asian    3.560563      3.663562   0.693147   4.553877   \n",
       "1      Bar/Cocktail    2.361171      2.397895   0.693147   6.777647   \n",
       "2       Cafe/Sweets    2.894337      2.995732   0.693147   6.442540   \n",
       "3  Creative cuisine    2.911814      2.995732   0.693147   6.244167   \n",
       "4        Dining bar    2.654155      2.708050   0.693147   5.855072   \n",
       "\n",
       "   genre_std  genre_wht_mean  \n",
       "0   0.576875        3.533687  \n",
       "1   0.787079        2.354324  \n",
       "2   0.766321        2.888424  \n",
       "3   0.788548        2.935405  \n",
       "4   0.856871        2.644035  "
      ]
     },
     "execution_count": 25,
     "metadata": {},
     "output_type": "execute_result"
    }
   ],
   "source": [
    "genre_mean_0=pd.DataFrame()\n",
    "genre_mean_0[\"genre_mean\"]=data[\"tra_as\"].groupby(\"air_genre_name\").visitors.mean()\n",
    "genre_mean_0[\"genre_median\"]=data[\"tra_as\"].groupby(\"air_genre_name\").visitors.median()\n",
    "genre_mean_0[\"genre_min\"]=data[\"tra_as\"].groupby(\"air_genre_name\").visitors.min()\n",
    "genre_mean_0[\"genre_max\"]=data[\"tra_as\"].groupby(\"air_genre_name\").visitors.max()\n",
    "genre_mean_0[\"genre_std\"]=data[\"tra_as\"].groupby(\"air_genre_name\").visitors.std()\n",
    "genre_mean_0[\"genre_wht_mean\"]=data[\"tra_as\"].groupby(\"air_genre_name\").apply(lambda x: np.average(x['visitors'], weights=x['weights']))\n",
    "#genre_mean_0[\"genre_wht_mean\"]=data[\"tra_as\"].groupby(\"air_genre_name\").apply(lambda x: np.average(x['visitors']))\n",
    "genre_mean_0.fillna(0,inplace=True)\n",
    "genre_mean_0.reset_index(inplace=True)\n",
    "genre_mean_0.head()"
   ]
  },
  {
   "cell_type": "code",
   "execution_count": 26,
   "metadata": {
    "collapsed": false
   },
   "outputs": [
    {
     "data": {
      "text/html": [
       "<div>\n",
       "<table border=\"1\" class=\"dataframe\">\n",
       "  <thead>\n",
       "    <tr style=\"text-align: right;\">\n",
       "      <th></th>\n",
       "      <th>air_area_name</th>\n",
       "      <th>area_mean</th>\n",
       "      <th>area_median</th>\n",
       "      <th>area_min</th>\n",
       "      <th>area_max</th>\n",
       "      <th>area_std</th>\n",
       "      <th>area_wht_mean</th>\n",
       "    </tr>\n",
       "  </thead>\n",
       "  <tbody>\n",
       "    <tr>\n",
       "      <th>0</th>\n",
       "      <td>Fukuoka-ken Fukuoka-shi Daimyō</td>\n",
       "      <td>2.777006</td>\n",
       "      <td>2.890372</td>\n",
       "      <td>0.693147</td>\n",
       "      <td>6.442540</td>\n",
       "      <td>0.825096</td>\n",
       "      <td>2.770174</td>\n",
       "    </tr>\n",
       "    <tr>\n",
       "      <th>1</th>\n",
       "      <td>Fukuoka-ken Fukuoka-shi Hakata Ekimae</td>\n",
       "      <td>2.844743</td>\n",
       "      <td>2.890372</td>\n",
       "      <td>0.693147</td>\n",
       "      <td>4.753590</td>\n",
       "      <td>0.751349</td>\n",
       "      <td>2.849632</td>\n",
       "    </tr>\n",
       "    <tr>\n",
       "      <th>2</th>\n",
       "      <td>Fukuoka-ken Fukuoka-shi Imaizumi</td>\n",
       "      <td>2.665175</td>\n",
       "      <td>2.772589</td>\n",
       "      <td>0.693147</td>\n",
       "      <td>4.077537</td>\n",
       "      <td>0.623981</td>\n",
       "      <td>2.670048</td>\n",
       "    </tr>\n",
       "    <tr>\n",
       "      <th>3</th>\n",
       "      <td>Fukuoka-ken Fukuoka-shi Momochi</td>\n",
       "      <td>2.665447</td>\n",
       "      <td>2.484907</td>\n",
       "      <td>0.693147</td>\n",
       "      <td>4.615121</td>\n",
       "      <td>0.905094</td>\n",
       "      <td>2.652103</td>\n",
       "    </tr>\n",
       "    <tr>\n",
       "      <th>4</th>\n",
       "      <td>Fukuoka-ken Fukuoka-shi Shiobaru</td>\n",
       "      <td>2.572548</td>\n",
       "      <td>2.639057</td>\n",
       "      <td>0.693147</td>\n",
       "      <td>5.480639</td>\n",
       "      <td>0.833645</td>\n",
       "      <td>2.561037</td>\n",
       "    </tr>\n",
       "  </tbody>\n",
       "</table>\n",
       "</div>"
      ],
      "text/plain": [
       "                           air_area_name  area_mean  area_median  area_min  \\\n",
       "0         Fukuoka-ken Fukuoka-shi Daimyō   2.777006     2.890372  0.693147   \n",
       "1  Fukuoka-ken Fukuoka-shi Hakata Ekimae   2.844743     2.890372  0.693147   \n",
       "2       Fukuoka-ken Fukuoka-shi Imaizumi   2.665175     2.772589  0.693147   \n",
       "3        Fukuoka-ken Fukuoka-shi Momochi   2.665447     2.484907  0.693147   \n",
       "4       Fukuoka-ken Fukuoka-shi Shiobaru   2.572548     2.639057  0.693147   \n",
       "\n",
       "   area_max  area_std  area_wht_mean  \n",
       "0  6.442540  0.825096       2.770174  \n",
       "1  4.753590  0.751349       2.849632  \n",
       "2  4.077537  0.623981       2.670048  \n",
       "3  4.615121  0.905094       2.652103  \n",
       "4  5.480639  0.833645       2.561037  "
      ]
     },
     "execution_count": 26,
     "metadata": {},
     "output_type": "execute_result"
    }
   ],
   "source": [
    "area_mean_0=pd.DataFrame()\n",
    "area_mean_0[\"area_mean\"]=data[\"tra_as\"].groupby(\"air_area_name\").visitors.mean()\n",
    "area_mean_0[\"area_median\"]=data[\"tra_as\"].groupby(\"air_area_name\").visitors.median()\n",
    "area_mean_0[\"area_min\"]=data[\"tra_as\"].groupby(\"air_area_name\").visitors.min()\n",
    "area_mean_0[\"area_max\"]=data[\"tra_as\"].groupby(\"air_area_name\").visitors.max()\n",
    "area_mean_0[\"area_std\"]=data[\"tra_as\"].groupby(\"air_area_name\").visitors.std()\n",
    "area_mean_0[\"area_wht_mean\"]=data[\"tra_as\"].groupby(\"air_area_name\").apply(lambda x: np.average(x['visitors'], weights=x['weights']))\n",
    "area_mean_0.fillna(0,inplace=True)\n",
    "area_mean_0.reset_index(inplace=True)\n",
    "area_mean_0.head()"
   ]
  },
  {
   "cell_type": "markdown",
   "metadata": {},
   "source": [
    "- train + day + store info"
   ]
  },
  {
   "cell_type": "code",
   "execution_count": 27,
   "metadata": {
    "collapsed": false
   },
   "outputs": [
    {
     "data": {
      "text/html": [
       "<div>\n",
       "<table border=\"1\" class=\"dataframe\">\n",
       "  <thead>\n",
       "    <tr style=\"text-align: right;\">\n",
       "      <th></th>\n",
       "      <th>air_store_id</th>\n",
       "      <th>visit_date</th>\n",
       "      <th>visitors</th>\n",
       "      <th>time_numeric</th>\n",
       "      <th>weights</th>\n",
       "      <th>air_genre_name</th>\n",
       "      <th>air_area_name</th>\n",
       "      <th>latitude</th>\n",
       "      <th>longitude</th>\n",
       "      <th>day_of_week</th>\n",
       "      <th>holiday_flg</th>\n",
       "    </tr>\n",
       "  </thead>\n",
       "  <tbody>\n",
       "    <tr>\n",
       "      <th>0</th>\n",
       "      <td>air_ba937bf13d40fb24</td>\n",
       "      <td>2016-01-13</td>\n",
       "      <td>3.258097</td>\n",
       "      <td>1036.8</td>\n",
       "      <td>1.023528</td>\n",
       "      <td>Dining bar</td>\n",
       "      <td>Tōkyō-to Minato-ku Shibakōen</td>\n",
       "      <td>35.658068</td>\n",
       "      <td>139.751599</td>\n",
       "      <td>Wednesday</td>\n",
       "      <td>0</td>\n",
       "    </tr>\n",
       "    <tr>\n",
       "      <th>1</th>\n",
       "      <td>air_25e9888d30b386df</td>\n",
       "      <td>2016-01-13</td>\n",
       "      <td>3.091042</td>\n",
       "      <td>1036.8</td>\n",
       "      <td>1.023528</td>\n",
       "      <td>Izakaya</td>\n",
       "      <td>Tōkyō-to Shinagawa-ku Higashigotanda</td>\n",
       "      <td>35.626568</td>\n",
       "      <td>139.725858</td>\n",
       "      <td>Wednesday</td>\n",
       "      <td>0</td>\n",
       "    </tr>\n",
       "    <tr>\n",
       "      <th>2</th>\n",
       "      <td>air_fd6aac1043520e83</td>\n",
       "      <td>2016-01-13</td>\n",
       "      <td>3.713572</td>\n",
       "      <td>1036.8</td>\n",
       "      <td>1.023528</td>\n",
       "      <td>Izakaya</td>\n",
       "      <td>Tōkyō-to Minato-ku Shibakōen</td>\n",
       "      <td>35.658068</td>\n",
       "      <td>139.751599</td>\n",
       "      <td>Wednesday</td>\n",
       "      <td>0</td>\n",
       "    </tr>\n",
       "    <tr>\n",
       "      <th>3</th>\n",
       "      <td>air_64d4491ad8cdb1c6</td>\n",
       "      <td>2016-01-13</td>\n",
       "      <td>1.791759</td>\n",
       "      <td>1036.8</td>\n",
       "      <td>1.023528</td>\n",
       "      <td>Dining bar</td>\n",
       "      <td>Tōkyō-to Minato-ku Shibakōen</td>\n",
       "      <td>35.658068</td>\n",
       "      <td>139.751599</td>\n",
       "      <td>Wednesday</td>\n",
       "      <td>0</td>\n",
       "    </tr>\n",
       "    <tr>\n",
       "      <th>4</th>\n",
       "      <td>air_ee3a01f0c71a769f</td>\n",
       "      <td>2016-01-13</td>\n",
       "      <td>2.944439</td>\n",
       "      <td>1036.8</td>\n",
       "      <td>1.023528</td>\n",
       "      <td>Cafe/Sweets</td>\n",
       "      <td>Shizuoka-ken Hamamatsu-shi Motoshirochō</td>\n",
       "      <td>34.710895</td>\n",
       "      <td>137.725940</td>\n",
       "      <td>Wednesday</td>\n",
       "      <td>0</td>\n",
       "    </tr>\n",
       "  </tbody>\n",
       "</table>\n",
       "</div>"
      ],
      "text/plain": [
       "           air_store_id visit_date  visitors  time_numeric   weights  \\\n",
       "0  air_ba937bf13d40fb24 2016-01-13  3.258097        1036.8  1.023528   \n",
       "1  air_25e9888d30b386df 2016-01-13  3.091042        1036.8  1.023528   \n",
       "2  air_fd6aac1043520e83 2016-01-13  3.713572        1036.8  1.023528   \n",
       "3  air_64d4491ad8cdb1c6 2016-01-13  1.791759        1036.8  1.023528   \n",
       "4  air_ee3a01f0c71a769f 2016-01-13  2.944439        1036.8  1.023528   \n",
       "\n",
       "  air_genre_name                            air_area_name   latitude  \\\n",
       "0     Dining bar             Tōkyō-to Minato-ku Shibakōen  35.658068   \n",
       "1        Izakaya     Tōkyō-to Shinagawa-ku Higashigotanda  35.626568   \n",
       "2        Izakaya             Tōkyō-to Minato-ku Shibakōen  35.658068   \n",
       "3     Dining bar             Tōkyō-to Minato-ku Shibakōen  35.658068   \n",
       "4    Cafe/Sweets  Shizuoka-ken Hamamatsu-shi Motoshirochō  34.710895   \n",
       "\n",
       "    longitude day_of_week  holiday_flg  \n",
       "0  139.751599   Wednesday            0  \n",
       "1  139.725858   Wednesday            0  \n",
       "2  139.751599   Wednesday            0  \n",
       "3  139.751599   Wednesday            0  \n",
       "4  137.725940   Wednesday            0  "
      ]
     },
     "execution_count": 27,
     "metadata": {},
     "output_type": "execute_result"
    }
   ],
   "source": [
    "data[\"tra_as_hol_0\"]=datatra_train.merge(data[\"as\"],on=\"air_store_id\").merge(data[\"hol\"],left_on=\"visit_date\",right_on=\"calendar_date\").\\\n",
    "                    drop(\"calendar_date\",axis=1)\n",
    "data[\"tra_as_hol_0\"].head()"
   ]
  },
  {
   "cell_type": "code",
   "execution_count": 28,
   "metadata": {
    "collapsed": false
   },
   "outputs": [
    {
     "data": {
      "text/html": [
       "<div>\n",
       "<table border=\"1\" class=\"dataframe\">\n",
       "  <thead>\n",
       "    <tr style=\"text-align: right;\">\n",
       "      <th></th>\n",
       "      <th>air_genre_name</th>\n",
       "      <th>day_of_week</th>\n",
       "      <th>genre_mean_dow</th>\n",
       "      <th>genre_median_dow</th>\n",
       "      <th>genre_min_dow</th>\n",
       "      <th>genre_max_dow</th>\n",
       "      <th>genre_std_dow</th>\n",
       "      <th>genre_wht_mean_dow</th>\n",
       "    </tr>\n",
       "  </thead>\n",
       "  <tbody>\n",
       "    <tr>\n",
       "      <th>0</th>\n",
       "      <td>Asian</td>\n",
       "      <td>Friday</td>\n",
       "      <td>3.635023</td>\n",
       "      <td>3.663562</td>\n",
       "      <td>2.302585</td>\n",
       "      <td>4.465908</td>\n",
       "      <td>0.414071</td>\n",
       "      <td>3.616189</td>\n",
       "    </tr>\n",
       "    <tr>\n",
       "      <th>1</th>\n",
       "      <td>Asian</td>\n",
       "      <td>Monday</td>\n",
       "      <td>3.443114</td>\n",
       "      <td>3.496508</td>\n",
       "      <td>1.791759</td>\n",
       "      <td>4.553877</td>\n",
       "      <td>0.510177</td>\n",
       "      <td>3.416930</td>\n",
       "    </tr>\n",
       "    <tr>\n",
       "      <th>2</th>\n",
       "      <td>Asian</td>\n",
       "      <td>Saturday</td>\n",
       "      <td>3.701610</td>\n",
       "      <td>3.912023</td>\n",
       "      <td>0.693147</td>\n",
       "      <td>4.330733</td>\n",
       "      <td>0.603200</td>\n",
       "      <td>3.673669</td>\n",
       "    </tr>\n",
       "    <tr>\n",
       "      <th>3</th>\n",
       "      <td>Asian</td>\n",
       "      <td>Sunday</td>\n",
       "      <td>3.747098</td>\n",
       "      <td>3.951244</td>\n",
       "      <td>2.302585</td>\n",
       "      <td>4.488636</td>\n",
       "      <td>0.593742</td>\n",
       "      <td>3.751326</td>\n",
       "    </tr>\n",
       "    <tr>\n",
       "      <th>4</th>\n",
       "      <td>Asian</td>\n",
       "      <td>Thursday</td>\n",
       "      <td>3.421834</td>\n",
       "      <td>3.610553</td>\n",
       "      <td>2.079442</td>\n",
       "      <td>4.174387</td>\n",
       "      <td>0.601997</td>\n",
       "      <td>3.376908</td>\n",
       "    </tr>\n",
       "  </tbody>\n",
       "</table>\n",
       "</div>"
      ],
      "text/plain": [
       "  air_genre_name day_of_week  genre_mean_dow  genre_median_dow  genre_min_dow  \\\n",
       "0          Asian      Friday        3.635023          3.663562       2.302585   \n",
       "1          Asian      Monday        3.443114          3.496508       1.791759   \n",
       "2          Asian    Saturday        3.701610          3.912023       0.693147   \n",
       "3          Asian      Sunday        3.747098          3.951244       2.302585   \n",
       "4          Asian    Thursday        3.421834          3.610553       2.079442   \n",
       "\n",
       "   genre_max_dow  genre_std_dow  genre_wht_mean_dow  \n",
       "0       4.465908       0.414071            3.616189  \n",
       "1       4.553877       0.510177            3.416930  \n",
       "2       4.330733       0.603200            3.673669  \n",
       "3       4.488636       0.593742            3.751326  \n",
       "4       4.174387       0.601997            3.376908  "
      ]
     },
     "execution_count": 28,
     "metadata": {},
     "output_type": "execute_result"
    }
   ],
   "source": [
    "genre_mean_dow=pd.DataFrame()\n",
    "genre_mean_dow[\"genre_mean_dow\"]=data[\"tra_as_hol_0\"].groupby([\"air_genre_name\",\"day_of_week\"]).visitors.mean()\n",
    "genre_mean_dow[\"genre_median_dow\"]=data[\"tra_as_hol_0\"].groupby([\"air_genre_name\",\"day_of_week\"]).visitors.median()\n",
    "genre_mean_dow[\"genre_min_dow\"]=data[\"tra_as_hol_0\"].groupby([\"air_genre_name\",\"day_of_week\"]).visitors.min()\n",
    "genre_mean_dow[\"genre_max_dow\"]=data[\"tra_as_hol_0\"].groupby([\"air_genre_name\",\"day_of_week\"]).visitors.max()\n",
    "genre_mean_dow[\"genre_std_dow\"]=data[\"tra_as_hol_0\"].groupby([\"air_genre_name\",\"day_of_week\"]).visitors.std()\n",
    "genre_mean_dow[\"genre_wht_mean_dow\"]=data[\"tra_as_hol_0\"].groupby([\"air_genre_name\",\"day_of_week\"]).apply(lambda x: np.average(x['visitors'], weights=x['weights']))\n",
    "genre_mean_dow.fillna(0,inplace=True)\n",
    "genre_mean_dow.reset_index(inplace=True)\n",
    "genre_mean_dow.head()"
   ]
  },
  {
   "cell_type": "code",
   "execution_count": 29,
   "metadata": {
    "collapsed": false
   },
   "outputs": [
    {
     "data": {
      "text/html": [
       "<div>\n",
       "<table border=\"1\" class=\"dataframe\">\n",
       "  <thead>\n",
       "    <tr style=\"text-align: right;\">\n",
       "      <th></th>\n",
       "      <th>air_genre_name</th>\n",
       "      <th>holiday_flg</th>\n",
       "      <th>genre_mean_hol</th>\n",
       "      <th>genre_median_hol</th>\n",
       "      <th>genre_min_hol</th>\n",
       "      <th>genre_max_hol</th>\n",
       "      <th>genre_std_hol</th>\n",
       "      <th>genre_wht_mean_hol</th>\n",
       "    </tr>\n",
       "  </thead>\n",
       "  <tbody>\n",
       "    <tr>\n",
       "      <th>0</th>\n",
       "      <td>Asian</td>\n",
       "      <td>0</td>\n",
       "      <td>3.562683</td>\n",
       "      <td>3.663562</td>\n",
       "      <td>0.693147</td>\n",
       "      <td>4.553877</td>\n",
       "      <td>0.553147</td>\n",
       "      <td>3.536854</td>\n",
       "    </tr>\n",
       "    <tr>\n",
       "      <th>1</th>\n",
       "      <td>Asian</td>\n",
       "      <td>1</td>\n",
       "      <td>3.522412</td>\n",
       "      <td>3.688879</td>\n",
       "      <td>0.693147</td>\n",
       "      <td>4.406719</td>\n",
       "      <td>0.920155</td>\n",
       "      <td>3.476524</td>\n",
       "    </tr>\n",
       "    <tr>\n",
       "      <th>2</th>\n",
       "      <td>Bar/Cocktail</td>\n",
       "      <td>0</td>\n",
       "      <td>2.350320</td>\n",
       "      <td>2.397895</td>\n",
       "      <td>0.693147</td>\n",
       "      <td>6.777647</td>\n",
       "      <td>0.782009</td>\n",
       "      <td>2.343346</td>\n",
       "    </tr>\n",
       "    <tr>\n",
       "      <th>3</th>\n",
       "      <td>Bar/Cocktail</td>\n",
       "      <td>1</td>\n",
       "      <td>2.538243</td>\n",
       "      <td>2.564949</td>\n",
       "      <td>0.693147</td>\n",
       "      <td>5.129899</td>\n",
       "      <td>0.846516</td>\n",
       "      <td>2.533362</td>\n",
       "    </tr>\n",
       "    <tr>\n",
       "      <th>4</th>\n",
       "      <td>Cafe/Sweets</td>\n",
       "      <td>0</td>\n",
       "      <td>2.884122</td>\n",
       "      <td>2.944439</td>\n",
       "      <td>0.693147</td>\n",
       "      <td>6.442540</td>\n",
       "      <td>0.763253</td>\n",
       "      <td>2.878805</td>\n",
       "    </tr>\n",
       "  </tbody>\n",
       "</table>\n",
       "</div>"
      ],
      "text/plain": [
       "  air_genre_name  holiday_flg  genre_mean_hol  genre_median_hol  \\\n",
       "0          Asian            0        3.562683          3.663562   \n",
       "1          Asian            1        3.522412          3.688879   \n",
       "2   Bar/Cocktail            0        2.350320          2.397895   \n",
       "3   Bar/Cocktail            1        2.538243          2.564949   \n",
       "4    Cafe/Sweets            0        2.884122          2.944439   \n",
       "\n",
       "   genre_min_hol  genre_max_hol  genre_std_hol  genre_wht_mean_hol  \n",
       "0       0.693147       4.553877       0.553147            3.536854  \n",
       "1       0.693147       4.406719       0.920155            3.476524  \n",
       "2       0.693147       6.777647       0.782009            2.343346  \n",
       "3       0.693147       5.129899       0.846516            2.533362  \n",
       "4       0.693147       6.442540       0.763253            2.878805  "
      ]
     },
     "execution_count": 29,
     "metadata": {},
     "output_type": "execute_result"
    }
   ],
   "source": [
    "genre_mean_hol=pd.DataFrame()\n",
    "genre_mean_hol[\"genre_mean_hol\"]=data[\"tra_as_hol_0\"].groupby([\"air_genre_name\",\"holiday_flg\"]).visitors.mean()\n",
    "genre_mean_hol[\"genre_median_hol\"]=data[\"tra_as_hol_0\"].groupby([\"air_genre_name\",\"holiday_flg\"]).visitors.median()\n",
    "genre_mean_hol[\"genre_min_hol\"]=data[\"tra_as_hol_0\"].groupby([\"air_genre_name\",\"holiday_flg\"]).visitors.min()\n",
    "genre_mean_hol[\"genre_max_hol\"]=data[\"tra_as_hol_0\"].groupby([\"air_genre_name\",\"holiday_flg\"]).visitors.max()\n",
    "genre_mean_hol[\"genre_std_hol\"]=data[\"tra_as_hol_0\"].groupby([\"air_genre_name\",\"holiday_flg\"]).visitors.std()\n",
    "genre_mean_hol[\"genre_wht_mean_hol\"]=data[\"tra_as_hol_0\"].groupby([\"air_genre_name\",\"holiday_flg\"]).apply(lambda x: np.average(x['visitors'], weights=x['weights']))\n",
    "genre_mean_hol.fillna(0,inplace=True)\n",
    "\n",
    "genre_mean_hol.reset_index(inplace=True)\n",
    "genre_mean_hol.head()"
   ]
  },
  {
   "cell_type": "code",
   "execution_count": 30,
   "metadata": {
    "collapsed": false
   },
   "outputs": [
    {
     "data": {
      "text/html": [
       "<div>\n",
       "<table border=\"1\" class=\"dataframe\">\n",
       "  <thead>\n",
       "    <tr style=\"text-align: right;\">\n",
       "      <th></th>\n",
       "      <th>air_area_name</th>\n",
       "      <th>day_of_week</th>\n",
       "      <th>area_mean_dow</th>\n",
       "      <th>area_median_dow</th>\n",
       "      <th>area_min_dow</th>\n",
       "      <th>area_max_dow</th>\n",
       "      <th>area_std_dow</th>\n",
       "      <th>area_wht_mean_dow</th>\n",
       "    </tr>\n",
       "  </thead>\n",
       "  <tbody>\n",
       "    <tr>\n",
       "      <th>0</th>\n",
       "      <td>Fukuoka-ken Fukuoka-shi Daimyō</td>\n",
       "      <td>Friday</td>\n",
       "      <td>2.849560</td>\n",
       "      <td>2.944439</td>\n",
       "      <td>0.693147</td>\n",
       "      <td>5.786897</td>\n",
       "      <td>0.777735</td>\n",
       "      <td>2.845537</td>\n",
       "    </tr>\n",
       "    <tr>\n",
       "      <th>1</th>\n",
       "      <td>Fukuoka-ken Fukuoka-shi Daimyō</td>\n",
       "      <td>Monday</td>\n",
       "      <td>2.639478</td>\n",
       "      <td>2.772589</td>\n",
       "      <td>0.693147</td>\n",
       "      <td>4.553877</td>\n",
       "      <td>0.841171</td>\n",
       "      <td>2.633083</td>\n",
       "    </tr>\n",
       "    <tr>\n",
       "      <th>2</th>\n",
       "      <td>Fukuoka-ken Fukuoka-shi Daimyō</td>\n",
       "      <td>Saturday</td>\n",
       "      <td>3.063326</td>\n",
       "      <td>3.178054</td>\n",
       "      <td>0.693147</td>\n",
       "      <td>6.016157</td>\n",
       "      <td>0.763220</td>\n",
       "      <td>3.056865</td>\n",
       "    </tr>\n",
       "    <tr>\n",
       "      <th>3</th>\n",
       "      <td>Fukuoka-ken Fukuoka-shi Daimyō</td>\n",
       "      <td>Sunday</td>\n",
       "      <td>2.889574</td>\n",
       "      <td>3.044522</td>\n",
       "      <td>0.693147</td>\n",
       "      <td>4.584967</td>\n",
       "      <td>0.814238</td>\n",
       "      <td>2.881048</td>\n",
       "    </tr>\n",
       "    <tr>\n",
       "      <th>4</th>\n",
       "      <td>Fukuoka-ken Fukuoka-shi Daimyō</td>\n",
       "      <td>Thursday</td>\n",
       "      <td>2.682684</td>\n",
       "      <td>2.772589</td>\n",
       "      <td>0.693147</td>\n",
       "      <td>5.786897</td>\n",
       "      <td>0.806185</td>\n",
       "      <td>2.674662</td>\n",
       "    </tr>\n",
       "  </tbody>\n",
       "</table>\n",
       "</div>"
      ],
      "text/plain": [
       "                    air_area_name day_of_week  area_mean_dow  area_median_dow  \\\n",
       "0  Fukuoka-ken Fukuoka-shi Daimyō      Friday       2.849560         2.944439   \n",
       "1  Fukuoka-ken Fukuoka-shi Daimyō      Monday       2.639478         2.772589   \n",
       "2  Fukuoka-ken Fukuoka-shi Daimyō    Saturday       3.063326         3.178054   \n",
       "3  Fukuoka-ken Fukuoka-shi Daimyō      Sunday       2.889574         3.044522   \n",
       "4  Fukuoka-ken Fukuoka-shi Daimyō    Thursday       2.682684         2.772589   \n",
       "\n",
       "   area_min_dow  area_max_dow  area_std_dow  area_wht_mean_dow  \n",
       "0      0.693147      5.786897      0.777735           2.845537  \n",
       "1      0.693147      4.553877      0.841171           2.633083  \n",
       "2      0.693147      6.016157      0.763220           3.056865  \n",
       "3      0.693147      4.584967      0.814238           2.881048  \n",
       "4      0.693147      5.786897      0.806185           2.674662  "
      ]
     },
     "execution_count": 30,
     "metadata": {},
     "output_type": "execute_result"
    }
   ],
   "source": [
    "area_mean_dow=pd.DataFrame()\n",
    "area_mean_dow[\"area_mean_dow\"]=data[\"tra_as_hol_0\"].groupby([\"air_area_name\",\"day_of_week\"]).visitors.mean()\n",
    "area_mean_dow[\"area_median_dow\"]=data[\"tra_as_hol_0\"].groupby([\"air_area_name\",\"day_of_week\"]).visitors.median()\n",
    "area_mean_dow[\"area_min_dow\"]=data[\"tra_as_hol_0\"].groupby([\"air_area_name\",\"day_of_week\"]).visitors.min()\n",
    "area_mean_dow[\"area_max_dow\"]=data[\"tra_as_hol_0\"].groupby([\"air_area_name\",\"day_of_week\"]).visitors.max()\n",
    "area_mean_dow[\"area_std_dow\"]=data[\"tra_as_hol_0\"].groupby([\"air_area_name\",\"day_of_week\"]).visitors.std()\n",
    "area_mean_dow[\"area_wht_mean_dow\"]=data[\"tra_as_hol_0\"].groupby([\"air_area_name\",\"day_of_week\"]).apply(lambda x: np.average(x['visitors'], weights=x['weights']))\n",
    "area_mean_dow.fillna(0,inplace=True)\n",
    "area_mean_dow.reset_index(inplace=True)\n",
    "area_mean_dow.head()"
   ]
  },
  {
   "cell_type": "code",
   "execution_count": 31,
   "metadata": {
    "collapsed": false
   },
   "outputs": [
    {
     "data": {
      "text/html": [
       "<div>\n",
       "<table border=\"1\" class=\"dataframe\">\n",
       "  <thead>\n",
       "    <tr style=\"text-align: right;\">\n",
       "      <th></th>\n",
       "      <th>air_area_name</th>\n",
       "      <th>holiday_flg</th>\n",
       "      <th>area_mean_hol</th>\n",
       "      <th>area_median_hol</th>\n",
       "      <th>area_min_hol</th>\n",
       "      <th>area_max_hol</th>\n",
       "      <th>area_std_hol</th>\n",
       "      <th>area_wht_mean_hol</th>\n",
       "    </tr>\n",
       "  </thead>\n",
       "  <tbody>\n",
       "    <tr>\n",
       "      <th>0</th>\n",
       "      <td>Fukuoka-ken Fukuoka-shi Daimyō</td>\n",
       "      <td>0</td>\n",
       "      <td>2.767605</td>\n",
       "      <td>2.890372</td>\n",
       "      <td>0.693147</td>\n",
       "      <td>6.442540</td>\n",
       "      <td>0.825865</td>\n",
       "      <td>2.761125</td>\n",
       "    </tr>\n",
       "    <tr>\n",
       "      <th>1</th>\n",
       "      <td>Fukuoka-ken Fukuoka-shi Daimyō</td>\n",
       "      <td>1</td>\n",
       "      <td>2.927057</td>\n",
       "      <td>3.044522</td>\n",
       "      <td>0.693147</td>\n",
       "      <td>5.105945</td>\n",
       "      <td>0.798255</td>\n",
       "      <td>2.915609</td>\n",
       "    </tr>\n",
       "    <tr>\n",
       "      <th>2</th>\n",
       "      <td>Fukuoka-ken Fukuoka-shi Hakata Ekimae</td>\n",
       "      <td>0</td>\n",
       "      <td>2.839734</td>\n",
       "      <td>2.890372</td>\n",
       "      <td>0.693147</td>\n",
       "      <td>4.753590</td>\n",
       "      <td>0.749609</td>\n",
       "      <td>2.843385</td>\n",
       "    </tr>\n",
       "    <tr>\n",
       "      <th>3</th>\n",
       "      <td>Fukuoka-ken Fukuoka-shi Hakata Ekimae</td>\n",
       "      <td>1</td>\n",
       "      <td>2.927249</td>\n",
       "      <td>2.995732</td>\n",
       "      <td>0.693147</td>\n",
       "      <td>4.418841</td>\n",
       "      <td>0.776306</td>\n",
       "      <td>2.951718</td>\n",
       "    </tr>\n",
       "    <tr>\n",
       "      <th>4</th>\n",
       "      <td>Fukuoka-ken Fukuoka-shi Imaizumi</td>\n",
       "      <td>0</td>\n",
       "      <td>2.670127</td>\n",
       "      <td>2.772589</td>\n",
       "      <td>0.693147</td>\n",
       "      <td>4.077537</td>\n",
       "      <td>0.623942</td>\n",
       "      <td>2.673292</td>\n",
       "    </tr>\n",
       "  </tbody>\n",
       "</table>\n",
       "</div>"
      ],
      "text/plain": [
       "                           air_area_name  holiday_flg  area_mean_hol  \\\n",
       "0         Fukuoka-ken Fukuoka-shi Daimyō            0       2.767605   \n",
       "1         Fukuoka-ken Fukuoka-shi Daimyō            1       2.927057   \n",
       "2  Fukuoka-ken Fukuoka-shi Hakata Ekimae            0       2.839734   \n",
       "3  Fukuoka-ken Fukuoka-shi Hakata Ekimae            1       2.927249   \n",
       "4       Fukuoka-ken Fukuoka-shi Imaizumi            0       2.670127   \n",
       "\n",
       "   area_median_hol  area_min_hol  area_max_hol  area_std_hol  \\\n",
       "0         2.890372      0.693147      6.442540      0.825865   \n",
       "1         3.044522      0.693147      5.105945      0.798255   \n",
       "2         2.890372      0.693147      4.753590      0.749609   \n",
       "3         2.995732      0.693147      4.418841      0.776306   \n",
       "4         2.772589      0.693147      4.077537      0.623942   \n",
       "\n",
       "   area_wht_mean_hol  \n",
       "0           2.761125  \n",
       "1           2.915609  \n",
       "2           2.843385  \n",
       "3           2.951718  \n",
       "4           2.673292  "
      ]
     },
     "execution_count": 31,
     "metadata": {},
     "output_type": "execute_result"
    }
   ],
   "source": [
    "area_mean_hol=pd.DataFrame()\n",
    "area_mean_hol[\"area_mean_hol\"]=data[\"tra_as_hol_0\"].groupby([\"air_area_name\",\"holiday_flg\"]).visitors.mean()\n",
    "area_mean_hol[\"area_median_hol\"]=data[\"tra_as_hol_0\"].groupby([\"air_area_name\",\"holiday_flg\"]).visitors.median()\n",
    "area_mean_hol[\"area_min_hol\"]=data[\"tra_as_hol_0\"].groupby([\"air_area_name\",\"holiday_flg\"]).visitors.min()\n",
    "area_mean_hol[\"area_max_hol\"]=data[\"tra_as_hol_0\"].groupby([\"air_area_name\",\"holiday_flg\"]).visitors.max()\n",
    "area_mean_hol[\"area_std_hol\"]=data[\"tra_as_hol_0\"].groupby([\"air_area_name\",\"holiday_flg\"]).visitors.std()\n",
    "area_mean_hol[\"area_wht_mean_hol\"]=data[\"tra_as_hol_0\"].groupby([\"air_area_name\",\"holiday_flg\"]).apply(lambda x: np.average(x['visitors'], weights=x['weights']))\n",
    "area_mean_hol.fillna(0,inplace=True)\n",
    "area_mean_hol.reset_index(inplace=True)\n",
    "area_mean_hol.head()"
   ]
  },
  {
   "cell_type": "markdown",
   "metadata": {},
   "source": [
    "- train + day info"
   ]
  },
  {
   "cell_type": "code",
   "execution_count": 32,
   "metadata": {
    "collapsed": false
   },
   "outputs": [
    {
     "data": {
      "text/html": [
       "<div>\n",
       "<table border=\"1\" class=\"dataframe\">\n",
       "  <thead>\n",
       "    <tr style=\"text-align: right;\">\n",
       "      <th></th>\n",
       "      <th>air_store_id</th>\n",
       "      <th>visit_date</th>\n",
       "      <th>visitors</th>\n",
       "      <th>time_numeric</th>\n",
       "      <th>weights</th>\n",
       "      <th>day_of_week</th>\n",
       "      <th>holiday_flg</th>\n",
       "      <th>month</th>\n",
       "    </tr>\n",
       "  </thead>\n",
       "  <tbody>\n",
       "    <tr>\n",
       "      <th>0</th>\n",
       "      <td>air_ba937bf13d40fb24</td>\n",
       "      <td>2016-01-13</td>\n",
       "      <td>3.258097</td>\n",
       "      <td>1036.8</td>\n",
       "      <td>1.023528</td>\n",
       "      <td>Wednesday</td>\n",
       "      <td>0</td>\n",
       "      <td>1</td>\n",
       "    </tr>\n",
       "    <tr>\n",
       "      <th>1</th>\n",
       "      <td>air_25e9888d30b386df</td>\n",
       "      <td>2016-01-13</td>\n",
       "      <td>3.091042</td>\n",
       "      <td>1036.8</td>\n",
       "      <td>1.023528</td>\n",
       "      <td>Wednesday</td>\n",
       "      <td>0</td>\n",
       "      <td>1</td>\n",
       "    </tr>\n",
       "    <tr>\n",
       "      <th>2</th>\n",
       "      <td>air_fd6aac1043520e83</td>\n",
       "      <td>2016-01-13</td>\n",
       "      <td>3.713572</td>\n",
       "      <td>1036.8</td>\n",
       "      <td>1.023528</td>\n",
       "      <td>Wednesday</td>\n",
       "      <td>0</td>\n",
       "      <td>1</td>\n",
       "    </tr>\n",
       "    <tr>\n",
       "      <th>3</th>\n",
       "      <td>air_64d4491ad8cdb1c6</td>\n",
       "      <td>2016-01-13</td>\n",
       "      <td>1.791759</td>\n",
       "      <td>1036.8</td>\n",
       "      <td>1.023528</td>\n",
       "      <td>Wednesday</td>\n",
       "      <td>0</td>\n",
       "      <td>1</td>\n",
       "    </tr>\n",
       "    <tr>\n",
       "      <th>4</th>\n",
       "      <td>air_ee3a01f0c71a769f</td>\n",
       "      <td>2016-01-13</td>\n",
       "      <td>2.944439</td>\n",
       "      <td>1036.8</td>\n",
       "      <td>1.023528</td>\n",
       "      <td>Wednesday</td>\n",
       "      <td>0</td>\n",
       "      <td>1</td>\n",
       "    </tr>\n",
       "  </tbody>\n",
       "</table>\n",
       "</div>"
      ],
      "text/plain": [
       "           air_store_id visit_date  visitors  time_numeric   weights  \\\n",
       "0  air_ba937bf13d40fb24 2016-01-13  3.258097        1036.8  1.023528   \n",
       "1  air_25e9888d30b386df 2016-01-13  3.091042        1036.8  1.023528   \n",
       "2  air_fd6aac1043520e83 2016-01-13  3.713572        1036.8  1.023528   \n",
       "3  air_64d4491ad8cdb1c6 2016-01-13  1.791759        1036.8  1.023528   \n",
       "4  air_ee3a01f0c71a769f 2016-01-13  2.944439        1036.8  1.023528   \n",
       "\n",
       "  day_of_week  holiday_flg month  \n",
       "0   Wednesday            0     1  \n",
       "1   Wednesday            0     1  \n",
       "2   Wednesday            0     1  \n",
       "3   Wednesday            0     1  \n",
       "4   Wednesday            0     1  "
      ]
     },
     "execution_count": 32,
     "metadata": {},
     "output_type": "execute_result"
    }
   ],
   "source": [
    "data[\"tra_hol\"]=datatra_train.merge(data[\"hol\"],left_on=\"visit_date\",right_on=\"calendar_date\").\\\n",
    "            drop(\"calendar_date\",axis=1)\n",
    "data[\"tra_hol\"][\"month\"]=data[\"tra_hol\"].visit_date.map(lambda x: x.month)\n",
    "data[\"tra_hol\"][\"month\"]=data[\"tra_hol\"][\"month\"].astype('category')\n",
    "data[\"tra_hol\"].head()"
   ]
  },
  {
   "cell_type": "code",
   "execution_count": 33,
   "metadata": {
    "collapsed": false
   },
   "outputs": [
    {
     "data": {
      "text/html": [
       "<div>\n",
       "<table border=\"1\" class=\"dataframe\">\n",
       "  <thead>\n",
       "    <tr style=\"text-align: right;\">\n",
       "      <th></th>\n",
       "      <th>air_store_id</th>\n",
       "      <th>store_mean</th>\n",
       "      <th>store_median</th>\n",
       "      <th>store_min</th>\n",
       "      <th>store_max</th>\n",
       "      <th>store_std</th>\n",
       "      <th>store_wht_mean</th>\n",
       "    </tr>\n",
       "  </thead>\n",
       "  <tbody>\n",
       "    <tr>\n",
       "      <th>0</th>\n",
       "      <td>air_00a91d42b08b08d9</td>\n",
       "      <td>3.150947</td>\n",
       "      <td>3.276967</td>\n",
       "      <td>0.693147</td>\n",
       "      <td>4.605170</td>\n",
       "      <td>0.576011</td>\n",
       "      <td>3.160674</td>\n",
       "    </tr>\n",
       "    <tr>\n",
       "      <th>1</th>\n",
       "      <td>air_0164b9927d20bcc3</td>\n",
       "      <td>2.134073</td>\n",
       "      <td>2.197225</td>\n",
       "      <td>0.693147</td>\n",
       "      <td>3.332205</td>\n",
       "      <td>0.660595</td>\n",
       "      <td>2.130323</td>\n",
       "    </tr>\n",
       "    <tr>\n",
       "      <th>2</th>\n",
       "      <td>air_0241aa3964b7f861</td>\n",
       "      <td>2.242803</td>\n",
       "      <td>2.302585</td>\n",
       "      <td>0.693147</td>\n",
       "      <td>3.891820</td>\n",
       "      <td>0.573606</td>\n",
       "      <td>2.225443</td>\n",
       "    </tr>\n",
       "    <tr>\n",
       "      <th>3</th>\n",
       "      <td>air_0328696196e46f18</td>\n",
       "      <td>1.920288</td>\n",
       "      <td>1.945910</td>\n",
       "      <td>0.693147</td>\n",
       "      <td>3.737670</td>\n",
       "      <td>0.665346</td>\n",
       "      <td>1.910585</td>\n",
       "    </tr>\n",
       "    <tr>\n",
       "      <th>4</th>\n",
       "      <td>air_034a3d5b40d5b1b1</td>\n",
       "      <td>2.351501</td>\n",
       "      <td>2.441401</td>\n",
       "      <td>0.693147</td>\n",
       "      <td>4.762174</td>\n",
       "      <td>0.826814</td>\n",
       "      <td>2.380199</td>\n",
       "    </tr>\n",
       "  </tbody>\n",
       "</table>\n",
       "</div>"
      ],
      "text/plain": [
       "           air_store_id  store_mean  store_median  store_min  store_max  \\\n",
       "0  air_00a91d42b08b08d9    3.150947      3.276967   0.693147   4.605170   \n",
       "1  air_0164b9927d20bcc3    2.134073      2.197225   0.693147   3.332205   \n",
       "2  air_0241aa3964b7f861    2.242803      2.302585   0.693147   3.891820   \n",
       "3  air_0328696196e46f18    1.920288      1.945910   0.693147   3.737670   \n",
       "4  air_034a3d5b40d5b1b1    2.351501      2.441401   0.693147   4.762174   \n",
       "\n",
       "   store_std  store_wht_mean  \n",
       "0   0.576011        3.160674  \n",
       "1   0.660595        2.130323  \n",
       "2   0.573606        2.225443  \n",
       "3   0.665346        1.910585  \n",
       "4   0.826814        2.380199  "
      ]
     },
     "execution_count": 33,
     "metadata": {},
     "output_type": "execute_result"
    }
   ],
   "source": [
    "store_mean_0=pd.DataFrame()\n",
    "store_mean_0[\"store_mean\"]=datatra_train.groupby(\"air_store_id\").visitors.mean()\n",
    "store_mean_0[\"store_median\"]=datatra_train.groupby(\"air_store_id\").visitors.median()\n",
    "store_mean_0[\"store_min\"]=datatra_train.groupby(\"air_store_id\").visitors.min()\n",
    "store_mean_0[\"store_max\"]=datatra_train.groupby(\"air_store_id\").visitors.max()\n",
    "store_mean_0[\"store_std\"]=datatra_train.groupby(\"air_store_id\").visitors.std()\n",
    "store_mean_0[\"store_wht_mean\"]=datatra_train.groupby(\"air_store_id\").apply(lambda x: np.average(x['visitors'], weights=x['weights']))\n",
    "\n",
    "store_mean_0.fillna(0,inplace=True)\n",
    "store_mean_0.reset_index(inplace=True)\n",
    "store_mean_0.head()\n"
   ]
  },
  {
   "cell_type": "code",
   "execution_count": 34,
   "metadata": {
    "collapsed": false
   },
   "outputs": [
    {
     "name": "stdout",
     "output_type": "stream",
     "text": [
      "5726\n"
     ]
    },
    {
     "data": {
      "text/html": [
       "<div>\n",
       "<table border=\"1\" class=\"dataframe\">\n",
       "  <thead>\n",
       "    <tr style=\"text-align: right;\">\n",
       "      <th></th>\n",
       "      <th>air_store_id</th>\n",
       "      <th>day_of_week</th>\n",
       "      <th>store_dow_mdn</th>\n",
       "      <th>store_dow_mean</th>\n",
       "      <th>store_dow_min</th>\n",
       "      <th>store_dow_max</th>\n",
       "      <th>store_dow_std</th>\n",
       "      <th>store_wht_mean_dow</th>\n",
       "    </tr>\n",
       "  </thead>\n",
       "  <tbody>\n",
       "    <tr>\n",
       "      <th>0</th>\n",
       "      <td>air_00a91d42b08b08d9</td>\n",
       "      <td>Friday</td>\n",
       "      <td>3.583519</td>\n",
       "      <td>3.598333</td>\n",
       "      <td>3.044522</td>\n",
       "      <td>4.060443</td>\n",
       "      <td>0.228421</td>\n",
       "      <td>3.595195</td>\n",
       "    </tr>\n",
       "    <tr>\n",
       "      <th>1</th>\n",
       "      <td>air_00a91d42b08b08d9</td>\n",
       "      <td>Monday</td>\n",
       "      <td>2.995732</td>\n",
       "      <td>3.025464</td>\n",
       "      <td>0.693147</td>\n",
       "      <td>3.871201</td>\n",
       "      <td>0.531007</td>\n",
       "      <td>3.043298</td>\n",
       "    </tr>\n",
       "    <tr>\n",
       "      <th>2</th>\n",
       "      <td>air_00a91d42b08b08d9</td>\n",
       "      <td>Saturday</td>\n",
       "      <td>2.484907</td>\n",
       "      <td>2.551471</td>\n",
       "      <td>1.386294</td>\n",
       "      <td>4.605170</td>\n",
       "      <td>0.682411</td>\n",
       "      <td>2.578446</td>\n",
       "    </tr>\n",
       "    <tr>\n",
       "      <th>3</th>\n",
       "      <td>air_00a91d42b08b08d9</td>\n",
       "      <td>Sunday</td>\n",
       "      <td>1.098612</td>\n",
       "      <td>1.098612</td>\n",
       "      <td>1.098612</td>\n",
       "      <td>1.098612</td>\n",
       "      <td>0.000000</td>\n",
       "      <td>1.098612</td>\n",
       "    </tr>\n",
       "    <tr>\n",
       "      <th>4</th>\n",
       "      <td>air_00a91d42b08b08d9</td>\n",
       "      <td>Thursday</td>\n",
       "      <td>3.417592</td>\n",
       "      <td>3.378179</td>\n",
       "      <td>2.772589</td>\n",
       "      <td>3.871201</td>\n",
       "      <td>0.254134</td>\n",
       "      <td>3.382500</td>\n",
       "    </tr>\n",
       "  </tbody>\n",
       "</table>\n",
       "</div>"
      ],
      "text/plain": [
       "           air_store_id day_of_week  store_dow_mdn  store_dow_mean  \\\n",
       "0  air_00a91d42b08b08d9      Friday       3.583519        3.598333   \n",
       "1  air_00a91d42b08b08d9      Monday       2.995732        3.025464   \n",
       "2  air_00a91d42b08b08d9    Saturday       2.484907        2.551471   \n",
       "3  air_00a91d42b08b08d9      Sunday       1.098612        1.098612   \n",
       "4  air_00a91d42b08b08d9    Thursday       3.417592        3.378179   \n",
       "\n",
       "   store_dow_min  store_dow_max  store_dow_std  store_wht_mean_dow  \n",
       "0       3.044522       4.060443       0.228421            3.595195  \n",
       "1       0.693147       3.871201       0.531007            3.043298  \n",
       "2       1.386294       4.605170       0.682411            2.578446  \n",
       "3       1.098612       1.098612       0.000000            1.098612  \n",
       "4       2.772589       3.871201       0.254134            3.382500  "
      ]
     },
     "execution_count": 34,
     "metadata": {},
     "output_type": "execute_result"
    }
   ],
   "source": [
    "store_mean_dow=pd.DataFrame()\n",
    "store_mean_dow[\"store_dow_mdn\"]=data[\"tra_hol\"].groupby([\"air_store_id\",\"day_of_week\"]).visitors.median() #.reset_index()\n",
    "store_mean_dow[\"store_dow_mean\"]=data[\"tra_hol\"].groupby([\"air_store_id\",\"day_of_week\"]).visitors.mean() #.reset_index()\n",
    "store_mean_dow[\"store_dow_min\"]=data[\"tra_hol\"].groupby([\"air_store_id\",\"day_of_week\"]).visitors.min() #.reset_index()\n",
    "store_mean_dow[\"store_dow_max\"]=data[\"tra_hol\"].groupby([\"air_store_id\",\"day_of_week\"]).visitors.max() #.reset_index()\n",
    "store_mean_dow[\"store_dow_std\"]=data[\"tra_hol\"].groupby([\"air_store_id\",\"day_of_week\"]).visitors.std() #.reset_index()\n",
    "store_mean_dow[\"store_wht_mean_dow\"]=data[\"tra_hol\"].groupby([\"air_store_id\",\"day_of_week\"]).apply(lambda x: np.average(x['visitors'], weights=x['weights']))\n",
    "store_mean_dow[\"store_wht_mean_dow\"].fillna(store_mean_0[\"store_wht_mean\"],inplace=True)\n",
    "store_mean_dow[\"store_dow_mdn\"].fillna(store_mean_0[\"store_median\"],inplace=True)\n",
    "store_mean_dow[\"store_dow_mean\"].fillna(store_mean_0[\"store_mean\"],inplace=True)\n",
    "store_mean_dow[\"store_dow_min\"].fillna(store_mean_0[\"store_min\"],inplace=True)\n",
    "store_mean_dow[\"store_dow_max\"].fillna(store_mean_0[\"store_max\"],inplace=True)\n",
    "store_mean_dow[\"store_dow_std\"].fillna(store_mean_0[\"store_std\"],inplace=True)\n",
    "store_mean_dow.fillna(0,inplace=True)\n",
    "#store_mean_dow=store_mean_dow.drop(\"visitors\",axis=1)\n",
    "store_mean_dow=store_mean_dow.reset_index() #unstack(level=1)\n",
    "print(len(store_mean_dow))\n",
    "store_mean_dow.head()"
   ]
  },
  {
   "cell_type": "code",
   "execution_count": 35,
   "metadata": {
    "collapsed": false
   },
   "outputs": [
    {
     "data": {
      "text/html": [
       "<div>\n",
       "<table border=\"1\" class=\"dataframe\">\n",
       "  <thead>\n",
       "    <tr style=\"text-align: right;\">\n",
       "      <th></th>\n",
       "      <th>air_store_id</th>\n",
       "      <th>day_of_week</th>\n",
       "      <th>holiday_flg</th>\n",
       "      <th>store_wht_mean_dow_hol</th>\n",
       "    </tr>\n",
       "  </thead>\n",
       "  <tbody>\n",
       "    <tr>\n",
       "      <th>0</th>\n",
       "      <td>air_00a91d42b08b08d9</td>\n",
       "      <td>Friday</td>\n",
       "      <td>0</td>\n",
       "      <td>3.595195</td>\n",
       "    </tr>\n",
       "    <tr>\n",
       "      <th>1</th>\n",
       "      <td>air_00a91d42b08b08d9</td>\n",
       "      <td>Monday</td>\n",
       "      <td>0</td>\n",
       "      <td>3.041970</td>\n",
       "    </tr>\n",
       "    <tr>\n",
       "      <th>2</th>\n",
       "      <td>air_00a91d42b08b08d9</td>\n",
       "      <td>Monday</td>\n",
       "      <td>1</td>\n",
       "      <td>3.091042</td>\n",
       "    </tr>\n",
       "    <tr>\n",
       "      <th>3</th>\n",
       "      <td>air_00a91d42b08b08d9</td>\n",
       "      <td>Saturday</td>\n",
       "      <td>0</td>\n",
       "      <td>2.578446</td>\n",
       "    </tr>\n",
       "    <tr>\n",
       "      <th>4</th>\n",
       "      <td>air_00a91d42b08b08d9</td>\n",
       "      <td>Sunday</td>\n",
       "      <td>0</td>\n",
       "      <td>1.098612</td>\n",
       "    </tr>\n",
       "  </tbody>\n",
       "</table>\n",
       "</div>"
      ],
      "text/plain": [
       "           air_store_id day_of_week  holiday_flg  store_wht_mean_dow_hol\n",
       "0  air_00a91d42b08b08d9      Friday            0                3.595195\n",
       "1  air_00a91d42b08b08d9      Monday            0                3.041970\n",
       "2  air_00a91d42b08b08d9      Monday            1                3.091042\n",
       "3  air_00a91d42b08b08d9    Saturday            0                2.578446\n",
       "4  air_00a91d42b08b08d9      Sunday            0                1.098612"
      ]
     },
     "execution_count": 35,
     "metadata": {},
     "output_type": "execute_result"
    }
   ],
   "source": [
    "store_mean_dow_hol=pd.DataFrame()\n",
    "#store_mean_dow_hol[\"store_dow_hol_mdn\"]=data[\"tra_hol\"].groupby([\"air_store_id\",\"day_of_week\",'holiday_flg']).visitors.median() #.reset_index()\n",
    "#store_mean_dow_hol[\"store_dow_hol_mean\"]=data[\"tra_hol\"].groupby([\"air_store_id\",\"day_of_week\",'holiday_flg']).visitors.mean() #.reset_index()\n",
    "#store_mean_dow_hol[\"store_dow_hol_min\"]=data[\"tra_hol\"].groupby([\"air_store_id\",\"day_of_week\",'holiday_flg']).visitors.min() #.reset_index()\n",
    "#store_mean_dow_hol[\"store_dow_hol_max\"]=data[\"tra_hol\"].groupby([\"air_store_id\",\"day_of_week\",'holiday_flg']).visitors.max() #.reset_index()\n",
    "#store_mean_dow_hol[\"store_dow_hol_std\"]=data[\"tra_hol\"].groupby([\"air_store_id\",\"day_of_week\",'holiday_flg']).visitors.std() #.reset_index()\n",
    "\n",
    "store_mean_dow_hol[\"store_wht_mean_dow_hol\"]=data[\"tra_hol\"].groupby([\"air_store_id\",\"day_of_week\",'holiday_flg']).apply(lambda x: np.average(x['visitors'], weights=x['weights']))\n",
    "store_mean_dow_hol[\"store_wht_mean_dow_hol\"].fillna(store_mean_dow[\"store_wht_mean_dow\"],inplace=True)\n",
    "\n",
    "#store_mean_dow_hol[\"store_dow_hol_mdn\"].fillna(store_mean_dow[\"store_dow_mdn\"],inplace=True)\n",
    "#store_mean_dow_hol[\"store_dow_hol_mean\"].fillna(store_mean_dow[\"store_dow_mean\"],inplace=True)\n",
    "#store_mean_dow_hol[\"store_dow_hol_min\"].fillna(store_mean_dow[\"store_dow_min\"],inplace=True)\n",
    "#store_mean_dow_hol[\"store_dow_hol_max\"].fillna(store_mean_dow[\"store_dow_max\"],inplace=True)\n",
    "#store_mean_dow_hol[\"store_dow_hol_std\"].fillna(store_mean_dow[\"store_dow_std\"],inplace=True)\n",
    "store_mean_dow_hol=store_mean_dow_hol.fillna(0)\n",
    "#store_mean_dow=store_mean_dow.drop(\"visitors\",axis=1)\n",
    "store_mean_dow_hol=store_mean_dow_hol.reset_index() #unstack(level=1)\n",
    "store_mean_dow_hol.head()"
   ]
  },
  {
   "cell_type": "markdown",
   "metadata": {},
   "source": [
    "- Finally put all info together, including test set (train +store info + store mean + day info)"
   ]
  },
  {
   "cell_type": "code",
   "execution_count": null,
   "metadata": {
    "collapsed": false
   },
   "outputs": [],
   "source": [
    "\n"
   ]
  },
  {
   "cell_type": "code",
   "execution_count": 36,
   "metadata": {
    "collapsed": false,
    "scrolled": false
   },
   "outputs": [
    {
     "name": "stdout",
     "output_type": "stream",
     "text": [
      "284127 284127\n"
     ]
    },
    {
     "data": {
      "text/html": [
       "<div>\n",
       "<table border=\"1\" class=\"dataframe\">\n",
       "  <thead>\n",
       "    <tr style=\"text-align: right;\">\n",
       "      <th></th>\n",
       "      <th>0</th>\n",
       "      <th>1</th>\n",
       "      <th>2</th>\n",
       "      <th>3</th>\n",
       "      <th>4</th>\n",
       "    </tr>\n",
       "  </thead>\n",
       "  <tbody>\n",
       "    <tr>\n",
       "      <th>air_store_id</th>\n",
       "      <td>air_ba937bf13d40fb24</td>\n",
       "      <td>air_ba937bf13d40fb24</td>\n",
       "      <td>air_ba937bf13d40fb24</td>\n",
       "      <td>air_ba937bf13d40fb24</td>\n",
       "      <td>air_ba937bf13d40fb24</td>\n",
       "    </tr>\n",
       "    <tr>\n",
       "      <th>visit_date</th>\n",
       "      <td>2016-01-13 00:00:00</td>\n",
       "      <td>2016-01-14 00:00:00</td>\n",
       "      <td>2016-01-15 00:00:00</td>\n",
       "      <td>2016-01-16 00:00:00</td>\n",
       "      <td>2016-01-18 00:00:00</td>\n",
       "    </tr>\n",
       "    <tr>\n",
       "      <th>visitors</th>\n",
       "      <td>3.2581</td>\n",
       "      <td>3.49651</td>\n",
       "      <td>3.4012</td>\n",
       "      <td>3.13549</td>\n",
       "      <td>1.94591</td>\n",
       "    </tr>\n",
       "    <tr>\n",
       "      <th>month</th>\n",
       "      <td>1</td>\n",
       "      <td>1</td>\n",
       "      <td>1</td>\n",
       "      <td>1</td>\n",
       "      <td>1</td>\n",
       "    </tr>\n",
       "    <tr>\n",
       "      <th>time_numeric</th>\n",
       "      <td>1036.8</td>\n",
       "      <td>1123.2</td>\n",
       "      <td>1209.6</td>\n",
       "      <td>1296</td>\n",
       "      <td>1468.8</td>\n",
       "    </tr>\n",
       "    <tr>\n",
       "      <th>weights</th>\n",
       "      <td>1.02353</td>\n",
       "      <td>1.02551</td>\n",
       "      <td>1.0275</td>\n",
       "      <td>1.0295</td>\n",
       "      <td>1.03349</td>\n",
       "    </tr>\n",
       "    <tr>\n",
       "      <th>day_of_week</th>\n",
       "      <td>Wednesday</td>\n",
       "      <td>Thursday</td>\n",
       "      <td>Friday</td>\n",
       "      <td>Saturday</td>\n",
       "      <td>Monday</td>\n",
       "    </tr>\n",
       "    <tr>\n",
       "      <th>holiday_flg</th>\n",
       "      <td>0</td>\n",
       "      <td>0</td>\n",
       "      <td>0</td>\n",
       "      <td>0</td>\n",
       "      <td>0</td>\n",
       "    </tr>\n",
       "    <tr>\n",
       "      <th>store_dow_mdn</th>\n",
       "      <td>3.2581</td>\n",
       "      <td>3.09104</td>\n",
       "      <td>3.61092</td>\n",
       "      <td>3.34975</td>\n",
       "      <td>2.56495</td>\n",
       "    </tr>\n",
       "    <tr>\n",
       "      <th>store_dow_mean</th>\n",
       "      <td>3.16883</td>\n",
       "      <td>2.96527</td>\n",
       "      <td>3.51538</td>\n",
       "      <td>3.29835</td>\n",
       "      <td>2.61342</td>\n",
       "    </tr>\n",
       "    <tr>\n",
       "      <th>store_dow_min</th>\n",
       "      <td>2.19722</td>\n",
       "      <td>1.09861</td>\n",
       "      <td>1.60944</td>\n",
       "      <td>1.94591</td>\n",
       "      <td>1.09861</td>\n",
       "    </tr>\n",
       "    <tr>\n",
       "      <th>store_dow_max</th>\n",
       "      <td>4.06044</td>\n",
       "      <td>4.00733</td>\n",
       "      <td>4.12713</td>\n",
       "      <td>3.98898</td>\n",
       "      <td>3.55535</td>\n",
       "    </tr>\n",
       "    <tr>\n",
       "      <th>store_dow_std</th>\n",
       "      <td>0.391359</td>\n",
       "      <td>0.530434</td>\n",
       "      <td>0.394008</td>\n",
       "      <td>0.433301</td>\n",
       "      <td>0.513294</td>\n",
       "    </tr>\n",
       "    <tr>\n",
       "      <th>store_wht_mean_dow</th>\n",
       "      <td>3.14347</td>\n",
       "      <td>2.93328</td>\n",
       "      <td>3.49673</td>\n",
       "      <td>3.31451</td>\n",
       "      <td>2.5796</td>\n",
       "    </tr>\n",
       "    <tr>\n",
       "      <th>store_wht_mean_dow_hol</th>\n",
       "      <td>3.16334</td>\n",
       "      <td>2.96519</td>\n",
       "      <td>3.53789</td>\n",
       "      <td>3.32159</td>\n",
       "      <td>2.5796</td>\n",
       "    </tr>\n",
       "    <tr>\n",
       "      <th>air_genre_name</th>\n",
       "      <td>Dining bar</td>\n",
       "      <td>Dining bar</td>\n",
       "      <td>Dining bar</td>\n",
       "      <td>Dining bar</td>\n",
       "      <td>Dining bar</td>\n",
       "    </tr>\n",
       "    <tr>\n",
       "      <th>air_area_name</th>\n",
       "      <td>Tōkyō-to Minato-ku Shibakōen</td>\n",
       "      <td>Tōkyō-to Minato-ku Shibakōen</td>\n",
       "      <td>Tōkyō-to Minato-ku Shibakōen</td>\n",
       "      <td>Tōkyō-to Minato-ku Shibakōen</td>\n",
       "      <td>Tōkyō-to Minato-ku Shibakōen</td>\n",
       "    </tr>\n",
       "    <tr>\n",
       "      <th>latitude</th>\n",
       "      <td>35.6581</td>\n",
       "      <td>35.6581</td>\n",
       "      <td>35.6581</td>\n",
       "      <td>35.6581</td>\n",
       "      <td>35.6581</td>\n",
       "    </tr>\n",
       "    <tr>\n",
       "      <th>longitude</th>\n",
       "      <td>139.752</td>\n",
       "      <td>139.752</td>\n",
       "      <td>139.752</td>\n",
       "      <td>139.752</td>\n",
       "      <td>139.752</td>\n",
       "    </tr>\n",
       "    <tr>\n",
       "      <th>store_mean</th>\n",
       "      <td>3.04777</td>\n",
       "      <td>3.04777</td>\n",
       "      <td>3.04777</td>\n",
       "      <td>3.04777</td>\n",
       "      <td>3.04777</td>\n",
       "    </tr>\n",
       "    <tr>\n",
       "      <th>store_median</th>\n",
       "      <td>3.13549</td>\n",
       "      <td>3.13549</td>\n",
       "      <td>3.13549</td>\n",
       "      <td>3.13549</td>\n",
       "      <td>3.13549</td>\n",
       "    </tr>\n",
       "    <tr>\n",
       "      <th>store_min</th>\n",
       "      <td>0.693147</td>\n",
       "      <td>0.693147</td>\n",
       "      <td>0.693147</td>\n",
       "      <td>0.693147</td>\n",
       "      <td>0.693147</td>\n",
       "    </tr>\n",
       "    <tr>\n",
       "      <th>store_max</th>\n",
       "      <td>4.12713</td>\n",
       "      <td>4.12713</td>\n",
       "      <td>4.12713</td>\n",
       "      <td>4.12713</td>\n",
       "      <td>4.12713</td>\n",
       "    </tr>\n",
       "    <tr>\n",
       "      <th>store_std</th>\n",
       "      <td>0.588295</td>\n",
       "      <td>0.588295</td>\n",
       "      <td>0.588295</td>\n",
       "      <td>0.588295</td>\n",
       "      <td>0.588295</td>\n",
       "    </tr>\n",
       "    <tr>\n",
       "      <th>store_wht_mean</th>\n",
       "      <td>3.01966</td>\n",
       "      <td>3.01966</td>\n",
       "      <td>3.01966</td>\n",
       "      <td>3.01966</td>\n",
       "      <td>3.01966</td>\n",
       "    </tr>\n",
       "    <tr>\n",
       "      <th>area_mean</th>\n",
       "      <td>2.71194</td>\n",
       "      <td>2.71194</td>\n",
       "      <td>2.71194</td>\n",
       "      <td>2.71194</td>\n",
       "      <td>2.71194</td>\n",
       "    </tr>\n",
       "    <tr>\n",
       "      <th>area_median</th>\n",
       "      <td>2.77259</td>\n",
       "      <td>2.77259</td>\n",
       "      <td>2.77259</td>\n",
       "      <td>2.77259</td>\n",
       "      <td>2.77259</td>\n",
       "    </tr>\n",
       "    <tr>\n",
       "      <th>area_min</th>\n",
       "      <td>0.693147</td>\n",
       "      <td>0.693147</td>\n",
       "      <td>0.693147</td>\n",
       "      <td>0.693147</td>\n",
       "      <td>0.693147</td>\n",
       "    </tr>\n",
       "    <tr>\n",
       "      <th>area_max</th>\n",
       "      <td>5.72359</td>\n",
       "      <td>5.72359</td>\n",
       "      <td>5.72359</td>\n",
       "      <td>5.72359</td>\n",
       "      <td>5.72359</td>\n",
       "    </tr>\n",
       "    <tr>\n",
       "      <th>area_std</th>\n",
       "      <td>0.837188</td>\n",
       "      <td>0.837188</td>\n",
       "      <td>0.837188</td>\n",
       "      <td>0.837188</td>\n",
       "      <td>0.837188</td>\n",
       "    </tr>\n",
       "    <tr>\n",
       "      <th>...</th>\n",
       "      <td>...</td>\n",
       "      <td>...</td>\n",
       "      <td>...</td>\n",
       "      <td>...</td>\n",
       "      <td>...</td>\n",
       "    </tr>\n",
       "    <tr>\n",
       "      <th>area_mean_dow</th>\n",
       "      <td>2.77502</td>\n",
       "      <td>2.74328</td>\n",
       "      <td>2.9177</td>\n",
       "      <td>2.73636</td>\n",
       "      <td>2.43909</td>\n",
       "    </tr>\n",
       "    <tr>\n",
       "      <th>area_median_dow</th>\n",
       "      <td>2.89037</td>\n",
       "      <td>2.83321</td>\n",
       "      <td>2.99573</td>\n",
       "      <td>2.77259</td>\n",
       "      <td>2.48491</td>\n",
       "    </tr>\n",
       "    <tr>\n",
       "      <th>area_min_dow</th>\n",
       "      <td>0.693147</td>\n",
       "      <td>0.693147</td>\n",
       "      <td>0.693147</td>\n",
       "      <td>0.693147</td>\n",
       "      <td>0.693147</td>\n",
       "    </tr>\n",
       "    <tr>\n",
       "      <th>area_max_dow</th>\n",
       "      <td>4.97673</td>\n",
       "      <td>4.69135</td>\n",
       "      <td>4.81218</td>\n",
       "      <td>4.86753</td>\n",
       "      <td>5.72359</td>\n",
       "    </tr>\n",
       "    <tr>\n",
       "      <th>area_std_dow</th>\n",
       "      <td>0.808747</td>\n",
       "      <td>0.807435</td>\n",
       "      <td>0.79646</td>\n",
       "      <td>0.836588</td>\n",
       "      <td>0.849239</td>\n",
       "    </tr>\n",
       "    <tr>\n",
       "      <th>area_wht_mean_dow</th>\n",
       "      <td>2.78066</td>\n",
       "      <td>2.746</td>\n",
       "      <td>2.92195</td>\n",
       "      <td>2.73668</td>\n",
       "      <td>2.45061</td>\n",
       "    </tr>\n",
       "    <tr>\n",
       "      <th>area_mean_hol</th>\n",
       "      <td>2.71551</td>\n",
       "      <td>2.71551</td>\n",
       "      <td>2.71551</td>\n",
       "      <td>2.71551</td>\n",
       "      <td>2.71551</td>\n",
       "    </tr>\n",
       "    <tr>\n",
       "      <th>area_median_hol</th>\n",
       "      <td>2.77259</td>\n",
       "      <td>2.77259</td>\n",
       "      <td>2.77259</td>\n",
       "      <td>2.77259</td>\n",
       "      <td>2.77259</td>\n",
       "    </tr>\n",
       "    <tr>\n",
       "      <th>area_min_hol</th>\n",
       "      <td>0.693147</td>\n",
       "      <td>0.693147</td>\n",
       "      <td>0.693147</td>\n",
       "      <td>0.693147</td>\n",
       "      <td>0.693147</td>\n",
       "    </tr>\n",
       "    <tr>\n",
       "      <th>area_max_hol</th>\n",
       "      <td>5.72359</td>\n",
       "      <td>5.72359</td>\n",
       "      <td>5.72359</td>\n",
       "      <td>5.72359</td>\n",
       "      <td>5.72359</td>\n",
       "    </tr>\n",
       "    <tr>\n",
       "      <th>area_std_hol</th>\n",
       "      <td>0.835082</td>\n",
       "      <td>0.835082</td>\n",
       "      <td>0.835082</td>\n",
       "      <td>0.835082</td>\n",
       "      <td>0.835082</td>\n",
       "    </tr>\n",
       "    <tr>\n",
       "      <th>area_wht_mean_hol</th>\n",
       "      <td>2.7192</td>\n",
       "      <td>2.7192</td>\n",
       "      <td>2.7192</td>\n",
       "      <td>2.7192</td>\n",
       "      <td>2.7192</td>\n",
       "    </tr>\n",
       "    <tr>\n",
       "      <th>genre_mean_hol</th>\n",
       "      <td>2.65023</td>\n",
       "      <td>2.65023</td>\n",
       "      <td>2.65023</td>\n",
       "      <td>2.65023</td>\n",
       "      <td>2.65023</td>\n",
       "    </tr>\n",
       "    <tr>\n",
       "      <th>genre_median_hol</th>\n",
       "      <td>2.70805</td>\n",
       "      <td>2.70805</td>\n",
       "      <td>2.70805</td>\n",
       "      <td>2.70805</td>\n",
       "      <td>2.70805</td>\n",
       "    </tr>\n",
       "    <tr>\n",
       "      <th>genre_min_hol</th>\n",
       "      <td>0.693147</td>\n",
       "      <td>0.693147</td>\n",
       "      <td>0.693147</td>\n",
       "      <td>0.693147</td>\n",
       "      <td>0.693147</td>\n",
       "    </tr>\n",
       "    <tr>\n",
       "      <th>genre_max_hol</th>\n",
       "      <td>5.85507</td>\n",
       "      <td>5.85507</td>\n",
       "      <td>5.85507</td>\n",
       "      <td>5.85507</td>\n",
       "      <td>5.85507</td>\n",
       "    </tr>\n",
       "    <tr>\n",
       "      <th>genre_std_hol</th>\n",
       "      <td>0.856288</td>\n",
       "      <td>0.856288</td>\n",
       "      <td>0.856288</td>\n",
       "      <td>0.856288</td>\n",
       "      <td>0.856288</td>\n",
       "    </tr>\n",
       "    <tr>\n",
       "      <th>genre_wht_mean_hol</th>\n",
       "      <td>2.63969</td>\n",
       "      <td>2.63969</td>\n",
       "      <td>2.63969</td>\n",
       "      <td>2.63969</td>\n",
       "      <td>2.63969</td>\n",
       "    </tr>\n",
       "    <tr>\n",
       "      <th>genre_mean_dow</th>\n",
       "      <td>2.56445</td>\n",
       "      <td>2.58358</td>\n",
       "      <td>2.82717</td>\n",
       "      <td>2.96764</td>\n",
       "      <td>2.42278</td>\n",
       "    </tr>\n",
       "    <tr>\n",
       "      <th>genre_median_dow</th>\n",
       "      <td>2.63906</td>\n",
       "      <td>2.63906</td>\n",
       "      <td>2.94444</td>\n",
       "      <td>3.09104</td>\n",
       "      <td>2.48491</td>\n",
       "    </tr>\n",
       "    <tr>\n",
       "      <th>genre_min_dow</th>\n",
       "      <td>0.693147</td>\n",
       "      <td>0.693147</td>\n",
       "      <td>0.693147</td>\n",
       "      <td>0.693147</td>\n",
       "      <td>0.693147</td>\n",
       "    </tr>\n",
       "    <tr>\n",
       "      <th>genre_max_dow</th>\n",
       "      <td>5.09375</td>\n",
       "      <td>4.66344</td>\n",
       "      <td>4.89035</td>\n",
       "      <td>5.17615</td>\n",
       "      <td>5.85507</td>\n",
       "    </tr>\n",
       "    <tr>\n",
       "      <th>genre_std_dow</th>\n",
       "      <td>0.855531</td>\n",
       "      <td>0.830187</td>\n",
       "      <td>0.823287</td>\n",
       "      <td>0.818861</td>\n",
       "      <td>0.827634</td>\n",
       "    </tr>\n",
       "    <tr>\n",
       "      <th>genre_wht_mean_dow</th>\n",
       "      <td>2.5581</td>\n",
       "      <td>2.57316</td>\n",
       "      <td>2.81987</td>\n",
       "      <td>2.95917</td>\n",
       "      <td>2.40933</td>\n",
       "    </tr>\n",
       "    <tr>\n",
       "      <th>genre_mean</th>\n",
       "      <td>2.65416</td>\n",
       "      <td>2.65416</td>\n",
       "      <td>2.65416</td>\n",
       "      <td>2.65416</td>\n",
       "      <td>2.65416</td>\n",
       "    </tr>\n",
       "    <tr>\n",
       "      <th>genre_median</th>\n",
       "      <td>2.70805</td>\n",
       "      <td>2.70805</td>\n",
       "      <td>2.70805</td>\n",
       "      <td>2.70805</td>\n",
       "      <td>2.70805</td>\n",
       "    </tr>\n",
       "    <tr>\n",
       "      <th>genre_min</th>\n",
       "      <td>0.693147</td>\n",
       "      <td>0.693147</td>\n",
       "      <td>0.693147</td>\n",
       "      <td>0.693147</td>\n",
       "      <td>0.693147</td>\n",
       "    </tr>\n",
       "    <tr>\n",
       "      <th>genre_max</th>\n",
       "      <td>5.85507</td>\n",
       "      <td>5.85507</td>\n",
       "      <td>5.85507</td>\n",
       "      <td>5.85507</td>\n",
       "      <td>5.85507</td>\n",
       "    </tr>\n",
       "    <tr>\n",
       "      <th>genre_std</th>\n",
       "      <td>0.856871</td>\n",
       "      <td>0.856871</td>\n",
       "      <td>0.856871</td>\n",
       "      <td>0.856871</td>\n",
       "      <td>0.856871</td>\n",
       "    </tr>\n",
       "    <tr>\n",
       "      <th>genre_wht_mean</th>\n",
       "      <td>2.64403</td>\n",
       "      <td>2.64403</td>\n",
       "      <td>2.64403</td>\n",
       "      <td>2.64403</td>\n",
       "      <td>2.64403</td>\n",
       "    </tr>\n",
       "  </tbody>\n",
       "</table>\n",
       "<p>61 rows × 5 columns</p>\n",
       "</div>"
      ],
      "text/plain": [
       "                                                   0  \\\n",
       "air_store_id                    air_ba937bf13d40fb24   \n",
       "visit_date                       2016-01-13 00:00:00   \n",
       "visitors                                      3.2581   \n",
       "month                                              1   \n",
       "time_numeric                                  1036.8   \n",
       "weights                                      1.02353   \n",
       "day_of_week                                Wednesday   \n",
       "holiday_flg                                        0   \n",
       "store_dow_mdn                                 3.2581   \n",
       "store_dow_mean                               3.16883   \n",
       "store_dow_min                                2.19722   \n",
       "store_dow_max                                4.06044   \n",
       "store_dow_std                               0.391359   \n",
       "store_wht_mean_dow                           3.14347   \n",
       "store_wht_mean_dow_hol                       3.16334   \n",
       "air_genre_name                            Dining bar   \n",
       "air_area_name           Tōkyō-to Minato-ku Shibakōen   \n",
       "latitude                                     35.6581   \n",
       "longitude                                    139.752   \n",
       "store_mean                                   3.04777   \n",
       "store_median                                 3.13549   \n",
       "store_min                                   0.693147   \n",
       "store_max                                    4.12713   \n",
       "store_std                                   0.588295   \n",
       "store_wht_mean                               3.01966   \n",
       "area_mean                                    2.71194   \n",
       "area_median                                  2.77259   \n",
       "area_min                                    0.693147   \n",
       "area_max                                     5.72359   \n",
       "area_std                                    0.837188   \n",
       "...                                              ...   \n",
       "area_mean_dow                                2.77502   \n",
       "area_median_dow                              2.89037   \n",
       "area_min_dow                                0.693147   \n",
       "area_max_dow                                 4.97673   \n",
       "area_std_dow                                0.808747   \n",
       "area_wht_mean_dow                            2.78066   \n",
       "area_mean_hol                                2.71551   \n",
       "area_median_hol                              2.77259   \n",
       "area_min_hol                                0.693147   \n",
       "area_max_hol                                 5.72359   \n",
       "area_std_hol                                0.835082   \n",
       "area_wht_mean_hol                             2.7192   \n",
       "genre_mean_hol                               2.65023   \n",
       "genre_median_hol                             2.70805   \n",
       "genre_min_hol                               0.693147   \n",
       "genre_max_hol                                5.85507   \n",
       "genre_std_hol                               0.856288   \n",
       "genre_wht_mean_hol                           2.63969   \n",
       "genre_mean_dow                               2.56445   \n",
       "genre_median_dow                             2.63906   \n",
       "genre_min_dow                               0.693147   \n",
       "genre_max_dow                                5.09375   \n",
       "genre_std_dow                               0.855531   \n",
       "genre_wht_mean_dow                            2.5581   \n",
       "genre_mean                                   2.65416   \n",
       "genre_median                                 2.70805   \n",
       "genre_min                                   0.693147   \n",
       "genre_max                                    5.85507   \n",
       "genre_std                                   0.856871   \n",
       "genre_wht_mean                               2.64403   \n",
       "\n",
       "                                                   1  \\\n",
       "air_store_id                    air_ba937bf13d40fb24   \n",
       "visit_date                       2016-01-14 00:00:00   \n",
       "visitors                                     3.49651   \n",
       "month                                              1   \n",
       "time_numeric                                  1123.2   \n",
       "weights                                      1.02551   \n",
       "day_of_week                                 Thursday   \n",
       "holiday_flg                                        0   \n",
       "store_dow_mdn                                3.09104   \n",
       "store_dow_mean                               2.96527   \n",
       "store_dow_min                                1.09861   \n",
       "store_dow_max                                4.00733   \n",
       "store_dow_std                               0.530434   \n",
       "store_wht_mean_dow                           2.93328   \n",
       "store_wht_mean_dow_hol                       2.96519   \n",
       "air_genre_name                            Dining bar   \n",
       "air_area_name           Tōkyō-to Minato-ku Shibakōen   \n",
       "latitude                                     35.6581   \n",
       "longitude                                    139.752   \n",
       "store_mean                                   3.04777   \n",
       "store_median                                 3.13549   \n",
       "store_min                                   0.693147   \n",
       "store_max                                    4.12713   \n",
       "store_std                                   0.588295   \n",
       "store_wht_mean                               3.01966   \n",
       "area_mean                                    2.71194   \n",
       "area_median                                  2.77259   \n",
       "area_min                                    0.693147   \n",
       "area_max                                     5.72359   \n",
       "area_std                                    0.837188   \n",
       "...                                              ...   \n",
       "area_mean_dow                                2.74328   \n",
       "area_median_dow                              2.83321   \n",
       "area_min_dow                                0.693147   \n",
       "area_max_dow                                 4.69135   \n",
       "area_std_dow                                0.807435   \n",
       "area_wht_mean_dow                              2.746   \n",
       "area_mean_hol                                2.71551   \n",
       "area_median_hol                              2.77259   \n",
       "area_min_hol                                0.693147   \n",
       "area_max_hol                                 5.72359   \n",
       "area_std_hol                                0.835082   \n",
       "area_wht_mean_hol                             2.7192   \n",
       "genre_mean_hol                               2.65023   \n",
       "genre_median_hol                             2.70805   \n",
       "genre_min_hol                               0.693147   \n",
       "genre_max_hol                                5.85507   \n",
       "genre_std_hol                               0.856288   \n",
       "genre_wht_mean_hol                           2.63969   \n",
       "genre_mean_dow                               2.58358   \n",
       "genre_median_dow                             2.63906   \n",
       "genre_min_dow                               0.693147   \n",
       "genre_max_dow                                4.66344   \n",
       "genre_std_dow                               0.830187   \n",
       "genre_wht_mean_dow                           2.57316   \n",
       "genre_mean                                   2.65416   \n",
       "genre_median                                 2.70805   \n",
       "genre_min                                   0.693147   \n",
       "genre_max                                    5.85507   \n",
       "genre_std                                   0.856871   \n",
       "genre_wht_mean                               2.64403   \n",
       "\n",
       "                                                   2  \\\n",
       "air_store_id                    air_ba937bf13d40fb24   \n",
       "visit_date                       2016-01-15 00:00:00   \n",
       "visitors                                      3.4012   \n",
       "month                                              1   \n",
       "time_numeric                                  1209.6   \n",
       "weights                                       1.0275   \n",
       "day_of_week                                   Friday   \n",
       "holiday_flg                                        0   \n",
       "store_dow_mdn                                3.61092   \n",
       "store_dow_mean                               3.51538   \n",
       "store_dow_min                                1.60944   \n",
       "store_dow_max                                4.12713   \n",
       "store_dow_std                               0.394008   \n",
       "store_wht_mean_dow                           3.49673   \n",
       "store_wht_mean_dow_hol                       3.53789   \n",
       "air_genre_name                            Dining bar   \n",
       "air_area_name           Tōkyō-to Minato-ku Shibakōen   \n",
       "latitude                                     35.6581   \n",
       "longitude                                    139.752   \n",
       "store_mean                                   3.04777   \n",
       "store_median                                 3.13549   \n",
       "store_min                                   0.693147   \n",
       "store_max                                    4.12713   \n",
       "store_std                                   0.588295   \n",
       "store_wht_mean                               3.01966   \n",
       "area_mean                                    2.71194   \n",
       "area_median                                  2.77259   \n",
       "area_min                                    0.693147   \n",
       "area_max                                     5.72359   \n",
       "area_std                                    0.837188   \n",
       "...                                              ...   \n",
       "area_mean_dow                                 2.9177   \n",
       "area_median_dow                              2.99573   \n",
       "area_min_dow                                0.693147   \n",
       "area_max_dow                                 4.81218   \n",
       "area_std_dow                                 0.79646   \n",
       "area_wht_mean_dow                            2.92195   \n",
       "area_mean_hol                                2.71551   \n",
       "area_median_hol                              2.77259   \n",
       "area_min_hol                                0.693147   \n",
       "area_max_hol                                 5.72359   \n",
       "area_std_hol                                0.835082   \n",
       "area_wht_mean_hol                             2.7192   \n",
       "genre_mean_hol                               2.65023   \n",
       "genre_median_hol                             2.70805   \n",
       "genre_min_hol                               0.693147   \n",
       "genre_max_hol                                5.85507   \n",
       "genre_std_hol                               0.856288   \n",
       "genre_wht_mean_hol                           2.63969   \n",
       "genre_mean_dow                               2.82717   \n",
       "genre_median_dow                             2.94444   \n",
       "genre_min_dow                               0.693147   \n",
       "genre_max_dow                                4.89035   \n",
       "genre_std_dow                               0.823287   \n",
       "genre_wht_mean_dow                           2.81987   \n",
       "genre_mean                                   2.65416   \n",
       "genre_median                                 2.70805   \n",
       "genre_min                                   0.693147   \n",
       "genre_max                                    5.85507   \n",
       "genre_std                                   0.856871   \n",
       "genre_wht_mean                               2.64403   \n",
       "\n",
       "                                                   3  \\\n",
       "air_store_id                    air_ba937bf13d40fb24   \n",
       "visit_date                       2016-01-16 00:00:00   \n",
       "visitors                                     3.13549   \n",
       "month                                              1   \n",
       "time_numeric                                    1296   \n",
       "weights                                       1.0295   \n",
       "day_of_week                                 Saturday   \n",
       "holiday_flg                                        0   \n",
       "store_dow_mdn                                3.34975   \n",
       "store_dow_mean                               3.29835   \n",
       "store_dow_min                                1.94591   \n",
       "store_dow_max                                3.98898   \n",
       "store_dow_std                               0.433301   \n",
       "store_wht_mean_dow                           3.31451   \n",
       "store_wht_mean_dow_hol                       3.32159   \n",
       "air_genre_name                            Dining bar   \n",
       "air_area_name           Tōkyō-to Minato-ku Shibakōen   \n",
       "latitude                                     35.6581   \n",
       "longitude                                    139.752   \n",
       "store_mean                                   3.04777   \n",
       "store_median                                 3.13549   \n",
       "store_min                                   0.693147   \n",
       "store_max                                    4.12713   \n",
       "store_std                                   0.588295   \n",
       "store_wht_mean                               3.01966   \n",
       "area_mean                                    2.71194   \n",
       "area_median                                  2.77259   \n",
       "area_min                                    0.693147   \n",
       "area_max                                     5.72359   \n",
       "area_std                                    0.837188   \n",
       "...                                              ...   \n",
       "area_mean_dow                                2.73636   \n",
       "area_median_dow                              2.77259   \n",
       "area_min_dow                                0.693147   \n",
       "area_max_dow                                 4.86753   \n",
       "area_std_dow                                0.836588   \n",
       "area_wht_mean_dow                            2.73668   \n",
       "area_mean_hol                                2.71551   \n",
       "area_median_hol                              2.77259   \n",
       "area_min_hol                                0.693147   \n",
       "area_max_hol                                 5.72359   \n",
       "area_std_hol                                0.835082   \n",
       "area_wht_mean_hol                             2.7192   \n",
       "genre_mean_hol                               2.65023   \n",
       "genre_median_hol                             2.70805   \n",
       "genre_min_hol                               0.693147   \n",
       "genre_max_hol                                5.85507   \n",
       "genre_std_hol                               0.856288   \n",
       "genre_wht_mean_hol                           2.63969   \n",
       "genre_mean_dow                               2.96764   \n",
       "genre_median_dow                             3.09104   \n",
       "genre_min_dow                               0.693147   \n",
       "genre_max_dow                                5.17615   \n",
       "genre_std_dow                               0.818861   \n",
       "genre_wht_mean_dow                           2.95917   \n",
       "genre_mean                                   2.65416   \n",
       "genre_median                                 2.70805   \n",
       "genre_min                                   0.693147   \n",
       "genre_max                                    5.85507   \n",
       "genre_std                                   0.856871   \n",
       "genre_wht_mean                               2.64403   \n",
       "\n",
       "                                                   4  \n",
       "air_store_id                    air_ba937bf13d40fb24  \n",
       "visit_date                       2016-01-18 00:00:00  \n",
       "visitors                                     1.94591  \n",
       "month                                              1  \n",
       "time_numeric                                  1468.8  \n",
       "weights                                      1.03349  \n",
       "day_of_week                                   Monday  \n",
       "holiday_flg                                        0  \n",
       "store_dow_mdn                                2.56495  \n",
       "store_dow_mean                               2.61342  \n",
       "store_dow_min                                1.09861  \n",
       "store_dow_max                                3.55535  \n",
       "store_dow_std                               0.513294  \n",
       "store_wht_mean_dow                            2.5796  \n",
       "store_wht_mean_dow_hol                        2.5796  \n",
       "air_genre_name                            Dining bar  \n",
       "air_area_name           Tōkyō-to Minato-ku Shibakōen  \n",
       "latitude                                     35.6581  \n",
       "longitude                                    139.752  \n",
       "store_mean                                   3.04777  \n",
       "store_median                                 3.13549  \n",
       "store_min                                   0.693147  \n",
       "store_max                                    4.12713  \n",
       "store_std                                   0.588295  \n",
       "store_wht_mean                               3.01966  \n",
       "area_mean                                    2.71194  \n",
       "area_median                                  2.77259  \n",
       "area_min                                    0.693147  \n",
       "area_max                                     5.72359  \n",
       "area_std                                    0.837188  \n",
       "...                                              ...  \n",
       "area_mean_dow                                2.43909  \n",
       "area_median_dow                              2.48491  \n",
       "area_min_dow                                0.693147  \n",
       "area_max_dow                                 5.72359  \n",
       "area_std_dow                                0.849239  \n",
       "area_wht_mean_dow                            2.45061  \n",
       "area_mean_hol                                2.71551  \n",
       "area_median_hol                              2.77259  \n",
       "area_min_hol                                0.693147  \n",
       "area_max_hol                                 5.72359  \n",
       "area_std_hol                                0.835082  \n",
       "area_wht_mean_hol                             2.7192  \n",
       "genre_mean_hol                               2.65023  \n",
       "genre_median_hol                             2.70805  \n",
       "genre_min_hol                               0.693147  \n",
       "genre_max_hol                                5.85507  \n",
       "genre_std_hol                               0.856288  \n",
       "genre_wht_mean_hol                           2.63969  \n",
       "genre_mean_dow                               2.42278  \n",
       "genre_median_dow                             2.48491  \n",
       "genre_min_dow                               0.693147  \n",
       "genre_max_dow                                5.85507  \n",
       "genre_std_dow                               0.827634  \n",
       "genre_wht_mean_dow                           2.40933  \n",
       "genre_mean                                   2.65416  \n",
       "genre_median                                 2.70805  \n",
       "genre_min                                   0.693147  \n",
       "genre_max                                    5.85507  \n",
       "genre_std                                   0.856871  \n",
       "genre_wht_mean                               2.64403  \n",
       "\n",
       "[61 rows x 5 columns]"
      ]
     },
     "execution_count": 36,
     "metadata": {},
     "output_type": "execute_result"
    }
   ],
   "source": [
    "final_df= data[\"tra_test\"].merge(data[\"hol\"],left_on=\"visit_date\",right_on=\"calendar_date\",how=\"left\").\\\n",
    "                    drop(\"calendar_date\",axis=1).\\\n",
    "                    merge(store_mean_dow,on=[\"air_store_id\",\"day_of_week\"],how=\"left\").\\\n",
    "                    merge(store_mean_dow_hol,on=[\"air_store_id\",\"day_of_week\",'holiday_flg'],how=\"left\").\\\n",
    "                    merge(data[\"as\"],on=[\"air_store_id\"],how=\"left\").\\\n",
    "                    merge(store_mean_0,on=[\"air_store_id\"],how=\"left\") .\\\n",
    "                    merge(area_mean_0,on=[\"air_area_name\"],how=\"left\").\\\n",
    "                    merge(area_mean_dow,on=[\"air_area_name\",\"day_of_week\"],how=\"left\") .\\\n",
    "                    merge(area_mean_hol,on=[\"air_area_name\",\"holiday_flg\"],how=\"left\") .\\\n",
    "                    merge(genre_mean_hol,on=[\"air_genre_name\",\"holiday_flg\"],how=\"left\").\\\n",
    "                    merge(genre_mean_dow,on=[\"air_genre_name\",\"day_of_week\"],how=\"left\").\\\n",
    "                    merge(genre_mean_0,on=[\"air_genre_name\"],how=\"left\")\n",
    "final_df[\"month\"]=final_df.visit_date.map(lambda x: x.month)\n",
    "final_df[\"month\"]=final_df[\"month\"].astype('category')           \n",
    "\n",
    "print(len(final_df),length_train_tot+length_test)\n",
    "assert(len(final_df)==length_train_tot+length_test)\n",
    "for c in final_df.columns:\n",
    "    if(final_df.isnull().any==True): print(c)\n",
    "        \n",
    "final_df.head().T\n",
    "\n"
   ]
  },
  {
   "cell_type": "markdown",
   "metadata": {},
   "source": [
    "One-hot encoding for day of week,month, genre, area"
   ]
  },
  {
   "cell_type": "code",
   "execution_count": 37,
   "metadata": {
    "collapsed": false,
    "scrolled": true
   },
   "outputs": [
    {
     "name": "stdout",
     "output_type": "stream",
     "text": [
      "55\n"
     ]
    }
   ],
   "source": [
    "final_df[\"month\"]=final_df[\"month\"].astype('category')\n",
    "#data[\"tra_as_hol\"].dtypes\n",
    "cols_to_enc=[\"month\",\"day_of_week\",\"air_genre_name\", 'air_area_name']\n",
    "dummies=pd.get_dummies(final_df[cols_to_enc])\n",
    "#data[\"tra_as_hol\"].join(dummies)\n",
    "\n",
    "enc=final_df.join(dummies)\n",
    "enc=final_df\n",
    "\n",
    "enc=enc.drop(cols_to_enc,axis=1).drop([\"latitude\",\"longitude\"],axis=1)\n",
    "enc.head()\n",
    "#for c in enc.columns: print(c)\n",
    "print(len(enc.columns))\n",
    "#print(enc.columns)\n",
    "\n"
   ]
  },
  {
   "cell_type": "markdown",
   "metadata": {},
   "source": [
    "Binary encoder"
   ]
  },
  {
   "cell_type": "code",
   "execution_count": 38,
   "metadata": {
    "collapsed": true
   },
   "outputs": [],
   "source": [
    "def f64_to_32(df):\n",
    "    float_cols=df.select_dtypes(include=[\"float64\"]).columns\n",
    "    int_cols=df.select_dtypes(include=[\"int64\"]).columns\n",
    "    for fc in float_cols:\n",
    "        #print(fc)\n",
    "        df[fc]=df[fc].astype(\"float32\")\n",
    "    for ic in int_cols:\n",
    "        #print(ic)\n",
    "        df[ic]=df[ic].astype(\"int32\")"
   ]
  },
  {
   "cell_type": "code",
   "execution_count": 39,
   "metadata": {
    "collapsed": false
   },
   "outputs": [
    {
     "name": "stdout",
     "output_type": "stream",
     "text": [
      "183.44307231903076\n",
      "104.32140254974365\n"
     ]
    }
   ],
   "source": [
    "import category_encoders as ce\n",
    "encoder = ce.BinaryEncoder(cols=cols_to_enc)\n",
    "enc2=encoder.fit_transform(final_df)\n",
    "\n",
    "print(sys.getsizeof(enc2)/1024/1024)\n",
    "f64_to_32(enc2)\n",
    "print(sys.getsizeof(enc2)/1024/1024)"
   ]
  },
  {
   "cell_type": "markdown",
   "metadata": {},
   "source": [
    "Divide train-test before-after"
   ]
  },
  {
   "cell_type": "code",
   "execution_count": 40,
   "metadata": {
    "collapsed": false
   },
   "outputs": [
    {
     "name": "stderr",
     "output_type": "stream",
     "text": [
      "/scratch/baruselli/inst/intelpython35/lib/python3.5/site-packages/ipykernel/__main__.py:4: UserWarning: Boolean Series key will be reindexed to match DataFrame index.\n",
      "/scratch/baruselli/inst/intelpython35/lib/python3.5/site-packages/ipykernel/__main__.py:5: UserWarning: Boolean Series key will be reindexed to match DataFrame index.\n"
     ]
    },
    {
     "name": "stdout",
     "output_type": "stream",
     "text": [
      "warning, null in df_test. store_dow_mdn\n",
      "warning, null in df_test. store_dow_mean\n",
      "warning, null in df_test. store_dow_min\n",
      "warning, null in df_test. store_dow_max\n",
      "warning, null in df_test. store_dow_std\n",
      "warning, null in df_test. store_wht_mean_dow\n",
      "warning, null in df_test. store_wht_mean_dow_hol\n",
      "warning, null in df_eval. store_dow_mdn\n",
      "warning, null in df_eval. store_dow_mean\n",
      "warning, null in df_eval. store_dow_min\n",
      "warning, null in df_eval. store_dow_max\n"
     ]
    },
    {
     "name": "stderr",
     "output_type": "stream",
     "text": [
      "/scratch/baruselli/inst/intelpython35/lib/python3.5/site-packages/pandas/core/generic.py:3295: SettingWithCopyWarning: \n",
      "A value is trying to be set on a copy of a slice from a DataFrame\n",
      "\n",
      "See the caveats in the documentation: http://pandas.pydata.org/pandas-docs/stable/indexing.html#indexing-view-versus-copy\n",
      "  self._update_inplace(new_data)\n"
     ]
    },
    {
     "name": "stdout",
     "output_type": "stream",
     "text": [
      "warning, null in df_eval. store_dow_std\n",
      "warning, null in df_eval. store_wht_mean_dow\n",
      "warning, null in df_eval. store_wht_mean_dow_hol\n",
      "252108 32019\n"
     ]
    }
   ],
   "source": [
    "df_train,df_test,df_eval=train_test_eval(enc,cut_date)\n",
    "print(len(df_train)+len(df_test),len(df_eval))\n",
    "assert(len(df_train)+len(df_test)==length_train_tot)\n",
    "assert(len(df_eval==length_test))"
   ]
  },
  {
   "cell_type": "code",
   "execution_count": 41,
   "metadata": {
    "collapsed": false
   },
   "outputs": [
    {
     "data": {
      "text/plain": [
       "<matplotlib.axes._subplots.AxesSubplot at 0x7f18e8dfcd68>"
      ]
     },
     "execution_count": 41,
     "metadata": {},
     "output_type": "execute_result"
    },
    {
     "data": {
      "image/png": "[encoded data removed]",
      "text/plain": [
       "<matplotlib.figure.Figure at 0x7f18e9ad6160>"
      ]
     },
     "metadata": {},
     "output_type": "display_data"
    }
   ],
   "source": [
    "%matplotlib inline\n",
    "df_train.groupby(\"visit_date\")[\"visitors\"].mean().plot()\n",
    "df_test.groupby(\"visit_date\")[\"visitors\"].mean().plot()"
   ]
  },
  {
   "cell_type": "code",
   "execution_count": 42,
   "metadata": {
    "collapsed": false
   },
   "outputs": [
    {
     "name": "stdout",
     "output_type": "stream",
     "text": [
      "103 108 108\n",
      "108 108\n"
     ]
    }
   ],
   "source": [
    "print(\n",
    "len(final_df[\"air_area_name\"].unique()),\n",
    "len(final_df[\"longitude\"].unique()),\n",
    "len(final_df[\"latitude\"].unique()),\n",
    ")\n",
    "print(\n",
    "len(final_df.groupby(['latitude', 'longitude']).size()),\n",
    "len(final_df.groupby([\"air_area_name\",'latitude', 'longitude']).size())\n",
    ")"
   ]
  },
  {
   "cell_type": "markdown",
   "metadata": {},
   "source": [
    "For each store I use mean, min, max, std, area, genre, day and holiday as predictors"
   ]
  },
  {
   "cell_type": "code",
   "execution_count": 43,
   "metadata": {
    "collapsed": false
   },
   "outputs": [
    {
     "data": {
      "text/html": [
       "<div>\n",
       "<table border=\"1\" class=\"dataframe\">\n",
       "  <thead>\n",
       "    <tr style=\"text-align: right;\">\n",
       "      <th></th>\n",
       "      <th>air_store_id</th>\n",
       "      <th>visit_date</th>\n",
       "      <th>visitors</th>\n",
       "      <th>time_numeric</th>\n",
       "      <th>weights</th>\n",
       "      <th>holiday_flg</th>\n",
       "      <th>store_dow_mdn</th>\n",
       "      <th>store_dow_mean</th>\n",
       "      <th>store_dow_min</th>\n",
       "      <th>store_dow_max</th>\n",
       "      <th>...</th>\n",
       "      <th>genre_min_dow</th>\n",
       "      <th>genre_max_dow</th>\n",
       "      <th>genre_std_dow</th>\n",
       "      <th>genre_wht_mean_dow</th>\n",
       "      <th>genre_mean</th>\n",
       "      <th>genre_median</th>\n",
       "      <th>genre_min</th>\n",
       "      <th>genre_max</th>\n",
       "      <th>genre_std</th>\n",
       "      <th>genre_wht_mean</th>\n",
       "    </tr>\n",
       "  </thead>\n",
       "  <tbody>\n",
       "    <tr>\n",
       "      <th>0</th>\n",
       "      <td>air_ba937bf13d40fb24</td>\n",
       "      <td>2016-01-13</td>\n",
       "      <td>3.258097</td>\n",
       "      <td>1036.8</td>\n",
       "      <td>1.023528</td>\n",
       "      <td>0</td>\n",
       "      <td>3.258097</td>\n",
       "      <td>3.168831</td>\n",
       "      <td>2.197225</td>\n",
       "      <td>4.060443</td>\n",
       "      <td>...</td>\n",
       "      <td>0.693147</td>\n",
       "      <td>5.093750</td>\n",
       "      <td>0.855531</td>\n",
       "      <td>2.558095</td>\n",
       "      <td>2.654155</td>\n",
       "      <td>2.70805</td>\n",
       "      <td>0.693147</td>\n",
       "      <td>5.855072</td>\n",
       "      <td>0.856871</td>\n",
       "      <td>2.644035</td>\n",
       "    </tr>\n",
       "    <tr>\n",
       "      <th>1</th>\n",
       "      <td>air_ba937bf13d40fb24</td>\n",
       "      <td>2016-01-14</td>\n",
       "      <td>3.496508</td>\n",
       "      <td>1123.2</td>\n",
       "      <td>1.025514</td>\n",
       "      <td>0</td>\n",
       "      <td>3.091042</td>\n",
       "      <td>2.965269</td>\n",
       "      <td>1.098612</td>\n",
       "      <td>4.007333</td>\n",
       "      <td>...</td>\n",
       "      <td>0.693147</td>\n",
       "      <td>4.663439</td>\n",
       "      <td>0.830187</td>\n",
       "      <td>2.573160</td>\n",
       "      <td>2.654155</td>\n",
       "      <td>2.70805</td>\n",
       "      <td>0.693147</td>\n",
       "      <td>5.855072</td>\n",
       "      <td>0.856871</td>\n",
       "      <td>2.644035</td>\n",
       "    </tr>\n",
       "    <tr>\n",
       "      <th>2</th>\n",
       "      <td>air_ba937bf13d40fb24</td>\n",
       "      <td>2016-01-15</td>\n",
       "      <td>3.401197</td>\n",
       "      <td>1209.6</td>\n",
       "      <td>1.027503</td>\n",
       "      <td>0</td>\n",
       "      <td>3.610918</td>\n",
       "      <td>3.515376</td>\n",
       "      <td>1.609438</td>\n",
       "      <td>4.127134</td>\n",
       "      <td>...</td>\n",
       "      <td>0.693147</td>\n",
       "      <td>4.890349</td>\n",
       "      <td>0.823287</td>\n",
       "      <td>2.819868</td>\n",
       "      <td>2.654155</td>\n",
       "      <td>2.70805</td>\n",
       "      <td>0.693147</td>\n",
       "      <td>5.855072</td>\n",
       "      <td>0.856871</td>\n",
       "      <td>2.644035</td>\n",
       "    </tr>\n",
       "    <tr>\n",
       "      <th>3</th>\n",
       "      <td>air_ba937bf13d40fb24</td>\n",
       "      <td>2016-01-16</td>\n",
       "      <td>3.135494</td>\n",
       "      <td>1296.0</td>\n",
       "      <td>1.029496</td>\n",
       "      <td>0</td>\n",
       "      <td>3.349750</td>\n",
       "      <td>3.298353</td>\n",
       "      <td>1.945910</td>\n",
       "      <td>3.988984</td>\n",
       "      <td>...</td>\n",
       "      <td>0.693147</td>\n",
       "      <td>5.176150</td>\n",
       "      <td>0.818861</td>\n",
       "      <td>2.959166</td>\n",
       "      <td>2.654155</td>\n",
       "      <td>2.70805</td>\n",
       "      <td>0.693147</td>\n",
       "      <td>5.855072</td>\n",
       "      <td>0.856871</td>\n",
       "      <td>2.644035</td>\n",
       "    </tr>\n",
       "    <tr>\n",
       "      <th>4</th>\n",
       "      <td>air_ba937bf13d40fb24</td>\n",
       "      <td>2016-01-18</td>\n",
       "      <td>1.945910</td>\n",
       "      <td>1468.8</td>\n",
       "      <td>1.033494</td>\n",
       "      <td>0</td>\n",
       "      <td>2.564949</td>\n",
       "      <td>2.613419</td>\n",
       "      <td>1.098612</td>\n",
       "      <td>3.555348</td>\n",
       "      <td>...</td>\n",
       "      <td>0.693147</td>\n",
       "      <td>5.855072</td>\n",
       "      <td>0.827634</td>\n",
       "      <td>2.409326</td>\n",
       "      <td>2.654155</td>\n",
       "      <td>2.70805</td>\n",
       "      <td>0.693147</td>\n",
       "      <td>5.855072</td>\n",
       "      <td>0.856871</td>\n",
       "      <td>2.644035</td>\n",
       "    </tr>\n",
       "  </tbody>\n",
       "</table>\n",
       "<p>5 rows × 55 columns</p>\n",
       "</div>"
      ],
      "text/plain": [
       "           air_store_id visit_date  visitors  time_numeric   weights  \\\n",
       "0  air_ba937bf13d40fb24 2016-01-13  3.258097        1036.8  1.023528   \n",
       "1  air_ba937bf13d40fb24 2016-01-14  3.496508        1123.2  1.025514   \n",
       "2  air_ba937bf13d40fb24 2016-01-15  3.401197        1209.6  1.027503   \n",
       "3  air_ba937bf13d40fb24 2016-01-16  3.135494        1296.0  1.029496   \n",
       "4  air_ba937bf13d40fb24 2016-01-18  1.945910        1468.8  1.033494   \n",
       "\n",
       "   holiday_flg  store_dow_mdn  store_dow_mean  store_dow_min  store_dow_max  \\\n",
       "0            0       3.258097        3.168831       2.197225       4.060443   \n",
       "1            0       3.091042        2.965269       1.098612       4.007333   \n",
       "2            0       3.610918        3.515376       1.609438       4.127134   \n",
       "3            0       3.349750        3.298353       1.945910       3.988984   \n",
       "4            0       2.564949        2.613419       1.098612       3.555348   \n",
       "\n",
       "        ...        genre_min_dow  genre_max_dow  genre_std_dow  \\\n",
       "0       ...             0.693147       5.093750       0.855531   \n",
       "1       ...             0.693147       4.663439       0.830187   \n",
       "2       ...             0.693147       4.890349       0.823287   \n",
       "3       ...             0.693147       5.176150       0.818861   \n",
       "4       ...             0.693147       5.855072       0.827634   \n",
       "\n",
       "   genre_wht_mean_dow  genre_mean  genre_median  genre_min  genre_max  \\\n",
       "0            2.558095    2.654155       2.70805   0.693147   5.855072   \n",
       "1            2.573160    2.654155       2.70805   0.693147   5.855072   \n",
       "2            2.819868    2.654155       2.70805   0.693147   5.855072   \n",
       "3            2.959166    2.654155       2.70805   0.693147   5.855072   \n",
       "4            2.409326    2.654155       2.70805   0.693147   5.855072   \n",
       "\n",
       "   genre_std  genre_wht_mean  \n",
       "0   0.856871        2.644035  \n",
       "1   0.856871        2.644035  \n",
       "2   0.856871        2.644035  \n",
       "3   0.856871        2.644035  \n",
       "4   0.856871        2.644035  \n",
       "\n",
       "[5 rows x 55 columns]"
      ]
     },
     "execution_count": 43,
     "metadata": {},
     "output_type": "execute_result"
    }
   ],
   "source": [
    "df_train.head()"
   ]
  },
  {
   "cell_type": "code",
   "execution_count": 44,
   "metadata": {
    "collapsed": true,
    "scrolled": true
   },
   "outputs": [],
   "source": [
    "def xy_train_test(df_train,df_test):\n",
    "    try:\n",
    "        X_train = df_train.drop([\"visitors\",\"visit_date\",\"air_store_id\",\"latitude\",\"longitude\"],axis=1).as_matrix()\n",
    "        X_test =  df_test.drop([\"visitors\",\"visit_date\",\"air_store_id\",\"latitude\",\"longitude\"],axis=1).as_matrix()\n",
    "    except:\n",
    "        #try:\n",
    "            X_train = df_train.drop([\"visitors\",\"visit_date\",\"air_store_id\"],axis=1).as_matrix()\n",
    "            X_test =  df_test.drop([\"visitors\",\"visit_date\",\"air_store_id\"],axis=1).as_matrix()\n",
    "        #except: \n",
    "        #            try:\n",
    "        #                X_train = df_train.drop([\"col_visitors\",\"col_visit_date\",\"col_air_store_id\",\"col_latitude\",\"col_longitude\"],axis=1).as_matrix()\n",
    "        #                X_test =  df_test.drop([\"col_visitors\",\"col_visit_date\",\"col_air_store_id\",\"col_latitude\",\"col_longitude\"],axis=1).as_matrix()\n",
    "        #            except:\n",
    "        #                X_train = df_train.drop([\"col_visitors\",\"col_visit_date\",\"col_air_store_id\"],axis=1).as_matrix()\n",
    "        #                X_test =  df_test.drop([\"col_visitors\",\"col_visit_date\",\"col_air_store_id\"],axis=1).as_matrix()\"\"\"\n",
    "    # Split the targets into training/testing sets\n",
    "    try:\n",
    "        y_train = df_train[\"visitors\"].values\n",
    "        y_test =  df_test[\"visitors\"].values\n",
    "    except:\n",
    "        y_train = df_train[\"col_visitors\"].values\n",
    "        y_test =  df_test[\"col_visitors\"].values\n",
    "        \n",
    "    #return(X_train,X_test,y_train,y_test)              \n",
    "    return(X_train.astype(\"float32\"),X_test.astype(\"float32\"),y_train.astype(\"float32\"),y_test.astype(\"float32\"))              \n",
    "\n",
    "\n",
    "def test(df_train,df_test,regr):\n",
    "    #print(df_train.columns)\n",
    "\n",
    "    (X_train,X_test,y_train,y_test) = xy_train_test(df_train,df_test)\n",
    "\n",
    "    #print(X_train.shape,y_train.shape)\n",
    "    #print(X_test.shape,y_test.shape)\n",
    "    regr.fit(X_train, y_train)\n",
    "    y_pred_train = regr.predict(X_train)\n",
    "    y_pred = regr.predict(X_test)\n",
    "    y_pred=np.maximum(0,y_pred)\n",
    "    y_pred_train=np.maximum(0,y_pred_train)\n",
    "    error=RMSE(y_test, y_pred)\n",
    "    error_train=RMSE(y_train, y_pred_train)\n",
    "    print(error,error_train)\n",
    "    return error,error_train"
   ]
  },
  {
   "cell_type": "code",
   "execution_count": 45,
   "metadata": {
    "collapsed": true
   },
   "outputs": [],
   "source": [
    "(X_train,X_test,y_train,y_test) = xy_train_test(df_train,df_test)"
   ]
  },
  {
   "cell_type": "code",
   "execution_count": 46,
   "metadata": {
    "collapsed": false
   },
   "outputs": [
    {
     "data": {
      "text/plain": [
       "(55, 75)"
      ]
     },
     "execution_count": 46,
     "metadata": {},
     "output_type": "execute_result"
    }
   ],
   "source": [
    "len(enc.columns),len(enc2.columns)"
   ]
  },
  {
   "cell_type": "code",
   "execution_count": null,
   "metadata": {
    "collapsed": false
   },
   "outputs": [],
   "source": []
  },
  {
   "cell_type": "code",
   "execution_count": 47,
   "metadata": {
    "collapsed": false,
    "scrolled": false
   },
   "outputs": [
    {
     "name": "stderr",
     "output_type": "stream",
     "text": [
      "/scratch/baruselli/inst/intelpython35/lib/python3.5/site-packages/ipykernel/__main__.py:4: UserWarning: Boolean Series key will be reindexed to match DataFrame index.\n",
      "/scratch/baruselli/inst/intelpython35/lib/python3.5/site-packages/ipykernel/__main__.py:5: UserWarning: Boolean Series key will be reindexed to match DataFrame index.\n"
     ]
    },
    {
     "name": "stdout",
     "output_type": "stream",
     "text": [
      "warning, null in df_test. store_dow_mdn\n",
      "warning, null in df_test. store_dow_mean\n",
      "warning, null in df_test. store_dow_min\n",
      "warning, null in df_test. store_dow_max\n",
      "warning, null in df_test. store_dow_std\n",
      "warning, null in df_test. store_wht_mean_dow\n",
      "warning, null in df_test. store_wht_mean_dow_hol\n",
      "warning, null in df_eval. store_dow_mdn\n",
      "warning, null in df_eval. store_dow_mean\n",
      "warning, null in df_eval. store_dow_min\n"
     ]
    },
    {
     "name": "stderr",
     "output_type": "stream",
     "text": [
      "/scratch/baruselli/inst/intelpython35/lib/python3.5/site-packages/pandas/core/generic.py:3295: SettingWithCopyWarning: \n",
      "A value is trying to be set on a copy of a slice from a DataFrame\n",
      "\n",
      "See the caveats in the documentation: http://pandas.pydata.org/pandas-docs/stable/indexing.html#indexing-view-versus-copy\n",
      "  self._update_inplace(new_data)\n"
     ]
    },
    {
     "name": "stdout",
     "output_type": "stream",
     "text": [
      "warning, null in df_eval. store_dow_max\n",
      "warning, null in df_eval. store_dow_std\n",
      "warning, null in df_eval. store_wht_mean_dow\n",
      "warning, null in df_eval. store_wht_mean_dow_hol\n",
      "0.574665466724 0.501477442864\n",
      "warning, null in df_test. store_dow_mdn\n",
      "warning, null in df_test. store_dow_mean\n",
      "warning, null in df_test. store_dow_min\n",
      "warning, null in df_test. store_dow_max\n",
      "warning, null in df_test. store_dow_std\n",
      "warning, null in df_test. store_wht_mean_dow\n",
      "warning, null in df_test. store_wht_mean_dow_hol\n",
      "warning, null in df_eval. store_dow_mdn\n",
      "warning, null in df_eval. store_dow_mean\n",
      "warning, null in df_eval. store_dow_min\n",
      "warning, null in df_eval. store_dow_max\n",
      "warning, null in df_eval. store_dow_std\n",
      "warning, null in df_eval. store_wht_mean_dow\n",
      "warning, null in df_eval. store_wht_mean_dow_hol\n",
      "0.574260580395 0.501268625175\n"
     ]
    },
    {
     "data": {
      "text/plain": [
       "(0.57426058039469452, 0.50126862517497373)"
      ]
     },
     "execution_count": 47,
     "metadata": {},
     "output_type": "execute_result"
    }
   ],
   "source": [
    "df_train,df_test,df_eval=train_test_eval(enc,cut_date)\n",
    "for c in df_train.columns:\n",
    "    if (df_train[c].isnull().any()): print(c)\n",
    "for c in df_test.columns:\n",
    "    if (df_test[c].isnull().any()): print(c)\n",
    "test(df_train,df_test, linear_model.LinearRegression())\n",
    "\n",
    "\n",
    "df_train,df_test,df_eval=train_test_eval(enc2,cut_date)\n",
    "for c in df_train.columns:\n",
    "    if (df_train[c].isnull().any()): print(c)\n",
    "for c in df_test.columns:\n",
    "    if (df_test[c].isnull().any()): print(c)        \n",
    "test(df_train,df_test, linear_model.LinearRegression())"
   ]
  },
  {
   "cell_type": "code",
   "execution_count": 48,
   "metadata": {
    "collapsed": false
   },
   "outputs": [
    {
     "name": "stderr",
     "output_type": "stream",
     "text": [
      "/scratch/baruselli/inst/intelpython35/lib/python3.5/site-packages/ipykernel/__main__.py:4: UserWarning: Boolean Series key will be reindexed to match DataFrame index.\n",
      "/scratch/baruselli/inst/intelpython35/lib/python3.5/site-packages/ipykernel/__main__.py:5: UserWarning: Boolean Series key will be reindexed to match DataFrame index.\n"
     ]
    },
    {
     "name": "stdout",
     "output_type": "stream",
     "text": [
      "warning, null in df_test. store_dow_mdn\n",
      "warning, null in df_test. store_dow_mean\n",
      "warning, null in df_test. store_dow_min\n",
      "warning, null in df_test. store_dow_max\n",
      "warning, null in df_test. store_dow_std\n",
      "warning, null in df_test. store_wht_mean_dow\n",
      "warning, null in df_test. store_wht_mean_dow_hol\n",
      "warning, null in df_eval. store_dow_mdn\n",
      "warning, null in df_eval. store_dow_mean\n"
     ]
    },
    {
     "name": "stderr",
     "output_type": "stream",
     "text": [
      "/scratch/baruselli/inst/intelpython35/lib/python3.5/site-packages/pandas/core/generic.py:3295: SettingWithCopyWarning: \n",
      "A value is trying to be set on a copy of a slice from a DataFrame\n",
      "\n",
      "See the caveats in the documentation: http://pandas.pydata.org/pandas-docs/stable/indexing.html#indexing-view-versus-copy\n",
      "  self._update_inplace(new_data)\n"
     ]
    },
    {
     "name": "stdout",
     "output_type": "stream",
     "text": [
      "warning, null in df_eval. store_dow_min\n",
      "warning, null in df_eval. store_dow_max\n",
      "warning, null in df_eval. store_dow_std\n",
      "warning, null in df_eval. store_wht_mean_dow\n",
      "warning, null in df_eval. store_wht_mean_dow_hol\n",
      "0.574260580395 0.501268625175\n",
      "0.577582620391 0.500513706957\n"
     ]
    },
    {
     "name": "stderr",
     "output_type": "stream",
     "text": [
      "/scratch/baruselli/inst/intelpython35/lib/python3.5/site-packages/scipy/linalg/basic.py:223: RuntimeWarning: scipy.linalg.solve\n",
      "Ill-conditioned matrix detected. Result is not guaranteed to be accurate.\n",
      "Reciprocal condition number: 1.3691791700409794e-08\n",
      "  ' condition number: {}'.format(rcond), RuntimeWarning)\n",
      "/scratch/baruselli/inst/intelpython35/lib/python3.5/site-packages/scipy/linalg/basic.py:223: RuntimeWarning: scipy.linalg.solve\n",
      "Ill-conditioned matrix detected. Result is not guaranteed to be accurate.\n",
      "Reciprocal condition number: 1.45930032502406e-08\n",
      "  ' condition number: {}'.format(rcond), RuntimeWarning)\n"
     ]
    },
    {
     "name": "stdout",
     "output_type": "stream",
     "text": [
      "0.577581769018 0.500513647414\n",
      "0.577576454353 0.500513706957\n"
     ]
    },
    {
     "name": "stderr",
     "output_type": "stream",
     "text": [
      "/scratch/baruselli/inst/intelpython35/lib/python3.5/site-packages/scipy/linalg/basic.py:223: RuntimeWarning: scipy.linalg.solve\n",
      "Ill-conditioned matrix detected. Result is not guaranteed to be accurate.\n",
      "Reciprocal condition number: 2.982942604035088e-08\n",
      "  ' condition number: {}'.format(rcond), RuntimeWarning)\n"
     ]
    },
    {
     "name": "stdout",
     "output_type": "stream",
     "text": [
      "0.577483078556 0.500514600108\n",
      "0.576648476246 0.500530259768\n",
      "0.573234779011 0.500778724319\n",
      "0.568990769618 0.501960635593\n",
      "0.5652485559 0.507756274118\n",
      "0.570040781796 0.52463187413\n"
     ]
    },
    {
     "data": {
      "text/plain": [
       "(0.57004078179581597, 0.52463187413032808)"
      ]
     },
     "execution_count": 48,
     "metadata": {},
     "output_type": "execute_result"
    }
   ],
   "source": [
    "#df_train,df_test,df_eval=train_test_eval(enc2,cut_date)\n",
    "df_train,df_test,df_eval=train_test_eval(enc2,cut_date)\n",
    "\n",
    "test(df_train,df_test, linear_model.LinearRegression())\n",
    "test(df_train,df_test, linear_model.Ridge(alpha=0.001))\n",
    "test(df_train,df_test, linear_model.Ridge(alpha=0.01))\n",
    "test(df_train,df_test, linear_model.Ridge(alpha=0.1))\n",
    "test(df_train,df_test, linear_model.Ridge(alpha=1))\n",
    "test(df_train,df_test, linear_model.Ridge(alpha=10))\n",
    "test(df_train,df_test, linear_model.Ridge(alpha=100))\n",
    "test(df_train,df_test, linear_model.Ridge(alpha=1000))\n",
    "test(df_train,df_test, linear_model.Ridge(alpha=10000))\n",
    "test(df_train,df_test, linear_model.Ridge(alpha=100000))\n",
    "#test(df_train,df_test, linear_model.Lasso(alpha=0.01))"
   ]
  },
  {
   "cell_type": "code",
   "execution_count": 49,
   "metadata": {
    "collapsed": false
   },
   "outputs": [
    {
     "name": "stdout",
     "output_type": "stream",
     "text": [
      "0.542106808298 0.41838001844\n"
     ]
    },
    {
     "ename": "KeyboardInterrupt",
     "evalue": "",
     "output_type": "error",
     "traceback": [
      "\u001b[1;31m---------------------------------------------------------------------------\u001b[0m",
      "\u001b[1;31mKeyboardInterrupt\u001b[0m                         Traceback (most recent call last)",
      "\u001b[1;32m<ipython-input-49-4bebb63562bf>\u001b[0m in \u001b[0;36m<module>\u001b[1;34m()\u001b[0m\n\u001b[0;32m     10\u001b[0m \u001b[1;31m#test(df_train,df_test,ensemble.RandomForestRegressor(n_estimators=200,max_features=\"log2\",max_depth=10))\u001b[0m\u001b[1;33m\u001b[0m\u001b[1;33m\u001b[0m\u001b[0m\n\u001b[0;32m     11\u001b[0m \u001b[0mtest\u001b[0m\u001b[1;33m(\u001b[0m\u001b[0mdf_train\u001b[0m\u001b[1;33m,\u001b[0m\u001b[0mdf_test\u001b[0m\u001b[1;33m,\u001b[0m\u001b[0mensemble\u001b[0m\u001b[1;33m.\u001b[0m\u001b[0mRandomForestRegressor\u001b[0m\u001b[1;33m(\u001b[0m\u001b[0mn_estimators\u001b[0m\u001b[1;33m=\u001b[0m\u001b[1;36m100\u001b[0m\u001b[1;33m,\u001b[0m\u001b[0mmax_features\u001b[0m\u001b[1;33m=\u001b[0m\u001b[1;34m\"log2\"\u001b[0m\u001b[1;33m,\u001b[0m\u001b[0mmax_depth\u001b[0m\u001b[1;33m=\u001b[0m\u001b[1;36m17\u001b[0m\u001b[1;33m)\u001b[0m\u001b[1;33m)\u001b[0m\u001b[1;33m\u001b[0m\u001b[0m\n\u001b[1;32m---> 12\u001b[1;33m \u001b[0mtest\u001b[0m\u001b[1;33m(\u001b[0m\u001b[0mdf_train\u001b[0m\u001b[1;33m,\u001b[0m\u001b[0mdf_test\u001b[0m\u001b[1;33m,\u001b[0m\u001b[0mensemble\u001b[0m\u001b[1;33m.\u001b[0m\u001b[0mRandomForestRegressor\u001b[0m\u001b[1;33m(\u001b[0m\u001b[0mn_estimators\u001b[0m\u001b[1;33m=\u001b[0m\u001b[1;36m100\u001b[0m\u001b[1;33m,\u001b[0m\u001b[0mmax_features\u001b[0m\u001b[1;33m=\u001b[0m\u001b[1;34m\"log2\"\u001b[0m\u001b[1;33m,\u001b[0m\u001b[0mmax_depth\u001b[0m\u001b[1;33m=\u001b[0m\u001b[1;36m16\u001b[0m\u001b[1;33m)\u001b[0m\u001b[1;33m)\u001b[0m\u001b[1;33m\u001b[0m\u001b[0m\n\u001b[0m\u001b[0;32m     13\u001b[0m \u001b[0mtest\u001b[0m\u001b[1;33m(\u001b[0m\u001b[0mdf_train\u001b[0m\u001b[1;33m,\u001b[0m\u001b[0mdf_test\u001b[0m\u001b[1;33m,\u001b[0m\u001b[0mensemble\u001b[0m\u001b[1;33m.\u001b[0m\u001b[0mRandomForestRegressor\u001b[0m\u001b[1;33m(\u001b[0m\u001b[0mn_estimators\u001b[0m\u001b[1;33m=\u001b[0m\u001b[1;36m100\u001b[0m\u001b[1;33m,\u001b[0m\u001b[0mmax_features\u001b[0m\u001b[1;33m=\u001b[0m\u001b[1;34m\"log2\"\u001b[0m\u001b[1;33m,\u001b[0m\u001b[0mmax_depth\u001b[0m\u001b[1;33m=\u001b[0m\u001b[1;36m15\u001b[0m\u001b[1;33m)\u001b[0m\u001b[1;33m)\u001b[0m\u001b[1;33m\u001b[0m\u001b[0m\n\u001b[0;32m     14\u001b[0m \u001b[0mtest\u001b[0m\u001b[1;33m(\u001b[0m\u001b[0mdf_train\u001b[0m\u001b[1;33m,\u001b[0m\u001b[0mdf_test\u001b[0m\u001b[1;33m,\u001b[0m\u001b[0mensemble\u001b[0m\u001b[1;33m.\u001b[0m\u001b[0mRandomForestRegressor\u001b[0m\u001b[1;33m(\u001b[0m\u001b[0mn_estimators\u001b[0m\u001b[1;33m=\u001b[0m\u001b[1;36m100\u001b[0m\u001b[1;33m,\u001b[0m\u001b[0mmax_features\u001b[0m\u001b[1;33m=\u001b[0m\u001b[1;34m\"log2\"\u001b[0m\u001b[1;33m,\u001b[0m\u001b[0mmax_depth\u001b[0m\u001b[1;33m=\u001b[0m\u001b[1;36m14\u001b[0m\u001b[1;33m)\u001b[0m\u001b[1;33m)\u001b[0m\u001b[1;33m\u001b[0m\u001b[0m\n",
      "\u001b[1;32m<ipython-input-44-77ed4b1ae413>\u001b[0m in \u001b[0;36mtest\u001b[1;34m(df_train, df_test, regr)\u001b[0m\n\u001b[0;32m     33\u001b[0m     \u001b[1;31m#print(X_train.shape,y_train.shape)\u001b[0m\u001b[1;33m\u001b[0m\u001b[1;33m\u001b[0m\u001b[0m\n\u001b[0;32m     34\u001b[0m     \u001b[1;31m#print(X_test.shape,y_test.shape)\u001b[0m\u001b[1;33m\u001b[0m\u001b[1;33m\u001b[0m\u001b[0m\n\u001b[1;32m---> 35\u001b[1;33m     \u001b[0mregr\u001b[0m\u001b[1;33m.\u001b[0m\u001b[0mfit\u001b[0m\u001b[1;33m(\u001b[0m\u001b[0mX_train\u001b[0m\u001b[1;33m,\u001b[0m \u001b[0my_train\u001b[0m\u001b[1;33m)\u001b[0m\u001b[1;33m\u001b[0m\u001b[0m\n\u001b[0m\u001b[0;32m     36\u001b[0m     \u001b[0my_pred_train\u001b[0m \u001b[1;33m=\u001b[0m \u001b[0mregr\u001b[0m\u001b[1;33m.\u001b[0m\u001b[0mpredict\u001b[0m\u001b[1;33m(\u001b[0m\u001b[0mX_train\u001b[0m\u001b[1;33m)\u001b[0m\u001b[1;33m\u001b[0m\u001b[0m\n\u001b[0;32m     37\u001b[0m     \u001b[0my_pred\u001b[0m \u001b[1;33m=\u001b[0m \u001b[0mregr\u001b[0m\u001b[1;33m.\u001b[0m\u001b[0mpredict\u001b[0m\u001b[1;33m(\u001b[0m\u001b[0mX_test\u001b[0m\u001b[1;33m)\u001b[0m\u001b[1;33m\u001b[0m\u001b[0m\n",
      "\u001b[1;32m/scratch/baruselli/inst/intelpython35/lib/python3.5/site-packages/sklearn/ensemble/forest.py\u001b[0m in \u001b[0;36mfit\u001b[1;34m(self, X, y, sample_weight)\u001b[0m\n\u001b[0;32m    326\u001b[0m                     \u001b[0mt\u001b[0m\u001b[1;33m,\u001b[0m \u001b[0mself\u001b[0m\u001b[1;33m,\u001b[0m \u001b[0mX\u001b[0m\u001b[1;33m,\u001b[0m \u001b[0my\u001b[0m\u001b[1;33m,\u001b[0m \u001b[0msample_weight\u001b[0m\u001b[1;33m,\u001b[0m \u001b[0mi\u001b[0m\u001b[1;33m,\u001b[0m \u001b[0mlen\u001b[0m\u001b[1;33m(\u001b[0m\u001b[0mtrees\u001b[0m\u001b[1;33m)\u001b[0m\u001b[1;33m,\u001b[0m\u001b[1;33m\u001b[0m\u001b[0m\n\u001b[0;32m    327\u001b[0m                     verbose=self.verbose, class_weight=self.class_weight)\n\u001b[1;32m--> 328\u001b[1;33m                 for i, t in enumerate(trees))\n\u001b[0m\u001b[0;32m    329\u001b[0m \u001b[1;33m\u001b[0m\u001b[0m\n\u001b[0;32m    330\u001b[0m             \u001b[1;31m# Collect newly grown trees\u001b[0m\u001b[1;33m\u001b[0m\u001b[1;33m\u001b[0m\u001b[0m\n",
      "\u001b[1;32m/scratch/baruselli/inst/intelpython35/lib/python3.5/site-packages/sklearn/externals/joblib/parallel.py\u001b[0m in \u001b[0;36m__call__\u001b[1;34m(self, iterable)\u001b[0m\n\u001b[0;32m    777\u001b[0m             \u001b[1;31m# was dispatched. In particular this covers the edge\u001b[0m\u001b[1;33m\u001b[0m\u001b[1;33m\u001b[0m\u001b[0m\n\u001b[0;32m    778\u001b[0m             \u001b[1;31m# case of Parallel used with an exhausted iterator.\u001b[0m\u001b[1;33m\u001b[0m\u001b[1;33m\u001b[0m\u001b[0m\n\u001b[1;32m--> 779\u001b[1;33m             \u001b[1;32mwhile\u001b[0m \u001b[0mself\u001b[0m\u001b[1;33m.\u001b[0m\u001b[0mdispatch_one_batch\u001b[0m\u001b[1;33m(\u001b[0m\u001b[0miterator\u001b[0m\u001b[1;33m)\u001b[0m\u001b[1;33m:\u001b[0m\u001b[1;33m\u001b[0m\u001b[0m\n\u001b[0m\u001b[0;32m    780\u001b[0m                 \u001b[0mself\u001b[0m\u001b[1;33m.\u001b[0m\u001b[0m_iterating\u001b[0m \u001b[1;33m=\u001b[0m \u001b[1;32mTrue\u001b[0m\u001b[1;33m\u001b[0m\u001b[0m\n\u001b[0;32m    781\u001b[0m             \u001b[1;32melse\u001b[0m\u001b[1;33m:\u001b[0m\u001b[1;33m\u001b[0m\u001b[0m\n",
      "\u001b[1;32m/scratch/baruselli/inst/intelpython35/lib/python3.5/site-packages/sklearn/externals/joblib/parallel.py\u001b[0m in \u001b[0;36mdispatch_one_batch\u001b[1;34m(self, iterator)\u001b[0m\n\u001b[0;32m    623\u001b[0m                 \u001b[1;32mreturn\u001b[0m \u001b[1;32mFalse\u001b[0m\u001b[1;33m\u001b[0m\u001b[0m\n\u001b[0;32m    624\u001b[0m             \u001b[1;32melse\u001b[0m\u001b[1;33m:\u001b[0m\u001b[1;33m\u001b[0m\u001b[0m\n\u001b[1;32m--> 625\u001b[1;33m                 \u001b[0mself\u001b[0m\u001b[1;33m.\u001b[0m\u001b[0m_dispatch\u001b[0m\u001b[1;33m(\u001b[0m\u001b[0mtasks\u001b[0m\u001b[1;33m)\u001b[0m\u001b[1;33m\u001b[0m\u001b[0m\n\u001b[0m\u001b[0;32m    626\u001b[0m                 \u001b[1;32mreturn\u001b[0m \u001b[1;32mTrue\u001b[0m\u001b[1;33m\u001b[0m\u001b[0m\n\u001b[0;32m    627\u001b[0m \u001b[1;33m\u001b[0m\u001b[0m\n",
      "\u001b[1;32m/scratch/baruselli/inst/intelpython35/lib/python3.5/site-packages/sklearn/externals/joblib/parallel.py\u001b[0m in \u001b[0;36m_dispatch\u001b[1;34m(self, batch)\u001b[0m\n\u001b[0;32m    586\u001b[0m         \u001b[0mdispatch_timestamp\u001b[0m \u001b[1;33m=\u001b[0m \u001b[0mtime\u001b[0m\u001b[1;33m.\u001b[0m\u001b[0mtime\u001b[0m\u001b[1;33m(\u001b[0m\u001b[1;33m)\u001b[0m\u001b[1;33m\u001b[0m\u001b[0m\n\u001b[0;32m    587\u001b[0m         \u001b[0mcb\u001b[0m \u001b[1;33m=\u001b[0m \u001b[0mBatchCompletionCallBack\u001b[0m\u001b[1;33m(\u001b[0m\u001b[0mdispatch_timestamp\u001b[0m\u001b[1;33m,\u001b[0m \u001b[0mlen\u001b[0m\u001b[1;33m(\u001b[0m\u001b[0mbatch\u001b[0m\u001b[1;33m)\u001b[0m\u001b[1;33m,\u001b[0m \u001b[0mself\u001b[0m\u001b[1;33m)\u001b[0m\u001b[1;33m\u001b[0m\u001b[0m\n\u001b[1;32m--> 588\u001b[1;33m         \u001b[0mjob\u001b[0m \u001b[1;33m=\u001b[0m \u001b[0mself\u001b[0m\u001b[1;33m.\u001b[0m\u001b[0m_backend\u001b[0m\u001b[1;33m.\u001b[0m\u001b[0mapply_async\u001b[0m\u001b[1;33m(\u001b[0m\u001b[0mbatch\u001b[0m\u001b[1;33m,\u001b[0m \u001b[0mcallback\u001b[0m\u001b[1;33m=\u001b[0m\u001b[0mcb\u001b[0m\u001b[1;33m)\u001b[0m\u001b[1;33m\u001b[0m\u001b[0m\n\u001b[0m\u001b[0;32m    589\u001b[0m         \u001b[0mself\u001b[0m\u001b[1;33m.\u001b[0m\u001b[0m_jobs\u001b[0m\u001b[1;33m.\u001b[0m\u001b[0mappend\u001b[0m\u001b[1;33m(\u001b[0m\u001b[0mjob\u001b[0m\u001b[1;33m)\u001b[0m\u001b[1;33m\u001b[0m\u001b[0m\n\u001b[0;32m    590\u001b[0m \u001b[1;33m\u001b[0m\u001b[0m\n",
      "\u001b[1;32m/scratch/baruselli/inst/intelpython35/lib/python3.5/site-packages/sklearn/externals/joblib/_parallel_backends.py\u001b[0m in \u001b[0;36mapply_async\u001b[1;34m(self, func, callback)\u001b[0m\n\u001b[0;32m    109\u001b[0m     \u001b[1;32mdef\u001b[0m \u001b[0mapply_async\u001b[0m\u001b[1;33m(\u001b[0m\u001b[0mself\u001b[0m\u001b[1;33m,\u001b[0m \u001b[0mfunc\u001b[0m\u001b[1;33m,\u001b[0m \u001b[0mcallback\u001b[0m\u001b[1;33m=\u001b[0m\u001b[1;32mNone\u001b[0m\u001b[1;33m)\u001b[0m\u001b[1;33m:\u001b[0m\u001b[1;33m\u001b[0m\u001b[0m\n\u001b[0;32m    110\u001b[0m         \u001b[1;34m\"\"\"Schedule a func to be run\"\"\"\u001b[0m\u001b[1;33m\u001b[0m\u001b[0m\n\u001b[1;32m--> 111\u001b[1;33m         \u001b[0mresult\u001b[0m \u001b[1;33m=\u001b[0m \u001b[0mImmediateResult\u001b[0m\u001b[1;33m(\u001b[0m\u001b[0mfunc\u001b[0m\u001b[1;33m)\u001b[0m\u001b[1;33m\u001b[0m\u001b[0m\n\u001b[0m\u001b[0;32m    112\u001b[0m         \u001b[1;32mif\u001b[0m \u001b[0mcallback\u001b[0m\u001b[1;33m:\u001b[0m\u001b[1;33m\u001b[0m\u001b[0m\n\u001b[0;32m    113\u001b[0m             \u001b[0mcallback\u001b[0m\u001b[1;33m(\u001b[0m\u001b[0mresult\u001b[0m\u001b[1;33m)\u001b[0m\u001b[1;33m\u001b[0m\u001b[0m\n",
      "\u001b[1;32m/scratch/baruselli/inst/intelpython35/lib/python3.5/site-packages/sklearn/externals/joblib/_parallel_backends.py\u001b[0m in \u001b[0;36m__init__\u001b[1;34m(self, batch)\u001b[0m\n\u001b[0;32m    330\u001b[0m         \u001b[1;31m# Don't delay the application, to avoid keeping the input\u001b[0m\u001b[1;33m\u001b[0m\u001b[1;33m\u001b[0m\u001b[0m\n\u001b[0;32m    331\u001b[0m         \u001b[1;31m# arguments in memory\u001b[0m\u001b[1;33m\u001b[0m\u001b[1;33m\u001b[0m\u001b[0m\n\u001b[1;32m--> 332\u001b[1;33m         \u001b[0mself\u001b[0m\u001b[1;33m.\u001b[0m\u001b[0mresults\u001b[0m \u001b[1;33m=\u001b[0m \u001b[0mbatch\u001b[0m\u001b[1;33m(\u001b[0m\u001b[1;33m)\u001b[0m\u001b[1;33m\u001b[0m\u001b[0m\n\u001b[0m\u001b[0;32m    333\u001b[0m \u001b[1;33m\u001b[0m\u001b[0m\n\u001b[0;32m    334\u001b[0m     \u001b[1;32mdef\u001b[0m \u001b[0mget\u001b[0m\u001b[1;33m(\u001b[0m\u001b[0mself\u001b[0m\u001b[1;33m)\u001b[0m\u001b[1;33m:\u001b[0m\u001b[1;33m\u001b[0m\u001b[0m\n",
      "\u001b[1;32m/scratch/baruselli/inst/intelpython35/lib/python3.5/site-packages/sklearn/externals/joblib/parallel.py\u001b[0m in \u001b[0;36m__call__\u001b[1;34m(self)\u001b[0m\n\u001b[0;32m    129\u001b[0m \u001b[1;33m\u001b[0m\u001b[0m\n\u001b[0;32m    130\u001b[0m     \u001b[1;32mdef\u001b[0m \u001b[0m__call__\u001b[0m\u001b[1;33m(\u001b[0m\u001b[0mself\u001b[0m\u001b[1;33m)\u001b[0m\u001b[1;33m:\u001b[0m\u001b[1;33m\u001b[0m\u001b[0m\n\u001b[1;32m--> 131\u001b[1;33m         \u001b[1;32mreturn\u001b[0m \u001b[1;33m[\u001b[0m\u001b[0mfunc\u001b[0m\u001b[1;33m(\u001b[0m\u001b[1;33m*\u001b[0m\u001b[0margs\u001b[0m\u001b[1;33m,\u001b[0m \u001b[1;33m**\u001b[0m\u001b[0mkwargs\u001b[0m\u001b[1;33m)\u001b[0m \u001b[1;32mfor\u001b[0m \u001b[0mfunc\u001b[0m\u001b[1;33m,\u001b[0m \u001b[0margs\u001b[0m\u001b[1;33m,\u001b[0m \u001b[0mkwargs\u001b[0m \u001b[1;32min\u001b[0m \u001b[0mself\u001b[0m\u001b[1;33m.\u001b[0m\u001b[0mitems\u001b[0m\u001b[1;33m]\u001b[0m\u001b[1;33m\u001b[0m\u001b[0m\n\u001b[0m\u001b[0;32m    132\u001b[0m \u001b[1;33m\u001b[0m\u001b[0m\n\u001b[0;32m    133\u001b[0m     \u001b[1;32mdef\u001b[0m \u001b[0m__len__\u001b[0m\u001b[1;33m(\u001b[0m\u001b[0mself\u001b[0m\u001b[1;33m)\u001b[0m\u001b[1;33m:\u001b[0m\u001b[1;33m\u001b[0m\u001b[0m\n",
      "\u001b[1;32m/scratch/baruselli/inst/intelpython35/lib/python3.5/site-packages/sklearn/externals/joblib/parallel.py\u001b[0m in \u001b[0;36m<listcomp>\u001b[1;34m(.0)\u001b[0m\n\u001b[0;32m    129\u001b[0m \u001b[1;33m\u001b[0m\u001b[0m\n\u001b[0;32m    130\u001b[0m     \u001b[1;32mdef\u001b[0m \u001b[0m__call__\u001b[0m\u001b[1;33m(\u001b[0m\u001b[0mself\u001b[0m\u001b[1;33m)\u001b[0m\u001b[1;33m:\u001b[0m\u001b[1;33m\u001b[0m\u001b[0m\n\u001b[1;32m--> 131\u001b[1;33m         \u001b[1;32mreturn\u001b[0m \u001b[1;33m[\u001b[0m\u001b[0mfunc\u001b[0m\u001b[1;33m(\u001b[0m\u001b[1;33m*\u001b[0m\u001b[0margs\u001b[0m\u001b[1;33m,\u001b[0m \u001b[1;33m**\u001b[0m\u001b[0mkwargs\u001b[0m\u001b[1;33m)\u001b[0m \u001b[1;32mfor\u001b[0m \u001b[0mfunc\u001b[0m\u001b[1;33m,\u001b[0m \u001b[0margs\u001b[0m\u001b[1;33m,\u001b[0m \u001b[0mkwargs\u001b[0m \u001b[1;32min\u001b[0m \u001b[0mself\u001b[0m\u001b[1;33m.\u001b[0m\u001b[0mitems\u001b[0m\u001b[1;33m]\u001b[0m\u001b[1;33m\u001b[0m\u001b[0m\n\u001b[0m\u001b[0;32m    132\u001b[0m \u001b[1;33m\u001b[0m\u001b[0m\n\u001b[0;32m    133\u001b[0m     \u001b[1;32mdef\u001b[0m \u001b[0m__len__\u001b[0m\u001b[1;33m(\u001b[0m\u001b[0mself\u001b[0m\u001b[1;33m)\u001b[0m\u001b[1;33m:\u001b[0m\u001b[1;33m\u001b[0m\u001b[0m\n",
      "\u001b[1;32m/scratch/baruselli/inst/intelpython35/lib/python3.5/site-packages/sklearn/ensemble/forest.py\u001b[0m in \u001b[0;36m_parallel_build_trees\u001b[1;34m(tree, forest, X, y, sample_weight, tree_idx, n_trees, verbose, class_weight)\u001b[0m\n\u001b[0;32m    119\u001b[0m             \u001b[0mcurr_sample_weight\u001b[0m \u001b[1;33m*=\u001b[0m \u001b[0mcompute_sample_weight\u001b[0m\u001b[1;33m(\u001b[0m\u001b[1;34m'balanced'\u001b[0m\u001b[1;33m,\u001b[0m \u001b[0my\u001b[0m\u001b[1;33m,\u001b[0m \u001b[0mindices\u001b[0m\u001b[1;33m)\u001b[0m\u001b[1;33m\u001b[0m\u001b[0m\n\u001b[0;32m    120\u001b[0m \u001b[1;33m\u001b[0m\u001b[0m\n\u001b[1;32m--> 121\u001b[1;33m         \u001b[0mtree\u001b[0m\u001b[1;33m.\u001b[0m\u001b[0mfit\u001b[0m\u001b[1;33m(\u001b[0m\u001b[0mX\u001b[0m\u001b[1;33m,\u001b[0m \u001b[0my\u001b[0m\u001b[1;33m,\u001b[0m \u001b[0msample_weight\u001b[0m\u001b[1;33m=\u001b[0m\u001b[0mcurr_sample_weight\u001b[0m\u001b[1;33m,\u001b[0m \u001b[0mcheck_input\u001b[0m\u001b[1;33m=\u001b[0m\u001b[1;32mFalse\u001b[0m\u001b[1;33m)\u001b[0m\u001b[1;33m\u001b[0m\u001b[0m\n\u001b[0m\u001b[0;32m    122\u001b[0m     \u001b[1;32melse\u001b[0m\u001b[1;33m:\u001b[0m\u001b[1;33m\u001b[0m\u001b[0m\n\u001b[0;32m    123\u001b[0m         \u001b[0mtree\u001b[0m\u001b[1;33m.\u001b[0m\u001b[0mfit\u001b[0m\u001b[1;33m(\u001b[0m\u001b[0mX\u001b[0m\u001b[1;33m,\u001b[0m \u001b[0my\u001b[0m\u001b[1;33m,\u001b[0m \u001b[0msample_weight\u001b[0m\u001b[1;33m=\u001b[0m\u001b[0msample_weight\u001b[0m\u001b[1;33m,\u001b[0m \u001b[0mcheck_input\u001b[0m\u001b[1;33m=\u001b[0m\u001b[1;32mFalse\u001b[0m\u001b[1;33m)\u001b[0m\u001b[1;33m\u001b[0m\u001b[0m\n",
      "\u001b[1;32m/scratch/baruselli/inst/intelpython35/lib/python3.5/site-packages/sklearn/tree/tree.py\u001b[0m in \u001b[0;36mfit\u001b[1;34m(self, X, y, sample_weight, check_input, X_idx_sorted)\u001b[0m\n\u001b[0;32m   1122\u001b[0m             \u001b[0msample_weight\u001b[0m\u001b[1;33m=\u001b[0m\u001b[0msample_weight\u001b[0m\u001b[1;33m,\u001b[0m\u001b[1;33m\u001b[0m\u001b[0m\n\u001b[0;32m   1123\u001b[0m             \u001b[0mcheck_input\u001b[0m\u001b[1;33m=\u001b[0m\u001b[0mcheck_input\u001b[0m\u001b[1;33m,\u001b[0m\u001b[1;33m\u001b[0m\u001b[0m\n\u001b[1;32m-> 1124\u001b[1;33m             X_idx_sorted=X_idx_sorted)\n\u001b[0m\u001b[0;32m   1125\u001b[0m         \u001b[1;32mreturn\u001b[0m \u001b[0mself\u001b[0m\u001b[1;33m\u001b[0m\u001b[0m\n\u001b[0;32m   1126\u001b[0m \u001b[1;33m\u001b[0m\u001b[0m\n",
      "\u001b[1;32m/scratch/baruselli/inst/intelpython35/lib/python3.5/site-packages/sklearn/tree/tree.py\u001b[0m in \u001b[0;36mfit\u001b[1;34m(self, X, y, sample_weight, check_input, X_idx_sorted)\u001b[0m\n\u001b[0;32m    360\u001b[0m                                            min_impurity_split)\n\u001b[0;32m    361\u001b[0m \u001b[1;33m\u001b[0m\u001b[0m\n\u001b[1;32m--> 362\u001b[1;33m         \u001b[0mbuilder\u001b[0m\u001b[1;33m.\u001b[0m\u001b[0mbuild\u001b[0m\u001b[1;33m(\u001b[0m\u001b[0mself\u001b[0m\u001b[1;33m.\u001b[0m\u001b[0mtree_\u001b[0m\u001b[1;33m,\u001b[0m \u001b[0mX\u001b[0m\u001b[1;33m,\u001b[0m \u001b[0my\u001b[0m\u001b[1;33m,\u001b[0m \u001b[0msample_weight\u001b[0m\u001b[1;33m,\u001b[0m \u001b[0mX_idx_sorted\u001b[0m\u001b[1;33m)\u001b[0m\u001b[1;33m\u001b[0m\u001b[0m\n\u001b[0m\u001b[0;32m    363\u001b[0m \u001b[1;33m\u001b[0m\u001b[0m\n\u001b[0;32m    364\u001b[0m         \u001b[1;32mif\u001b[0m \u001b[0mself\u001b[0m\u001b[1;33m.\u001b[0m\u001b[0mn_outputs_\u001b[0m \u001b[1;33m==\u001b[0m \u001b[1;36m1\u001b[0m\u001b[1;33m:\u001b[0m\u001b[1;33m\u001b[0m\u001b[0m\n",
      "\u001b[1;31mKeyboardInterrupt\u001b[0m: "
     ]
    }
   ],
   "source": [
    "#test(df_train,df_test, svm.SVR(C=0.01))\n",
    "#test(df_train,df_test, svm.SVR(C=0.1))\n",
    "#test(df_train,df_test, svm.SVR(C=1))\n",
    "#test(df_train,df_test, svm.SVR(C=10))\n",
    "#test(df_train,df_test, svm.SVR(C=100))\n",
    "\n",
    "#test(df_train,df_test,ensemble.RandomForestRegressor(n_estimators=100,max_features=\"sqrt\",max_depth=20))\n",
    "#test(df_train,df_test,ensemble.RandomForestRegressor(n_estimators=5,max_features=\"sqrt\",max_depth=20))\n",
    "#test(df_train,df_test,ensemble.AdaBoostRegressor)\n",
    "#test(df_train,df_test,ensemble.RandomForestRegressor(n_estimators=200,max_features=\"log2\",max_depth=10))\n",
    "test(df_train,df_test,ensemble.RandomForestRegressor(n_estimators=100,max_features=\"log2\",max_depth=17))\n",
    "test(df_train,df_test,ensemble.RandomForestRegressor(n_estimators=100,max_features=\"log2\",max_depth=16))\n",
    "test(df_train,df_test,ensemble.RandomForestRegressor(n_estimators=100,max_features=\"log2\",max_depth=15))\n",
    "test(df_train,df_test,ensemble.RandomForestRegressor(n_estimators=100,max_features=\"log2\",max_depth=14))\n",
    "test(df_train,df_test,ensemble.RandomForestRegressor(n_estimators=100,max_features=\"log2\",max_depth=13))\n",
    "test(df_train,df_test,ensemble.RandomForestRegressor(n_estimators=100,max_features=\"log2\",max_depth=12))\n",
    "test(df_train,df_test,ensemble.RandomForestRegressor(n_estimators=100,max_features=\"log2\",max_depth=11))\n",
    "test(df_train,df_test,ensemble.RandomForestRegressor(n_estimators=100,max_features=\"log2\",max_depth=10))\n",
    "test(df_train,df_test,ensemble.RandomForestRegressor(n_estimators=100,max_features=\"log2\",max_depth=9))\n",
    "test(df_train,df_test,ensemble.RandomForestRegressor(n_estimators=100,max_features=\"log2\",max_depth=8))\n",
    "test(df_train,df_test,ensemble.RandomForestRegressor(n_estimators=100,max_features=\"log2\",max_depth=7))\n",
    "#test(df_train,df_test,ensemble.RandomForestRegressor(n_estimators=90,max_features=\"log2\",max_depth=17))\n",
    "#test(df_train,df_test,ensemble.RandomForestRegressor(n_estimators=120,max_features=\"log2\",max_depth=13))\n",
    "#test(df_train,df_test,ensemble.RandomForestRegressor(n_estimators=80,max_features=\"log2\",max_depth=18))\n",
    "#test(df_train,df_test,ensemble.RandomForestRegressor(n_estimators=150,max_features=\"log2\",max_depth=12))\n",
    "#test(df_train,df_test,ensemble.RandomForestRegressor(n_estimators=180,max_features=\"log2\",max_depth=10))\n",
    "#test(df_train,df_test,ensemble.RandomForestRegressor(n_estimators=80,max_features=\"log2\",max_depth=15))\n",
    "#test(df_train,df_test,ensemble.RandomForestRegressor(n_estimators=100,max_features=\"log2\",max_depth=15))\n",
    "#test(df_train,df_test,ensemble.RandomForestRegressor(n_estimators=100,max_features=\"log2\",max_depth=14))\n",
    "\n",
    "#test(df_train,df_test,ensemble.RandomForestRegressor(n_estimators=100,max_features=\"log2\",max_depth=14))\n",
    "#test(df_train,df_test,ensemble.RandomForestRegressor(n_estimators=100,max_features=\"log2\",max_depth=13))\n",
    "#test(df_train,df_test,ensemble.RandomForestRegressor(n_estimators=200,max_features=\"log2\",max_depth=15))\n",
    "#test(df_train,df_test,ensemble.RandomForestRegressor(n_estimators=500,max_features=\"log2\",max_depth=15))\n"
   ]
  },
  {
   "cell_type": "code",
   "execution_count": 50,
   "metadata": {
    "collapsed": false
   },
   "outputs": [
    {
     "name": "stdout",
     "output_type": "stream",
     "text": [
      "PredefinedSplit(test_fold=array([-1, -1, ...,  0,  0]))\n",
      "224077 28031\n",
      "224077 28031\n",
      "[     0      1      2 ..., 224074 224075 224076] [224077 224078 224079 ..., 252105 252106 252107]\n"
     ]
    }
   ],
   "source": [
    "from sklearn.model_selection import PredefinedSplit\n",
    "test_fold=np.append(-np.ones(len(df_train)),np.zeros(len(df_test)))\n",
    "ps = PredefinedSplit(test_fold)\n",
    "ps.get_n_splits()\n",
    "print(ps)       \n",
    "for train_index, test_index in ps.split():\n",
    "    print(len(train_index),len(test_index))\n",
    "    print(len(df_train),len(df_test))\n",
    "    print(train_index,test_index)\n"
   ]
  },
  {
   "cell_type": "code",
   "execution_count": 51,
   "metadata": {
    "collapsed": false
   },
   "outputs": [
    {
     "name": "stdout",
     "output_type": "stream",
     "text": [
      "Fitting 1 folds for each of 30 candidates, totalling 30 fits\n",
      "[CV] max_features=log2, max_depth=26, n_estimators=72 ................\n"
     ]
    },
    {
     "ename": "KeyboardInterrupt",
     "evalue": "",
     "output_type": "error",
     "traceback": [
      "\u001b[1;31m---------------------------------------------------------------------------\u001b[0m",
      "\u001b[1;31mKeyboardInterrupt\u001b[0m                         Traceback (most recent call last)",
      "\u001b[1;32m<ipython-input-51-9e9a8eb8d19e>\u001b[0m in \u001b[0;36m<module>\u001b[1;34m()\u001b[0m\n\u001b[0;32m     13\u001b[0m \u001b[0my_tot\u001b[0m\u001b[1;33m=\u001b[0m\u001b[0mnp\u001b[0m\u001b[1;33m.\u001b[0m\u001b[0mappend\u001b[0m\u001b[1;33m(\u001b[0m\u001b[0my_train\u001b[0m\u001b[1;33m,\u001b[0m\u001b[0my_test\u001b[0m\u001b[1;33m,\u001b[0m\u001b[0maxis\u001b[0m\u001b[1;33m=\u001b[0m\u001b[1;36m0\u001b[0m\u001b[1;33m)\u001b[0m\u001b[1;33m\u001b[0m\u001b[0m\n\u001b[0;32m     14\u001b[0m \u001b[1;33m\u001b[0m\u001b[0m\n\u001b[1;32m---> 15\u001b[1;33m \u001b[0mgrid\u001b[0m\u001b[1;33m.\u001b[0m\u001b[0mfit\u001b[0m\u001b[1;33m(\u001b[0m\u001b[0mX_tot\u001b[0m\u001b[1;33m,\u001b[0m\u001b[0my_tot\u001b[0m\u001b[1;33m)\u001b[0m\u001b[1;33m\u001b[0m\u001b[0m\n\u001b[0m",
      "\u001b[1;32m/scratch/baruselli/inst/intelpython35/lib/python3.5/site-packages/sklearn/model_selection/_search.py\u001b[0m in \u001b[0;36mfit\u001b[1;34m(self, X, y, groups, **fit_params)\u001b[0m\n\u001b[0;32m    637\u001b[0m                                   error_score=self.error_score)\n\u001b[0;32m    638\u001b[0m           for parameters, (train, test) in product(candidate_params,\n\u001b[1;32m--> 639\u001b[1;33m                                                    cv.split(X, y, groups)))\n\u001b[0m\u001b[0;32m    640\u001b[0m \u001b[1;33m\u001b[0m\u001b[0m\n\u001b[0;32m    641\u001b[0m         \u001b[1;31m# if one choose to see train score, \"out\" will contain train score info\u001b[0m\u001b[1;33m\u001b[0m\u001b[1;33m\u001b[0m\u001b[0m\n",
      "\u001b[1;32m/scratch/baruselli/inst/intelpython35/lib/python3.5/site-packages/sklearn/externals/joblib/parallel.py\u001b[0m in \u001b[0;36m__call__\u001b[1;34m(self, iterable)\u001b[0m\n\u001b[0;32m    777\u001b[0m             \u001b[1;31m# was dispatched. In particular this covers the edge\u001b[0m\u001b[1;33m\u001b[0m\u001b[1;33m\u001b[0m\u001b[0m\n\u001b[0;32m    778\u001b[0m             \u001b[1;31m# case of Parallel used with an exhausted iterator.\u001b[0m\u001b[1;33m\u001b[0m\u001b[1;33m\u001b[0m\u001b[0m\n\u001b[1;32m--> 779\u001b[1;33m             \u001b[1;32mwhile\u001b[0m \u001b[0mself\u001b[0m\u001b[1;33m.\u001b[0m\u001b[0mdispatch_one_batch\u001b[0m\u001b[1;33m(\u001b[0m\u001b[0miterator\u001b[0m\u001b[1;33m)\u001b[0m\u001b[1;33m:\u001b[0m\u001b[1;33m\u001b[0m\u001b[0m\n\u001b[0m\u001b[0;32m    780\u001b[0m                 \u001b[0mself\u001b[0m\u001b[1;33m.\u001b[0m\u001b[0m_iterating\u001b[0m \u001b[1;33m=\u001b[0m \u001b[1;32mTrue\u001b[0m\u001b[1;33m\u001b[0m\u001b[0m\n\u001b[0;32m    781\u001b[0m             \u001b[1;32melse\u001b[0m\u001b[1;33m:\u001b[0m\u001b[1;33m\u001b[0m\u001b[0m\n",
      "\u001b[1;32m/scratch/baruselli/inst/intelpython35/lib/python3.5/site-packages/sklearn/externals/joblib/parallel.py\u001b[0m in \u001b[0;36mdispatch_one_batch\u001b[1;34m(self, iterator)\u001b[0m\n\u001b[0;32m    623\u001b[0m                 \u001b[1;32mreturn\u001b[0m \u001b[1;32mFalse\u001b[0m\u001b[1;33m\u001b[0m\u001b[0m\n\u001b[0;32m    624\u001b[0m             \u001b[1;32melse\u001b[0m\u001b[1;33m:\u001b[0m\u001b[1;33m\u001b[0m\u001b[0m\n\u001b[1;32m--> 625\u001b[1;33m                 \u001b[0mself\u001b[0m\u001b[1;33m.\u001b[0m\u001b[0m_dispatch\u001b[0m\u001b[1;33m(\u001b[0m\u001b[0mtasks\u001b[0m\u001b[1;33m)\u001b[0m\u001b[1;33m\u001b[0m\u001b[0m\n\u001b[0m\u001b[0;32m    626\u001b[0m                 \u001b[1;32mreturn\u001b[0m \u001b[1;32mTrue\u001b[0m\u001b[1;33m\u001b[0m\u001b[0m\n\u001b[0;32m    627\u001b[0m \u001b[1;33m\u001b[0m\u001b[0m\n",
      "\u001b[1;32m/scratch/baruselli/inst/intelpython35/lib/python3.5/site-packages/sklearn/externals/joblib/parallel.py\u001b[0m in \u001b[0;36m_dispatch\u001b[1;34m(self, batch)\u001b[0m\n\u001b[0;32m    586\u001b[0m         \u001b[0mdispatch_timestamp\u001b[0m \u001b[1;33m=\u001b[0m \u001b[0mtime\u001b[0m\u001b[1;33m.\u001b[0m\u001b[0mtime\u001b[0m\u001b[1;33m(\u001b[0m\u001b[1;33m)\u001b[0m\u001b[1;33m\u001b[0m\u001b[0m\n\u001b[0;32m    587\u001b[0m         \u001b[0mcb\u001b[0m \u001b[1;33m=\u001b[0m \u001b[0mBatchCompletionCallBack\u001b[0m\u001b[1;33m(\u001b[0m\u001b[0mdispatch_timestamp\u001b[0m\u001b[1;33m,\u001b[0m \u001b[0mlen\u001b[0m\u001b[1;33m(\u001b[0m\u001b[0mbatch\u001b[0m\u001b[1;33m)\u001b[0m\u001b[1;33m,\u001b[0m \u001b[0mself\u001b[0m\u001b[1;33m)\u001b[0m\u001b[1;33m\u001b[0m\u001b[0m\n\u001b[1;32m--> 588\u001b[1;33m         \u001b[0mjob\u001b[0m \u001b[1;33m=\u001b[0m \u001b[0mself\u001b[0m\u001b[1;33m.\u001b[0m\u001b[0m_backend\u001b[0m\u001b[1;33m.\u001b[0m\u001b[0mapply_async\u001b[0m\u001b[1;33m(\u001b[0m\u001b[0mbatch\u001b[0m\u001b[1;33m,\u001b[0m \u001b[0mcallback\u001b[0m\u001b[1;33m=\u001b[0m\u001b[0mcb\u001b[0m\u001b[1;33m)\u001b[0m\u001b[1;33m\u001b[0m\u001b[0m\n\u001b[0m\u001b[0;32m    589\u001b[0m         \u001b[0mself\u001b[0m\u001b[1;33m.\u001b[0m\u001b[0m_jobs\u001b[0m\u001b[1;33m.\u001b[0m\u001b[0mappend\u001b[0m\u001b[1;33m(\u001b[0m\u001b[0mjob\u001b[0m\u001b[1;33m)\u001b[0m\u001b[1;33m\u001b[0m\u001b[0m\n\u001b[0;32m    590\u001b[0m \u001b[1;33m\u001b[0m\u001b[0m\n",
      "\u001b[1;32m/scratch/baruselli/inst/intelpython35/lib/python3.5/site-packages/sklearn/externals/joblib/_parallel_backends.py\u001b[0m in \u001b[0;36mapply_async\u001b[1;34m(self, func, callback)\u001b[0m\n\u001b[0;32m    109\u001b[0m     \u001b[1;32mdef\u001b[0m \u001b[0mapply_async\u001b[0m\u001b[1;33m(\u001b[0m\u001b[0mself\u001b[0m\u001b[1;33m,\u001b[0m \u001b[0mfunc\u001b[0m\u001b[1;33m,\u001b[0m \u001b[0mcallback\u001b[0m\u001b[1;33m=\u001b[0m\u001b[1;32mNone\u001b[0m\u001b[1;33m)\u001b[0m\u001b[1;33m:\u001b[0m\u001b[1;33m\u001b[0m\u001b[0m\n\u001b[0;32m    110\u001b[0m         \u001b[1;34m\"\"\"Schedule a func to be run\"\"\"\u001b[0m\u001b[1;33m\u001b[0m\u001b[0m\n\u001b[1;32m--> 111\u001b[1;33m         \u001b[0mresult\u001b[0m \u001b[1;33m=\u001b[0m \u001b[0mImmediateResult\u001b[0m\u001b[1;33m(\u001b[0m\u001b[0mfunc\u001b[0m\u001b[1;33m)\u001b[0m\u001b[1;33m\u001b[0m\u001b[0m\n\u001b[0m\u001b[0;32m    112\u001b[0m         \u001b[1;32mif\u001b[0m \u001b[0mcallback\u001b[0m\u001b[1;33m:\u001b[0m\u001b[1;33m\u001b[0m\u001b[0m\n\u001b[0;32m    113\u001b[0m             \u001b[0mcallback\u001b[0m\u001b[1;33m(\u001b[0m\u001b[0mresult\u001b[0m\u001b[1;33m)\u001b[0m\u001b[1;33m\u001b[0m\u001b[0m\n",
      "\u001b[1;32m/scratch/baruselli/inst/intelpython35/lib/python3.5/site-packages/sklearn/externals/joblib/_parallel_backends.py\u001b[0m in \u001b[0;36m__init__\u001b[1;34m(self, batch)\u001b[0m\n\u001b[0;32m    330\u001b[0m         \u001b[1;31m# Don't delay the application, to avoid keeping the input\u001b[0m\u001b[1;33m\u001b[0m\u001b[1;33m\u001b[0m\u001b[0m\n\u001b[0;32m    331\u001b[0m         \u001b[1;31m# arguments in memory\u001b[0m\u001b[1;33m\u001b[0m\u001b[1;33m\u001b[0m\u001b[0m\n\u001b[1;32m--> 332\u001b[1;33m         \u001b[0mself\u001b[0m\u001b[1;33m.\u001b[0m\u001b[0mresults\u001b[0m \u001b[1;33m=\u001b[0m \u001b[0mbatch\u001b[0m\u001b[1;33m(\u001b[0m\u001b[1;33m)\u001b[0m\u001b[1;33m\u001b[0m\u001b[0m\n\u001b[0m\u001b[0;32m    333\u001b[0m \u001b[1;33m\u001b[0m\u001b[0m\n\u001b[0;32m    334\u001b[0m     \u001b[1;32mdef\u001b[0m \u001b[0mget\u001b[0m\u001b[1;33m(\u001b[0m\u001b[0mself\u001b[0m\u001b[1;33m)\u001b[0m\u001b[1;33m:\u001b[0m\u001b[1;33m\u001b[0m\u001b[0m\n",
      "\u001b[1;32m/scratch/baruselli/inst/intelpython35/lib/python3.5/site-packages/sklearn/externals/joblib/parallel.py\u001b[0m in \u001b[0;36m__call__\u001b[1;34m(self)\u001b[0m\n\u001b[0;32m    129\u001b[0m \u001b[1;33m\u001b[0m\u001b[0m\n\u001b[0;32m    130\u001b[0m     \u001b[1;32mdef\u001b[0m \u001b[0m__call__\u001b[0m\u001b[1;33m(\u001b[0m\u001b[0mself\u001b[0m\u001b[1;33m)\u001b[0m\u001b[1;33m:\u001b[0m\u001b[1;33m\u001b[0m\u001b[0m\n\u001b[1;32m--> 131\u001b[1;33m         \u001b[1;32mreturn\u001b[0m \u001b[1;33m[\u001b[0m\u001b[0mfunc\u001b[0m\u001b[1;33m(\u001b[0m\u001b[1;33m*\u001b[0m\u001b[0margs\u001b[0m\u001b[1;33m,\u001b[0m \u001b[1;33m**\u001b[0m\u001b[0mkwargs\u001b[0m\u001b[1;33m)\u001b[0m \u001b[1;32mfor\u001b[0m \u001b[0mfunc\u001b[0m\u001b[1;33m,\u001b[0m \u001b[0margs\u001b[0m\u001b[1;33m,\u001b[0m \u001b[0mkwargs\u001b[0m \u001b[1;32min\u001b[0m \u001b[0mself\u001b[0m\u001b[1;33m.\u001b[0m\u001b[0mitems\u001b[0m\u001b[1;33m]\u001b[0m\u001b[1;33m\u001b[0m\u001b[0m\n\u001b[0m\u001b[0;32m    132\u001b[0m \u001b[1;33m\u001b[0m\u001b[0m\n\u001b[0;32m    133\u001b[0m     \u001b[1;32mdef\u001b[0m \u001b[0m__len__\u001b[0m\u001b[1;33m(\u001b[0m\u001b[0mself\u001b[0m\u001b[1;33m)\u001b[0m\u001b[1;33m:\u001b[0m\u001b[1;33m\u001b[0m\u001b[0m\n",
      "\u001b[1;32m/scratch/baruselli/inst/intelpython35/lib/python3.5/site-packages/sklearn/externals/joblib/parallel.py\u001b[0m in \u001b[0;36m<listcomp>\u001b[1;34m(.0)\u001b[0m\n\u001b[0;32m    129\u001b[0m \u001b[1;33m\u001b[0m\u001b[0m\n\u001b[0;32m    130\u001b[0m     \u001b[1;32mdef\u001b[0m \u001b[0m__call__\u001b[0m\u001b[1;33m(\u001b[0m\u001b[0mself\u001b[0m\u001b[1;33m)\u001b[0m\u001b[1;33m:\u001b[0m\u001b[1;33m\u001b[0m\u001b[0m\n\u001b[1;32m--> 131\u001b[1;33m         \u001b[1;32mreturn\u001b[0m \u001b[1;33m[\u001b[0m\u001b[0mfunc\u001b[0m\u001b[1;33m(\u001b[0m\u001b[1;33m*\u001b[0m\u001b[0margs\u001b[0m\u001b[1;33m,\u001b[0m \u001b[1;33m**\u001b[0m\u001b[0mkwargs\u001b[0m\u001b[1;33m)\u001b[0m \u001b[1;32mfor\u001b[0m \u001b[0mfunc\u001b[0m\u001b[1;33m,\u001b[0m \u001b[0margs\u001b[0m\u001b[1;33m,\u001b[0m \u001b[0mkwargs\u001b[0m \u001b[1;32min\u001b[0m \u001b[0mself\u001b[0m\u001b[1;33m.\u001b[0m\u001b[0mitems\u001b[0m\u001b[1;33m]\u001b[0m\u001b[1;33m\u001b[0m\u001b[0m\n\u001b[0m\u001b[0;32m    132\u001b[0m \u001b[1;33m\u001b[0m\u001b[0m\n\u001b[0;32m    133\u001b[0m     \u001b[1;32mdef\u001b[0m \u001b[0m__len__\u001b[0m\u001b[1;33m(\u001b[0m\u001b[0mself\u001b[0m\u001b[1;33m)\u001b[0m\u001b[1;33m:\u001b[0m\u001b[1;33m\u001b[0m\u001b[0m\n",
      "\u001b[1;32m/scratch/baruselli/inst/intelpython35/lib/python3.5/site-packages/sklearn/model_selection/_validation.py\u001b[0m in \u001b[0;36m_fit_and_score\u001b[1;34m(estimator, X, y, scorer, train, test, verbose, parameters, fit_params, return_train_score, return_parameters, return_n_test_samples, return_times, error_score)\u001b[0m\n\u001b[0;32m    456\u001b[0m             \u001b[0mestimator\u001b[0m\u001b[1;33m.\u001b[0m\u001b[0mfit\u001b[0m\u001b[1;33m(\u001b[0m\u001b[0mX_train\u001b[0m\u001b[1;33m,\u001b[0m \u001b[1;33m**\u001b[0m\u001b[0mfit_params\u001b[0m\u001b[1;33m)\u001b[0m\u001b[1;33m\u001b[0m\u001b[0m\n\u001b[0;32m    457\u001b[0m         \u001b[1;32melse\u001b[0m\u001b[1;33m:\u001b[0m\u001b[1;33m\u001b[0m\u001b[0m\n\u001b[1;32m--> 458\u001b[1;33m             \u001b[0mestimator\u001b[0m\u001b[1;33m.\u001b[0m\u001b[0mfit\u001b[0m\u001b[1;33m(\u001b[0m\u001b[0mX_train\u001b[0m\u001b[1;33m,\u001b[0m \u001b[0my_train\u001b[0m\u001b[1;33m,\u001b[0m \u001b[1;33m**\u001b[0m\u001b[0mfit_params\u001b[0m\u001b[1;33m)\u001b[0m\u001b[1;33m\u001b[0m\u001b[0m\n\u001b[0m\u001b[0;32m    459\u001b[0m \u001b[1;33m\u001b[0m\u001b[0m\n\u001b[0;32m    460\u001b[0m     \u001b[1;32mexcept\u001b[0m \u001b[0mException\u001b[0m \u001b[1;32mas\u001b[0m \u001b[0me\u001b[0m\u001b[1;33m:\u001b[0m\u001b[1;33m\u001b[0m\u001b[0m\n",
      "\u001b[1;32m/scratch/baruselli/inst/intelpython35/lib/python3.5/site-packages/sklearn/ensemble/forest.py\u001b[0m in \u001b[0;36mfit\u001b[1;34m(self, X, y, sample_weight)\u001b[0m\n\u001b[0;32m    326\u001b[0m                     \u001b[0mt\u001b[0m\u001b[1;33m,\u001b[0m \u001b[0mself\u001b[0m\u001b[1;33m,\u001b[0m \u001b[0mX\u001b[0m\u001b[1;33m,\u001b[0m \u001b[0my\u001b[0m\u001b[1;33m,\u001b[0m \u001b[0msample_weight\u001b[0m\u001b[1;33m,\u001b[0m \u001b[0mi\u001b[0m\u001b[1;33m,\u001b[0m \u001b[0mlen\u001b[0m\u001b[1;33m(\u001b[0m\u001b[0mtrees\u001b[0m\u001b[1;33m)\u001b[0m\u001b[1;33m,\u001b[0m\u001b[1;33m\u001b[0m\u001b[0m\n\u001b[0;32m    327\u001b[0m                     verbose=self.verbose, class_weight=self.class_weight)\n\u001b[1;32m--> 328\u001b[1;33m                 for i, t in enumerate(trees))\n\u001b[0m\u001b[0;32m    329\u001b[0m \u001b[1;33m\u001b[0m\u001b[0m\n\u001b[0;32m    330\u001b[0m             \u001b[1;31m# Collect newly grown trees\u001b[0m\u001b[1;33m\u001b[0m\u001b[1;33m\u001b[0m\u001b[0m\n",
      "\u001b[1;32m/scratch/baruselli/inst/intelpython35/lib/python3.5/site-packages/sklearn/externals/joblib/parallel.py\u001b[0m in \u001b[0;36m__call__\u001b[1;34m(self, iterable)\u001b[0m\n\u001b[0;32m    777\u001b[0m             \u001b[1;31m# was dispatched. In particular this covers the edge\u001b[0m\u001b[1;33m\u001b[0m\u001b[1;33m\u001b[0m\u001b[0m\n\u001b[0;32m    778\u001b[0m             \u001b[1;31m# case of Parallel used with an exhausted iterator.\u001b[0m\u001b[1;33m\u001b[0m\u001b[1;33m\u001b[0m\u001b[0m\n\u001b[1;32m--> 779\u001b[1;33m             \u001b[1;32mwhile\u001b[0m \u001b[0mself\u001b[0m\u001b[1;33m.\u001b[0m\u001b[0mdispatch_one_batch\u001b[0m\u001b[1;33m(\u001b[0m\u001b[0miterator\u001b[0m\u001b[1;33m)\u001b[0m\u001b[1;33m:\u001b[0m\u001b[1;33m\u001b[0m\u001b[0m\n\u001b[0m\u001b[0;32m    780\u001b[0m                 \u001b[0mself\u001b[0m\u001b[1;33m.\u001b[0m\u001b[0m_iterating\u001b[0m \u001b[1;33m=\u001b[0m \u001b[1;32mTrue\u001b[0m\u001b[1;33m\u001b[0m\u001b[0m\n\u001b[0;32m    781\u001b[0m             \u001b[1;32melse\u001b[0m\u001b[1;33m:\u001b[0m\u001b[1;33m\u001b[0m\u001b[0m\n",
      "\u001b[1;32m/scratch/baruselli/inst/intelpython35/lib/python3.5/site-packages/sklearn/externals/joblib/parallel.py\u001b[0m in \u001b[0;36mdispatch_one_batch\u001b[1;34m(self, iterator)\u001b[0m\n\u001b[0;32m    623\u001b[0m                 \u001b[1;32mreturn\u001b[0m \u001b[1;32mFalse\u001b[0m\u001b[1;33m\u001b[0m\u001b[0m\n\u001b[0;32m    624\u001b[0m             \u001b[1;32melse\u001b[0m\u001b[1;33m:\u001b[0m\u001b[1;33m\u001b[0m\u001b[0m\n\u001b[1;32m--> 625\u001b[1;33m                 \u001b[0mself\u001b[0m\u001b[1;33m.\u001b[0m\u001b[0m_dispatch\u001b[0m\u001b[1;33m(\u001b[0m\u001b[0mtasks\u001b[0m\u001b[1;33m)\u001b[0m\u001b[1;33m\u001b[0m\u001b[0m\n\u001b[0m\u001b[0;32m    626\u001b[0m                 \u001b[1;32mreturn\u001b[0m \u001b[1;32mTrue\u001b[0m\u001b[1;33m\u001b[0m\u001b[0m\n\u001b[0;32m    627\u001b[0m \u001b[1;33m\u001b[0m\u001b[0m\n",
      "\u001b[1;32m/scratch/baruselli/inst/intelpython35/lib/python3.5/site-packages/sklearn/externals/joblib/parallel.py\u001b[0m in \u001b[0;36m_dispatch\u001b[1;34m(self, batch)\u001b[0m\n\u001b[0;32m    586\u001b[0m         \u001b[0mdispatch_timestamp\u001b[0m \u001b[1;33m=\u001b[0m \u001b[0mtime\u001b[0m\u001b[1;33m.\u001b[0m\u001b[0mtime\u001b[0m\u001b[1;33m(\u001b[0m\u001b[1;33m)\u001b[0m\u001b[1;33m\u001b[0m\u001b[0m\n\u001b[0;32m    587\u001b[0m         \u001b[0mcb\u001b[0m \u001b[1;33m=\u001b[0m \u001b[0mBatchCompletionCallBack\u001b[0m\u001b[1;33m(\u001b[0m\u001b[0mdispatch_timestamp\u001b[0m\u001b[1;33m,\u001b[0m \u001b[0mlen\u001b[0m\u001b[1;33m(\u001b[0m\u001b[0mbatch\u001b[0m\u001b[1;33m)\u001b[0m\u001b[1;33m,\u001b[0m \u001b[0mself\u001b[0m\u001b[1;33m)\u001b[0m\u001b[1;33m\u001b[0m\u001b[0m\n\u001b[1;32m--> 588\u001b[1;33m         \u001b[0mjob\u001b[0m \u001b[1;33m=\u001b[0m \u001b[0mself\u001b[0m\u001b[1;33m.\u001b[0m\u001b[0m_backend\u001b[0m\u001b[1;33m.\u001b[0m\u001b[0mapply_async\u001b[0m\u001b[1;33m(\u001b[0m\u001b[0mbatch\u001b[0m\u001b[1;33m,\u001b[0m \u001b[0mcallback\u001b[0m\u001b[1;33m=\u001b[0m\u001b[0mcb\u001b[0m\u001b[1;33m)\u001b[0m\u001b[1;33m\u001b[0m\u001b[0m\n\u001b[0m\u001b[0;32m    589\u001b[0m         \u001b[0mself\u001b[0m\u001b[1;33m.\u001b[0m\u001b[0m_jobs\u001b[0m\u001b[1;33m.\u001b[0m\u001b[0mappend\u001b[0m\u001b[1;33m(\u001b[0m\u001b[0mjob\u001b[0m\u001b[1;33m)\u001b[0m\u001b[1;33m\u001b[0m\u001b[0m\n\u001b[0;32m    590\u001b[0m \u001b[1;33m\u001b[0m\u001b[0m\n",
      "\u001b[1;32m/scratch/baruselli/inst/intelpython35/lib/python3.5/site-packages/sklearn/externals/joblib/_parallel_backends.py\u001b[0m in \u001b[0;36mapply_async\u001b[1;34m(self, func, callback)\u001b[0m\n\u001b[0;32m    109\u001b[0m     \u001b[1;32mdef\u001b[0m \u001b[0mapply_async\u001b[0m\u001b[1;33m(\u001b[0m\u001b[0mself\u001b[0m\u001b[1;33m,\u001b[0m \u001b[0mfunc\u001b[0m\u001b[1;33m,\u001b[0m \u001b[0mcallback\u001b[0m\u001b[1;33m=\u001b[0m\u001b[1;32mNone\u001b[0m\u001b[1;33m)\u001b[0m\u001b[1;33m:\u001b[0m\u001b[1;33m\u001b[0m\u001b[0m\n\u001b[0;32m    110\u001b[0m         \u001b[1;34m\"\"\"Schedule a func to be run\"\"\"\u001b[0m\u001b[1;33m\u001b[0m\u001b[0m\n\u001b[1;32m--> 111\u001b[1;33m         \u001b[0mresult\u001b[0m \u001b[1;33m=\u001b[0m \u001b[0mImmediateResult\u001b[0m\u001b[1;33m(\u001b[0m\u001b[0mfunc\u001b[0m\u001b[1;33m)\u001b[0m\u001b[1;33m\u001b[0m\u001b[0m\n\u001b[0m\u001b[0;32m    112\u001b[0m         \u001b[1;32mif\u001b[0m \u001b[0mcallback\u001b[0m\u001b[1;33m:\u001b[0m\u001b[1;33m\u001b[0m\u001b[0m\n\u001b[0;32m    113\u001b[0m             \u001b[0mcallback\u001b[0m\u001b[1;33m(\u001b[0m\u001b[0mresult\u001b[0m\u001b[1;33m)\u001b[0m\u001b[1;33m\u001b[0m\u001b[0m\n",
      "\u001b[1;32m/scratch/baruselli/inst/intelpython35/lib/python3.5/site-packages/sklearn/externals/joblib/_parallel_backends.py\u001b[0m in \u001b[0;36m__init__\u001b[1;34m(self, batch)\u001b[0m\n\u001b[0;32m    330\u001b[0m         \u001b[1;31m# Don't delay the application, to avoid keeping the input\u001b[0m\u001b[1;33m\u001b[0m\u001b[1;33m\u001b[0m\u001b[0m\n\u001b[0;32m    331\u001b[0m         \u001b[1;31m# arguments in memory\u001b[0m\u001b[1;33m\u001b[0m\u001b[1;33m\u001b[0m\u001b[0m\n\u001b[1;32m--> 332\u001b[1;33m         \u001b[0mself\u001b[0m\u001b[1;33m.\u001b[0m\u001b[0mresults\u001b[0m \u001b[1;33m=\u001b[0m \u001b[0mbatch\u001b[0m\u001b[1;33m(\u001b[0m\u001b[1;33m)\u001b[0m\u001b[1;33m\u001b[0m\u001b[0m\n\u001b[0m\u001b[0;32m    333\u001b[0m \u001b[1;33m\u001b[0m\u001b[0m\n\u001b[0;32m    334\u001b[0m     \u001b[1;32mdef\u001b[0m \u001b[0mget\u001b[0m\u001b[1;33m(\u001b[0m\u001b[0mself\u001b[0m\u001b[1;33m)\u001b[0m\u001b[1;33m:\u001b[0m\u001b[1;33m\u001b[0m\u001b[0m\n",
      "\u001b[1;32m/scratch/baruselli/inst/intelpython35/lib/python3.5/site-packages/sklearn/externals/joblib/parallel.py\u001b[0m in \u001b[0;36m__call__\u001b[1;34m(self)\u001b[0m\n\u001b[0;32m    129\u001b[0m \u001b[1;33m\u001b[0m\u001b[0m\n\u001b[0;32m    130\u001b[0m     \u001b[1;32mdef\u001b[0m \u001b[0m__call__\u001b[0m\u001b[1;33m(\u001b[0m\u001b[0mself\u001b[0m\u001b[1;33m)\u001b[0m\u001b[1;33m:\u001b[0m\u001b[1;33m\u001b[0m\u001b[0m\n\u001b[1;32m--> 131\u001b[1;33m         \u001b[1;32mreturn\u001b[0m \u001b[1;33m[\u001b[0m\u001b[0mfunc\u001b[0m\u001b[1;33m(\u001b[0m\u001b[1;33m*\u001b[0m\u001b[0margs\u001b[0m\u001b[1;33m,\u001b[0m \u001b[1;33m**\u001b[0m\u001b[0mkwargs\u001b[0m\u001b[1;33m)\u001b[0m \u001b[1;32mfor\u001b[0m \u001b[0mfunc\u001b[0m\u001b[1;33m,\u001b[0m \u001b[0margs\u001b[0m\u001b[1;33m,\u001b[0m \u001b[0mkwargs\u001b[0m \u001b[1;32min\u001b[0m \u001b[0mself\u001b[0m\u001b[1;33m.\u001b[0m\u001b[0mitems\u001b[0m\u001b[1;33m]\u001b[0m\u001b[1;33m\u001b[0m\u001b[0m\n\u001b[0m\u001b[0;32m    132\u001b[0m \u001b[1;33m\u001b[0m\u001b[0m\n\u001b[0;32m    133\u001b[0m     \u001b[1;32mdef\u001b[0m \u001b[0m__len__\u001b[0m\u001b[1;33m(\u001b[0m\u001b[0mself\u001b[0m\u001b[1;33m)\u001b[0m\u001b[1;33m:\u001b[0m\u001b[1;33m\u001b[0m\u001b[0m\n",
      "\u001b[1;32m/scratch/baruselli/inst/intelpython35/lib/python3.5/site-packages/sklearn/externals/joblib/parallel.py\u001b[0m in \u001b[0;36m<listcomp>\u001b[1;34m(.0)\u001b[0m\n\u001b[0;32m    129\u001b[0m \u001b[1;33m\u001b[0m\u001b[0m\n\u001b[0;32m    130\u001b[0m     \u001b[1;32mdef\u001b[0m \u001b[0m__call__\u001b[0m\u001b[1;33m(\u001b[0m\u001b[0mself\u001b[0m\u001b[1;33m)\u001b[0m\u001b[1;33m:\u001b[0m\u001b[1;33m\u001b[0m\u001b[0m\n\u001b[1;32m--> 131\u001b[1;33m         \u001b[1;32mreturn\u001b[0m \u001b[1;33m[\u001b[0m\u001b[0mfunc\u001b[0m\u001b[1;33m(\u001b[0m\u001b[1;33m*\u001b[0m\u001b[0margs\u001b[0m\u001b[1;33m,\u001b[0m \u001b[1;33m**\u001b[0m\u001b[0mkwargs\u001b[0m\u001b[1;33m)\u001b[0m \u001b[1;32mfor\u001b[0m \u001b[0mfunc\u001b[0m\u001b[1;33m,\u001b[0m \u001b[0margs\u001b[0m\u001b[1;33m,\u001b[0m \u001b[0mkwargs\u001b[0m \u001b[1;32min\u001b[0m \u001b[0mself\u001b[0m\u001b[1;33m.\u001b[0m\u001b[0mitems\u001b[0m\u001b[1;33m]\u001b[0m\u001b[1;33m\u001b[0m\u001b[0m\n\u001b[0m\u001b[0;32m    132\u001b[0m \u001b[1;33m\u001b[0m\u001b[0m\n\u001b[0;32m    133\u001b[0m     \u001b[1;32mdef\u001b[0m \u001b[0m__len__\u001b[0m\u001b[1;33m(\u001b[0m\u001b[0mself\u001b[0m\u001b[1;33m)\u001b[0m\u001b[1;33m:\u001b[0m\u001b[1;33m\u001b[0m\u001b[0m\n",
      "\u001b[1;32m/scratch/baruselli/inst/intelpython35/lib/python3.5/site-packages/sklearn/ensemble/forest.py\u001b[0m in \u001b[0;36m_parallel_build_trees\u001b[1;34m(tree, forest, X, y, sample_weight, tree_idx, n_trees, verbose, class_weight)\u001b[0m\n\u001b[0;32m    119\u001b[0m             \u001b[0mcurr_sample_weight\u001b[0m \u001b[1;33m*=\u001b[0m \u001b[0mcompute_sample_weight\u001b[0m\u001b[1;33m(\u001b[0m\u001b[1;34m'balanced'\u001b[0m\u001b[1;33m,\u001b[0m \u001b[0my\u001b[0m\u001b[1;33m,\u001b[0m \u001b[0mindices\u001b[0m\u001b[1;33m)\u001b[0m\u001b[1;33m\u001b[0m\u001b[0m\n\u001b[0;32m    120\u001b[0m \u001b[1;33m\u001b[0m\u001b[0m\n\u001b[1;32m--> 121\u001b[1;33m         \u001b[0mtree\u001b[0m\u001b[1;33m.\u001b[0m\u001b[0mfit\u001b[0m\u001b[1;33m(\u001b[0m\u001b[0mX\u001b[0m\u001b[1;33m,\u001b[0m \u001b[0my\u001b[0m\u001b[1;33m,\u001b[0m \u001b[0msample_weight\u001b[0m\u001b[1;33m=\u001b[0m\u001b[0mcurr_sample_weight\u001b[0m\u001b[1;33m,\u001b[0m \u001b[0mcheck_input\u001b[0m\u001b[1;33m=\u001b[0m\u001b[1;32mFalse\u001b[0m\u001b[1;33m)\u001b[0m\u001b[1;33m\u001b[0m\u001b[0m\n\u001b[0m\u001b[0;32m    122\u001b[0m     \u001b[1;32melse\u001b[0m\u001b[1;33m:\u001b[0m\u001b[1;33m\u001b[0m\u001b[0m\n\u001b[0;32m    123\u001b[0m         \u001b[0mtree\u001b[0m\u001b[1;33m.\u001b[0m\u001b[0mfit\u001b[0m\u001b[1;33m(\u001b[0m\u001b[0mX\u001b[0m\u001b[1;33m,\u001b[0m \u001b[0my\u001b[0m\u001b[1;33m,\u001b[0m \u001b[0msample_weight\u001b[0m\u001b[1;33m=\u001b[0m\u001b[0msample_weight\u001b[0m\u001b[1;33m,\u001b[0m \u001b[0mcheck_input\u001b[0m\u001b[1;33m=\u001b[0m\u001b[1;32mFalse\u001b[0m\u001b[1;33m)\u001b[0m\u001b[1;33m\u001b[0m\u001b[0m\n",
      "\u001b[1;32m/scratch/baruselli/inst/intelpython35/lib/python3.5/site-packages/sklearn/tree/tree.py\u001b[0m in \u001b[0;36mfit\u001b[1;34m(self, X, y, sample_weight, check_input, X_idx_sorted)\u001b[0m\n\u001b[0;32m   1122\u001b[0m             \u001b[0msample_weight\u001b[0m\u001b[1;33m=\u001b[0m\u001b[0msample_weight\u001b[0m\u001b[1;33m,\u001b[0m\u001b[1;33m\u001b[0m\u001b[0m\n\u001b[0;32m   1123\u001b[0m             \u001b[0mcheck_input\u001b[0m\u001b[1;33m=\u001b[0m\u001b[0mcheck_input\u001b[0m\u001b[1;33m,\u001b[0m\u001b[1;33m\u001b[0m\u001b[0m\n\u001b[1;32m-> 1124\u001b[1;33m             X_idx_sorted=X_idx_sorted)\n\u001b[0m\u001b[0;32m   1125\u001b[0m         \u001b[1;32mreturn\u001b[0m \u001b[0mself\u001b[0m\u001b[1;33m\u001b[0m\u001b[0m\n\u001b[0;32m   1126\u001b[0m \u001b[1;33m\u001b[0m\u001b[0m\n",
      "\u001b[1;32m/scratch/baruselli/inst/intelpython35/lib/python3.5/site-packages/sklearn/tree/tree.py\u001b[0m in \u001b[0;36mfit\u001b[1;34m(self, X, y, sample_weight, check_input, X_idx_sorted)\u001b[0m\n\u001b[0;32m    360\u001b[0m                                            min_impurity_split)\n\u001b[0;32m    361\u001b[0m \u001b[1;33m\u001b[0m\u001b[0m\n\u001b[1;32m--> 362\u001b[1;33m         \u001b[0mbuilder\u001b[0m\u001b[1;33m.\u001b[0m\u001b[0mbuild\u001b[0m\u001b[1;33m(\u001b[0m\u001b[0mself\u001b[0m\u001b[1;33m.\u001b[0m\u001b[0mtree_\u001b[0m\u001b[1;33m,\u001b[0m \u001b[0mX\u001b[0m\u001b[1;33m,\u001b[0m \u001b[0my\u001b[0m\u001b[1;33m,\u001b[0m \u001b[0msample_weight\u001b[0m\u001b[1;33m,\u001b[0m \u001b[0mX_idx_sorted\u001b[0m\u001b[1;33m)\u001b[0m\u001b[1;33m\u001b[0m\u001b[0m\n\u001b[0m\u001b[0;32m    363\u001b[0m \u001b[1;33m\u001b[0m\u001b[0m\n\u001b[0;32m    364\u001b[0m         \u001b[1;32mif\u001b[0m \u001b[0mself\u001b[0m\u001b[1;33m.\u001b[0m\u001b[0mn_outputs_\u001b[0m \u001b[1;33m==\u001b[0m \u001b[1;36m1\u001b[0m\u001b[1;33m:\u001b[0m\u001b[1;33m\u001b[0m\u001b[0m\n",
      "\u001b[1;31mKeyboardInterrupt\u001b[0m: "
     ]
    }
   ],
   "source": [
    "import scipy\n",
    "from  sklearn.model_selection import RandomizedSearchCV\n",
    "from sklearn import *\n",
    "grid=RandomizedSearchCV(ensemble.RandomForestRegressor(), \n",
    "                                        param_distributions=\n",
    "                        {\"max_depth\": scipy.stats.randint(5,30), \n",
    "                         'n_estimators': scipy.stats.randint(50,250),\n",
    "                        'max_features':('log2','sqrt')},\n",
    "                                        n_iter=30,verbose=10,cv=ps,scoring=\"neg_mean_squared_error\" )\n",
    "\n",
    "(X_train,X_test,y_train,y_test) = xy_train_test(df_train,df_test)\n",
    "X_tot=np.append(X_train,X_test,axis=0)\n",
    "y_tot=np.append(y_train,y_test,axis=0)\n",
    "\n",
    "grid.fit(X_tot,y_tot)"
   ]
  },
  {
   "cell_type": "code",
   "execution_count": 52,
   "metadata": {
    "collapsed": false
   },
   "outputs": [
    {
     "ename": "AttributeError",
     "evalue": "'RandomizedSearchCV' object has no attribute 'best_score_'",
     "output_type": "error",
     "traceback": [
      "\u001b[1;31m---------------------------------------------------------------------------\u001b[0m",
      "\u001b[1;31mAttributeError\u001b[0m                            Traceback (most recent call last)",
      "\u001b[1;32m<ipython-input-52-b6fd896b70a2>\u001b[0m in \u001b[0;36m<module>\u001b[1;34m()\u001b[0m\n\u001b[1;32m----> 1\u001b[1;33m \u001b[0mgrid\u001b[0m\u001b[1;33m.\u001b[0m\u001b[0mbest_score_\u001b[0m\u001b[1;33m,\u001b[0m\u001b[0mnp\u001b[0m\u001b[1;33m.\u001b[0m\u001b[0msqrt\u001b[0m\u001b[1;33m(\u001b[0m\u001b[1;33m-\u001b[0m\u001b[0mgrid\u001b[0m\u001b[1;33m.\u001b[0m\u001b[0mbest_score_\u001b[0m\u001b[1;33m)\u001b[0m\u001b[1;33m,\u001b[0m\u001b[0mgrid\u001b[0m\u001b[1;33m.\u001b[0m\u001b[0mbest_params_\u001b[0m\u001b[1;33m\u001b[0m\u001b[0m\n\u001b[0m",
      "\u001b[1;31mAttributeError\u001b[0m: 'RandomizedSearchCV' object has no attribute 'best_score_'"
     ]
    }
   ],
   "source": [
    "grid.best_score_,np.sqrt(-grid.best_score_),grid.best_params_"
   ]
  },
  {
   "cell_type": "code",
   "execution_count": null,
   "metadata": {
    "collapsed": false,
    "scrolled": true
   },
   "outputs": [],
   "source": [
    "test(df_train,df_test,ensemble.GradientBoostingRegressor(loss=\"ls\", learning_rate=1, n_estimators=50,max_depth=5))\n",
    "test(df_train,df_test,ensemble.GradientBoostingRegressor(loss=\"ls\", learning_rate=1, n_estimators=100,max_depth=5))\n",
    "#test(df_train,df_test,ensemble.GradientBoostingRegressor(loss=\"ls\", learning_rate=1, n_estimators=50,max_depth=10))\n",
    "#test(df_train,df_test,ensemble.GradientBoostingRegressor(loss=\"ls\", learning_rate=1, n_estimators=100,max_depth=10))\n",
    "#test(df_train,df_test,ensemble.AdaBoostRegressor(n_estimators=100, learning_rate=0.5, loss=\"square\"))"
   ]
  },
  {
   "cell_type": "code",
   "execution_count": 55,
   "metadata": {
    "collapsed": false
   },
   "outputs": [
    {
     "name": "stdout",
     "output_type": "stream",
     "text": [
      "0.1\n"
     ]
    },
    {
     "ename": "KeyboardInterrupt",
     "evalue": "",
     "output_type": "error",
     "traceback": [
      "\u001b[1;31m---------------------------------------------------------------------------\u001b[0m",
      "\u001b[1;31mKeyboardInterrupt\u001b[0m                         Traceback (most recent call last)",
      "\u001b[1;32m<ipython-input-55-8d2fd8c4fb16>\u001b[0m in \u001b[0;36m<module>\u001b[1;34m()\u001b[0m\n\u001b[0;32m      2\u001b[0m \u001b[1;32mfor\u001b[0m \u001b[0mrate\u001b[0m \u001b[1;32min\u001b[0m \u001b[1;36m0.1\u001b[0m\u001b[1;33m,\u001b[0m\u001b[1;33m:\u001b[0m\u001b[1;33m\u001b[0m\u001b[0m\n\u001b[0;32m      3\u001b[0m     \u001b[0mprint\u001b[0m\u001b[1;33m(\u001b[0m\u001b[0mrate\u001b[0m\u001b[1;33m)\u001b[0m\u001b[1;33m\u001b[0m\u001b[0m\n\u001b[1;32m----> 4\u001b[1;33m     \u001b[0mtest\u001b[0m\u001b[1;33m(\u001b[0m\u001b[0mdf_train\u001b[0m\u001b[1;33m,\u001b[0m\u001b[0mdf_test\u001b[0m\u001b[1;33m,\u001b[0m\u001b[0mXGBRegressor\u001b[0m\u001b[1;33m(\u001b[0m\u001b[0mmax_depth\u001b[0m\u001b[1;33m=\u001b[0m\u001b[1;36m10\u001b[0m\u001b[1;33m,\u001b[0m \u001b[0mlearning_rate\u001b[0m\u001b[1;33m=\u001b[0m\u001b[0mrate\u001b[0m\u001b[1;33m,\u001b[0m \u001b[0mn_estimators\u001b[0m\u001b[1;33m=\u001b[0m\u001b[1;36m50\u001b[0m\u001b[1;33m)\u001b[0m\u001b[1;33m)\u001b[0m\u001b[1;33m\u001b[0m\u001b[0m\n\u001b[0m",
      "\u001b[1;32m<ipython-input-44-77ed4b1ae413>\u001b[0m in \u001b[0;36mtest\u001b[1;34m(df_train, df_test, regr)\u001b[0m\n\u001b[0;32m     33\u001b[0m     \u001b[1;31m#print(X_train.shape,y_train.shape)\u001b[0m\u001b[1;33m\u001b[0m\u001b[1;33m\u001b[0m\u001b[0m\n\u001b[0;32m     34\u001b[0m     \u001b[1;31m#print(X_test.shape,y_test.shape)\u001b[0m\u001b[1;33m\u001b[0m\u001b[1;33m\u001b[0m\u001b[0m\n\u001b[1;32m---> 35\u001b[1;33m     \u001b[0mregr\u001b[0m\u001b[1;33m.\u001b[0m\u001b[0mfit\u001b[0m\u001b[1;33m(\u001b[0m\u001b[0mX_train\u001b[0m\u001b[1;33m,\u001b[0m \u001b[0my_train\u001b[0m\u001b[1;33m)\u001b[0m\u001b[1;33m\u001b[0m\u001b[0m\n\u001b[0m\u001b[0;32m     36\u001b[0m     \u001b[0my_pred_train\u001b[0m \u001b[1;33m=\u001b[0m \u001b[0mregr\u001b[0m\u001b[1;33m.\u001b[0m\u001b[0mpredict\u001b[0m\u001b[1;33m(\u001b[0m\u001b[0mX_train\u001b[0m\u001b[1;33m)\u001b[0m\u001b[1;33m\u001b[0m\u001b[0m\n\u001b[0;32m     37\u001b[0m     \u001b[0my_pred\u001b[0m \u001b[1;33m=\u001b[0m \u001b[0mregr\u001b[0m\u001b[1;33m.\u001b[0m\u001b[0mpredict\u001b[0m\u001b[1;33m(\u001b[0m\u001b[0mX_test\u001b[0m\u001b[1;33m)\u001b[0m\u001b[1;33m\u001b[0m\u001b[0m\n",
      "\u001b[1;32m/scratch/baruselli/inst/intelpython35/lib/python3.5/site-packages/xgboost/sklearn.py\u001b[0m in \u001b[0;36mfit\u001b[1;34m(self, X, y, eval_set, eval_metric, early_stopping_rounds, verbose)\u001b[0m\n\u001b[0;32m    249\u001b[0m                               \u001b[0mearly_stopping_rounds\u001b[0m\u001b[1;33m=\u001b[0m\u001b[0mearly_stopping_rounds\u001b[0m\u001b[1;33m,\u001b[0m\u001b[1;33m\u001b[0m\u001b[0m\n\u001b[0;32m    250\u001b[0m                               \u001b[0mevals_result\u001b[0m\u001b[1;33m=\u001b[0m\u001b[0mevals_result\u001b[0m\u001b[1;33m,\u001b[0m \u001b[0mobj\u001b[0m\u001b[1;33m=\u001b[0m\u001b[0mobj\u001b[0m\u001b[1;33m,\u001b[0m \u001b[0mfeval\u001b[0m\u001b[1;33m=\u001b[0m\u001b[0mfeval\u001b[0m\u001b[1;33m,\u001b[0m\u001b[1;33m\u001b[0m\u001b[0m\n\u001b[1;32m--> 251\u001b[1;33m                               verbose_eval=verbose)\n\u001b[0m\u001b[0;32m    252\u001b[0m \u001b[1;33m\u001b[0m\u001b[0m\n\u001b[0;32m    253\u001b[0m         \u001b[1;32mif\u001b[0m \u001b[0mevals_result\u001b[0m\u001b[1;33m:\u001b[0m\u001b[1;33m\u001b[0m\u001b[0m\n",
      "\u001b[1;32m/scratch/baruselli/inst/intelpython35/lib/python3.5/site-packages/xgboost/training.py\u001b[0m in \u001b[0;36mtrain\u001b[1;34m(params, dtrain, num_boost_round, evals, obj, feval, maximize, early_stopping_rounds, evals_result, verbose_eval, learning_rates, xgb_model, callbacks)\u001b[0m\n\u001b[0;32m    203\u001b[0m                            \u001b[0mevals\u001b[0m\u001b[1;33m=\u001b[0m\u001b[0mevals\u001b[0m\u001b[1;33m,\u001b[0m\u001b[1;33m\u001b[0m\u001b[0m\n\u001b[0;32m    204\u001b[0m                            \u001b[0mobj\u001b[0m\u001b[1;33m=\u001b[0m\u001b[0mobj\u001b[0m\u001b[1;33m,\u001b[0m \u001b[0mfeval\u001b[0m\u001b[1;33m=\u001b[0m\u001b[0mfeval\u001b[0m\u001b[1;33m,\u001b[0m\u001b[1;33m\u001b[0m\u001b[0m\n\u001b[1;32m--> 205\u001b[1;33m                            xgb_model=xgb_model, callbacks=callbacks)\n\u001b[0m\u001b[0;32m    206\u001b[0m \u001b[1;33m\u001b[0m\u001b[0m\n\u001b[0;32m    207\u001b[0m \u001b[1;33m\u001b[0m\u001b[0m\n",
      "\u001b[1;32m/scratch/baruselli/inst/intelpython35/lib/python3.5/site-packages/xgboost/training.py\u001b[0m in \u001b[0;36m_train_internal\u001b[1;34m(params, dtrain, num_boost_round, evals, obj, feval, xgb_model, callbacks)\u001b[0m\n\u001b[0;32m     74\u001b[0m         \u001b[1;31m# Skip the first update if it is a recovery step.\u001b[0m\u001b[1;33m\u001b[0m\u001b[1;33m\u001b[0m\u001b[0m\n\u001b[0;32m     75\u001b[0m         \u001b[1;32mif\u001b[0m \u001b[0mversion\u001b[0m \u001b[1;33m%\u001b[0m \u001b[1;36m2\u001b[0m \u001b[1;33m==\u001b[0m \u001b[1;36m0\u001b[0m\u001b[1;33m:\u001b[0m\u001b[1;33m\u001b[0m\u001b[0m\n\u001b[1;32m---> 76\u001b[1;33m             \u001b[0mbst\u001b[0m\u001b[1;33m.\u001b[0m\u001b[0mupdate\u001b[0m\u001b[1;33m(\u001b[0m\u001b[0mdtrain\u001b[0m\u001b[1;33m,\u001b[0m \u001b[0mi\u001b[0m\u001b[1;33m,\u001b[0m \u001b[0mobj\u001b[0m\u001b[1;33m)\u001b[0m\u001b[1;33m\u001b[0m\u001b[0m\n\u001b[0m\u001b[0;32m     77\u001b[0m             \u001b[0mbst\u001b[0m\u001b[1;33m.\u001b[0m\u001b[0msave_rabit_checkpoint\u001b[0m\u001b[1;33m(\u001b[0m\u001b[1;33m)\u001b[0m\u001b[1;33m\u001b[0m\u001b[0m\n\u001b[0;32m     78\u001b[0m             \u001b[0mversion\u001b[0m \u001b[1;33m+=\u001b[0m \u001b[1;36m1\u001b[0m\u001b[1;33m\u001b[0m\u001b[0m\n",
      "\u001b[1;32m/scratch/baruselli/inst/intelpython35/lib/python3.5/site-packages/xgboost/core.py\u001b[0m in \u001b[0;36mupdate\u001b[1;34m(self, dtrain, iteration, fobj)\u001b[0m\n\u001b[0;32m    804\u001b[0m \u001b[1;33m\u001b[0m\u001b[0m\n\u001b[0;32m    805\u001b[0m         \u001b[1;32mif\u001b[0m \u001b[0mfobj\u001b[0m \u001b[1;32mis\u001b[0m \u001b[1;32mNone\u001b[0m\u001b[1;33m:\u001b[0m\u001b[1;33m\u001b[0m\u001b[0m\n\u001b[1;32m--> 806\u001b[1;33m             \u001b[0m_check_call\u001b[0m\u001b[1;33m(\u001b[0m\u001b[0m_LIB\u001b[0m\u001b[1;33m.\u001b[0m\u001b[0mXGBoosterUpdateOneIter\u001b[0m\u001b[1;33m(\u001b[0m\u001b[0mself\u001b[0m\u001b[1;33m.\u001b[0m\u001b[0mhandle\u001b[0m\u001b[1;33m,\u001b[0m \u001b[0miteration\u001b[0m\u001b[1;33m,\u001b[0m \u001b[0mdtrain\u001b[0m\u001b[1;33m.\u001b[0m\u001b[0mhandle\u001b[0m\u001b[1;33m)\u001b[0m\u001b[1;33m)\u001b[0m\u001b[1;33m\u001b[0m\u001b[0m\n\u001b[0m\u001b[0;32m    807\u001b[0m         \u001b[1;32melse\u001b[0m\u001b[1;33m:\u001b[0m\u001b[1;33m\u001b[0m\u001b[0m\n\u001b[0;32m    808\u001b[0m             \u001b[0mpred\u001b[0m \u001b[1;33m=\u001b[0m \u001b[0mself\u001b[0m\u001b[1;33m.\u001b[0m\u001b[0mpredict\u001b[0m\u001b[1;33m(\u001b[0m\u001b[0mdtrain\u001b[0m\u001b[1;33m)\u001b[0m\u001b[1;33m\u001b[0m\u001b[0m\n",
      "\u001b[1;31mKeyboardInterrupt\u001b[0m: "
     ]
    }
   ],
   "source": [
    "from xgboost import XGBRegressor\n",
    "for rate in 0.1,:\n",
    "    print(rate)\n",
    "    test(df_train,df_test,XGBRegressor(max_depth=10, learning_rate=rate, n_estimators=50))"
   ]
  },
  {
   "cell_type": "code",
   "execution_count": null,
   "metadata": {
    "collapsed": true
   },
   "outputs": [],
   "source": [
    "def lognuniform(low=0, high=1, size=None, base=10):\n",
    "    return np.power(base, np.random.uniform(low, high, size))"
   ]
  },
  {
   "cell_type": "code",
   "execution_count": null,
   "metadata": {
    "collapsed": false
   },
   "outputs": [],
   "source": [
    "import scipy\n",
    "\n",
    "\n",
    "grid=model_selection.RandomizedSearchCV(XGBRegressor(), \n",
    "                                        param_distributions={\n",
    "                        \"max_depth\": scipy.stats.randint(2,10), \n",
    "                         'n_estimators': scipy.stats.randint(50,400),\n",
    "                         'learning_rate':lognuniform(low=-1.5,high=-0.5,base=10,size=100),\n",
    "                        }, \n",
    "                                        n_iter=20,verbose=10 ,cv=ps,scoring=\"neg_mean_squared_error\")\n",
    "\n",
    "(X_train,X_test,y_train,y_test) = xy_train_test(df_train,df_test)\n",
    "\n",
    "X_tot=np.append(X_train,X_test,axis=0)\n",
    "y_tot=np.append(y_train,y_test,axis=0)\n",
    "\n",
    "\n",
    "grid.fit(X_tot,y_tot)"
   ]
  },
  {
   "cell_type": "code",
   "execution_count": null,
   "metadata": {
    "collapsed": false
   },
   "outputs": [],
   "source": [
    "grid.best_score_,np.sqrt(-grid.best_score_),grid.best_params_"
   ]
  },
  {
   "cell_type": "code",
   "execution_count": null,
   "metadata": {
    "collapsed": true
   },
   "outputs": [],
   "source": [
    "test(df_train,df_test,XGBRegressor(learning_rate=0.1, n_estimators=89,max_depth=5))\n"
   ]
  },
  {
   "cell_type": "code",
   "execution_count": null,
   "metadata": {
    "collapsed": true
   },
   "outputs": [],
   "source": []
  },
  {
   "cell_type": "markdown",
   "metadata": {},
   "source": [
    "## For submission"
   ]
  },
  {
   "cell_type": "code",
   "execution_count": null,
   "metadata": {
    "collapsed": true
   },
   "outputs": [],
   "source": [
    "df_eval"
   ]
  },
  {
   "cell_type": "code",
   "execution_count": 53,
   "metadata": {
    "collapsed": true
   },
   "outputs": [],
   "source": [
    "def make_csv(df_train,df_test,df_eval,regr,file):\n",
    "    df_train_tot=df_train.append(df_test)\n",
    "    print(len(df_train),len(df_test),len(df_train_tot))\n",
    "    #print(df_train_tot.columns)\n",
    "    #print(df_eval.columns)\n",
    "    X_train = df_train_tot.drop([\"visitors\",\"visit_date\",\"air_store_id\",\"latitude\",\"longitude\"],axis=1).as_matrix()\n",
    "    X_test =  df_eval.drop([\"visitors\",\"visit_date\",\"air_store_id\",\"latitude\",\"longitude\"],axis=1).as_matrix()\n",
    "    y_train = df_train_tot[\"visitors\"].values\n",
    "    print(X_train.shape,y_train.shape)\n",
    "    regr.fit(X_train, y_train)\n",
    "    y_pred = regr.predict(X_test)\n",
    "    y_pred=np.maximum(0,y_pred)\n",
    "    y_pred=np.expm1(y_pred)\n",
    "    df_eval[\"visitors\"]=y_pred\n",
    "    df_eval[\"id\"]=df_eval[\"air_store_id\"].map(str)+\"_\"+df_eval[\"visit_date\"].dt.strftime('%Y-%m-%d')\n",
    "    df_sub=df_eval[[\"id\",\"visitors\"]]\n",
    "    df_sub.to_csv(file,index=False)"
   ]
  },
  {
   "cell_type": "code",
   "execution_count": null,
   "metadata": {
    "collapsed": true
   },
   "outputs": [],
   "source": [
    "df_eval=enc[enc.visitors.isna()]  \n",
    "make_csv(df_train,df_test,df_eval,linear_model.LinearRegression(),\"linear_binary.csv\")"
   ]
  },
  {
   "cell_type": "code",
   "execution_count": null,
   "metadata": {
    "collapsed": true
   },
   "outputs": [],
   "source": [
    "df_train,df_test,df_eval=train_test_eval(enc2,cut_date)\n",
    "make_csv(df_train,df_test,df_eval,ensemble.RandomForestRegressor(n_estimators=90,max_features=\"log2\",max_depth=18),\n",
    "         \"random_f_binary_log.csv\")"
   ]
  },
  {
   "cell_type": "code",
   "execution_count": null,
   "metadata": {
    "collapsed": true
   },
   "outputs": [],
   "source": [
    "df_train,df_test,df_eval=train_test_eval(enc2,cut_date)\n",
    "make_csv(df_train,df_test,df_eval,XGBRegressor(learning_rate=0.12, n_estimators=300,max_depth=2),\n",
    "         \"xgb_new.csv\")"
   ]
  },
  {
   "cell_type": "code",
   "execution_count": null,
   "metadata": {
    "collapsed": true
   },
   "outputs": [],
   "source": [
    "df_train,df_test,df_eval=train_test_eval(enc2,cut_date)\n",
    "make_csv(df_train,df_test,df_eval,ensemble.RandomForestRegressor(n_estimators=100,max_features=\"log2\",max_depth=16),\n",
    "         \"forest.csv\")\n",
    "#df_train,df_test,df_eval=train_test_eval(enc2,cut_date)\n",
    "#make_csv(df_train,df_test,df_eval,ensemble.RandomForestRegressor(n_estimators=150,max_features=\"log2\",max_depth=7),\n",
    "#         \"forest.csv\")"
   ]
  },
  {
   "cell_type": "code",
   "execution_count": null,
   "metadata": {
    "collapsed": false
   },
   "outputs": [],
   "source": [
    "len(df_train),len(df_test),len(df_eval),len(df_train)+len(df_test),len(data[\"tra\"])"
   ]
  },
  {
   "cell_type": "code",
   "execution_count": 58,
   "metadata": {
    "collapsed": false
   },
   "outputs": [
    {
     "name": "stdout",
     "output_type": "stream",
     "text": [
      "284127\n"
     ]
    },
    {
     "name": "stderr",
     "output_type": "stream",
     "text": [
      "/scratch/baruselli/inst/intelpython35/lib/python3.5/site-packages/ipykernel/__main__.py:4: UserWarning: Boolean Series key will be reindexed to match DataFrame index.\n",
      "/scratch/baruselli/inst/intelpython35/lib/python3.5/site-packages/ipykernel/__main__.py:5: UserWarning: Boolean Series key will be reindexed to match DataFrame index.\n"
     ]
    },
    {
     "name": "stdout",
     "output_type": "stream",
     "text": [
      "warning, null in df_test. store_dow_mdn\n",
      "warning, null in df_test. store_dow_mean\n",
      "warning, null in df_test. store_dow_min\n",
      "warning, null in df_test. store_dow_max\n",
      "warning, null in df_test. store_dow_std\n",
      "warning, null in df_test. store_wht_mean_dow\n",
      "warning, null in df_test. store_wht_mean_dow_hol\n",
      "warning, null in df_eval. store_dow_mdn\n",
      "warning, null in df_eval. store_dow_mean\n"
     ]
    },
    {
     "name": "stderr",
     "output_type": "stream",
     "text": [
      "/scratch/baruselli/inst/intelpython35/lib/python3.5/site-packages/pandas/core/generic.py:3295: SettingWithCopyWarning: \n",
      "A value is trying to be set on a copy of a slice from a DataFrame\n",
      "\n",
      "See the caveats in the documentation: http://pandas.pydata.org/pandas-docs/stable/indexing.html#indexing-view-versus-copy\n",
      "  self._update_inplace(new_data)\n"
     ]
    },
    {
     "name": "stdout",
     "output_type": "stream",
     "text": [
      "warning, null in df_eval. store_dow_min\n",
      "warning, null in df_eval. store_dow_max\n",
      "warning, null in df_eval. store_dow_std\n",
      "warning, null in df_eval. store_wht_mean_dow\n",
      "warning, null in df_eval. store_wht_mean_dow_hol\n",
      "224077 28031 252108\n",
      "(252108, 70) (252108,)\n"
     ]
    },
    {
     "name": "stderr",
     "output_type": "stream",
     "text": [
      "/scratch/baruselli/inst/intelpython35/lib/python3.5/site-packages/ipykernel/__main__.py:14: SettingWithCopyWarning: \n",
      "A value is trying to be set on a copy of a slice from a DataFrame.\n",
      "Try using .loc[row_indexer,col_indexer] = value instead\n",
      "\n",
      "See the caveats in the documentation: http://pandas.pydata.org/pandas-docs/stable/indexing.html#indexing-view-versus-copy\n",
      "/scratch/baruselli/inst/intelpython35/lib/python3.5/site-packages/ipykernel/__main__.py:15: SettingWithCopyWarning: \n",
      "A value is trying to be set on a copy of a slice from a DataFrame.\n",
      "Try using .loc[row_indexer,col_indexer] = value instead\n",
      "\n",
      "See the caveats in the documentation: http://pandas.pydata.org/pandas-docs/stable/indexing.html#indexing-view-versus-copy\n"
     ]
    }
   ],
   "source": [
    "print(len(enc2))\n",
    "df_train,df_test,df_eval=train_test_eval(enc2,cut_date)\n",
    "assert(len(df_eval)==length_test)\n",
    "make_csv(df_train,df_test,df_eval,XGBRegressor(learning_rate= 0.074021471771568439, max_depth= 6, n_estimators= 133),\n",
    "         \"xgb_new2.csv\")\n",
    "\n"
   ]
  },
  {
   "cell_type": "code",
   "execution_count": null,
   "metadata": {
    "collapsed": true
   },
   "outputs": [],
   "source": []
  },
  {
   "cell_type": "code",
   "execution_count": null,
   "metadata": {
    "collapsed": true
   },
   "outputs": [],
   "source": []
  },
  {
   "cell_type": "code",
   "execution_count": null,
   "metadata": {
    "collapsed": true
   },
   "outputs": [],
   "source": [
    "df_test=data[\"tes\"].merge(data[\"hol\"],left_on=\"time\",right_on=\"calendar_date\").\\\n",
    "            drop(\"time\",axis=1).\\\n",
    "            merge(data[\"as\"],right_on=\"air_store_id\",left_on=\"store_id\").\\\n",
    "            drop([\"store_id\"],axis=1)"
   ]
  },
  {
   "cell_type": "code",
   "execution_count": null,
   "metadata": {
    "collapsed": true
   },
   "outputs": [],
   "source": [
    "df_test"
   ]
  },
  {
   "cell_type": "code",
   "execution_count": null,
   "metadata": {
    "collapsed": true
   },
   "outputs": [],
   "source": [
    "df_test[\"month\"]=df_test.calendar_date.map(lambda x: x.month)\n",
    "df_test[\"month\"]=df_test[\"month\"].astype('category')"
   ]
  },
  {
   "cell_type": "code",
   "execution_count": null,
   "metadata": {
    "collapsed": true
   },
   "outputs": [],
   "source": [
    "#cols_to_enc=[\"holiday_flg\",\"air_genre_name\",\"air_area_name\",\"day_of_week\"]\n",
    "cols_to_enc=[\"month\",\"holiday_flg\",\"day_of_week\",\"air_genre_name\", 'air_area_name']\n",
    "dummies=pd.get_dummies(df_test[cols_to_enc])\n",
    "#data[\"tra_as_hol\"].join(dummies)\n",
    "df_test=df_test.join(dummies)\n",
    "#enc.describe()\n",
    "df_test=df_test.drop(cols_to_enc,axis=1).drop([\"air_store_id\",\"latitude\",\"longitude\"],axis=1)\n",
    "enc.head()\n",
    "for c in df_test.columns: print(c)\n",
    "print(len(df_test.columns))"
   ]
  },
  {
   "cell_type": "code",
   "execution_count": null,
   "metadata": {
    "collapsed": true
   },
   "outputs": [],
   "source": [
    "df_train"
   ]
  },
  {
   "cell_type": "markdown",
   "metadata": {},
   "source": [
    "### reservations"
   ]
  },
  {
   "cell_type": "code",
   "execution_count": null,
   "metadata": {
    "collapsed": true,
    "scrolled": true
   },
   "outputs": [],
   "source": [
    "#total number of reservations per day, for a stores\n",
    "data[\"ar\"][\"visit_date\"]=data[\"ar\"][\"visit_datetime\"].map(lambda x:x.date())\n",
    "data[\"ar\"][\"visit_date\"]=pd.to_datetime(data[\"ar\"][\"visit_date\"])\n",
    "#data[\"ar\"].groupby(\"air_store_id\",\"visit_date\")[\"reserve_visitors\"].sum()\n",
    "\n",
    "#data[\"ar\"]\n",
    "data[\"ar_sum\"]=data[\"ar\"].groupby([\"air_store_id\",\"visit_date\"]) [\"reserve_visitors\"].sum().reset_index()\n",
    "data[\"ar_sum\"].head()"
   ]
  },
  {
   "cell_type": "code",
   "execution_count": null,
   "metadata": {
    "collapsed": true
   },
   "outputs": [],
   "source": [
    "#this contains only days with reservations\n",
    "data[\"tra_ar_sum\"]=data[\"ar_sum\"].merge(data[\"tra_as_hol\"],on=[\"visit_date\",\"air_store_id\"])\n",
    "data[\"tra_ar_sum\"].head()\n",
    "df_train"
   ]
  },
  {
   "cell_type": "code",
   "execution_count": null,
   "metadata": {
    "collapsed": true
   },
   "outputs": [],
   "source": [
    "#cols_to_enc=[\"holiday_flg\",\"air_genre_name\",\"air_area_name\",\"day_of_week\"]\n",
    "cols_to_enc=[\"month\",\"holiday_flg\",\"day_of_week\",\"air_genre_name\", 'air_area_name']\n",
    "dummies=pd.get_dummies(data[\"tra_as_hol\"][cols_to_enc])\n",
    "#data[\"tra_as_hol\"].join(dummies)\n",
    "enc=data[\"tra_as_hol\"].join(dummies)\n",
    "#enc.describe()\n",
    "enc=enc.drop(cols_to_enc,axis=1).drop([\"air_store_id\",\"latitude\",\"longitude\"],axis=1)\n",
    "enc.head()\n",
    "for c in enc.columns: print(c)\n",
    "print(len(enc.columns))\n",
    "#print(enc.columns)\n",
    "df_train=enc[enc[\"visit_date\"]<cut_date]\n",
    "df_test= enc[enc[\"visit_date\"]>= cut_date]"
   ]
  },
  {
   "cell_type": "code",
   "execution_count": null,
   "metadata": {
    "collapsed": true
   },
   "outputs": [],
   "source": [
    "from sklearn import *\n",
    "print(df_train.columns)\n",
    "X_train = df_train.drop([\"visitors\",\"visit_date\"],axis=1).as_matrix()\n",
    "X_test =  df_test.drop([\"visitors\",\"visit_date\"],axis=1).as_matrix()\n",
    "    # Split the targets into training/testing sets\n",
    "y_train = df_train[\"visitors\"].values\n",
    "y_test =  df_test[\"visitors\"].values\n",
    "print(X_train.shape,y_train.shape)\n",
    "print(X_test.shape,y_test.shape)\n",
    "regr = linear_model.LinearRegression()\n",
    "regr.fit(X_train, y_train)\n",
    "y_pred = regr.predict(X_test)\n",
    "y_pred=np.maximum(0,y_pred)\n",
    "error=RMSLE(y_test, y_pred)\n",
    "print(error)"
   ]
  },
  {
   "cell_type": "code",
   "execution_count": null,
   "metadata": {
    "collapsed": true
   },
   "outputs": [],
   "source": [
    "df_store_test[[\"visitors\",\"visitors_predicted\"]]\n",
    "df_test[[\"visitors\",\"visitors_predicted\"]]"
   ]
  },
  {
   "cell_type": "code",
   "execution_count": null,
   "metadata": {
    "collapsed": true
   },
   "outputs": [],
   "source": [
    "df_train.columns"
   ]
  },
  {
   "cell_type": "code",
   "execution_count": null,
   "metadata": {
    "collapsed": true
   },
   "outputs": [],
   "source": [
    "X_train = df_train.drop([\"visitors\",\"visit_date\"],axis=1).values\n",
    "X_test =  df_test.drop([\"visitors\",\"visit_date\"],axis=1).values\n",
    "# Split the targets into training/testing sets\n",
    "y_train = df_train[\"visitors\"].values\n",
    "y_test =  df_test[\"visitors\"].values"
   ]
  },
  {
   "cell_type": "code",
   "execution_count": null,
   "metadata": {
    "collapsed": true
   },
   "outputs": [],
   "source": [
    "y_train"
   ]
  },
  {
   "cell_type": "code",
   "execution_count": null,
   "metadata": {
    "collapsed": true
   },
   "outputs": [],
   "source": [
    "regr = linear_model.LinearRegression()\n",
    "regr.fit(X_train, y_train)\n",
    "\n",
    "y_pred = regr.predict(X_test)"
   ]
  },
  {
   "cell_type": "markdown",
   "metadata": {},
   "source": [
    "### unique stores"
   ]
  },
  {
   "cell_type": "code",
   "execution_count": null,
   "metadata": {
    "collapsed": true
   },
   "outputs": [],
   "source": [
    "data[\"hr\"]"
   ]
  },
  {
   "cell_type": "code",
   "execution_count": null,
   "metadata": {
    "collapsed": true
   },
   "outputs": [],
   "source": [
    "stores_tra=set(data[\"tra\"].air_store_id.unique())\n",
    "stores_ar=set(data[\"ar\"].air_store_id.unique())\n",
    "stores_hr=set(data[\"hr\"].hpg_store_id.unique())\n",
    "stores_as=set(data[\"as\"].air_store_id.unique())\n",
    "stores_hs=set(data[\"hs\"].hpg_store_id.unique())\n",
    "stores_id_a=set(data[\"id\"].air_store_id.unique())\n",
    "stores_id_h=set(data[\"id\"].hpg_store_id.unique())\n",
    "stores_tes=set(data[\"tes\"].store_id.unique())"
   ]
  },
  {
   "cell_type": "code",
   "execution_count": null,
   "metadata": {
    "collapsed": true,
    "scrolled": true
   },
   "outputs": [],
   "source": [
    "stores_tes-stores_tra"
   ]
  },
  {
   "cell_type": "code",
   "execution_count": null,
   "metadata": {
    "collapsed": true
   },
   "outputs": [],
   "source": [
    "print(\n",
    "    len(stores_tra),len(stores_ar),len(stores_as),len(stores_id_a),\"\\n\",\n",
    "                    len(stores_hr),len(stores_hs),len(stores_id_h),\"\\n\",\n",
    "    len(stores_tes))"
   ]
  },
  {
   "cell_type": "code",
   "execution_count": null,
   "metadata": {
    "collapsed": true
   },
   "outputs": [],
   "source": [
    "X_train"
   ]
  },
  {
   "cell_type": "code",
   "execution_count": null,
   "metadata": {
    "collapsed": true
   },
   "outputs": [],
   "source": [
    "df_train.shape,df_test.shape"
   ]
  },
  {
   "cell_type": "markdown",
   "metadata": {
    "collapsed": true
   },
   "source": [
    "### Time series"
   ]
  },
  {
   "cell_type": "code",
   "execution_count": null,
   "metadata": {
    "collapsed": true
   },
   "outputs": [],
   "source": [
    "data[\"tra_as_hol\"]"
   ]
  },
  {
   "cell_type": "code",
   "execution_count": null,
   "metadata": {
    "collapsed": true
   },
   "outputs": [],
   "source": [
    "stores_groups=data[\"tra_as_hol\"].groupby(\"air_store_id\")"
   ]
  },
  {
   "cell_type": "code",
   "execution_count": null,
   "metadata": {
    "collapsed": true,
    "scrolled": true
   },
   "outputs": [],
   "source": [
    "series_test=stores_groups.get_group(\"air_00a91d42b08b08d9\")[[\"visit_date\",\"visitors\"]]\n",
    "series_test=series_test.set_index(series_test.visit_date).drop(\"visit_date\",axis=1).dropna()\n",
    "series_test.plot()"
   ]
  },
  {
   "cell_type": "code",
   "execution_count": null,
   "metadata": {
    "collapsed": true
   },
   "outputs": [],
   "source": [
    "from statsmodels.tsa.arima_model import ARIMA\n",
    "model = ARIMA(series_test, order=(1,1,0))\n",
    "model_fit = model.fit(disp=0)\n",
    "print(model_fit.summary())\n",
    "# plot residual errors\n",
    "residuals = pd.DataFrame(model_fit.resid)\n",
    "residuals.plot()\n",
    "residuals.plot(kind='kde')\n",
    "print(residuals.describe())"
   ]
  },
  {
   "cell_type": "code",
   "execution_count": null,
   "metadata": {
    "collapsed": true
   },
   "outputs": [],
   "source": [
    "model_fit.fittedvalues.plot()\n",
    "series_test.plot()"
   ]
  },
  {
   "cell_type": "markdown",
   "metadata": {},
   "source": [
    "### DOW HOL average"
   ]
  },
  {
   "cell_type": "code",
   "execution_count": null,
   "metadata": {
    "collapsed": true
   },
   "outputs": [],
   "source": [
    "df_train,df_test,df_eval=train_test_eval(data[\"tra_as_hol\"],cut_date)"
   ]
  },
  {
   "cell_type": "code",
   "execution_count": null,
   "metadata": {
    "collapsed": true
   },
   "outputs": [],
   "source": [
    "def get_y_pred(df_train,df_test):\n",
    "    mean_store_dow_hol=df_train.groupby([\"air_store_id\",\"day_of_week\",\"holiday_flg\"]).visitors.mean().reset_index()\n",
    "    mean_store_dow=df_train.groupby([\"air_store_id\",\"day_of_week\"]).visitors.mean().reset_index()\n",
    "    mean_store_hol=df_train.groupby([\"air_store_id\",\"holiday_flg\"]).visitors.mean().reset_index()\n",
    "    mean_store=df_train.groupby([\"air_store_id\"]).visitors.mean().reset_index()\n",
    "    df_1=df_test.merge(mean_store_dow_hol,on=[\"air_store_id\",\"day_of_week\",\"holiday_flg\"],how=\"left\")\n",
    "    df_2=df_test.merge(mean_store_hol,on=[\"air_store_id\",\"holiday_flg\"],how=\"left\")\n",
    "    df_3=df_test.merge(mean_store_dow,on=[\"air_store_id\",\"day_of_week\"],how=\"left\")\n",
    "    df_4=df_test.merge(mean_store,on=[\"air_store_id\"],how=\"left\")\n",
    "    y_pred_1=df_1.visitors_y.values\n",
    "    y_pred_2=df_2.visitors_y.values\n",
    "    y_pred_3=df_3.visitors_y.values\n",
    "    y_pred_4=df_4.visitors_y.values\n",
    "    y_test=df_1.visitors_x.values\n",
    "    for i,y in enumerate(y_pred_1):\n",
    "        if np.isnan(y): \n",
    "            if not np.isnan(y_pred_2[i]): y_pred_1[i]=y_pred_2[i]\n",
    "            else:\n",
    "                if not np.isnan(y_pred_3[i]): y_pred_1[i]=y_pred_3[i]\n",
    "                else:\n",
    "                    if not np.isnan(y_pred_4[i]):y_pred_1[i]=y_pred_4[i]\n",
    "                    else:y_pred_1[i]=0\n",
    "    return (y_test,y_pred_1)\n",
    "\n",
    "\n",
    "\n",
    "\n",
    "y_test,y_pred=get_y_pred(df_train,df_test)\n",
    "y_train,y_pred_t=get_y_pred(df_train,df_train)"
   ]
  },
  {
   "cell_type": "code",
   "execution_count": null,
   "metadata": {
    "collapsed": true
   },
   "outputs": [],
   "source": [
    "len(y_test),len(y_pred),len(y_train),len(y_pred_t)"
   ]
  },
  {
   "cell_type": "code",
   "execution_count": null,
   "metadata": {
    "collapsed": true
   },
   "outputs": [],
   "source": [
    "RMSE(y_train,y_pred_t),RMSE(y_test,y_pred)"
   ]
  },
  {
   "cell_type": "markdown",
   "metadata": {
    "collapsed": true
   },
   "source": []
  }
 ],
 "metadata": {
  "kernelspec": {
   "display_name": "Python 3",
   "language": "python",
   "name": "python3"
  },
  "language_info": {
   "codemirror_mode": {
    "name": "ipython",
    "version": 3
   },
   "file_extension": ".py",
   "mimetype": "text/x-python",
   "name": "python",
   "nbconvert_exporter": "python",
   "pygments_lexer": "ipython3",
   "version": "3.5.2"
  }
 },
 "nbformat": 4,
 "nbformat_minor": 2
}
