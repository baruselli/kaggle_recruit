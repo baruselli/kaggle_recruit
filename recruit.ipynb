{
 "cells": [
  {
   "cell_type": "markdown",
   "metadata": {},
   "source": [
    "### Read files"
   ]
  },
  {
   "cell_type": "code",
   "execution_count": 1,
   "metadata": {
    "collapsed": false
   },
   "outputs": [
    {
     "name": "stderr",
     "output_type": "stream",
     "text": [
      "/scratch/baruselli/inst/intelpython35/lib/python3.5/site-packages/sklearn/cross_validation.py:41: DeprecationWarning: This module was deprecated in version 0.18 in favor of the model_selection module into which all the refactored classes and functions are moved. Also note that the interface of the new CV iterators are different from that of this module. This module will be removed in 0.20.\n",
      "  \"This module will be removed in 0.20.\", DeprecationWarning)\n",
      "/scratch/baruselli/inst/intelpython35/lib/python3.5/site-packages/sklearn/grid_search.py:42: DeprecationWarning: This module was deprecated in version 0.18 in favor of the model_selection module into which all the refactored classes and functions are moved. This module will be removed in 0.20.\n",
      "  DeprecationWarning)\n",
      "/scratch/baruselli/inst/intelpython35/lib/python3.5/site-packages/sklearn/learning_curve.py:22: DeprecationWarning: This module was deprecated in version 0.18 in favor of the model_selection module into which all the functions are moved. This module will be removed in 0.20\n",
      "  DeprecationWarning)\n"
     ]
    }
   ],
   "source": [
    "import glob, re\n",
    "import numpy as np\n",
    "import pandas as pd\n",
    "from datetime import datetime\n",
    "from sklearn import *\n",
    "\n",
    "data = {\n",
    "    #visitors\n",
    "    'tra': pd.read_csv('./input/air_visit_data.csv',parse_dates=[\"visit_date\"]),\n",
    "    #reservations\n",
    "    'ar': pd.read_csv('./input/air_reserve.csv',parse_dates=[\"visit_datetime\",\"reserve_datetime\"]),\n",
    "    'hr': pd.read_csv('./input/hpg_reserve.csv',parse_dates=[\"visit_datetime\",\"reserve_datetime\"]),\n",
    "    #store info\n",
    "    'as': pd.read_csv('./input/air_store_info.csv'),\n",
    "    'hs': pd.read_csv('./input/hpg_store_info.csv'),\n",
    "    #air<->hpg\n",
    "    'id': pd.read_csv('./input/store_id_relation.csv'),\n",
    "    #days\n",
    "    'hol': pd.read_csv('./input/date_info.csv',parse_dates=[\"calendar_date\"]), #.rename(columns={'calendar_date':'visit_date'})\n",
    "    #\n",
    "    'tes': pd.read_csv('./input/sample_submission.csv'),\n",
    "    }"
   ]
  },
  {
   "cell_type": "code",
   "execution_count": 2,
   "metadata": {
    "collapsed": true
   },
   "outputs": [],
   "source": [
    "def RMSLE(y, pred):\n",
    "    return metrics.mean_squared_error(np.log(y+1), np.log(pred+1))**0.5\n",
    "def RMSE(y, pred):\n",
    "    return metrics.mean_squared_error(y, pred)**0.5"
   ]
  },
  {
   "cell_type": "markdown",
   "metadata": {},
   "source": [
    "### Some data categorizing to reduce space"
   ]
  },
  {
   "cell_type": "code",
   "execution_count": 3,
   "metadata": {
    "collapsed": false
   },
   "outputs": [
    {
     "name": "stdout",
     "output_type": "stream",
     "text": [
      "hs 1.3301172256469727\n",
      "hr 192.67313385009766\n",
      "id 0.022129058837890625\n",
      "tes 2.9315261840820312\n",
      "as 0.23502159118652344\n",
      "hol 0.039612770080566406\n",
      "tra 4.38869571685791\n",
      "ar 8.898050308227539\n",
      "total 210.5182867050171\n"
     ]
    }
   ],
   "source": [
    "import sys\n",
    "data[\"tra\"][\"air_store_id\"]=data[\"tra\"][\"air_store_id\"].astype('category')\n",
    "total=0\n",
    "for k,v in data.items():\n",
    "    size_k=sys.getsizeof(data[k])/1024/1024\n",
    "    total+=size_k\n",
    "    print(k,size_k)\n",
    "print(\"total\",total)"
   ]
  },
  {
   "cell_type": "code",
   "execution_count": 4,
   "metadata": {
    "collapsed": false
   },
   "outputs": [],
   "source": [
    "data[\"tra\"][\"air_store_id\"]=data[\"tra\"][\"air_store_id\"].astype('category')\n",
    "data[\"as\"][\"air_store_id\"]=data[\"as\"][\"air_store_id\"].astype('category')\n",
    "data[\"as\"][\"air_genre_name\"]=data[\"as\"][\"air_genre_name\"].astype('category')\n",
    "data[\"as\"][\"air_area_name\"]=data[\"as\"][\"air_area_name\"].astype('category')\n",
    "data[\"hs\"][\"hpg_store_id\"]=data[\"hs\"][\"hpg_store_id\"].astype('category')\n",
    "data[\"hs\"][\"hpg_genre_name\"]=data[\"hs\"][\"hpg_genre_name\"].astype('category')\n",
    "data[\"hs\"][\"hpg_area_name\"]=data[\"hs\"][\"hpg_area_name\"].astype('category')\n",
    "data[\"ar\"][\"air_store_id\"]=data[\"ar\"][\"air_store_id\"].astype('category')\n",
    "data[\"hr\"][\"hpg_store_id\"]=data[\"hr\"][\"hpg_store_id\"].astype('category')\n",
    "data[\"id\"][\"hpg_store_id\"]=data[\"id\"][\"hpg_store_id\"].astype('category')\n",
    "data[\"id\"][\"air_store_id\"]=data[\"id\"][\"air_store_id\"].astype('category')\n",
    "data[\"hol\"][\"day_of_week\"]=data[\"hol\"][\"day_of_week\"].astype('category')\n",
    "data[\"hol\"][\"holiday_flg\"]=data[\"hol\"][\"holiday_flg\"].astype('category')"
   ]
  },
  {
   "cell_type": "code",
   "execution_count": 5,
   "metadata": {
    "collapsed": false
   },
   "outputs": [
    {
     "name": "stdout",
     "output_type": "stream",
     "text": [
      "hs 0.45134544372558594\n",
      "hr 50.57759189605713\n",
      "id 0.022701263427734375\n",
      "tes 2.9315261840820312\n",
      "as 0.09117889404296875\n",
      "hol 0.005473136901855469\n",
      "tra 4.38869571685791\n",
      "ar 2.313718795776367\n",
      "total 60.78223133087158\n"
     ]
    }
   ],
   "source": [
    "total=0\n",
    "for k,v in data.items():\n",
    "    size_k=sys.getsizeof(data[k])/1024/1024\n",
    "    total+=size_k\n",
    "    print(k,size_k)\n",
    "print(\"total\",total)"
   ]
  },
  {
   "cell_type": "code",
   "execution_count": 6,
   "metadata": {
    "collapsed": false
   },
   "outputs": [
    {
     "data": {
      "text/html": [
       "<div>\n",
       "<table border=\"1\" class=\"dataframe\">\n",
       "  <thead>\n",
       "    <tr style=\"text-align: right;\">\n",
       "      <th></th>\n",
       "      <th>air_store_id</th>\n",
       "      <th>visit_date</th>\n",
       "      <th>visitors</th>\n",
       "    </tr>\n",
       "  </thead>\n",
       "  <tbody>\n",
       "    <tr>\n",
       "      <th>0</th>\n",
       "      <td>air_ba937bf13d40fb24</td>\n",
       "      <td>2016-01-13</td>\n",
       "      <td>3.258097</td>\n",
       "    </tr>\n",
       "    <tr>\n",
       "      <th>1</th>\n",
       "      <td>air_ba937bf13d40fb24</td>\n",
       "      <td>2016-01-14</td>\n",
       "      <td>3.496508</td>\n",
       "    </tr>\n",
       "    <tr>\n",
       "      <th>2</th>\n",
       "      <td>air_ba937bf13d40fb24</td>\n",
       "      <td>2016-01-15</td>\n",
       "      <td>3.401197</td>\n",
       "    </tr>\n",
       "    <tr>\n",
       "      <th>3</th>\n",
       "      <td>air_ba937bf13d40fb24</td>\n",
       "      <td>2016-01-16</td>\n",
       "      <td>3.135494</td>\n",
       "    </tr>\n",
       "    <tr>\n",
       "      <th>4</th>\n",
       "      <td>air_ba937bf13d40fb24</td>\n",
       "      <td>2016-01-18</td>\n",
       "      <td>1.945910</td>\n",
       "    </tr>\n",
       "  </tbody>\n",
       "</table>\n",
       "</div>"
      ],
      "text/plain": [
       "           air_store_id visit_date  visitors\n",
       "0  air_ba937bf13d40fb24 2016-01-13  3.258097\n",
       "1  air_ba937bf13d40fb24 2016-01-14  3.496508\n",
       "2  air_ba937bf13d40fb24 2016-01-15  3.401197\n",
       "3  air_ba937bf13d40fb24 2016-01-16  3.135494\n",
       "4  air_ba937bf13d40fb24 2016-01-18  1.945910"
      ]
     },
     "execution_count": 6,
     "metadata": {},
     "output_type": "execute_result"
    }
   ],
   "source": [
    "data[\"tra\"][\"visitors\"]=np.log1p(data[\"tra\"][\"visitors\"])\n",
    "data[\"tra\"].head()"
   ]
  },
  {
   "cell_type": "markdown",
   "metadata": {},
   "source": [
    "### test"
   ]
  },
  {
   "cell_type": "code",
   "execution_count": 7,
   "metadata": {
    "collapsed": true
   },
   "outputs": [],
   "source": [
    "data[\"tes\"][[\"store_id\",\"time\"]]=data[\"tes\"][\"id\"].str.split(\"_2017\",expand=True)\n",
    "data[\"tes\"][\"time\"]=\"2017\"+data[\"tes\"][\"time\"]\n",
    "from dateutil import parser\n",
    "data[\"tes\"][\"time\"] = pd.to_datetime(data[\"tes\"][\"time\"])\n",
    "#data[\"tes\"][\"kind\"]=data[\"tes\"][\"id\"].str.split(\"_\",expand=True)[0] #they are all air type"
   ]
  },
  {
   "cell_type": "code",
   "execution_count": 8,
   "metadata": {
    "collapsed": false
   },
   "outputs": [
    {
     "name": "stdout",
     "output_type": "stream",
     "text": [
      "id                  object\n",
      "visitors             int64\n",
      "store_id            object\n",
      "time        datetime64[ns]\n",
      "dtype: object\n"
     ]
    }
   ],
   "source": [
    "print(data[\"tes\"].dtypes)\n",
    "#data[\"tes\"].head(5)"
   ]
  },
  {
   "cell_type": "markdown",
   "metadata": {},
   "source": [
    "I add the test dates/stores to the train df"
   ]
  },
  {
   "cell_type": "code",
   "execution_count": 9,
   "metadata": {
    "collapsed": false
   },
   "outputs": [
    {
     "name": "stdout",
     "output_type": "stream",
     "text": [
      "252108\n"
     ]
    }
   ],
   "source": [
    "print(len(data[\"tra\"]))"
   ]
  },
  {
   "cell_type": "code",
   "execution_count": 10,
   "metadata": {
    "collapsed": true
   },
   "outputs": [],
   "source": [
    "data[\"tra\"]\n",
    "test_dates=data[\"tes\"][\"time\"].unique()\n",
    "test_stores=data[\"tes\"][\"store_id\"].unique()\n",
    "\n",
    "days = pd.DataFrame({'visit_date':test_dates})\n",
    "stores = pd.DataFrame({'air_store_id':test_stores})\n",
    "stores['key'] = 0\n",
    "days['key'] = 0\n",
    "days_and_stores = days.merge(stores, how='left', on = 'key')\n",
    "days_and_stores.drop('key',1, inplace=True)\n",
    "days_and_stores\n",
    "\n",
    "data[\"tra\"]=data[\"tra\"].append(days_and_stores)"
   ]
  },
  {
   "cell_type": "code",
   "execution_count": 11,
   "metadata": {
    "collapsed": false
   },
   "outputs": [
    {
     "name": "stdout",
     "output_type": "stream",
     "text": [
      "32019\n",
      "284127\n"
     ]
    }
   ],
   "source": [
    "print(len(days_and_stores))\n",
    "print(len(data[\"tra\"]))\n",
    "#data[\"tra\"]"
   ]
  },
  {
   "cell_type": "markdown",
   "metadata": {},
   "source": [
    "### Analysis"
   ]
  },
  {
   "cell_type": "markdown",
   "metadata": {},
   "source": [
    "Join dataframes "
   ]
  },
  {
   "cell_type": "code",
   "execution_count": 12,
   "metadata": {
    "collapsed": false
   },
   "outputs": [
    {
     "data": {
      "text/html": [
       "<div>\n",
       "<table border=\"1\" class=\"dataframe\">\n",
       "  <thead>\n",
       "    <tr style=\"text-align: right;\">\n",
       "      <th></th>\n",
       "      <th>air_store_id</th>\n",
       "      <th>visit_date</th>\n",
       "      <th>visitors</th>\n",
       "      <th>day_of_week</th>\n",
       "      <th>holiday_flg</th>\n",
       "    </tr>\n",
       "  </thead>\n",
       "  <tbody>\n",
       "    <tr>\n",
       "      <th>0</th>\n",
       "      <td>air_ba937bf13d40fb24</td>\n",
       "      <td>2016-01-13</td>\n",
       "      <td>3.258097</td>\n",
       "      <td>Wednesday</td>\n",
       "      <td>0</td>\n",
       "    </tr>\n",
       "    <tr>\n",
       "      <th>1</th>\n",
       "      <td>air_25e9888d30b386df</td>\n",
       "      <td>2016-01-13</td>\n",
       "      <td>3.091042</td>\n",
       "      <td>Wednesday</td>\n",
       "      <td>0</td>\n",
       "    </tr>\n",
       "    <tr>\n",
       "      <th>2</th>\n",
       "      <td>air_fd6aac1043520e83</td>\n",
       "      <td>2016-01-13</td>\n",
       "      <td>3.713572</td>\n",
       "      <td>Wednesday</td>\n",
       "      <td>0</td>\n",
       "    </tr>\n",
       "    <tr>\n",
       "      <th>3</th>\n",
       "      <td>air_64d4491ad8cdb1c6</td>\n",
       "      <td>2016-01-13</td>\n",
       "      <td>1.791759</td>\n",
       "      <td>Wednesday</td>\n",
       "      <td>0</td>\n",
       "    </tr>\n",
       "    <tr>\n",
       "      <th>4</th>\n",
       "      <td>air_ee3a01f0c71a769f</td>\n",
       "      <td>2016-01-13</td>\n",
       "      <td>2.944439</td>\n",
       "      <td>Wednesday</td>\n",
       "      <td>0</td>\n",
       "    </tr>\n",
       "  </tbody>\n",
       "</table>\n",
       "</div>"
      ],
      "text/plain": [
       "           air_store_id visit_date  visitors day_of_week  holiday_flg\n",
       "0  air_ba937bf13d40fb24 2016-01-13  3.258097   Wednesday            0\n",
       "1  air_25e9888d30b386df 2016-01-13  3.091042   Wednesday            0\n",
       "2  air_fd6aac1043520e83 2016-01-13  3.713572   Wednesday            0\n",
       "3  air_64d4491ad8cdb1c6 2016-01-13  1.791759   Wednesday            0\n",
       "4  air_ee3a01f0c71a769f 2016-01-13  2.944439   Wednesday            0"
      ]
     },
     "execution_count": 12,
     "metadata": {},
     "output_type": "execute_result"
    }
   ],
   "source": [
    "data[\"tra_hol\"]=data[\"tra\"].merge(data[\"hol\"],left_on=\"visit_date\",right_on=\"calendar_date\").\\\n",
    "            drop(\"calendar_date\",axis=1)\n",
    "data[\"tra_hol\"].head()"
   ]
  },
  {
   "cell_type": "code",
   "execution_count": 13,
   "metadata": {
    "collapsed": false
   },
   "outputs": [
    {
     "data": {
      "text/html": [
       "<div>\n",
       "<table border=\"1\" class=\"dataframe\">\n",
       "  <thead>\n",
       "    <tr style=\"text-align: right;\">\n",
       "      <th></th>\n",
       "      <th>mean</th>\n",
       "      <th>median</th>\n",
       "      <th>min</th>\n",
       "      <th>max</th>\n",
       "      <th>std</th>\n",
       "    </tr>\n",
       "    <tr>\n",
       "      <th>air_store_id</th>\n",
       "      <th></th>\n",
       "      <th></th>\n",
       "      <th></th>\n",
       "      <th></th>\n",
       "      <th></th>\n",
       "    </tr>\n",
       "  </thead>\n",
       "  <tbody>\n",
       "    <tr>\n",
       "      <th>air_00a91d42b08b08d9</th>\n",
       "      <td>3.167414</td>\n",
       "      <td>3.295837</td>\n",
       "      <td>0.693147</td>\n",
       "      <td>4.605170</td>\n",
       "      <td>0.576968</td>\n",
       "    </tr>\n",
       "    <tr>\n",
       "      <th>air_0164b9927d20bcc3</th>\n",
       "      <td>2.117522</td>\n",
       "      <td>2.197225</td>\n",
       "      <td>0.693147</td>\n",
       "      <td>3.332205</td>\n",
       "      <td>0.685494</td>\n",
       "    </tr>\n",
       "    <tr>\n",
       "      <th>air_0241aa3964b7f861</th>\n",
       "      <td>2.236649</td>\n",
       "      <td>2.302585</td>\n",
       "      <td>0.693147</td>\n",
       "      <td>3.891820</td>\n",
       "      <td>0.565187</td>\n",
       "    </tr>\n",
       "    <tr>\n",
       "      <th>air_0328696196e46f18</th>\n",
       "      <td>1.966041</td>\n",
       "      <td>1.945910</td>\n",
       "      <td>0.693147</td>\n",
       "      <td>3.737670</td>\n",
       "      <td>0.662686</td>\n",
       "    </tr>\n",
       "    <tr>\n",
       "      <th>air_034a3d5b40d5b1b1</th>\n",
       "      <td>2.457141</td>\n",
       "      <td>2.564949</td>\n",
       "      <td>0.693147</td>\n",
       "      <td>4.762174</td>\n",
       "      <td>0.823890</td>\n",
       "    </tr>\n",
       "  </tbody>\n",
       "</table>\n",
       "</div>"
      ],
      "text/plain": [
       "                          mean    median       min       max       std\n",
       "air_store_id                                                          \n",
       "air_00a91d42b08b08d9  3.167414  3.295837  0.693147  4.605170  0.576968\n",
       "air_0164b9927d20bcc3  2.117522  2.197225  0.693147  3.332205  0.685494\n",
       "air_0241aa3964b7f861  2.236649  2.302585  0.693147  3.891820  0.565187\n",
       "air_0328696196e46f18  1.966041  1.945910  0.693147  3.737670  0.662686\n",
       "air_034a3d5b40d5b1b1  2.457141  2.564949  0.693147  4.762174  0.823890"
      ]
     },
     "execution_count": 13,
     "metadata": {},
     "output_type": "execute_result"
    }
   ],
   "source": [
    "store_mean_0=pd.DataFrame()\n",
    "store_mean_0[\"mean\"]=data[\"tra\"].groupby(\"air_store_id\").visitors.mean()\n",
    "store_mean_0[\"median\"]=data[\"tra\"].groupby(\"air_store_id\").visitors.median()\n",
    "store_mean_0[\"min\"]=data[\"tra\"].groupby(\"air_store_id\").visitors.min()\n",
    "store_mean_0[\"max\"]=data[\"tra\"].groupby(\"air_store_id\").visitors.max()\n",
    "store_mean_0[\"std\"]=data[\"tra\"].groupby(\"air_store_id\").visitors.std()\n",
    "store_mean_0.head()\n"
   ]
  },
  {
   "cell_type": "code",
   "execution_count": 61,
   "metadata": {
    "collapsed": false
   },
   "outputs": [
    {
     "data": {
      "text/html": [
       "<div>\n",
       "<table border=\"1\" class=\"dataframe\">\n",
       "  <thead>\n",
       "    <tr style=\"text-align: right;\">\n",
       "      <th></th>\n",
       "      <th>air_store_id</th>\n",
       "      <th>day_of_week</th>\n",
       "      <th>visitors_dow_mdn</th>\n",
       "      <th>visitors_dow_mean</th>\n",
       "      <th>visitors_dow_min</th>\n",
       "      <th>visitors_dow_max</th>\n",
       "      <th>visitors_dow_std</th>\n",
       "    </tr>\n",
       "  </thead>\n",
       "  <tbody>\n",
       "    <tr>\n",
       "      <th>0</th>\n",
       "      <td>air_00a91d42b08b08d9</td>\n",
       "      <td>Friday</td>\n",
       "      <td>3.597218</td>\n",
       "      <td>3.595110</td>\n",
       "      <td>2.890372</td>\n",
       "      <td>4.060443</td>\n",
       "      <td>0.249142</td>\n",
       "    </tr>\n",
       "    <tr>\n",
       "      <th>1</th>\n",
       "      <td>air_00a91d42b08b08d9</td>\n",
       "      <td>Monday</td>\n",
       "      <td>2.995732</td>\n",
       "      <td>3.056744</td>\n",
       "      <td>0.693147</td>\n",
       "      <td>3.871201</td>\n",
       "      <td>0.522171</td>\n",
       "    </tr>\n",
       "    <tr>\n",
       "      <th>2</th>\n",
       "      <td>air_00a91d42b08b08d9</td>\n",
       "      <td>Saturday</td>\n",
       "      <td>2.484907</td>\n",
       "      <td>2.505629</td>\n",
       "      <td>1.386294</td>\n",
       "      <td>4.605170</td>\n",
       "      <td>0.665186</td>\n",
       "    </tr>\n",
       "    <tr>\n",
       "      <th>3</th>\n",
       "      <td>air_00a91d42b08b08d9</td>\n",
       "      <td>Sunday</td>\n",
       "      <td>1.098612</td>\n",
       "      <td>1.098612</td>\n",
       "      <td>1.098612</td>\n",
       "      <td>1.098612</td>\n",
       "      <td>0.000000</td>\n",
       "    </tr>\n",
       "    <tr>\n",
       "      <th>4</th>\n",
       "      <td>air_00a91d42b08b08d9</td>\n",
       "      <td>Thursday</td>\n",
       "      <td>3.433987</td>\n",
       "      <td>3.401823</td>\n",
       "      <td>2.772589</td>\n",
       "      <td>3.871201</td>\n",
       "      <td>0.244663</td>\n",
       "    </tr>\n",
       "  </tbody>\n",
       "</table>\n",
       "</div>"
      ],
      "text/plain": [
       "           air_store_id day_of_week  visitors_dow_mdn  visitors_dow_mean  \\\n",
       "0  air_00a91d42b08b08d9      Friday          3.597218           3.595110   \n",
       "1  air_00a91d42b08b08d9      Monday          2.995732           3.056744   \n",
       "2  air_00a91d42b08b08d9    Saturday          2.484907           2.505629   \n",
       "3  air_00a91d42b08b08d9      Sunday          1.098612           1.098612   \n",
       "4  air_00a91d42b08b08d9    Thursday          3.433987           3.401823   \n",
       "\n",
       "   visitors_dow_min  visitors_dow_max  visitors_dow_std  \n",
       "0          2.890372          4.060443          0.249142  \n",
       "1          0.693147          3.871201          0.522171  \n",
       "2          1.386294          4.605170          0.665186  \n",
       "3          1.098612          1.098612          0.000000  \n",
       "4          2.772589          3.871201          0.244663  "
      ]
     },
     "execution_count": 61,
     "metadata": {},
     "output_type": "execute_result"
    }
   ],
   "source": [
    "store_mean_dow=pd.DataFrame()\n",
    "store_mean_dow[\"visitors_dow_mdn\"]=data[\"tra_hol\"].groupby([\"air_store_id\",\"day_of_week\"]).visitors.median() #.reset_index()\n",
    "store_mean_dow[\"visitors_dow_mean\"]=data[\"tra_hol\"].groupby([\"air_store_id\",\"day_of_week\"]).visitors.mean() #.reset_index()\n",
    "store_mean_dow[\"visitors_dow_min\"]=data[\"tra_hol\"].groupby([\"air_store_id\",\"day_of_week\"]).visitors.min() #.reset_index()\n",
    "store_mean_dow[\"visitors_dow_max\"]=data[\"tra_hol\"].groupby([\"air_store_id\",\"day_of_week\"]).visitors.max() #.reset_index()\n",
    "store_mean_dow[\"visitors_dow_std\"]=data[\"tra_hol\"].groupby([\"air_store_id\",\"day_of_week\"]).visitors.std() #.reset_index()\n",
    "store_mean_dow[\"visitors_dow_mdn\"].fillna(store_mean_0[\"median\"],inplace=True)\n",
    "store_mean_dow[\"visitors_dow_mean\"].fillna(store_mean_0[\"mean\"],inplace=True)\n",
    "store_mean_dow[\"visitors_dow_min\"].fillna(store_mean_0[\"min\"],inplace=True)\n",
    "store_mean_dow[\"visitors_dow_max\"].fillna(store_mean_0[\"max\"],inplace=True)\n",
    "store_mean_dow[\"visitors_dow_std\"].fillna(store_mean_0[\"std\"],inplace=True)\n",
    "store_mean_dow.fillna(0,inplace=True)\n",
    "#store_mean_dow=store_mean_dow.drop(\"visitors\",axis=1)\n",
    "store_mean_dow=store_mean_dow.reset_index() #unstack(level=1)\n",
    "store_mean_dow.head()"
   ]
  },
  {
   "cell_type": "code",
   "execution_count": 68,
   "metadata": {
    "collapsed": false
   },
   "outputs": [
    {
     "data": {
      "text/html": [
       "<div>\n",
       "<table border=\"1\" class=\"dataframe\">\n",
       "  <thead>\n",
       "    <tr style=\"text-align: right;\">\n",
       "      <th></th>\n",
       "      <th>air_store_id</th>\n",
       "      <th>day_of_week</th>\n",
       "      <th>holiday_flg</th>\n",
       "      <th>visitors_dow_hol_mdn</th>\n",
       "      <th>visitors_dow_hol_mean</th>\n",
       "      <th>visitors_dow_hol_min</th>\n",
       "      <th>visitors_dow_hol_max</th>\n",
       "      <th>visitors_dow_hol_std</th>\n",
       "    </tr>\n",
       "  </thead>\n",
       "  <tbody>\n",
       "    <tr>\n",
       "      <th>0</th>\n",
       "      <td>air_00a91d42b08b08d9</td>\n",
       "      <td>Friday</td>\n",
       "      <td>0</td>\n",
       "      <td>3.597218</td>\n",
       "      <td>3.595110</td>\n",
       "      <td>2.890372</td>\n",
       "      <td>4.060443</td>\n",
       "      <td>0.249142</td>\n",
       "    </tr>\n",
       "    <tr>\n",
       "      <th>1</th>\n",
       "      <td>air_00a91d42b08b08d9</td>\n",
       "      <td>Friday</td>\n",
       "      <td>1</td>\n",
       "      <td>0.000000</td>\n",
       "      <td>0.000000</td>\n",
       "      <td>0.000000</td>\n",
       "      <td>0.000000</td>\n",
       "      <td>0.000000</td>\n",
       "    </tr>\n",
       "    <tr>\n",
       "      <th>2</th>\n",
       "      <td>air_00a91d42b08b08d9</td>\n",
       "      <td>Monday</td>\n",
       "      <td>0</td>\n",
       "      <td>2.995732</td>\n",
       "      <td>3.055735</td>\n",
       "      <td>0.693147</td>\n",
       "      <td>3.871201</td>\n",
       "      <td>0.529989</td>\n",
       "    </tr>\n",
       "    <tr>\n",
       "      <th>3</th>\n",
       "      <td>air_00a91d42b08b08d9</td>\n",
       "      <td>Monday</td>\n",
       "      <td>1</td>\n",
       "      <td>3.091042</td>\n",
       "      <td>3.091042</td>\n",
       "      <td>3.091042</td>\n",
       "      <td>3.091042</td>\n",
       "      <td>0.000000</td>\n",
       "    </tr>\n",
       "    <tr>\n",
       "      <th>4</th>\n",
       "      <td>air_00a91d42b08b08d9</td>\n",
       "      <td>Saturday</td>\n",
       "      <td>0</td>\n",
       "      <td>2.484907</td>\n",
       "      <td>2.505629</td>\n",
       "      <td>1.386294</td>\n",
       "      <td>4.605170</td>\n",
       "      <td>0.665186</td>\n",
       "    </tr>\n",
       "  </tbody>\n",
       "</table>\n",
       "</div>"
      ],
      "text/plain": [
       "           air_store_id day_of_week  holiday_flg  visitors_dow_hol_mdn  \\\n",
       "0  air_00a91d42b08b08d9      Friday            0              3.597218   \n",
       "1  air_00a91d42b08b08d9      Friday            1              0.000000   \n",
       "2  air_00a91d42b08b08d9      Monday            0              2.995732   \n",
       "3  air_00a91d42b08b08d9      Monday            1              3.091042   \n",
       "4  air_00a91d42b08b08d9    Saturday            0              2.484907   \n",
       "\n",
       "   visitors_dow_hol_mean  visitors_dow_hol_min  visitors_dow_hol_max  \\\n",
       "0               3.595110              2.890372              4.060443   \n",
       "1               0.000000              0.000000              0.000000   \n",
       "2               3.055735              0.693147              3.871201   \n",
       "3               3.091042              3.091042              3.091042   \n",
       "4               2.505629              1.386294              4.605170   \n",
       "\n",
       "   visitors_dow_hol_std  \n",
       "0              0.249142  \n",
       "1              0.000000  \n",
       "2              0.529989  \n",
       "3              0.000000  \n",
       "4              0.665186  "
      ]
     },
     "execution_count": 68,
     "metadata": {},
     "output_type": "execute_result"
    }
   ],
   "source": [
    "store_mean_dow_hol=pd.DataFrame()\n",
    "store_mean_dow_hol[\"visitors_dow_hol_mdn\"]=data[\"tra_hol\"].groupby([\"air_store_id\",\"day_of_week\",'holiday_flg']).visitors.median() #.reset_index()\n",
    "store_mean_dow_hol[\"visitors_dow_hol_mean\"]=data[\"tra_hol\"].groupby([\"air_store_id\",\"day_of_week\",'holiday_flg']).visitors.mean() #.reset_index()\n",
    "store_mean_dow_hol[\"visitors_dow_hol_min\"]=data[\"tra_hol\"].groupby([\"air_store_id\",\"day_of_week\",'holiday_flg']).visitors.min() #.reset_index()\n",
    "store_mean_dow_hol[\"visitors_dow_hol_max\"]=data[\"tra_hol\"].groupby([\"air_store_id\",\"day_of_week\",'holiday_flg']).visitors.max() #.reset_index()\n",
    "store_mean_dow_hol[\"visitors_dow_hol_std\"]=data[\"tra_hol\"].groupby([\"air_store_id\",\"day_of_week\",'holiday_flg']).visitors.std() #.reset_index()\n",
    "store_mean_dow_hol[\"visitors_dow_hol_mdn\"].fillna(store_mean_dow[\"visitors_dow_mdn\"],inplace=True)\n",
    "store_mean_dow_hol[\"visitors_dow_hol_mean\"].fillna(store_mean_dow[\"visitors_dow_mean\"],inplace=True)\n",
    "store_mean_dow_hol[\"visitors_dow_hol_min\"].fillna(store_mean_dow[\"visitors_dow_min\"],inplace=True)\n",
    "store_mean_dow_hol[\"visitors_dow_hol_max\"].fillna(store_mean_dow[\"visitors_dow_max\"],inplace=True)\n",
    "store_mean_dow_hol[\"visitors_dow_hol_std\"].fillna(store_mean_dow[\"visitors_dow_std\"],inplace=True)\n",
    "store_mean_dow_hol=store_mean_dow_hol.fillna(0)\n",
    "#store_mean_dow=store_mean_dow.drop(\"visitors\",axis=1)\n",
    "store_mean_dow_hol=store_mean_dow_hol.reset_index() #unstack(level=1)\n",
    "store_mean_dow_hol.head()"
   ]
  },
  {
   "cell_type": "code",
   "execution_count": 69,
   "metadata": {
    "collapsed": true
   },
   "outputs": [],
   "source": [
    "data[\"tra\"][\"month\"]=data[\"tra\"].visit_date.map(lambda x: x.month)\n",
    "data[\"tra\"][\"month\"]=data[\"tra\"][\"month\"].astype('category')"
   ]
  },
  {
   "cell_type": "code",
   "execution_count": 70,
   "metadata": {
    "collapsed": false
   },
   "outputs": [],
   "source": [
    "data[\"tra_as_hol\"]=data[\"tra\"].merge(data[\"hol\"],left_on=\"visit_date\",right_on=\"calendar_date\").\\\n",
    "            drop(\"calendar_date\",axis=1).\\\n",
    "            merge(store_mean_dow,on=[\"air_store_id\",\"day_of_week\"]).\\\n",
    "            merge(store_mean_dow_hol,on=[\"air_store_id\",\"day_of_week\",'holiday_flg']).\\\n",
    "            merge(data[\"as\"],on=[\"air_store_id\"]).\\\n",
    "            merge(store_mean_0,left_on=[\"air_store_id\"],right_index=True)\n",
    "            \n",
    "\n"
   ]
  },
  {
   "cell_type": "code",
   "execution_count": 71,
   "metadata": {
    "collapsed": false
   },
   "outputs": [
    {
     "data": {
      "text/html": [
       "<div>\n",
       "<table border=\"1\" class=\"dataframe\">\n",
       "  <thead>\n",
       "    <tr style=\"text-align: right;\">\n",
       "      <th></th>\n",
       "      <th>air_store_id</th>\n",
       "      <th>visit_date</th>\n",
       "      <th>visitors</th>\n",
       "      <th>month</th>\n",
       "      <th>day_of_week</th>\n",
       "      <th>holiday_flg</th>\n",
       "      <th>visitors_dow_mdn</th>\n",
       "      <th>visitors_dow_mean</th>\n",
       "      <th>visitors_dow_min</th>\n",
       "      <th>visitors_dow_max</th>\n",
       "      <th>...</th>\n",
       "      <th>air_genre_name</th>\n",
       "      <th>air_area_name</th>\n",
       "      <th>latitude</th>\n",
       "      <th>longitude</th>\n",
       "      <th>mean</th>\n",
       "      <th>median</th>\n",
       "      <th>min</th>\n",
       "      <th>max</th>\n",
       "      <th>std</th>\n",
       "      <th>time_numeric</th>\n",
       "    </tr>\n",
       "  </thead>\n",
       "  <tbody>\n",
       "    <tr>\n",
       "      <th>0</th>\n",
       "      <td>air_ba937bf13d40fb24</td>\n",
       "      <td>2016-01-13</td>\n",
       "      <td>3.258097</td>\n",
       "      <td>1</td>\n",
       "      <td>Wednesday</td>\n",
       "      <td>0</td>\n",
       "      <td>3.258097</td>\n",
       "      <td>3.137813</td>\n",
       "      <td>2.079442</td>\n",
       "      <td>4.060443</td>\n",
       "      <td>...</td>\n",
       "      <td>Dining bar</td>\n",
       "      <td>Tōkyō-to Minato-ku Shibakōen</td>\n",
       "      <td>35.658068</td>\n",
       "      <td>139.751599</td>\n",
       "      <td>3.014389</td>\n",
       "      <td>3.135494</td>\n",
       "      <td>0.693147</td>\n",
       "      <td>4.127134</td>\n",
       "      <td>0.616634</td>\n",
       "      <td>1.036800e+10</td>\n",
       "    </tr>\n",
       "    <tr>\n",
       "      <th>1</th>\n",
       "      <td>air_ba937bf13d40fb24</td>\n",
       "      <td>2016-01-20</td>\n",
       "      <td>3.465736</td>\n",
       "      <td>1</td>\n",
       "      <td>Wednesday</td>\n",
       "      <td>0</td>\n",
       "      <td>3.258097</td>\n",
       "      <td>3.137813</td>\n",
       "      <td>2.079442</td>\n",
       "      <td>4.060443</td>\n",
       "      <td>...</td>\n",
       "      <td>Dining bar</td>\n",
       "      <td>Tōkyō-to Minato-ku Shibakōen</td>\n",
       "      <td>35.658068</td>\n",
       "      <td>139.751599</td>\n",
       "      <td>3.014389</td>\n",
       "      <td>3.135494</td>\n",
       "      <td>0.693147</td>\n",
       "      <td>4.127134</td>\n",
       "      <td>0.616634</td>\n",
       "      <td>1.641600e+10</td>\n",
       "    </tr>\n",
       "    <tr>\n",
       "      <th>2</th>\n",
       "      <td>air_ba937bf13d40fb24</td>\n",
       "      <td>2016-01-27</td>\n",
       "      <td>3.218876</td>\n",
       "      <td>1</td>\n",
       "      <td>Wednesday</td>\n",
       "      <td>0</td>\n",
       "      <td>3.258097</td>\n",
       "      <td>3.137813</td>\n",
       "      <td>2.079442</td>\n",
       "      <td>4.060443</td>\n",
       "      <td>...</td>\n",
       "      <td>Dining bar</td>\n",
       "      <td>Tōkyō-to Minato-ku Shibakōen</td>\n",
       "      <td>35.658068</td>\n",
       "      <td>139.751599</td>\n",
       "      <td>3.014389</td>\n",
       "      <td>3.135494</td>\n",
       "      <td>0.693147</td>\n",
       "      <td>4.127134</td>\n",
       "      <td>0.616634</td>\n",
       "      <td>2.246400e+10</td>\n",
       "    </tr>\n",
       "    <tr>\n",
       "      <th>3</th>\n",
       "      <td>air_ba937bf13d40fb24</td>\n",
       "      <td>2016-02-03</td>\n",
       "      <td>2.944439</td>\n",
       "      <td>2</td>\n",
       "      <td>Wednesday</td>\n",
       "      <td>0</td>\n",
       "      <td>3.258097</td>\n",
       "      <td>3.137813</td>\n",
       "      <td>2.079442</td>\n",
       "      <td>4.060443</td>\n",
       "      <td>...</td>\n",
       "      <td>Dining bar</td>\n",
       "      <td>Tōkyō-to Minato-ku Shibakōen</td>\n",
       "      <td>35.658068</td>\n",
       "      <td>139.751599</td>\n",
       "      <td>3.014389</td>\n",
       "      <td>3.135494</td>\n",
       "      <td>0.693147</td>\n",
       "      <td>4.127134</td>\n",
       "      <td>0.616634</td>\n",
       "      <td>2.851200e+10</td>\n",
       "    </tr>\n",
       "    <tr>\n",
       "      <th>4</th>\n",
       "      <td>air_ba937bf13d40fb24</td>\n",
       "      <td>2016-02-10</td>\n",
       "      <td>3.496508</td>\n",
       "      <td>2</td>\n",
       "      <td>Wednesday</td>\n",
       "      <td>0</td>\n",
       "      <td>3.258097</td>\n",
       "      <td>3.137813</td>\n",
       "      <td>2.079442</td>\n",
       "      <td>4.060443</td>\n",
       "      <td>...</td>\n",
       "      <td>Dining bar</td>\n",
       "      <td>Tōkyō-to Minato-ku Shibakōen</td>\n",
       "      <td>35.658068</td>\n",
       "      <td>139.751599</td>\n",
       "      <td>3.014389</td>\n",
       "      <td>3.135494</td>\n",
       "      <td>0.693147</td>\n",
       "      <td>4.127134</td>\n",
       "      <td>0.616634</td>\n",
       "      <td>3.456000e+10</td>\n",
       "    </tr>\n",
       "  </tbody>\n",
       "</table>\n",
       "<p>5 rows × 26 columns</p>\n",
       "</div>"
      ],
      "text/plain": [
       "           air_store_id visit_date  visitors  month day_of_week  holiday_flg  \\\n",
       "0  air_ba937bf13d40fb24 2016-01-13  3.258097      1   Wednesday            0   \n",
       "1  air_ba937bf13d40fb24 2016-01-20  3.465736      1   Wednesday            0   \n",
       "2  air_ba937bf13d40fb24 2016-01-27  3.218876      1   Wednesday            0   \n",
       "3  air_ba937bf13d40fb24 2016-02-03  2.944439      2   Wednesday            0   \n",
       "4  air_ba937bf13d40fb24 2016-02-10  3.496508      2   Wednesday            0   \n",
       "\n",
       "   visitors_dow_mdn  visitors_dow_mean  visitors_dow_min  visitors_dow_max  \\\n",
       "0          3.258097           3.137813          2.079442          4.060443   \n",
       "1          3.258097           3.137813          2.079442          4.060443   \n",
       "2          3.258097           3.137813          2.079442          4.060443   \n",
       "3          3.258097           3.137813          2.079442          4.060443   \n",
       "4          3.258097           3.137813          2.079442          4.060443   \n",
       "\n",
       "       ...       air_genre_name                 air_area_name   latitude  \\\n",
       "0      ...           Dining bar  Tōkyō-to Minato-ku Shibakōen  35.658068   \n",
       "1      ...           Dining bar  Tōkyō-to Minato-ku Shibakōen  35.658068   \n",
       "2      ...           Dining bar  Tōkyō-to Minato-ku Shibakōen  35.658068   \n",
       "3      ...           Dining bar  Tōkyō-to Minato-ku Shibakōen  35.658068   \n",
       "4      ...           Dining bar  Tōkyō-to Minato-ku Shibakōen  35.658068   \n",
       "\n",
       "    longitude      mean    median       min       max       std  time_numeric  \n",
       "0  139.751599  3.014389  3.135494  0.693147  4.127134  0.616634  1.036800e+10  \n",
       "1  139.751599  3.014389  3.135494  0.693147  4.127134  0.616634  1.641600e+10  \n",
       "2  139.751599  3.014389  3.135494  0.693147  4.127134  0.616634  2.246400e+10  \n",
       "3  139.751599  3.014389  3.135494  0.693147  4.127134  0.616634  2.851200e+10  \n",
       "4  139.751599  3.014389  3.135494  0.693147  4.127134  0.616634  3.456000e+10  \n",
       "\n",
       "[5 rows x 26 columns]"
      ]
     },
     "execution_count": 71,
     "metadata": {},
     "output_type": "execute_result"
    }
   ],
   "source": [
    "data[\"tra_as_hol\"][\"time_numeric\"]=pd.to_numeric(data[\"tra_as_hol\"].visit_date-data[\"tra_as_hol\"].visit_date.min())/100000\n",
    "#data[\"tra_as_hol\"][\"time_numeric\"].describe()\n",
    "data[\"tra_as_hol\"].head()\n",
    "#data[\"tra_as_hol\"].tail()"
   ]
  },
  {
   "cell_type": "markdown",
   "metadata": {},
   "source": [
    "One-hot encoding for day of week, holiday, month, genre, area"
   ]
  },
  {
   "cell_type": "code",
   "execution_count": 72,
   "metadata": {
    "collapsed": false,
    "scrolled": true
   },
   "outputs": [
    {
     "name": "stdout",
     "output_type": "stream",
     "text": [
      "156\n"
     ]
    }
   ],
   "source": [
    "data[\"tra_as_hol\"][\"month\"]=data[\"tra_as_hol\"][\"month\"].astype('category')\n",
    "#data[\"tra_as_hol\"].dtypes\n",
    "cols_to_enc=[\"month\",\"day_of_week\",\"air_genre_name\", 'air_area_name']\n",
    "dummies=pd.get_dummies(data[\"tra_as_hol\"][cols_to_enc])\n",
    "#data[\"tra_as_hol\"].join(dummies)\n",
    "enc=data[\"tra_as_hol\"].join(dummies)\n",
    "#enc.describe()\n",
    "enc=enc.drop(cols_to_enc,axis=1).drop([\"latitude\",\"longitude\"],axis=1)\n",
    "enc.head()\n",
    "#for c in enc.columns: print(c)\n",
    "print(len(enc.columns))\n",
    "#print(enc.columns)\n",
    "\n"
   ]
  },
  {
   "cell_type": "markdown",
   "metadata": {},
   "source": [
    "Binary encoder"
   ]
  },
  {
   "cell_type": "code",
   "execution_count": 73,
   "metadata": {
    "collapsed": false
   },
   "outputs": [],
   "source": [
    "import category_encoders as ce\n",
    "encoder = ce.BinaryEncoder(cols=cols_to_enc)\n",
    "enc2=encoder.fit_transform(data[\"tra_as_hol\"])"
   ]
  },
  {
   "cell_type": "code",
   "execution_count": 74,
   "metadata": {
    "collapsed": false
   },
   "outputs": [],
   "source": [
    "'''def f64_to_32(df):\n",
    "    float_cols=df.select_dtypes(include=[\"float64\"]).columns\n",
    "    int_cols=df.select_dtypes(include=[\"int64\"]).columns\n",
    "    for fc in float_cols:\n",
    "        print(fc)\n",
    "        df[fc]=df[fc].astype(\"float32\")\n",
    "    for ic in int_cols:\n",
    "        print(ic)\n",
    "        df[ic]=df[ic].astype(\"int32\")\n",
    " \n",
    "f64_to_32(enc)\n",
    "f64_to_32(enc2)\n",
    "#enc.dtypes''';"
   ]
  },
  {
   "cell_type": "markdown",
   "metadata": {},
   "source": [
    "Divide train-test before-after"
   ]
  },
  {
   "cell_type": "code",
   "execution_count": 75,
   "metadata": {
    "collapsed": false
   },
   "outputs": [
    {
     "name": "stderr",
     "output_type": "stream",
     "text": [
      "/scratch/baruselli/inst/intelpython35/lib/python3.5/site-packages/ipykernel/__main__.py:4: UserWarning: Boolean Series key will be reindexed to match DataFrame index.\n",
      "/scratch/baruselli/inst/intelpython35/lib/python3.5/site-packages/ipykernel/__main__.py:5: UserWarning: Boolean Series key will be reindexed to match DataFrame index.\n"
     ]
    }
   ],
   "source": [
    "cut_date='2017-3-1'\n",
    "\n",
    "def train_test_eval(df,cut_date):\n",
    "    df_train=df[df.visitors.notnull()][df[\"visit_date\"]<cut_date]        #train\n",
    "    df_test= df[df.visitors.notnull()][df[\"visit_date\"]>= cut_date]      #test (I have data to check)\n",
    "    df_eval= df[df.visitors.isnull()]                                   #eval (for submission only, no data to check)\n",
    "    return(df_train,df_test,df_eval)\n",
    "    \n",
    "df_train,df_test,df_eval=train_test_eval(enc,cut_date)"
   ]
  },
  {
   "cell_type": "code",
   "execution_count": 76,
   "metadata": {
    "collapsed": false
   },
   "outputs": [
    {
     "data": {
      "text/plain": [
       "<matplotlib.axes._subplots.AxesSubplot at 0x7fe4047bf2b0>"
      ]
     },
     "execution_count": 76,
     "metadata": {},
     "output_type": "execute_result"
    },
    {
     "data": {
      "image/png": "[encoded data removed]",
      "text/plain": [
       "<matplotlib.figure.Figure at 0x7fe40d9b2b38>"
      ]
     },
     "metadata": {},
     "output_type": "display_data"
    }
   ],
   "source": [
    "%matplotlib inline\n",
    "df_train.groupby(\"visit_date\")[\"visitors\"].mean().plot()\n",
    "df_test.groupby(\"visit_date\")[\"visitors\"].mean().plot()"
   ]
  },
  {
   "cell_type": "code",
   "execution_count": 77,
   "metadata": {
    "collapsed": false
   },
   "outputs": [
    {
     "name": "stdout",
     "output_type": "stream",
     "text": [
      "103 108 108\n",
      "108 108\n"
     ]
    }
   ],
   "source": [
    "print(\n",
    "len(data[\"tra_as_hol\"][\"air_area_name\"].unique()),\n",
    "len(data[\"tra_as_hol\"][\"longitude\"].unique()),\n",
    "len(data[\"tra_as_hol\"][\"latitude\"].unique()),\n",
    ")\n",
    "print(\n",
    "len(data[\"tra_as_hol\"].groupby(['latitude', 'longitude']).size()),\n",
    "len(data[\"tra_as_hol\"].groupby([\"air_area_name\",'latitude', 'longitude']).size())\n",
    ")"
   ]
  },
  {
   "cell_type": "markdown",
   "metadata": {},
   "source": [
    "For each store I use mean, min, max, std, area, genre, day and holiday as predictors"
   ]
  },
  {
   "cell_type": "code",
   "execution_count": 78,
   "metadata": {
    "collapsed": false
   },
   "outputs": [
    {
     "data": {
      "text/html": [
       "<div>\n",
       "<table border=\"1\" class=\"dataframe\">\n",
       "  <thead>\n",
       "    <tr style=\"text-align: right;\">\n",
       "      <th></th>\n",
       "      <th>air_store_id</th>\n",
       "      <th>visit_date</th>\n",
       "      <th>visitors</th>\n",
       "      <th>holiday_flg</th>\n",
       "      <th>visitors_dow_mdn</th>\n",
       "      <th>visitors_dow_mean</th>\n",
       "      <th>visitors_dow_min</th>\n",
       "      <th>visitors_dow_max</th>\n",
       "      <th>visitors_dow_std</th>\n",
       "      <th>visitors_dow_hol_mdn</th>\n",
       "      <th>...</th>\n",
       "      <th>air_area_name_Ōsaka-fu Sakai-shi Minamikawaramachi</th>\n",
       "      <th>air_area_name_Ōsaka-fu Suita-shi Izumichō</th>\n",
       "      <th>air_area_name_Ōsaka-fu Ōsaka-shi Fuminosato</th>\n",
       "      <th>air_area_name_Ōsaka-fu Ōsaka-shi Kyōmachibori</th>\n",
       "      <th>air_area_name_Ōsaka-fu Ōsaka-shi Kyūtarōmachi</th>\n",
       "      <th>air_area_name_Ōsaka-fu Ōsaka-shi Nakanochō</th>\n",
       "      <th>air_area_name_Ōsaka-fu Ōsaka-shi Nanbasennichimae</th>\n",
       "      <th>air_area_name_Ōsaka-fu Ōsaka-shi Shinmachi</th>\n",
       "      <th>air_area_name_Ōsaka-fu Ōsaka-shi Ōgimachi</th>\n",
       "      <th>air_area_name_Ōsaka-fu Ōsaka-shi Ōhiraki</th>\n",
       "    </tr>\n",
       "  </thead>\n",
       "  <tbody>\n",
       "    <tr>\n",
       "      <th>0</th>\n",
       "      <td>air_ba937bf13d40fb24</td>\n",
       "      <td>2016-01-13</td>\n",
       "      <td>3.258097</td>\n",
       "      <td>0</td>\n",
       "      <td>3.258097</td>\n",
       "      <td>3.137813</td>\n",
       "      <td>2.079442</td>\n",
       "      <td>4.060443</td>\n",
       "      <td>0.406326</td>\n",
       "      <td>3.258097</td>\n",
       "      <td>...</td>\n",
       "      <td>0</td>\n",
       "      <td>0</td>\n",
       "      <td>0</td>\n",
       "      <td>0</td>\n",
       "      <td>0</td>\n",
       "      <td>0</td>\n",
       "      <td>0</td>\n",
       "      <td>0</td>\n",
       "      <td>0</td>\n",
       "      <td>0</td>\n",
       "    </tr>\n",
       "    <tr>\n",
       "      <th>1</th>\n",
       "      <td>air_ba937bf13d40fb24</td>\n",
       "      <td>2016-01-20</td>\n",
       "      <td>3.465736</td>\n",
       "      <td>0</td>\n",
       "      <td>3.258097</td>\n",
       "      <td>3.137813</td>\n",
       "      <td>2.079442</td>\n",
       "      <td>4.060443</td>\n",
       "      <td>0.406326</td>\n",
       "      <td>3.258097</td>\n",
       "      <td>...</td>\n",
       "      <td>0</td>\n",
       "      <td>0</td>\n",
       "      <td>0</td>\n",
       "      <td>0</td>\n",
       "      <td>0</td>\n",
       "      <td>0</td>\n",
       "      <td>0</td>\n",
       "      <td>0</td>\n",
       "      <td>0</td>\n",
       "      <td>0</td>\n",
       "    </tr>\n",
       "    <tr>\n",
       "      <th>2</th>\n",
       "      <td>air_ba937bf13d40fb24</td>\n",
       "      <td>2016-01-27</td>\n",
       "      <td>3.218876</td>\n",
       "      <td>0</td>\n",
       "      <td>3.258097</td>\n",
       "      <td>3.137813</td>\n",
       "      <td>2.079442</td>\n",
       "      <td>4.060443</td>\n",
       "      <td>0.406326</td>\n",
       "      <td>3.258097</td>\n",
       "      <td>...</td>\n",
       "      <td>0</td>\n",
       "      <td>0</td>\n",
       "      <td>0</td>\n",
       "      <td>0</td>\n",
       "      <td>0</td>\n",
       "      <td>0</td>\n",
       "      <td>0</td>\n",
       "      <td>0</td>\n",
       "      <td>0</td>\n",
       "      <td>0</td>\n",
       "    </tr>\n",
       "    <tr>\n",
       "      <th>3</th>\n",
       "      <td>air_ba937bf13d40fb24</td>\n",
       "      <td>2016-02-03</td>\n",
       "      <td>2.944439</td>\n",
       "      <td>0</td>\n",
       "      <td>3.258097</td>\n",
       "      <td>3.137813</td>\n",
       "      <td>2.079442</td>\n",
       "      <td>4.060443</td>\n",
       "      <td>0.406326</td>\n",
       "      <td>3.258097</td>\n",
       "      <td>...</td>\n",
       "      <td>0</td>\n",
       "      <td>0</td>\n",
       "      <td>0</td>\n",
       "      <td>0</td>\n",
       "      <td>0</td>\n",
       "      <td>0</td>\n",
       "      <td>0</td>\n",
       "      <td>0</td>\n",
       "      <td>0</td>\n",
       "      <td>0</td>\n",
       "    </tr>\n",
       "    <tr>\n",
       "      <th>4</th>\n",
       "      <td>air_ba937bf13d40fb24</td>\n",
       "      <td>2016-02-10</td>\n",
       "      <td>3.496508</td>\n",
       "      <td>0</td>\n",
       "      <td>3.258097</td>\n",
       "      <td>3.137813</td>\n",
       "      <td>2.079442</td>\n",
       "      <td>4.060443</td>\n",
       "      <td>0.406326</td>\n",
       "      <td>3.258097</td>\n",
       "      <td>...</td>\n",
       "      <td>0</td>\n",
       "      <td>0</td>\n",
       "      <td>0</td>\n",
       "      <td>0</td>\n",
       "      <td>0</td>\n",
       "      <td>0</td>\n",
       "      <td>0</td>\n",
       "      <td>0</td>\n",
       "      <td>0</td>\n",
       "      <td>0</td>\n",
       "    </tr>\n",
       "  </tbody>\n",
       "</table>\n",
       "<p>5 rows × 156 columns</p>\n",
       "</div>"
      ],
      "text/plain": [
       "           air_store_id visit_date  visitors  holiday_flg  visitors_dow_mdn  \\\n",
       "0  air_ba937bf13d40fb24 2016-01-13  3.258097            0          3.258097   \n",
       "1  air_ba937bf13d40fb24 2016-01-20  3.465736            0          3.258097   \n",
       "2  air_ba937bf13d40fb24 2016-01-27  3.218876            0          3.258097   \n",
       "3  air_ba937bf13d40fb24 2016-02-03  2.944439            0          3.258097   \n",
       "4  air_ba937bf13d40fb24 2016-02-10  3.496508            0          3.258097   \n",
       "\n",
       "   visitors_dow_mean  visitors_dow_min  visitors_dow_max  visitors_dow_std  \\\n",
       "0           3.137813          2.079442          4.060443          0.406326   \n",
       "1           3.137813          2.079442          4.060443          0.406326   \n",
       "2           3.137813          2.079442          4.060443          0.406326   \n",
       "3           3.137813          2.079442          4.060443          0.406326   \n",
       "4           3.137813          2.079442          4.060443          0.406326   \n",
       "\n",
       "   visitors_dow_hol_mdn                    ...                     \\\n",
       "0              3.258097                    ...                      \n",
       "1              3.258097                    ...                      \n",
       "2              3.258097                    ...                      \n",
       "3              3.258097                    ...                      \n",
       "4              3.258097                    ...                      \n",
       "\n",
       "   air_area_name_Ōsaka-fu Sakai-shi Minamikawaramachi  \\\n",
       "0                                                  0    \n",
       "1                                                  0    \n",
       "2                                                  0    \n",
       "3                                                  0    \n",
       "4                                                  0    \n",
       "\n",
       "   air_area_name_Ōsaka-fu Suita-shi Izumichō  \\\n",
       "0                                          0   \n",
       "1                                          0   \n",
       "2                                          0   \n",
       "3                                          0   \n",
       "4                                          0   \n",
       "\n",
       "   air_area_name_Ōsaka-fu Ōsaka-shi Fuminosato  \\\n",
       "0                                            0   \n",
       "1                                            0   \n",
       "2                                            0   \n",
       "3                                            0   \n",
       "4                                            0   \n",
       "\n",
       "   air_area_name_Ōsaka-fu Ōsaka-shi Kyōmachibori  \\\n",
       "0                                              0   \n",
       "1                                              0   \n",
       "2                                              0   \n",
       "3                                              0   \n",
       "4                                              0   \n",
       "\n",
       "   air_area_name_Ōsaka-fu Ōsaka-shi Kyūtarōmachi  \\\n",
       "0                                              0   \n",
       "1                                              0   \n",
       "2                                              0   \n",
       "3                                              0   \n",
       "4                                              0   \n",
       "\n",
       "   air_area_name_Ōsaka-fu Ōsaka-shi Nakanochō  \\\n",
       "0                                           0   \n",
       "1                                           0   \n",
       "2                                           0   \n",
       "3                                           0   \n",
       "4                                           0   \n",
       "\n",
       "   air_area_name_Ōsaka-fu Ōsaka-shi Nanbasennichimae  \\\n",
       "0                                                  0   \n",
       "1                                                  0   \n",
       "2                                                  0   \n",
       "3                                                  0   \n",
       "4                                                  0   \n",
       "\n",
       "   air_area_name_Ōsaka-fu Ōsaka-shi Shinmachi  \\\n",
       "0                                           0   \n",
       "1                                           0   \n",
       "2                                           0   \n",
       "3                                           0   \n",
       "4                                           0   \n",
       "\n",
       "   air_area_name_Ōsaka-fu Ōsaka-shi Ōgimachi  \\\n",
       "0                                          0   \n",
       "1                                          0   \n",
       "2                                          0   \n",
       "3                                          0   \n",
       "4                                          0   \n",
       "\n",
       "   air_area_name_Ōsaka-fu Ōsaka-shi Ōhiraki  \n",
       "0                                         0  \n",
       "1                                         0  \n",
       "2                                         0  \n",
       "3                                         0  \n",
       "4                                         0  \n",
       "\n",
       "[5 rows x 156 columns]"
      ]
     },
     "execution_count": 78,
     "metadata": {},
     "output_type": "execute_result"
    }
   ],
   "source": [
    "\n",
    "\n",
    "df_train.head()"
   ]
  },
  {
   "cell_type": "code",
   "execution_count": 79,
   "metadata": {
    "collapsed": true,
    "scrolled": true
   },
   "outputs": [],
   "source": [
    "def xy_train_test(df_train,df_test):\n",
    "    try:\n",
    "        X_train = df_train.drop([\"visitors\",\"visit_date\",\"air_store_id\",\"latitude\",\"longitude\"],axis=1).as_matrix()\n",
    "        X_test =  df_test.drop([\"visitors\",\"visit_date\",\"air_store_id\",\"latitude\",\"longitude\"],axis=1).as_matrix()\n",
    "    except:\n",
    "        #try:\n",
    "            X_train = df_train.drop([\"visitors\",\"visit_date\",\"air_store_id\"],axis=1).as_matrix()\n",
    "            X_test =  df_test.drop([\"visitors\",\"visit_date\",\"air_store_id\"],axis=1).as_matrix()\n",
    "        #except: \n",
    "        #            try:\n",
    "        #                X_train = df_train.drop([\"col_visitors\",\"col_visit_date\",\"col_air_store_id\",\"col_latitude\",\"col_longitude\"],axis=1).as_matrix()\n",
    "        #                X_test =  df_test.drop([\"col_visitors\",\"col_visit_date\",\"col_air_store_id\",\"col_latitude\",\"col_longitude\"],axis=1).as_matrix()\n",
    "        #            except:\n",
    "        #                X_train = df_train.drop([\"col_visitors\",\"col_visit_date\",\"col_air_store_id\"],axis=1).as_matrix()\n",
    "        #                X_test =  df_test.drop([\"col_visitors\",\"col_visit_date\",\"col_air_store_id\"],axis=1).as_matrix()\"\"\"\n",
    "    # Split the targets into training/testing sets\n",
    "    try:\n",
    "        y_train = df_train[\"visitors\"].values\n",
    "        y_test =  df_test[\"visitors\"].values\n",
    "    except:\n",
    "        y_train = df_train[\"col_visitors\"].values\n",
    "        y_test =  df_test[\"col_visitors\"].values\n",
    "        \n",
    "    #return(X_train,X_test,y_train,y_test)              \n",
    "    return(X_train.astype(\"float32\"),X_test.astype(\"float32\"),y_train.astype(\"float32\"),y_test.astype(\"float32\"))              \n",
    "\n",
    "\n",
    "def test(df_train,df_test,regr):\n",
    "    #print(df_train.columns)\n",
    "\n",
    "    (X_train,X_test,y_train,y_test) = xy_train_test(df_train,df_test)\n",
    "\n",
    "    #print(X_train.shape,y_train.shape)\n",
    "    #print(X_test.shape,y_test.shape)\n",
    "    regr.fit(X_train, y_train)\n",
    "    y_pred_train = regr.predict(X_train)\n",
    "    y_pred = regr.predict(X_test)\n",
    "    y_pred=np.maximum(0,y_pred)\n",
    "    y_pred_train=np.maximum(0,y_pred_train)\n",
    "    error=RMSE(y_test, y_pred)\n",
    "    error_train=RMSE(y_train, y_pred_train)\n",
    "    print(error,error_train)\n",
    "    return error,error_train"
   ]
  },
  {
   "cell_type": "code",
   "execution_count": 80,
   "metadata": {
    "collapsed": false
   },
   "outputs": [],
   "source": [
    "(X_train,X_test,y_train,y_test) = xy_train_test(df_train,df_test)"
   ]
  },
  {
   "cell_type": "code",
   "execution_count": 81,
   "metadata": {
    "collapsed": false,
    "scrolled": false
   },
   "outputs": [
    {
     "name": "stderr",
     "output_type": "stream",
     "text": [
      "/scratch/baruselli/inst/intelpython35/lib/python3.5/site-packages/ipykernel/__main__.py:4: UserWarning: Boolean Series key will be reindexed to match DataFrame index.\n",
      "/scratch/baruselli/inst/intelpython35/lib/python3.5/site-packages/ipykernel/__main__.py:5: UserWarning: Boolean Series key will be reindexed to match DataFrame index.\n"
     ]
    },
    {
     "name": "stdout",
     "output_type": "stream",
     "text": [
      "0.830475009956 0.803764814237\n",
      "0.83047497407 0.803764814237\n"
     ]
    },
    {
     "data": {
      "text/plain": [
       "(0.83047497406975024, 0.80376481423734114)"
      ]
     },
     "execution_count": 81,
     "metadata": {},
     "output_type": "execute_result"
    }
   ],
   "source": [
    "df_train,df_test,df_eval=train_test_eval(enc,cut_date)\n",
    "test(df_train,df_test, linear_model.LinearRegression())\n",
    "df_train,df_test,df_eval=train_test_eval(enc2,cut_date)\n",
    "test(df_train,df_test, linear_model.LinearRegression())"
   ]
  },
  {
   "cell_type": "code",
   "execution_count": 82,
   "metadata": {
    "collapsed": true
   },
   "outputs": [],
   "source": [
    "encoder = ce.BinaryEncoder(cols=cols_to_enc)\n",
    "enc2=encoder.fit_transform(data[\"tra_as_hol\"])"
   ]
  },
  {
   "cell_type": "code",
   "execution_count": 83,
   "metadata": {
    "collapsed": false
   },
   "outputs": [
    {
     "name": "stderr",
     "output_type": "stream",
     "text": [
      "/scratch/baruselli/inst/intelpython35/lib/python3.5/site-packages/ipykernel/__main__.py:4: UserWarning: Boolean Series key will be reindexed to match DataFrame index.\n",
      "/scratch/baruselli/inst/intelpython35/lib/python3.5/site-packages/ipykernel/__main__.py:5: UserWarning: Boolean Series key will be reindexed to match DataFrame index.\n"
     ]
    },
    {
     "name": "stdout",
     "output_type": "stream",
     "text": [
      "0.83047497407 0.803764814237\n",
      "0.507066589676 0.502605177989\n",
      "0.507066560289 0.502605177989\n",
      "0.507066589676 0.502605177989\n",
      "0.507066295806 0.502605207637\n",
      "0.507064121162 0.502606482492\n",
      "0.507052865765 0.502657770517\n",
      "0.507275106276 0.503273559341\n"
     ]
    },
    {
     "data": {
      "text/plain": [
       "(0.50727510627593941, 0.5032735593410097)"
      ]
     },
     "execution_count": 83,
     "metadata": {},
     "output_type": "execute_result"
    }
   ],
   "source": [
    "df_train,df_test,df_eval=train_test_eval(enc2,cut_date)\n",
    "#df_train,df_test,df_eval=train_test_eval(enc,cut_date)\n",
    "\n",
    "test(df_train,df_test, linear_model.LinearRegression())\n",
    "test(df_train,df_test, linear_model.Ridge(alpha=0.001))\n",
    "test(df_train,df_test, linear_model.Ridge(alpha=0.01))\n",
    "test(df_train,df_test, linear_model.Ridge(alpha=0.1))\n",
    "test(df_train,df_test, linear_model.Ridge(alpha=1))\n",
    "test(df_train,df_test, linear_model.Ridge(alpha=10))\n",
    "test(df_train,df_test, linear_model.Ridge(alpha=100))\n",
    "test(df_train,df_test, linear_model.Ridge(alpha=1000))\n",
    "#test(df_train,df_test, linear_model.Lasso(alpha=0.01))"
   ]
  },
  {
   "cell_type": "code",
   "execution_count": 97,
   "metadata": {
    "collapsed": false
   },
   "outputs": [
    {
     "name": "stdout",
     "output_type": "stream",
     "text": [
      "0.519755399864 0.432441759759\n"
     ]
    },
    {
     "data": {
      "text/plain": [
       "(0.51975539986388819, 0.43244175975916832)"
      ]
     },
     "execution_count": 97,
     "metadata": {},
     "output_type": "execute_result"
    }
   ],
   "source": [
    "\n",
    "\n",
    "\n",
    "#test(df_train,df_test, svm.SVR(C=0.01))\n",
    "#test(df_train,df_test, svm.SVR(C=0.1))\n",
    "#test(df_train,df_test, svm.SVR(C=1))\n",
    "#test(df_train,df_test, svm.SVR(C=10))\n",
    "#test(df_train,df_test, svm.SVR(C=100))\n",
    "\n",
    "#test(df_train,df_test,ensemble.RandomForestRegressor(n_estimators=100,max_features=\"sqrt\",max_depth=20))\n",
    "#test(df_train,df_test,ensemble.RandomForestRegressor(n_estimators=5,max_features=\"sqrt\",max_depth=20))\n",
    "#test(df_train,df_test,ensemble.AdaBoostRegressor)\n",
    "#test(df_train,df_test,ensemble.RandomForestRegressor(n_estimators=200,max_features=\"log2\",max_depth=10))\n",
    "test(df_train,df_test,ensemble.RandomForestRegressor(n_estimators=100,max_features=\"log2\",max_depth=16))\n",
    "#test(df_train,df_test,ensemble.RandomForestRegressor(n_estimators=90,max_features=\"log2\",max_depth=17))\n",
    "#test(df_train,df_test,ensemble.RandomForestRegressor(n_estimators=120,max_features=\"log2\",max_depth=13))\n",
    "#test(df_train,df_test,ensemble.RandomForestRegressor(n_estimators=80,max_features=\"log2\",max_depth=18))\n",
    "#test(df_train,df_test,ensemble.RandomForestRegressor(n_estimators=150,max_features=\"log2\",max_depth=12))\n",
    "#test(df_train,df_test,ensemble.RandomForestRegressor(n_estimators=180,max_features=\"log2\",max_depth=10))\n",
    "#test(df_train,df_test,ensemble.RandomForestRegressor(n_estimators=80,max_features=\"log2\",max_depth=15))\n",
    "#test(df_train,df_test,ensemble.RandomForestRegressor(n_estimators=100,max_features=\"log2\",max_depth=15))\n",
    "#test(df_train,df_test,ensemble.RandomForestRegressor(n_estimators=100,max_features=\"log2\",max_depth=14))\n",
    "\n",
    "#test(df_train,df_test,ensemble.RandomForestRegressor(n_estimators=100,max_features=\"log2\",max_depth=14))\n",
    "#test(df_train,df_test,ensemble.RandomForestRegressor(n_estimators=100,max_features=\"log2\",max_depth=13))\n",
    "#test(df_train,df_test,ensemble.RandomForestRegressor(n_estimators=200,max_features=\"log2\",max_depth=15))\n",
    "#test(df_train,df_test,ensemble.RandomForestRegressor(n_estimators=500,max_features=\"log2\",max_depth=15))\n"
   ]
  },
  {
   "cell_type": "code",
   "execution_count": 85,
   "metadata": {
    "collapsed": false
   },
   "outputs": [
    {
     "name": "stdout",
     "output_type": "stream",
     "text": [
      "PredefinedSplit(test_fold=array([-1, -1, ...,  0,  0]))\n",
      "214046 38062\n",
      "214046 38062\n",
      "[     0      1      2 ..., 214043 214044 214045] [214046 214047 214048 ..., 252105 252106 252107]\n"
     ]
    }
   ],
   "source": [
    "from sklearn.model_selection import PredefinedSplit\n",
    "test_fold=np.append(-np.ones(len(df_train)),np.zeros(len(df_test)))\n",
    "ps = PredefinedSplit(test_fold)\n",
    "ps.get_n_splits()\n",
    "print(ps)       \n",
    "for train_index, test_index in ps.split():\n",
    "    print(len(train_index),len(test_index))\n",
    "    print(len(df_train),len(df_test))\n",
    "    print(train_index,test_index)\n"
   ]
  },
  {
   "cell_type": "code",
   "execution_count": 90,
   "metadata": {
    "collapsed": false
   },
   "outputs": [
    {
     "name": "stdout",
     "output_type": "stream",
     "text": [
      "Fitting 1 folds for each of 10 candidates, totalling 10 fits\n",
      "[CV] max_depth=10, max_features=sqrt, n_estimators=123 ...............\n",
      "[CV]  max_depth=10, max_features=sqrt, n_estimators=123, score=-0.26342826471355113, total=  19.6s\n",
      "[CV] max_depth=16, max_features=sqrt, n_estimators=69 ................\n"
     ]
    },
    {
     "name": "stderr",
     "output_type": "stream",
     "text": [
      "[Parallel(n_jobs=1)]: Done   1 out of   1 | elapsed:   20.6s remaining:    0.0s\n"
     ]
    },
    {
     "name": "stdout",
     "output_type": "stream",
     "text": [
      "[CV]  max_depth=16, max_features=sqrt, n_estimators=69, score=-0.2719819344591799, total=  15.7s\n",
      "[CV] max_depth=10, max_features=log2, n_estimators=189 ...............\n"
     ]
    },
    {
     "name": "stderr",
     "output_type": "stream",
     "text": [
      "[Parallel(n_jobs=1)]: Done   2 out of   2 | elapsed:   37.4s remaining:    0.0s\n"
     ]
    },
    {
     "name": "stdout",
     "output_type": "stream",
     "text": [
      "[CV]  max_depth=10, max_features=log2, n_estimators=189, score=-0.2642754064753766, total=  31.0s\n",
      "[CV] max_depth=16, max_features=log2, n_estimators=249 ...............\n"
     ]
    },
    {
     "name": "stderr",
     "output_type": "stream",
     "text": [
      "[Parallel(n_jobs=1)]: Done   3 out of   3 | elapsed:  1.2min remaining:    0.0s\n"
     ]
    },
    {
     "name": "stdout",
     "output_type": "stream",
     "text": [
      "[CV]  max_depth=16, max_features=log2, n_estimators=249, score=-0.2698279749031835, total=  55.0s\n",
      "[CV] max_depth=5, max_features=sqrt, n_estimators=63 .................\n"
     ]
    },
    {
     "name": "stderr",
     "output_type": "stream",
     "text": [
      "[Parallel(n_jobs=1)]: Done   4 out of   4 | elapsed:  2.2min remaining:    0.0s\n"
     ]
    },
    {
     "name": "stdout",
     "output_type": "stream",
     "text": [
      "[CV]  max_depth=5, max_features=sqrt, n_estimators=63, score=-0.26392152617051884, total=   6.4s\n",
      "[CV] max_depth=7, max_features=log2, n_estimators=150 ................\n"
     ]
    },
    {
     "name": "stderr",
     "output_type": "stream",
     "text": [
      "[Parallel(n_jobs=1)]: Done   5 out of   5 | elapsed:  2.3min remaining:    0.0s\n"
     ]
    },
    {
     "name": "stdout",
     "output_type": "stream",
     "text": [
      "[CV]  max_depth=7, max_features=log2, n_estimators=150, score=-0.26145786798880316, total=  19.1s\n",
      "[CV] max_depth=11, max_features=sqrt, n_estimators=239 ...............\n"
     ]
    },
    {
     "name": "stderr",
     "output_type": "stream",
     "text": [
      "[Parallel(n_jobs=1)]: Done   6 out of   6 | elapsed:  2.6min remaining:    0.0s\n"
     ]
    },
    {
     "name": "stdout",
     "output_type": "stream",
     "text": [
      "[CV]  max_depth=11, max_features=sqrt, n_estimators=239, score=-0.26439749489821, total=  39.2s\n",
      "[CV] max_depth=8, max_features=log2, n_estimators=152 ................\n"
     ]
    },
    {
     "name": "stderr",
     "output_type": "stream",
     "text": [
      "[Parallel(n_jobs=1)]: Done   7 out of   7 | elapsed:  3.3min remaining:    0.0s\n"
     ]
    },
    {
     "name": "stdout",
     "output_type": "stream",
     "text": [
      "[CV]  max_depth=8, max_features=log2, n_estimators=152, score=-0.261956309804004, total=  21.1s\n",
      "[CV] max_depth=12, max_features=log2, n_estimators=57 ................\n"
     ]
    },
    {
     "name": "stderr",
     "output_type": "stream",
     "text": [
      "[Parallel(n_jobs=1)]: Done   8 out of   8 | elapsed:  3.6min remaining:    0.0s\n"
     ]
    },
    {
     "name": "stdout",
     "output_type": "stream",
     "text": [
      "[CV]  max_depth=12, max_features=log2, n_estimators=57, score=-0.2661620145506261, total=  10.4s\n",
      "[CV] max_depth=16, max_features=log2, n_estimators=110 ...............\n"
     ]
    },
    {
     "name": "stderr",
     "output_type": "stream",
     "text": [
      "[Parallel(n_jobs=1)]: Done   9 out of   9 | elapsed:  3.8min remaining:    0.0s\n"
     ]
    },
    {
     "name": "stdout",
     "output_type": "stream",
     "text": [
      "[CV]  max_depth=16, max_features=log2, n_estimators=110, score=-0.2707930452427361, total=  24.0s\n"
     ]
    },
    {
     "name": "stderr",
     "output_type": "stream",
     "text": [
      "[Parallel(n_jobs=1)]: Done  10 out of  10 | elapsed:  4.3min finished\n"
     ]
    },
    {
     "data": {
      "text/plain": [
       "RandomizedSearchCV(cv=PredefinedSplit(test_fold=array([-1, -1, ...,  0,  0])),\n",
       "          error_score='raise',\n",
       "          estimator=RandomForestRegressor(bootstrap=True, criterion='mse', max_depth=None,\n",
       "           max_features='auto', max_leaf_nodes=None,\n",
       "           min_impurity_decrease=0.0, min_impurity_split=None,\n",
       "           min_samples_leaf=1, min_samples_split=2,\n",
       "           min_weight_fraction_leaf=0.0, n_estimators=10, n_jobs=1,\n",
       "           oob_score=False, random_state=None, verbose=0, warm_start=False),\n",
       "          fit_params=None, iid=True, n_iter=10, n_jobs=1,\n",
       "          param_distributions={'max_depth': <scipy.stats._distn_infrastructure.rv_frozen object at 0x7fe40fa13b70>, 'max_features': ('log2', 'sqrt'), 'n_estimators': <scipy.stats._distn_infrastructure.rv_frozen object at 0x7fe40fa3e588>},\n",
       "          pre_dispatch='2*n_jobs', random_state=None, refit=True,\n",
       "          return_train_score='warn', scoring='neg_mean_squared_error',\n",
       "          verbose=10)"
      ]
     },
     "execution_count": 90,
     "metadata": {},
     "output_type": "execute_result"
    }
   ],
   "source": [
    "import scipy\n",
    "from  sklearn.model_selection import RandomizedSearchCV\n",
    "grid=RandomizedSearchCV(ensemble.RandomForestRegressor(), \n",
    "                                        param_distributions=\n",
    "                        {\"max_depth\": scipy.stats.randint(5,20), \n",
    "                         'n_estimators': scipy.stats.randint(50,250),\n",
    "                        'max_features':('log2','sqrt')},\n",
    "                                        n_iter=10,verbose=10,cv=ps,scoring=\"neg_mean_squared_error\" )\n",
    "\n",
    "(X_train,X_test,y_train,y_test) = xy_train_test(df_train,df_test)\n",
    "X_tot=np.append(X_train,X_test,axis=0)\n",
    "y_tot=np.append(y_train,y_test,axis=0)\n",
    "\n",
    "grid.fit(X_tot,y_tot)"
   ]
  },
  {
   "cell_type": "code",
   "execution_count": 92,
   "metadata": {
    "collapsed": false
   },
   "outputs": [
    {
     "data": {
      "text/plain": [
       "(-0.26145786798880316,\n",
       " 0.51132951018770978,\n",
       " {'max_depth': 7, 'max_features': 'log2', 'n_estimators': 150})"
      ]
     },
     "execution_count": 92,
     "metadata": {},
     "output_type": "execute_result"
    }
   ],
   "source": [
    "grid.best_score_,np.sqrt(-grid.best_score_),grid.best_params_"
   ]
  },
  {
   "cell_type": "code",
   "execution_count": null,
   "metadata": {
    "collapsed": false,
    "scrolled": true
   },
   "outputs": [],
   "source": [
    "test(df_train,df_test,ensemble.GradientBoostingRegressor(loss=\"ls\", learning_rate=1, n_estimators=50,max_depth=5))\n",
    "test(df_train,df_test,ensemble.GradientBoostingRegressor(loss=\"ls\", learning_rate=1, n_estimators=100,max_depth=5))\n",
    "#test(df_train,df_test,ensemble.GradientBoostingRegressor(loss=\"ls\", learning_rate=1, n_estimators=50,max_depth=10))\n",
    "#test(df_train,df_test,ensemble.GradientBoostingRegressor(loss=\"ls\", learning_rate=1, n_estimators=100,max_depth=10))\n",
    "#test(df_train,df_test,ensemble.AdaBoostRegressor(n_estimators=100, learning_rate=0.5, loss=\"square\"))"
   ]
  },
  {
   "cell_type": "code",
   "execution_count": null,
   "metadata": {
    "collapsed": false
   },
   "outputs": [],
   "source": [
    "from xgboost import XGBRegressor\n",
    "for rate in 0.1,:\n",
    "    print(rate)\n",
    "    test(df_train,df_test,XGBRegressor(max_depth=10, learning_rate=rate, n_estimators=50))"
   ]
  },
  {
   "cell_type": "code",
   "execution_count": null,
   "metadata": {
    "collapsed": true
   },
   "outputs": [],
   "source": [
    "ps = PredefinedSplit(test_fold=your_test_fold)"
   ]
  },
  {
   "cell_type": "code",
   "execution_count": null,
   "metadata": {
    "collapsed": true
   },
   "outputs": [],
   "source": [
    "def lognuniform(low=0, high=1, size=None, base=10):\n",
    "    return np.power(base, np.random.uniform(low, high, size))"
   ]
  },
  {
   "cell_type": "code",
   "execution_count": null,
   "metadata": {
    "collapsed": false
   },
   "outputs": [],
   "source": [
    "a=lognuniform(low=-4,high=0,size=10,base=10)\n",
    "a"
   ]
  },
  {
   "cell_type": "code",
   "execution_count": null,
   "metadata": {
    "collapsed": false
   },
   "outputs": [],
   "source": [
    "import scipy\n",
    "\n",
    "\n",
    "grid=model_selection.RandomizedSearchCV(XGBRegressor(), \n",
    "                                        param_distributions={\n",
    "                        \"max_depth\": scipy.stats.randint(2,10), \n",
    "                         'n_estimators': scipy.stats.randint(50,400),\n",
    "                         'learning_rate':lognuniform(low=-1.5,high=-0.5,base=10,size=100),\n",
    "                        }, \n",
    "                                        n_iter=100,verbose=10 ,cv=ps,scoring=\"neg_mean_squared_error\")\n",
    "\n",
    "(X_train,X_test,y_train,y_test) = xy_train_test(df_train,df_test)\n",
    "\n",
    "X_tot=np.append(X_train,X_test,axis=0)\n",
    "y_tot=np.append(y_train,y_test,axis=0)\n",
    "\n",
    "\n",
    "grid.fit(X_tot,y_tot)"
   ]
  },
  {
   "cell_type": "code",
   "execution_count": null,
   "metadata": {
    "collapsed": false
   },
   "outputs": [],
   "source": [
    "np.sqrt(-grid.best_score_),grid.best_params_"
   ]
  },
  {
   "cell_type": "code",
   "execution_count": null,
   "metadata": {
    "collapsed": false
   },
   "outputs": [],
   "source": [
    "test(df_train,df_test,XGBRegressor(learning_rate=0.1, n_estimators=89,max_depth=5))\n"
   ]
  },
  {
   "cell_type": "code",
   "execution_count": null,
   "metadata": {
    "collapsed": false
   },
   "outputs": [],
   "source": []
  },
  {
   "cell_type": "code",
   "execution_count": null,
   "metadata": {
    "collapsed": true,
    "scrolled": true
   },
   "outputs": [],
   "source": [
    "\"\"\"\n",
    "for fct in (ce.BinaryEncoder,ce.HashingEncoder,\\\n",
    "                ce.OneHotEncoder,ce.OrdinalEncoder,ce.PolynomialEncoder,\\\n",
    "                ce.BaseNEncoder,ce.LeaveOneOutEncoder):\n",
    "    print(fct)\n",
    "    encoder=fct(cols=cols_to_enc)\n",
    "    enc=encoder.fit_transform(data[\"tra_as_hol\"])\n",
    "    df_train,df_test,df_eval=train_test_eval(enc,cut_date)\n",
    "    test(df_train,df_test, linear_model.LinearRegression())\n",
    "\n",
    "    \n",
    "   \n",
    "ce.BackwardDifferenceEncoder(cols=[...])\n",
    "ce.BinaryEncoder(cols=[...])\n",
    "ce.HashingEncoder(cols=[...])\n",
    "ce.HelmertEncoder(cols=[...])\n",
    "ce.OneHotEncoder(cols=[...])\n",
    "ce.OrdinalEncoder(cols=[...])\n",
    "ce.SumEncoder(cols=[...])\n",
    "ce.PolynomialEncoder(cols=[...])\n",
    "ce.BaseNEncoder(cols=[...])\n",
    "ce.LeaveOneOutEncoder(cols=[...])\n",
    "\"\"\""
   ]
  },
  {
   "cell_type": "markdown",
   "metadata": {},
   "source": [
    "## For submission"
   ]
  },
  {
   "cell_type": "code",
   "execution_count": null,
   "metadata": {
    "collapsed": true
   },
   "outputs": [],
   "source": [
    "df_eval"
   ]
  },
  {
   "cell_type": "code",
   "execution_count": 94,
   "metadata": {
    "collapsed": true
   },
   "outputs": [],
   "source": [
    "def make_csv(df_train,df_test,df_eval,regr,file):\n",
    "    df_train_tot=df_train.append(df_test)\n",
    "    print(df_train_tot.columns)\n",
    "    print(df_eval.columns)\n",
    "    X_train = df_train_tot.drop([\"visitors\",\"visit_date\",\"air_store_id\",\"latitude\",\"longitude\"],axis=1).as_matrix()\n",
    "    X_test =  df_eval.drop([\"visitors\",\"visit_date\",\"air_store_id\",\"latitude\",\"longitude\"],axis=1).as_matrix()\n",
    "    # Split the targets into training/testing sets\n",
    "    y_train = df_train_tot[\"visitors\"].values\n",
    "    print(X_train.shape,y_train.shape)\n",
    "    regr.fit(X_train, y_train)\n",
    "    y_pred = regr.predict(X_test)\n",
    "    y_pred=np.maximum(0,y_pred)\n",
    "    y_pred=np.expm1(y_pred)\n",
    "    df_eval[\"visitors\"]=y_pred\n",
    "    df_eval[\"id\"]=df_eval[\"air_store_id\"].map(str)+\"_\"+df_eval[\"visit_date\"].dt.strftime('%Y-%m-%d')\n",
    "    df_sub=df_eval[[\"id\",\"visitors\"]]\n",
    "    df_sub.to_csv(file,index=False)"
   ]
  },
  {
   "cell_type": "code",
   "execution_count": null,
   "metadata": {
    "collapsed": true
   },
   "outputs": [],
   "source": [
    "df_eval=enc[enc.visitors.isna()]  \n",
    "make_csv(df_train,df_test,df_eval,linear_model.LinearRegression(),\"linear_binary.csv\")"
   ]
  },
  {
   "cell_type": "code",
   "execution_count": null,
   "metadata": {
    "collapsed": true
   },
   "outputs": [],
   "source": [
    "df_train,df_test,df_eval=train_test_eval(enc2,cut_date)\n",
    "make_csv(df_train,df_test,df_eval,ensemble.RandomForestRegressor(n_estimators=90,max_features=\"log2\",max_depth=18),\n",
    "         \"random_f_binary_log.csv\")"
   ]
  },
  {
   "cell_type": "code",
   "execution_count": null,
   "metadata": {
    "collapsed": false
   },
   "outputs": [],
   "source": [
    "df_train,df_test,df_eval=train_test_eval(enc2,cut_date)\n",
    "make_csv(df_train,df_test,df_eval,XGBRegressor(learning_rate=0.12, n_estimators=300,max_depth=2),\n",
    "         \"xgb_new.csv\")"
   ]
  },
  {
   "cell_type": "code",
   "execution_count": 96,
   "metadata": {
    "collapsed": false
   },
   "outputs": [
    {
     "name": "stderr",
     "output_type": "stream",
     "text": [
      "/scratch/baruselli/inst/intelpython35/lib/python3.5/site-packages/ipykernel/__main__.py:4: UserWarning: Boolean Series key will be reindexed to match DataFrame index.\n",
      "/scratch/baruselli/inst/intelpython35/lib/python3.5/site-packages/ipykernel/__main__.py:5: UserWarning: Boolean Series key will be reindexed to match DataFrame index.\n"
     ]
    },
    {
     "name": "stdout",
     "output_type": "stream",
     "text": [
      "Index(['month_0', 'month_1', 'month_2', 'month_3', 'day_of_week_0',\n",
      "       'day_of_week_1', 'day_of_week_2', 'air_genre_name_0',\n",
      "       'air_genre_name_1', 'air_genre_name_2', 'air_genre_name_3',\n",
      "       'air_area_name_0', 'air_area_name_1', 'air_area_name_2',\n",
      "       'air_area_name_3', 'air_area_name_4', 'air_area_name_5',\n",
      "       'air_area_name_6', 'air_store_id', 'visit_date', 'visitors',\n",
      "       'holiday_flg', 'visitors_dow_mdn', 'visitors_dow_mean',\n",
      "       'visitors_dow_min', 'visitors_dow_max', 'visitors_dow_std',\n",
      "       'visitors_dow_hol_mdn', 'visitors_dow_hol_mean', 'visitors_dow_hol_min',\n",
      "       'visitors_dow_hol_max', 'visitors_dow_hol_std', 'latitude', 'longitude',\n",
      "       'mean', 'median', 'min', 'max', 'std', 'time_numeric'],\n",
      "      dtype='object')\n",
      "Index(['month_0', 'month_1', 'month_2', 'month_3', 'day_of_week_0',\n",
      "       'day_of_week_1', 'day_of_week_2', 'air_genre_name_0',\n",
      "       'air_genre_name_1', 'air_genre_name_2', 'air_genre_name_3',\n",
      "       'air_area_name_0', 'air_area_name_1', 'air_area_name_2',\n",
      "       'air_area_name_3', 'air_area_name_4', 'air_area_name_5',\n",
      "       'air_area_name_6', 'air_store_id', 'visit_date', 'visitors',\n",
      "       'holiday_flg', 'visitors_dow_mdn', 'visitors_dow_mean',\n",
      "       'visitors_dow_min', 'visitors_dow_max', 'visitors_dow_std',\n",
      "       'visitors_dow_hol_mdn', 'visitors_dow_hol_mean', 'visitors_dow_hol_min',\n",
      "       'visitors_dow_hol_max', 'visitors_dow_hol_std', 'latitude', 'longitude',\n",
      "       'mean', 'median', 'min', 'max', 'std', 'time_numeric'],\n",
      "      dtype='object')\n",
      "(252108, 35) (252108,)\n"
     ]
    },
    {
     "name": "stderr",
     "output_type": "stream",
     "text": [
      "/scratch/baruselli/inst/intelpython35/lib/python3.5/site-packages/ipykernel/__main__.py:14: SettingWithCopyWarning: \n",
      "A value is trying to be set on a copy of a slice from a DataFrame.\n",
      "Try using .loc[row_indexer,col_indexer] = value instead\n",
      "\n",
      "See the caveats in the documentation: http://pandas.pydata.org/pandas-docs/stable/indexing.html#indexing-view-versus-copy\n",
      "/scratch/baruselli/inst/intelpython35/lib/python3.5/site-packages/ipykernel/__main__.py:15: SettingWithCopyWarning: \n",
      "A value is trying to be set on a copy of a slice from a DataFrame.\n",
      "Try using .loc[row_indexer,col_indexer] = value instead\n",
      "\n",
      "See the caveats in the documentation: http://pandas.pydata.org/pandas-docs/stable/indexing.html#indexing-view-versus-copy\n"
     ]
    }
   ],
   "source": [
    "df_train,df_test,df_eval=train_test_eval(enc2,cut_date)\n",
    "make_csv(df_train,df_test,df_eval,ensemble.RandomForestRegressor(n_estimators=100,max_features=\"log2\",max_depth=16),\n",
    "         \"forest.csv\")\n",
    "#df_train,df_test,df_eval=train_test_eval(enc2,cut_date)\n",
    "#make_csv(df_train,df_test,df_eval,ensemble.RandomForestRegressor(n_estimators=150,max_features=\"log2\",max_depth=7),\n",
    "#         \"forest.csv\")"
   ]
  },
  {
   "cell_type": "code",
   "execution_count": null,
   "metadata": {
    "collapsed": true
   },
   "outputs": [],
   "source": []
  },
  {
   "cell_type": "code",
   "execution_count": null,
   "metadata": {
    "collapsed": true
   },
   "outputs": [],
   "source": []
  },
  {
   "cell_type": "code",
   "execution_count": null,
   "metadata": {
    "collapsed": true
   },
   "outputs": [],
   "source": []
  },
  {
   "cell_type": "code",
   "execution_count": null,
   "metadata": {
    "collapsed": true
   },
   "outputs": [],
   "source": [
    "df_test=data[\"tes\"].merge(data[\"hol\"],left_on=\"time\",right_on=\"calendar_date\").\\\n",
    "            drop(\"time\",axis=1).\\\n",
    "            merge(data[\"as\"],right_on=\"air_store_id\",left_on=\"store_id\").\\\n",
    "            drop([\"store_id\"],axis=1)"
   ]
  },
  {
   "cell_type": "code",
   "execution_count": null,
   "metadata": {
    "collapsed": true
   },
   "outputs": [],
   "source": [
    "df_test"
   ]
  },
  {
   "cell_type": "code",
   "execution_count": null,
   "metadata": {
    "collapsed": true
   },
   "outputs": [],
   "source": [
    "df_test[\"month\"]=df_test.calendar_date.map(lambda x: x.month)\n",
    "df_test[\"month\"]=df_test[\"month\"].astype('category')"
   ]
  },
  {
   "cell_type": "code",
   "execution_count": null,
   "metadata": {
    "collapsed": true
   },
   "outputs": [],
   "source": [
    "#cols_to_enc=[\"holiday_flg\",\"air_genre_name\",\"air_area_name\",\"day_of_week\"]\n",
    "cols_to_enc=[\"month\",\"holiday_flg\",\"day_of_week\",\"air_genre_name\", 'air_area_name']\n",
    "dummies=pd.get_dummies(df_test[cols_to_enc])\n",
    "#data[\"tra_as_hol\"].join(dummies)\n",
    "df_test=df_test.join(dummies)\n",
    "#enc.describe()\n",
    "df_test=df_test.drop(cols_to_enc,axis=1).drop([\"air_store_id\",\"latitude\",\"longitude\"],axis=1)\n",
    "enc.head()\n",
    "for c in df_test.columns: print(c)\n",
    "print(len(df_test.columns))"
   ]
  },
  {
   "cell_type": "code",
   "execution_count": null,
   "metadata": {
    "collapsed": true
   },
   "outputs": [],
   "source": [
    "df_train"
   ]
  },
  {
   "cell_type": "markdown",
   "metadata": {},
   "source": [
    "### reservations"
   ]
  },
  {
   "cell_type": "code",
   "execution_count": null,
   "metadata": {
    "collapsed": true,
    "scrolled": true
   },
   "outputs": [],
   "source": [
    "#total number of reservations per day, for a stores\n",
    "data[\"ar\"][\"visit_date\"]=data[\"ar\"][\"visit_datetime\"].map(lambda x:x.date())\n",
    "data[\"ar\"][\"visit_date\"]=pd.to_datetime(data[\"ar\"][\"visit_date\"])\n",
    "#data[\"ar\"].groupby(\"air_store_id\",\"visit_date\")[\"reserve_visitors\"].sum()\n",
    "\n",
    "#data[\"ar\"]\n",
    "data[\"ar_sum\"]=data[\"ar\"].groupby([\"air_store_id\",\"visit_date\"]) [\"reserve_visitors\"].sum().reset_index()\n",
    "data[\"ar_sum\"].head()"
   ]
  },
  {
   "cell_type": "code",
   "execution_count": null,
   "metadata": {
    "collapsed": true
   },
   "outputs": [],
   "source": [
    "#this contains only days with reservations\n",
    "data[\"tra_ar_sum\"]=data[\"ar_sum\"].merge(data[\"tra_as_hol\"],on=[\"visit_date\",\"air_store_id\"])\n",
    "data[\"tra_ar_sum\"].head()\n",
    "df_train"
   ]
  },
  {
   "cell_type": "code",
   "execution_count": null,
   "metadata": {
    "collapsed": true
   },
   "outputs": [],
   "source": [
    "#cols_to_enc=[\"holiday_flg\",\"air_genre_name\",\"air_area_name\",\"day_of_week\"]\n",
    "cols_to_enc=[\"month\",\"holiday_flg\",\"day_of_week\",\"air_genre_name\", 'air_area_name']\n",
    "dummies=pd.get_dummies(data[\"tra_as_hol\"][cols_to_enc])\n",
    "#data[\"tra_as_hol\"].join(dummies)\n",
    "enc=data[\"tra_as_hol\"].join(dummies)\n",
    "#enc.describe()\n",
    "enc=enc.drop(cols_to_enc,axis=1).drop([\"air_store_id\",\"latitude\",\"longitude\"],axis=1)\n",
    "enc.head()\n",
    "for c in enc.columns: print(c)\n",
    "print(len(enc.columns))\n",
    "#print(enc.columns)\n",
    "df_train=enc[enc[\"visit_date\"]<cut_date]\n",
    "df_test= enc[enc[\"visit_date\"]>= cut_date]"
   ]
  },
  {
   "cell_type": "code",
   "execution_count": null,
   "metadata": {
    "collapsed": true
   },
   "outputs": [],
   "source": [
    "from sklearn import *\n",
    "print(df_train.columns)\n",
    "X_train = df_train.drop([\"visitors\",\"visit_date\"],axis=1).as_matrix()\n",
    "X_test =  df_test.drop([\"visitors\",\"visit_date\"],axis=1).as_matrix()\n",
    "    # Split the targets into training/testing sets\n",
    "y_train = df_train[\"visitors\"].values\n",
    "y_test =  df_test[\"visitors\"].values\n",
    "print(X_train.shape,y_train.shape)\n",
    "print(X_test.shape,y_test.shape)\n",
    "regr = linear_model.LinearRegression()\n",
    "regr.fit(X_train, y_train)\n",
    "y_pred = regr.predict(X_test)\n",
    "y_pred=np.maximum(0,y_pred)\n",
    "error=RMSLE(y_test, y_pred)\n",
    "print(error)"
   ]
  },
  {
   "cell_type": "code",
   "execution_count": null,
   "metadata": {
    "collapsed": true
   },
   "outputs": [],
   "source": [
    "df_store_test[[\"visitors\",\"visitors_predicted\"]]\n",
    "df_test[[\"visitors\",\"visitors_predicted\"]]"
   ]
  },
  {
   "cell_type": "code",
   "execution_count": null,
   "metadata": {
    "collapsed": true
   },
   "outputs": [],
   "source": [
    "df_train.columns"
   ]
  },
  {
   "cell_type": "code",
   "execution_count": null,
   "metadata": {
    "collapsed": true
   },
   "outputs": [],
   "source": [
    "X_train = df_train.drop([\"visitors\",\"visit_date\"],axis=1).values\n",
    "X_test =  df_test.drop([\"visitors\",\"visit_date\"],axis=1).values\n",
    "# Split the targets into training/testing sets\n",
    "y_train = df_train[\"visitors\"].values\n",
    "y_test =  df_test[\"visitors\"].values"
   ]
  },
  {
   "cell_type": "code",
   "execution_count": null,
   "metadata": {
    "collapsed": true
   },
   "outputs": [],
   "source": [
    "y_train"
   ]
  },
  {
   "cell_type": "code",
   "execution_count": null,
   "metadata": {
    "collapsed": true
   },
   "outputs": [],
   "source": [
    "regr = linear_model.LinearRegression()\n",
    "regr.fit(X_train, y_train)\n",
    "\n",
    "y_pred = regr.predict(X_test)"
   ]
  },
  {
   "cell_type": "markdown",
   "metadata": {},
   "source": [
    "### unique stores"
   ]
  },
  {
   "cell_type": "code",
   "execution_count": null,
   "metadata": {
    "collapsed": true
   },
   "outputs": [],
   "source": [
    "data[\"hr\"]"
   ]
  },
  {
   "cell_type": "code",
   "execution_count": null,
   "metadata": {
    "collapsed": true
   },
   "outputs": [],
   "source": [
    "stores_tra=set(data[\"tra\"].air_store_id.unique())\n",
    "stores_ar=set(data[\"ar\"].air_store_id.unique())\n",
    "stores_hr=set(data[\"hr\"].hpg_store_id.unique())\n",
    "stores_as=set(data[\"as\"].air_store_id.unique())\n",
    "stores_hs=set(data[\"hs\"].hpg_store_id.unique())\n",
    "stores_id_a=set(data[\"id\"].air_store_id.unique())\n",
    "stores_id_h=set(data[\"id\"].hpg_store_id.unique())\n",
    "stores_tes=set(data[\"tes\"].store_id.unique())"
   ]
  },
  {
   "cell_type": "code",
   "execution_count": null,
   "metadata": {
    "collapsed": true,
    "scrolled": true
   },
   "outputs": [],
   "source": [
    "stores_tes-stores_tra"
   ]
  },
  {
   "cell_type": "code",
   "execution_count": null,
   "metadata": {
    "collapsed": true
   },
   "outputs": [],
   "source": [
    "print(\n",
    "    len(stores_tra),len(stores_ar),len(stores_as),len(stores_id_a),\"\\n\",\n",
    "                    len(stores_hr),len(stores_hs),len(stores_id_h),\"\\n\",\n",
    "    len(stores_tes))"
   ]
  },
  {
   "cell_type": "code",
   "execution_count": null,
   "metadata": {
    "collapsed": true
   },
   "outputs": [],
   "source": [
    "X_train"
   ]
  },
  {
   "cell_type": "code",
   "execution_count": null,
   "metadata": {
    "collapsed": true
   },
   "outputs": [],
   "source": [
    "df_train.shape,df_test.shape"
   ]
  },
  {
   "cell_type": "markdown",
   "metadata": {
    "collapsed": true
   },
   "source": [
    "### Time series"
   ]
  },
  {
   "cell_type": "code",
   "execution_count": null,
   "metadata": {
    "collapsed": true
   },
   "outputs": [],
   "source": [
    "data[\"tra_as_hol\"]"
   ]
  },
  {
   "cell_type": "code",
   "execution_count": null,
   "metadata": {
    "collapsed": true
   },
   "outputs": [],
   "source": [
    "stores_groups=data[\"tra_as_hol\"].groupby(\"air_store_id\")"
   ]
  },
  {
   "cell_type": "code",
   "execution_count": null,
   "metadata": {
    "collapsed": true,
    "scrolled": true
   },
   "outputs": [],
   "source": [
    "series_test=stores_groups.get_group(\"air_00a91d42b08b08d9\")[[\"visit_date\",\"visitors\"]]\n",
    "series_test=series_test.set_index(series_test.visit_date).drop(\"visit_date\",axis=1).dropna()\n",
    "series_test.plot()"
   ]
  },
  {
   "cell_type": "code",
   "execution_count": null,
   "metadata": {
    "collapsed": true
   },
   "outputs": [],
   "source": [
    "from statsmodels.tsa.arima_model import ARIMA\n",
    "model = ARIMA(series_test, order=(1,1,0))\n",
    "model_fit = model.fit(disp=0)\n",
    "print(model_fit.summary())\n",
    "# plot residual errors\n",
    "residuals = pd.DataFrame(model_fit.resid)\n",
    "residuals.plot()\n",
    "residuals.plot(kind='kde')\n",
    "print(residuals.describe())"
   ]
  },
  {
   "cell_type": "code",
   "execution_count": null,
   "metadata": {
    "collapsed": true
   },
   "outputs": [],
   "source": [
    "model_fit.fittedvalues.plot()\n",
    "series_test.plot()"
   ]
  },
  {
   "cell_type": "markdown",
   "metadata": {},
   "source": [
    "### DOW HOL average"
   ]
  },
  {
   "cell_type": "code",
   "execution_count": null,
   "metadata": {
    "collapsed": false
   },
   "outputs": [],
   "source": [
    "df_train,df_test,df_eval=train_test_eval(data[\"tra_as_hol\"],cut_date)"
   ]
  },
  {
   "cell_type": "code",
   "execution_count": null,
   "metadata": {
    "collapsed": false
   },
   "outputs": [],
   "source": [
    "def get_y_pred(df_train,df_test):\n",
    "    mean_store_dow_hol=df_train.groupby([\"air_store_id\",\"day_of_week\",\"holiday_flg\"]).visitors.mean().reset_index()\n",
    "    mean_store_dow=df_train.groupby([\"air_store_id\",\"day_of_week\"]).visitors.mean().reset_index()\n",
    "    mean_store_hol=df_train.groupby([\"air_store_id\",\"holiday_flg\"]).visitors.mean().reset_index()\n",
    "    mean_store=df_train.groupby([\"air_store_id\"]).visitors.mean().reset_index()\n",
    "    df_1=df_test.merge(mean_store_dow_hol,on=[\"air_store_id\",\"day_of_week\",\"holiday_flg\"],how=\"left\")\n",
    "    df_2=df_test.merge(mean_store_hol,on=[\"air_store_id\",\"holiday_flg\"],how=\"left\")\n",
    "    df_3=df_test.merge(mean_store_dow,on=[\"air_store_id\",\"day_of_week\"],how=\"left\")\n",
    "    df_4=df_test.merge(mean_store,on=[\"air_store_id\"],how=\"left\")\n",
    "    y_pred_1=df_1.visitors_y.values\n",
    "    y_pred_2=df_2.visitors_y.values\n",
    "    y_pred_3=df_3.visitors_y.values\n",
    "    y_pred_4=df_4.visitors_y.values\n",
    "    y_test=df_1.visitors_x.values\n",
    "    for i,y in enumerate(y_pred_1):\n",
    "        if np.isnan(y): \n",
    "            if not np.isnan(y_pred_2[i]): y_pred_1[i]=y_pred_2[i]\n",
    "            else:\n",
    "                if not np.isnan(y_pred_3[i]): y_pred_1[i]=y_pred_3[i]\n",
    "                else:\n",
    "                    if not np.isnan(y_pred_4[i]):y_pred_1[i]=y_pred_4[i]\n",
    "                    else:y_pred_1[i]=0\n",
    "    return (y_test,y_pred_1)\n",
    "\n",
    "\n",
    "\n",
    "\n",
    "y_test,y_pred=get_y_pred(df_train,df_test)\n",
    "y_train,y_pred_t=get_y_pred(df_train,df_train)"
   ]
  },
  {
   "cell_type": "code",
   "execution_count": null,
   "metadata": {
    "collapsed": false
   },
   "outputs": [],
   "source": [
    "len(y_test),len(y_pred),len(y_train),len(y_pred_t)"
   ]
  },
  {
   "cell_type": "code",
   "execution_count": null,
   "metadata": {
    "collapsed": false
   },
   "outputs": [],
   "source": [
    "RMSE(y_train,y_pred_t),RMSE(y_test,y_pred)"
   ]
  },
  {
   "cell_type": "markdown",
   "metadata": {
    "collapsed": true
   },
   "source": []
  }
 ],
 "metadata": {
  "kernelspec": {
   "display_name": "Python 3",
   "language": "python",
   "name": "python3"
  },
  "language_info": {
   "codemirror_mode": {
    "name": "ipython",
    "version": 3
   },
   "file_extension": ".py",
   "mimetype": "text/x-python",
   "name": "python",
   "nbconvert_exporter": "python",
   "pygments_lexer": "ipython3",
   "version": "3.5.2"
  }
 },
 "nbformat": 4,
 "nbformat_minor": 2
}
