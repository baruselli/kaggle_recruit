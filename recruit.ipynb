{
 "cells": [
  {
   "cell_type": "markdown",
   "metadata": {},
   "source": [
    "### Read files"
   ]
  },
  {
   "cell_type": "code",
   "execution_count": 1,
   "metadata": {
    "collapsed": false
   },
   "outputs": [
    {
     "name": "stderr",
     "output_type": "stream",
     "text": [
      "/scratch/baruselli/inst/intelpython35/lib/python3.5/site-packages/sklearn/cross_validation.py:41: DeprecationWarning: This module was deprecated in version 0.18 in favor of the model_selection module into which all the refactored classes and functions are moved. Also note that the interface of the new CV iterators are different from that of this module. This module will be removed in 0.20.\n",
      "  \"This module will be removed in 0.20.\", DeprecationWarning)\n",
      "/scratch/baruselli/inst/intelpython35/lib/python3.5/site-packages/sklearn/grid_search.py:42: DeprecationWarning: This module was deprecated in version 0.18 in favor of the model_selection module into which all the refactored classes and functions are moved. This module will be removed in 0.20.\n",
      "  DeprecationWarning)\n",
      "/scratch/baruselli/inst/intelpython35/lib/python3.5/site-packages/sklearn/learning_curve.py:22: DeprecationWarning: This module was deprecated in version 0.18 in favor of the model_selection module into which all the functions are moved. This module will be removed in 0.20\n",
      "  DeprecationWarning)\n"
     ]
    }
   ],
   "source": [
    "import glob, re\n",
    "import numpy as np\n",
    "import pandas as pd\n",
    "from datetime import datetime\n",
    "from sklearn import *\n",
    "\n",
    "data = {\n",
    "    #visitors\n",
    "    'tra': pd.read_csv('./input/air_visit_data.csv',parse_dates=[\"visit_date\"]),\n",
    "    #reservations\n",
    "    'ar': pd.read_csv('./input/air_reserve.csv',parse_dates=[\"visit_datetime\",\"reserve_datetime\"]),\n",
    "    'hr': pd.read_csv('./input/hpg_reserve.csv',parse_dates=[\"visit_datetime\",\"reserve_datetime\"]),\n",
    "    #store info\n",
    "    'as': pd.read_csv('./input/air_store_info.csv'),\n",
    "    'hs': pd.read_csv('./input/hpg_store_info.csv'),\n",
    "    #air<->hpg\n",
    "    'id': pd.read_csv('./input/store_id_relation.csv'),\n",
    "    #days\n",
    "    'hol': pd.read_csv('./input/date_info.csv',parse_dates=[\"calendar_date\"]), #.rename(columns={'calendar_date':'visit_date'})\n",
    "    #\n",
    "    'tes': pd.read_csv('./input/sample_submission.csv'),\n",
    "    }"
   ]
  },
  {
   "cell_type": "code",
   "execution_count": 2,
   "metadata": {
    "collapsed": true
   },
   "outputs": [],
   "source": [
    "def RMSLE(y, pred):\n",
    "    return metrics.mean_squared_error(np.log(y+1), np.log(pred+1))**0.5\n",
    "def RMSE(y, pred):\n",
    "    return metrics.mean_squared_error(y, pred)**0.5"
   ]
  },
  {
   "cell_type": "markdown",
   "metadata": {},
   "source": [
    "### Some data categorizing to reduce space"
   ]
  },
  {
   "cell_type": "code",
   "execution_count": 3,
   "metadata": {
    "collapsed": false
   },
   "outputs": [
    {
     "name": "stdout",
     "output_type": "stream",
     "text": [
      "as 0.23502159118652344\n",
      "hr 192.67313385009766\n",
      "hol 0.039612770080566406\n",
      "ar 8.898050308227539\n",
      "id 0.022129058837890625\n",
      "tes 2.9315261840820312\n",
      "tra 4.38869571685791\n",
      "hs 1.3301172256469727\n",
      "total 210.5182867050171\n"
     ]
    }
   ],
   "source": [
    "import sys\n",
    "data[\"tra\"][\"air_store_id\"]=data[\"tra\"][\"air_store_id\"].astype('category')\n",
    "total=0\n",
    "for k,v in data.items():\n",
    "    size_k=sys.getsizeof(data[k])/1024/1024\n",
    "    total+=size_k\n",
    "    print(k,size_k)\n",
    "print(\"total\",total)"
   ]
  },
  {
   "cell_type": "code",
   "execution_count": 4,
   "metadata": {
    "collapsed": false
   },
   "outputs": [],
   "source": [
    "data[\"tra\"][\"air_store_id\"]=data[\"tra\"][\"air_store_id\"].astype('category')\n",
    "data[\"as\"][\"air_store_id\"]=data[\"as\"][\"air_store_id\"].astype('category')\n",
    "data[\"as\"][\"air_genre_name\"]=data[\"as\"][\"air_genre_name\"].astype('category')\n",
    "data[\"as\"][\"air_area_name\"]=data[\"as\"][\"air_area_name\"].astype('category')\n",
    "data[\"hs\"][\"hpg_store_id\"]=data[\"hs\"][\"hpg_store_id\"].astype('category')\n",
    "data[\"hs\"][\"hpg_genre_name\"]=data[\"hs\"][\"hpg_genre_name\"].astype('category')\n",
    "data[\"hs\"][\"hpg_area_name\"]=data[\"hs\"][\"hpg_area_name\"].astype('category')\n",
    "data[\"ar\"][\"air_store_id\"]=data[\"ar\"][\"air_store_id\"].astype('category')\n",
    "data[\"hr\"][\"hpg_store_id\"]=data[\"hr\"][\"hpg_store_id\"].astype('category')\n",
    "data[\"id\"][\"hpg_store_id\"]=data[\"id\"][\"hpg_store_id\"].astype('category')\n",
    "data[\"id\"][\"air_store_id\"]=data[\"id\"][\"air_store_id\"].astype('category')\n",
    "data[\"hol\"][\"day_of_week\"]=data[\"hol\"][\"day_of_week\"].astype('category')\n",
    "data[\"hol\"][\"holiday_flg\"]=data[\"hol\"][\"holiday_flg\"].astype('category')"
   ]
  },
  {
   "cell_type": "code",
   "execution_count": 5,
   "metadata": {
    "collapsed": false
   },
   "outputs": [
    {
     "name": "stdout",
     "output_type": "stream",
     "text": [
      "as 0.09117889404296875\n",
      "hr 50.57759189605713\n",
      "hol 0.005473136901855469\n",
      "ar 2.313718795776367\n",
      "id 0.022701263427734375\n",
      "tes 2.9315261840820312\n",
      "tra 4.38869571685791\n",
      "hs 0.45134544372558594\n",
      "total 60.78223133087158\n"
     ]
    }
   ],
   "source": [
    "total=0\n",
    "for k,v in data.items():\n",
    "    size_k=sys.getsizeof(data[k])/1024/1024\n",
    "    total+=size_k\n",
    "    print(k,size_k)\n",
    "print(\"total\",total)"
   ]
  },
  {
   "cell_type": "code",
   "execution_count": 6,
   "metadata": {
    "collapsed": false
   },
   "outputs": [
    {
     "data": {
      "text/html": [
       "<div>\n",
       "<table border=\"1\" class=\"dataframe\">\n",
       "  <thead>\n",
       "    <tr style=\"text-align: right;\">\n",
       "      <th></th>\n",
       "      <th>air_store_id</th>\n",
       "      <th>visit_date</th>\n",
       "      <th>visitors</th>\n",
       "    </tr>\n",
       "  </thead>\n",
       "  <tbody>\n",
       "    <tr>\n",
       "      <th>0</th>\n",
       "      <td>air_ba937bf13d40fb24</td>\n",
       "      <td>2016-01-13</td>\n",
       "      <td>3.258097</td>\n",
       "    </tr>\n",
       "    <tr>\n",
       "      <th>1</th>\n",
       "      <td>air_ba937bf13d40fb24</td>\n",
       "      <td>2016-01-14</td>\n",
       "      <td>3.496508</td>\n",
       "    </tr>\n",
       "    <tr>\n",
       "      <th>2</th>\n",
       "      <td>air_ba937bf13d40fb24</td>\n",
       "      <td>2016-01-15</td>\n",
       "      <td>3.401197</td>\n",
       "    </tr>\n",
       "    <tr>\n",
       "      <th>3</th>\n",
       "      <td>air_ba937bf13d40fb24</td>\n",
       "      <td>2016-01-16</td>\n",
       "      <td>3.135494</td>\n",
       "    </tr>\n",
       "    <tr>\n",
       "      <th>4</th>\n",
       "      <td>air_ba937bf13d40fb24</td>\n",
       "      <td>2016-01-18</td>\n",
       "      <td>1.945910</td>\n",
       "    </tr>\n",
       "  </tbody>\n",
       "</table>\n",
       "</div>"
      ],
      "text/plain": [
       "           air_store_id visit_date  visitors\n",
       "0  air_ba937bf13d40fb24 2016-01-13  3.258097\n",
       "1  air_ba937bf13d40fb24 2016-01-14  3.496508\n",
       "2  air_ba937bf13d40fb24 2016-01-15  3.401197\n",
       "3  air_ba937bf13d40fb24 2016-01-16  3.135494\n",
       "4  air_ba937bf13d40fb24 2016-01-18  1.945910"
      ]
     },
     "execution_count": 6,
     "metadata": {},
     "output_type": "execute_result"
    }
   ],
   "source": [
    "data[\"tra\"][\"visitors\"]=np.log1p(data[\"tra\"][\"visitors\"])\n",
    "data[\"tra\"].head()"
   ]
  },
  {
   "cell_type": "markdown",
   "metadata": {},
   "source": [
    "### test"
   ]
  },
  {
   "cell_type": "code",
   "execution_count": 7,
   "metadata": {
    "collapsed": true
   },
   "outputs": [],
   "source": [
    "data[\"tes\"][[\"store_id\",\"time\"]]=data[\"tes\"][\"id\"].str.split(\"_2017\",expand=True)\n",
    "data[\"tes\"][\"time\"]=\"2017\"+data[\"tes\"][\"time\"]\n",
    "from dateutil import parser\n",
    "data[\"tes\"][\"time\"] = pd.to_datetime(data[\"tes\"][\"time\"])\n",
    "#data[\"tes\"][\"kind\"]=data[\"tes\"][\"id\"].str.split(\"_\",expand=True)[0] #they are all air type"
   ]
  },
  {
   "cell_type": "code",
   "execution_count": 8,
   "metadata": {
    "collapsed": true
   },
   "outputs": [],
   "source": [
    "#data[\"tes_a\"]=data[\"tes\"][data[\"tes\"].kind==\"air\"]\n",
    "#data[\"tes_h\"]=data[\"tes\"][data[\"tes\"].kind==\"hpg\"]"
   ]
  },
  {
   "cell_type": "code",
   "execution_count": 9,
   "metadata": {
    "collapsed": false
   },
   "outputs": [
    {
     "name": "stdout",
     "output_type": "stream",
     "text": [
      "id                  object\n",
      "visitors             int64\n",
      "store_id            object\n",
      "time        datetime64[ns]\n",
      "dtype: object\n"
     ]
    }
   ],
   "source": [
    "print(data[\"tes\"].dtypes)\n",
    "#data[\"tes\"].head(5)"
   ]
  },
  {
   "cell_type": "code",
   "execution_count": 10,
   "metadata": {
    "collapsed": true
   },
   "outputs": [],
   "source": [
    "#print(len(data[\"tes\"].store_id.unique()), len(data[\"tes\"].time.unique()), len(data[\"tes\"].id))\n",
    "#print(len(data[\"tes_a\"].store_id.unique()), len(data[\"tes_a\"].time.unique()), len(data[\"tes_a\"].id))"
   ]
  },
  {
   "cell_type": "markdown",
   "metadata": {},
   "source": [
    "I add the test dates/stores to the train df"
   ]
  },
  {
   "cell_type": "code",
   "execution_count": 11,
   "metadata": {
    "collapsed": false
   },
   "outputs": [
    {
     "name": "stdout",
     "output_type": "stream",
     "text": [
      "252108\n"
     ]
    }
   ],
   "source": [
    "print(len(data[\"tra\"]))"
   ]
  },
  {
   "cell_type": "code",
   "execution_count": 12,
   "metadata": {
    "collapsed": true
   },
   "outputs": [],
   "source": [
    "data[\"tra\"]\n",
    "test_dates=data[\"tes\"][\"time\"].unique()\n",
    "test_stores=data[\"tes\"][\"store_id\"].unique()\n",
    "\n",
    "days = pd.DataFrame({'visit_date':test_dates})\n",
    "stores = pd.DataFrame({'air_store_id':test_stores})\n",
    "stores['key'] = 0\n",
    "days['key'] = 0\n",
    "days_and_stores = days.merge(stores, how='left', on = 'key')\n",
    "days_and_stores.drop('key',1, inplace=True)\n",
    "days_and_stores\n",
    "\n",
    "data[\"tra\"]=data[\"tra\"].append(days_and_stores)"
   ]
  },
  {
   "cell_type": "code",
   "execution_count": 13,
   "metadata": {
    "collapsed": false
   },
   "outputs": [
    {
     "name": "stdout",
     "output_type": "stream",
     "text": [
      "32019\n",
      "284127\n"
     ]
    }
   ],
   "source": [
    "print(len(days_and_stores))\n",
    "print(len(data[\"tra\"]))\n",
    "#data[\"tra\"]"
   ]
  },
  {
   "cell_type": "markdown",
   "metadata": {},
   "source": [
    "### Analysis"
   ]
  },
  {
   "cell_type": "code",
   "execution_count": 14,
   "metadata": {
    "collapsed": true
   },
   "outputs": [],
   "source": [
    "#%matplotlib inline\n",
    "#%matplotlib notebook\n",
    "#data[\"tra\"].groupby(\"visit_date\").mean().plot()"
   ]
  },
  {
   "cell_type": "markdown",
   "metadata": {},
   "source": [
    "Join dataframes "
   ]
  },
  {
   "cell_type": "code",
   "execution_count": 15,
   "metadata": {
    "collapsed": false
   },
   "outputs": [
    {
     "data": {
      "text/html": [
       "<div>\n",
       "<table border=\"1\" class=\"dataframe\">\n",
       "  <thead>\n",
       "    <tr style=\"text-align: right;\">\n",
       "      <th></th>\n",
       "      <th>air_store_id</th>\n",
       "      <th>visit_date</th>\n",
       "      <th>visitors</th>\n",
       "      <th>day_of_week</th>\n",
       "      <th>holiday_flg</th>\n",
       "    </tr>\n",
       "  </thead>\n",
       "  <tbody>\n",
       "    <tr>\n",
       "      <th>0</th>\n",
       "      <td>air_ba937bf13d40fb24</td>\n",
       "      <td>2016-01-13</td>\n",
       "      <td>3.258097</td>\n",
       "      <td>Wednesday</td>\n",
       "      <td>0</td>\n",
       "    </tr>\n",
       "    <tr>\n",
       "      <th>1</th>\n",
       "      <td>air_25e9888d30b386df</td>\n",
       "      <td>2016-01-13</td>\n",
       "      <td>3.091042</td>\n",
       "      <td>Wednesday</td>\n",
       "      <td>0</td>\n",
       "    </tr>\n",
       "    <tr>\n",
       "      <th>2</th>\n",
       "      <td>air_fd6aac1043520e83</td>\n",
       "      <td>2016-01-13</td>\n",
       "      <td>3.713572</td>\n",
       "      <td>Wednesday</td>\n",
       "      <td>0</td>\n",
       "    </tr>\n",
       "    <tr>\n",
       "      <th>3</th>\n",
       "      <td>air_64d4491ad8cdb1c6</td>\n",
       "      <td>2016-01-13</td>\n",
       "      <td>1.791759</td>\n",
       "      <td>Wednesday</td>\n",
       "      <td>0</td>\n",
       "    </tr>\n",
       "    <tr>\n",
       "      <th>4</th>\n",
       "      <td>air_ee3a01f0c71a769f</td>\n",
       "      <td>2016-01-13</td>\n",
       "      <td>2.944439</td>\n",
       "      <td>Wednesday</td>\n",
       "      <td>0</td>\n",
       "    </tr>\n",
       "  </tbody>\n",
       "</table>\n",
       "</div>"
      ],
      "text/plain": [
       "           air_store_id visit_date  visitors day_of_week  holiday_flg\n",
       "0  air_ba937bf13d40fb24 2016-01-13  3.258097   Wednesday            0\n",
       "1  air_25e9888d30b386df 2016-01-13  3.091042   Wednesday            0\n",
       "2  air_fd6aac1043520e83 2016-01-13  3.713572   Wednesday            0\n",
       "3  air_64d4491ad8cdb1c6 2016-01-13  1.791759   Wednesday            0\n",
       "4  air_ee3a01f0c71a769f 2016-01-13  2.944439   Wednesday            0"
      ]
     },
     "execution_count": 15,
     "metadata": {},
     "output_type": "execute_result"
    }
   ],
   "source": [
    "data[\"tra_hol\"]=data[\"tra\"].merge(data[\"hol\"],left_on=\"visit_date\",right_on=\"calendar_date\").\\\n",
    "            drop(\"calendar_date\",axis=1)\n",
    "data[\"tra_hol\"].head()"
   ]
  },
  {
   "cell_type": "code",
   "execution_count": 105,
   "metadata": {
    "collapsed": false
   },
   "outputs": [
    {
     "data": {
      "text/html": [
       "<div>\n",
       "<table border=\"1\" class=\"dataframe\">\n",
       "  <thead>\n",
       "    <tr style=\"text-align: right;\">\n",
       "      <th></th>\n",
       "      <th>mean</th>\n",
       "      <th>median</th>\n",
       "      <th>min</th>\n",
       "      <th>max</th>\n",
       "      <th>std</th>\n",
       "    </tr>\n",
       "    <tr>\n",
       "      <th>air_store_id</th>\n",
       "      <th></th>\n",
       "      <th></th>\n",
       "      <th></th>\n",
       "      <th></th>\n",
       "      <th></th>\n",
       "    </tr>\n",
       "  </thead>\n",
       "  <tbody>\n",
       "    <tr>\n",
       "      <th>air_00a91d42b08b08d9</th>\n",
       "      <td>3.167414</td>\n",
       "      <td>3.295837</td>\n",
       "      <td>0.693147</td>\n",
       "      <td>4.605170</td>\n",
       "      <td>0.576968</td>\n",
       "    </tr>\n",
       "    <tr>\n",
       "      <th>air_0164b9927d20bcc3</th>\n",
       "      <td>2.117522</td>\n",
       "      <td>2.197225</td>\n",
       "      <td>0.693147</td>\n",
       "      <td>3.332205</td>\n",
       "      <td>0.685494</td>\n",
       "    </tr>\n",
       "    <tr>\n",
       "      <th>air_0241aa3964b7f861</th>\n",
       "      <td>2.236649</td>\n",
       "      <td>2.302585</td>\n",
       "      <td>0.693147</td>\n",
       "      <td>3.891820</td>\n",
       "      <td>0.565187</td>\n",
       "    </tr>\n",
       "    <tr>\n",
       "      <th>air_0328696196e46f18</th>\n",
       "      <td>1.966041</td>\n",
       "      <td>1.945910</td>\n",
       "      <td>0.693147</td>\n",
       "      <td>3.737670</td>\n",
       "      <td>0.662686</td>\n",
       "    </tr>\n",
       "    <tr>\n",
       "      <th>air_034a3d5b40d5b1b1</th>\n",
       "      <td>2.457141</td>\n",
       "      <td>2.564949</td>\n",
       "      <td>0.693147</td>\n",
       "      <td>4.762174</td>\n",
       "      <td>0.823890</td>\n",
       "    </tr>\n",
       "  </tbody>\n",
       "</table>\n",
       "</div>"
      ],
      "text/plain": [
       "                          mean    median       min       max       std\n",
       "air_store_id                                                          \n",
       "air_00a91d42b08b08d9  3.167414  3.295837  0.693147  4.605170  0.576968\n",
       "air_0164b9927d20bcc3  2.117522  2.197225  0.693147  3.332205  0.685494\n",
       "air_0241aa3964b7f861  2.236649  2.302585  0.693147  3.891820  0.565187\n",
       "air_0328696196e46f18  1.966041  1.945910  0.693147  3.737670  0.662686\n",
       "air_034a3d5b40d5b1b1  2.457141  2.564949  0.693147  4.762174  0.823890"
      ]
     },
     "execution_count": 105,
     "metadata": {},
     "output_type": "execute_result"
    }
   ],
   "source": [
    "store_mean_0=pd.DataFrame()\n",
    "store_mean_0[\"mean\"]=data[\"tra\"].groupby(\"air_store_id\").visitors.mean()\n",
    "store_mean_0[\"median\"]=data[\"tra\"].groupby(\"air_store_id\").visitors.median()\n",
    "store_mean_0[\"min\"]=data[\"tra\"].groupby(\"air_store_id\").visitors.min()\n",
    "store_mean_0[\"max\"]=data[\"tra\"].groupby(\"air_store_id\").visitors.max()\n",
    "store_mean_0[\"std\"]=data[\"tra\"].groupby(\"air_store_id\").visitors.std()\n",
    "store_mean_0.head()\n"
   ]
  },
  {
   "cell_type": "code",
   "execution_count": 104,
   "metadata": {
    "collapsed": false
   },
   "outputs": [
    {
     "data": {
      "text/html": [
       "<div>\n",
       "<table border=\"1\" class=\"dataframe\">\n",
       "  <thead>\n",
       "    <tr style=\"text-align: right;\">\n",
       "      <th></th>\n",
       "      <th>air_store_id</th>\n",
       "      <th>day_of_week</th>\n",
       "      <th>visitors_dow</th>\n",
       "    </tr>\n",
       "  </thead>\n",
       "  <tbody>\n",
       "    <tr>\n",
       "      <th>0</th>\n",
       "      <td>air_00a91d42b08b08d9</td>\n",
       "      <td>Friday</td>\n",
       "      <td>3.597218</td>\n",
       "    </tr>\n",
       "    <tr>\n",
       "      <th>1</th>\n",
       "      <td>air_00a91d42b08b08d9</td>\n",
       "      <td>Monday</td>\n",
       "      <td>2.995732</td>\n",
       "    </tr>\n",
       "    <tr>\n",
       "      <th>2</th>\n",
       "      <td>air_00a91d42b08b08d9</td>\n",
       "      <td>Saturday</td>\n",
       "      <td>2.484907</td>\n",
       "    </tr>\n",
       "    <tr>\n",
       "      <th>3</th>\n",
       "      <td>air_00a91d42b08b08d9</td>\n",
       "      <td>Sunday</td>\n",
       "      <td>1.098612</td>\n",
       "    </tr>\n",
       "    <tr>\n",
       "      <th>4</th>\n",
       "      <td>air_00a91d42b08b08d9</td>\n",
       "      <td>Thursday</td>\n",
       "      <td>3.433987</td>\n",
       "    </tr>\n",
       "  </tbody>\n",
       "</table>\n",
       "</div>"
      ],
      "text/plain": [
       "           air_store_id day_of_week  visitors_dow\n",
       "0  air_00a91d42b08b08d9      Friday      3.597218\n",
       "1  air_00a91d42b08b08d9      Monday      2.995732\n",
       "2  air_00a91d42b08b08d9    Saturday      2.484907\n",
       "3  air_00a91d42b08b08d9      Sunday      1.098612\n",
       "4  air_00a91d42b08b08d9    Thursday      3.433987"
      ]
     },
     "execution_count": 104,
     "metadata": {},
     "output_type": "execute_result"
    }
   ],
   "source": [
    "#store_mean_0=pd.DataFrame()\n",
    "store_mean=data[\"tra_hol\"].groupby([\"air_store_id\",\"day_of_week\"]).visitors.median().reset_index()\n",
    "store_mean[\"visitors_dow\"]=store_mean[\"visitors\"].fillna(0)\n",
    "store_mean=store_mean.drop(\"visitors\",axis=1)\n",
    "#store_mean=store_mean_0.set_index(['air_store_id', 'day_of_week']).unstack(['day_of_week'])\n",
    "store_mean.head()"
   ]
  },
  {
   "cell_type": "code",
   "execution_count": 18,
   "metadata": {
    "collapsed": true
   },
   "outputs": [],
   "source": [
    "#data[\"as\"]=data[\"as\"].merge(store_mean,on=[\"air_store_id\",\"day_of_week\"])\n",
    "#data[\"as\"].head()"
   ]
  },
  {
   "cell_type": "code",
   "execution_count": 19,
   "metadata": {
    "collapsed": true
   },
   "outputs": [],
   "source": [
    "data[\"tra\"][\"month\"]=data[\"tra\"].visit_date.map(lambda x: x.month)\n",
    "data[\"tra\"][\"month\"]=data[\"tra\"][\"month\"].astype('category')"
   ]
  },
  {
   "cell_type": "code",
   "execution_count": 108,
   "metadata": {
    "collapsed": false
   },
   "outputs": [],
   "source": [
    "data[\"tra_as_hol\"]=data[\"tra\"].merge(data[\"hol\"],left_on=\"visit_date\",right_on=\"calendar_date\").\\\n",
    "            drop(\"calendar_date\",axis=1).\\\n",
    "            merge(store_mean,on=[\"air_store_id\",\"day_of_week\"]).\\\n",
    "            merge(data[\"as\"],on=[\"air_store_id\"]).\\\n",
    "            merge(store_mean_0,left_on=[\"air_store_id\"],right_index=True)"
   ]
  },
  {
   "cell_type": "code",
   "execution_count": 109,
   "metadata": {
    "collapsed": true
   },
   "outputs": [],
   "source": [
    "#data[\"tra_as_hol\"].describe(include=\"all\")"
   ]
  },
  {
   "cell_type": "code",
   "execution_count": 110,
   "metadata": {
    "collapsed": true
   },
   "outputs": [],
   "source": [
    "data[\"tra_as_hol\"][\"time_numeric\"]=pd.to_numeric(data[\"tra_as_hol\"].visit_date-data[\"tra_as_hol\"].visit_date.min())/100000"
   ]
  },
  {
   "cell_type": "code",
   "execution_count": 111,
   "metadata": {
    "collapsed": false
   },
   "outputs": [
    {
     "data": {
      "text/plain": [
       "count    2.841270e+05\n",
       "mean     2.672911e+11\n",
       "std      1.157349e+11\n",
       "min      0.000000e+00\n",
       "25%      1.857600e+11\n",
       "50%      2.756160e+11\n",
       "75%      3.654720e+11\n",
       "max      4.458240e+11\n",
       "Name: time_numeric, dtype: float64"
      ]
     },
     "execution_count": 111,
     "metadata": {},
     "output_type": "execute_result"
    }
   ],
   "source": [
    "data[\"tra_as_hol\"][\"time_numeric\"].describe()"
   ]
  },
  {
   "cell_type": "code",
   "execution_count": 112,
   "metadata": {
    "collapsed": false
   },
   "outputs": [
    {
     "data": {
      "text/html": [
       "<div>\n",
       "<table border=\"1\" class=\"dataframe\">\n",
       "  <thead>\n",
       "    <tr style=\"text-align: right;\">\n",
       "      <th></th>\n",
       "      <th>air_store_id</th>\n",
       "      <th>visit_date</th>\n",
       "      <th>visitors</th>\n",
       "      <th>month</th>\n",
       "      <th>day_of_week</th>\n",
       "      <th>holiday_flg</th>\n",
       "      <th>visitors_dow</th>\n",
       "      <th>air_genre_name</th>\n",
       "      <th>air_area_name</th>\n",
       "      <th>latitude</th>\n",
       "      <th>longitude</th>\n",
       "      <th>mean</th>\n",
       "      <th>median</th>\n",
       "      <th>min</th>\n",
       "      <th>max</th>\n",
       "      <th>std</th>\n",
       "      <th>time_numeric</th>\n",
       "    </tr>\n",
       "  </thead>\n",
       "  <tbody>\n",
       "    <tr>\n",
       "      <th>0</th>\n",
       "      <td>air_ba937bf13d40fb24</td>\n",
       "      <td>2016-01-13</td>\n",
       "      <td>3.258097</td>\n",
       "      <td>1</td>\n",
       "      <td>Wednesday</td>\n",
       "      <td>0</td>\n",
       "      <td>3.258097</td>\n",
       "      <td>Dining bar</td>\n",
       "      <td>Tōkyō-to Minato-ku Shibakōen</td>\n",
       "      <td>35.658068</td>\n",
       "      <td>139.751599</td>\n",
       "      <td>3.014389</td>\n",
       "      <td>3.135494</td>\n",
       "      <td>0.693147</td>\n",
       "      <td>4.127134</td>\n",
       "      <td>0.616634</td>\n",
       "      <td>1.036800e+10</td>\n",
       "    </tr>\n",
       "    <tr>\n",
       "      <th>1</th>\n",
       "      <td>air_ba937bf13d40fb24</td>\n",
       "      <td>2016-01-20</td>\n",
       "      <td>3.465736</td>\n",
       "      <td>1</td>\n",
       "      <td>Wednesday</td>\n",
       "      <td>0</td>\n",
       "      <td>3.258097</td>\n",
       "      <td>Dining bar</td>\n",
       "      <td>Tōkyō-to Minato-ku Shibakōen</td>\n",
       "      <td>35.658068</td>\n",
       "      <td>139.751599</td>\n",
       "      <td>3.014389</td>\n",
       "      <td>3.135494</td>\n",
       "      <td>0.693147</td>\n",
       "      <td>4.127134</td>\n",
       "      <td>0.616634</td>\n",
       "      <td>1.641600e+10</td>\n",
       "    </tr>\n",
       "    <tr>\n",
       "      <th>2</th>\n",
       "      <td>air_ba937bf13d40fb24</td>\n",
       "      <td>2016-01-27</td>\n",
       "      <td>3.218876</td>\n",
       "      <td>1</td>\n",
       "      <td>Wednesday</td>\n",
       "      <td>0</td>\n",
       "      <td>3.258097</td>\n",
       "      <td>Dining bar</td>\n",
       "      <td>Tōkyō-to Minato-ku Shibakōen</td>\n",
       "      <td>35.658068</td>\n",
       "      <td>139.751599</td>\n",
       "      <td>3.014389</td>\n",
       "      <td>3.135494</td>\n",
       "      <td>0.693147</td>\n",
       "      <td>4.127134</td>\n",
       "      <td>0.616634</td>\n",
       "      <td>2.246400e+10</td>\n",
       "    </tr>\n",
       "    <tr>\n",
       "      <th>3</th>\n",
       "      <td>air_ba937bf13d40fb24</td>\n",
       "      <td>2016-02-03</td>\n",
       "      <td>2.944439</td>\n",
       "      <td>2</td>\n",
       "      <td>Wednesday</td>\n",
       "      <td>0</td>\n",
       "      <td>3.258097</td>\n",
       "      <td>Dining bar</td>\n",
       "      <td>Tōkyō-to Minato-ku Shibakōen</td>\n",
       "      <td>35.658068</td>\n",
       "      <td>139.751599</td>\n",
       "      <td>3.014389</td>\n",
       "      <td>3.135494</td>\n",
       "      <td>0.693147</td>\n",
       "      <td>4.127134</td>\n",
       "      <td>0.616634</td>\n",
       "      <td>2.851200e+10</td>\n",
       "    </tr>\n",
       "    <tr>\n",
       "      <th>4</th>\n",
       "      <td>air_ba937bf13d40fb24</td>\n",
       "      <td>2016-02-10</td>\n",
       "      <td>3.496508</td>\n",
       "      <td>2</td>\n",
       "      <td>Wednesday</td>\n",
       "      <td>0</td>\n",
       "      <td>3.258097</td>\n",
       "      <td>Dining bar</td>\n",
       "      <td>Tōkyō-to Minato-ku Shibakōen</td>\n",
       "      <td>35.658068</td>\n",
       "      <td>139.751599</td>\n",
       "      <td>3.014389</td>\n",
       "      <td>3.135494</td>\n",
       "      <td>0.693147</td>\n",
       "      <td>4.127134</td>\n",
       "      <td>0.616634</td>\n",
       "      <td>3.456000e+10</td>\n",
       "    </tr>\n",
       "  </tbody>\n",
       "</table>\n",
       "</div>"
      ],
      "text/plain": [
       "           air_store_id visit_date  visitors  month day_of_week  holiday_flg  \\\n",
       "0  air_ba937bf13d40fb24 2016-01-13  3.258097      1   Wednesday            0   \n",
       "1  air_ba937bf13d40fb24 2016-01-20  3.465736      1   Wednesday            0   \n",
       "2  air_ba937bf13d40fb24 2016-01-27  3.218876      1   Wednesday            0   \n",
       "3  air_ba937bf13d40fb24 2016-02-03  2.944439      2   Wednesday            0   \n",
       "4  air_ba937bf13d40fb24 2016-02-10  3.496508      2   Wednesday            0   \n",
       "\n",
       "   visitors_dow air_genre_name                 air_area_name   latitude  \\\n",
       "0      3.258097     Dining bar  Tōkyō-to Minato-ku Shibakōen  35.658068   \n",
       "1      3.258097     Dining bar  Tōkyō-to Minato-ku Shibakōen  35.658068   \n",
       "2      3.258097     Dining bar  Tōkyō-to Minato-ku Shibakōen  35.658068   \n",
       "3      3.258097     Dining bar  Tōkyō-to Minato-ku Shibakōen  35.658068   \n",
       "4      3.258097     Dining bar  Tōkyō-to Minato-ku Shibakōen  35.658068   \n",
       "\n",
       "    longitude      mean    median       min       max       std  time_numeric  \n",
       "0  139.751599  3.014389  3.135494  0.693147  4.127134  0.616634  1.036800e+10  \n",
       "1  139.751599  3.014389  3.135494  0.693147  4.127134  0.616634  1.641600e+10  \n",
       "2  139.751599  3.014389  3.135494  0.693147  4.127134  0.616634  2.246400e+10  \n",
       "3  139.751599  3.014389  3.135494  0.693147  4.127134  0.616634  2.851200e+10  \n",
       "4  139.751599  3.014389  3.135494  0.693147  4.127134  0.616634  3.456000e+10  "
      ]
     },
     "execution_count": 112,
     "metadata": {},
     "output_type": "execute_result"
    }
   ],
   "source": [
    "data[\"tra_as_hol\"].head()"
   ]
  },
  {
   "cell_type": "code",
   "execution_count": 113,
   "metadata": {
    "collapsed": true
   },
   "outputs": [],
   "source": [
    "#cs=data[\"tra_as_hol\"].select_dtypes(include=[\"float64\",\"float32\"]).columns\n",
    "#for c in cs:\n",
    "#    data[\"tra_as_hol\"][c]=data[\"tra_as_hol\"][c].fillna(0)\n"
   ]
  },
  {
   "cell_type": "code",
   "execution_count": 114,
   "metadata": {
    "collapsed": false
   },
   "outputs": [
    {
     "data": {
      "text/html": [
       "<div>\n",
       "<table border=\"1\" class=\"dataframe\">\n",
       "  <thead>\n",
       "    <tr style=\"text-align: right;\">\n",
       "      <th></th>\n",
       "      <th>air_store_id</th>\n",
       "      <th>visit_date</th>\n",
       "      <th>visitors</th>\n",
       "      <th>month</th>\n",
       "      <th>day_of_week</th>\n",
       "      <th>holiday_flg</th>\n",
       "      <th>visitors_dow</th>\n",
       "      <th>air_genre_name</th>\n",
       "      <th>air_area_name</th>\n",
       "      <th>latitude</th>\n",
       "      <th>longitude</th>\n",
       "      <th>mean</th>\n",
       "      <th>median</th>\n",
       "      <th>min</th>\n",
       "      <th>max</th>\n",
       "      <th>std</th>\n",
       "      <th>time_numeric</th>\n",
       "    </tr>\n",
       "  </thead>\n",
       "  <tbody>\n",
       "    <tr>\n",
       "      <th>284122</th>\n",
       "      <td>air_a17f0778617c76e2</td>\n",
       "      <td>2017-05-01</td>\n",
       "      <td>NaN</td>\n",
       "      <td>5</td>\n",
       "      <td>Monday</td>\n",
       "      <td>0</td>\n",
       "      <td>3.34975</td>\n",
       "      <td>Italian/French</td>\n",
       "      <td>Hyōgo-ken Kōbe-shi Kumoidōri</td>\n",
       "      <td>34.695124</td>\n",
       "      <td>135.197852</td>\n",
       "      <td>3.663341</td>\n",
       "      <td>3.78419</td>\n",
       "      <td>2.397895</td>\n",
       "      <td>4.70048</td>\n",
       "      <td>0.587627</td>\n",
       "      <td>4.199040e+11</td>\n",
       "    </tr>\n",
       "    <tr>\n",
       "      <th>284123</th>\n",
       "      <td>air_a17f0778617c76e2</td>\n",
       "      <td>2017-05-08</td>\n",
       "      <td>NaN</td>\n",
       "      <td>5</td>\n",
       "      <td>Monday</td>\n",
       "      <td>0</td>\n",
       "      <td>3.34975</td>\n",
       "      <td>Italian/French</td>\n",
       "      <td>Hyōgo-ken Kōbe-shi Kumoidōri</td>\n",
       "      <td>34.695124</td>\n",
       "      <td>135.197852</td>\n",
       "      <td>3.663341</td>\n",
       "      <td>3.78419</td>\n",
       "      <td>2.397895</td>\n",
       "      <td>4.70048</td>\n",
       "      <td>0.587627</td>\n",
       "      <td>4.259520e+11</td>\n",
       "    </tr>\n",
       "    <tr>\n",
       "      <th>284124</th>\n",
       "      <td>air_a17f0778617c76e2</td>\n",
       "      <td>2017-05-15</td>\n",
       "      <td>NaN</td>\n",
       "      <td>5</td>\n",
       "      <td>Monday</td>\n",
       "      <td>0</td>\n",
       "      <td>3.34975</td>\n",
       "      <td>Italian/French</td>\n",
       "      <td>Hyōgo-ken Kōbe-shi Kumoidōri</td>\n",
       "      <td>34.695124</td>\n",
       "      <td>135.197852</td>\n",
       "      <td>3.663341</td>\n",
       "      <td>3.78419</td>\n",
       "      <td>2.397895</td>\n",
       "      <td>4.70048</td>\n",
       "      <td>0.587627</td>\n",
       "      <td>4.320000e+11</td>\n",
       "    </tr>\n",
       "    <tr>\n",
       "      <th>284125</th>\n",
       "      <td>air_a17f0778617c76e2</td>\n",
       "      <td>2017-05-22</td>\n",
       "      <td>NaN</td>\n",
       "      <td>5</td>\n",
       "      <td>Monday</td>\n",
       "      <td>0</td>\n",
       "      <td>3.34975</td>\n",
       "      <td>Italian/French</td>\n",
       "      <td>Hyōgo-ken Kōbe-shi Kumoidōri</td>\n",
       "      <td>34.695124</td>\n",
       "      <td>135.197852</td>\n",
       "      <td>3.663341</td>\n",
       "      <td>3.78419</td>\n",
       "      <td>2.397895</td>\n",
       "      <td>4.70048</td>\n",
       "      <td>0.587627</td>\n",
       "      <td>4.380480e+11</td>\n",
       "    </tr>\n",
       "    <tr>\n",
       "      <th>284126</th>\n",
       "      <td>air_a17f0778617c76e2</td>\n",
       "      <td>2017-05-29</td>\n",
       "      <td>NaN</td>\n",
       "      <td>5</td>\n",
       "      <td>Monday</td>\n",
       "      <td>0</td>\n",
       "      <td>3.34975</td>\n",
       "      <td>Italian/French</td>\n",
       "      <td>Hyōgo-ken Kōbe-shi Kumoidōri</td>\n",
       "      <td>34.695124</td>\n",
       "      <td>135.197852</td>\n",
       "      <td>3.663341</td>\n",
       "      <td>3.78419</td>\n",
       "      <td>2.397895</td>\n",
       "      <td>4.70048</td>\n",
       "      <td>0.587627</td>\n",
       "      <td>4.440960e+11</td>\n",
       "    </tr>\n",
       "  </tbody>\n",
       "</table>\n",
       "</div>"
      ],
      "text/plain": [
       "                air_store_id visit_date  visitors  month day_of_week  \\\n",
       "284122  air_a17f0778617c76e2 2017-05-01       NaN      5      Monday   \n",
       "284123  air_a17f0778617c76e2 2017-05-08       NaN      5      Monday   \n",
       "284124  air_a17f0778617c76e2 2017-05-15       NaN      5      Monday   \n",
       "284125  air_a17f0778617c76e2 2017-05-22       NaN      5      Monday   \n",
       "284126  air_a17f0778617c76e2 2017-05-29       NaN      5      Monday   \n",
       "\n",
       "        holiday_flg  visitors_dow  air_genre_name  \\\n",
       "284122            0       3.34975  Italian/French   \n",
       "284123            0       3.34975  Italian/French   \n",
       "284124            0       3.34975  Italian/French   \n",
       "284125            0       3.34975  Italian/French   \n",
       "284126            0       3.34975  Italian/French   \n",
       "\n",
       "                       air_area_name   latitude   longitude      mean  \\\n",
       "284122  Hyōgo-ken Kōbe-shi Kumoidōri  34.695124  135.197852  3.663341   \n",
       "284123  Hyōgo-ken Kōbe-shi Kumoidōri  34.695124  135.197852  3.663341   \n",
       "284124  Hyōgo-ken Kōbe-shi Kumoidōri  34.695124  135.197852  3.663341   \n",
       "284125  Hyōgo-ken Kōbe-shi Kumoidōri  34.695124  135.197852  3.663341   \n",
       "284126  Hyōgo-ken Kōbe-shi Kumoidōri  34.695124  135.197852  3.663341   \n",
       "\n",
       "         median       min      max       std  time_numeric  \n",
       "284122  3.78419  2.397895  4.70048  0.587627  4.199040e+11  \n",
       "284123  3.78419  2.397895  4.70048  0.587627  4.259520e+11  \n",
       "284124  3.78419  2.397895  4.70048  0.587627  4.320000e+11  \n",
       "284125  3.78419  2.397895  4.70048  0.587627  4.380480e+11  \n",
       "284126  3.78419  2.397895  4.70048  0.587627  4.440960e+11  "
      ]
     },
     "execution_count": 114,
     "metadata": {},
     "output_type": "execute_result"
    }
   ],
   "source": [
    "data[\"tra_as_hol\"].tail()"
   ]
  },
  {
   "cell_type": "markdown",
   "metadata": {},
   "source": [
    "One-hot encoding for day of week, holiday, month, genre, area"
   ]
  },
  {
   "cell_type": "code",
   "execution_count": 115,
   "metadata": {
    "collapsed": false
   },
   "outputs": [],
   "source": [
    "data[\"tra_as_hol\"][\"month\"]=data[\"tra_as_hol\"][\"month\"].astype('category')\n",
    "#data[\"tra_as_hol\"].dtypes"
   ]
  },
  {
   "cell_type": "code",
   "execution_count": 116,
   "metadata": {
    "collapsed": false
   },
   "outputs": [
    {
     "name": "stdout",
     "output_type": "stream",
     "text": [
      "air_store_id\n",
      "visit_date\n",
      "visitors\n",
      "holiday_flg\n",
      "visitors_dow\n",
      "mean\n",
      "median\n",
      "min\n",
      "max\n",
      "std\n",
      "time_numeric\n",
      "month_1\n",
      "month_2\n",
      "month_3\n",
      "month_4\n",
      "month_5\n",
      "month_6\n",
      "month_7\n",
      "month_8\n",
      "month_9\n",
      "month_10\n",
      "month_11\n",
      "month_12\n",
      "day_of_week_Friday\n",
      "day_of_week_Monday\n",
      "day_of_week_Saturday\n",
      "day_of_week_Sunday\n",
      "day_of_week_Thursday\n",
      "day_of_week_Tuesday\n",
      "day_of_week_Wednesday\n",
      "air_genre_name_Asian\n",
      "air_genre_name_Bar/Cocktail\n",
      "air_genre_name_Cafe/Sweets\n",
      "air_genre_name_Creative cuisine\n",
      "air_genre_name_Dining bar\n",
      "air_genre_name_International cuisine\n",
      "air_genre_name_Italian/French\n",
      "air_genre_name_Izakaya\n",
      "air_genre_name_Japanese food\n",
      "air_genre_name_Karaoke/Party\n",
      "air_genre_name_Okonomiyaki/Monja/Teppanyaki\n",
      "air_genre_name_Other\n",
      "air_genre_name_Western food\n",
      "air_genre_name_Yakiniku/Korean food\n",
      "air_area_name_Fukuoka-ken Fukuoka-shi Daimyō\n",
      "air_area_name_Fukuoka-ken Fukuoka-shi Hakata Ekimae\n",
      "air_area_name_Fukuoka-ken Fukuoka-shi Imaizumi\n",
      "air_area_name_Fukuoka-ken Fukuoka-shi Momochi\n",
      "air_area_name_Fukuoka-ken Fukuoka-shi Shiobaru\n",
      "air_area_name_Fukuoka-ken Fukuoka-shi Takatori\n",
      "air_area_name_Fukuoka-ken Fukuoka-shi Tenjin\n",
      "air_area_name_Fukuoka-ken Fukuoka-shi Torikai\n",
      "air_area_name_Fukuoka-ken Itoshima-shi Maebarunishi\n",
      "air_area_name_Fukuoka-ken Kitakyūshū-shi Konyamachi\n",
      "air_area_name_Fukuoka-ken Kitakyūshū-shi None\n",
      "air_area_name_Fukuoka-ken Kitakyūshū-shi Ōtemachi\n",
      "air_area_name_Fukuoka-ken Kurume-shi Jōnanmachi\n",
      "air_area_name_Fukuoka-ken Yame-shi Motomachi\n",
      "air_area_name_Hiroshima-ken Fukuyama-shi Higashisakuramachi\n",
      "air_area_name_Hiroshima-ken Hiroshima-shi Kokutaijimachi\n",
      "air_area_name_Hiroshima-ken Hiroshima-shi Nagarekawachō\n",
      "air_area_name_Hokkaidō Abashiri-shi Minami 6 Jōhigashi\n",
      "air_area_name_Hokkaidō Asahikawa-shi 6 Jōdōri\n",
      "air_area_name_Hokkaidō Katō-gun Motomachi\n",
      "air_area_name_Hokkaidō Sapporo-shi Atsubetsuchūō 1 Jō\n",
      "air_area_name_Hokkaidō Sapporo-shi Kita 24 Jōnishi\n",
      "air_area_name_Hokkaidō Sapporo-shi Kotoni 2 Jō\n",
      "air_area_name_Hokkaidō Sapporo-shi Minami 3 Jōnishi\n",
      "air_area_name_Hyōgo-ken Amagasaki-shi Higashinanamatsuchō\n",
      "air_area_name_Hyōgo-ken Himeji-shi Yasuda\n",
      "air_area_name_Hyōgo-ken Kakogawa-shi Kakogawachō Kitazaike\n",
      "air_area_name_Hyōgo-ken Kōbe-shi Kumoidōri\n",
      "air_area_name_Hyōgo-ken Kōbe-shi Motomachidōri\n",
      "air_area_name_Hyōgo-ken Kōbe-shi Sumiyoshi Higashimachi\n",
      "air_area_name_Hyōgo-ken Nishinomiya-shi Rokutanjichō\n",
      "air_area_name_Hyōgo-ken Takarazuka-shi Tōyōchō\n",
      "air_area_name_Miyagi-ken Sendai-shi Kamisugi\n",
      "air_area_name_Niigata-ken Kashiwazaki-shi Chūōchō\n",
      "air_area_name_Niigata-ken Nagaoka-shi Ōtedōri\n",
      "air_area_name_Niigata-ken Niigata-shi Gakkōchōdōri 1 Banchō\n",
      "air_area_name_Niigata-ken Niigata-shi Teraohigashi\n",
      "air_area_name_Shizuoka-ken Hamamatsu-shi Motoshirochō\n",
      "air_area_name_Shizuoka-ken Numazu-shi Miyukichō\n",
      "air_area_name_Shizuoka-ken Shizuoka-shi Ōtemachi\n",
      "air_area_name_Tōkyō-to Adachi-ku Chūōhonchō\n",
      "air_area_name_Tōkyō-to Bunkyō-ku Kasuga\n",
      "air_area_name_Tōkyō-to Bunkyō-ku Sendagi\n",
      "air_area_name_Tōkyō-to Chiyoda-ku Kanda Jinbōchō\n",
      "air_area_name_Tōkyō-to Chiyoda-ku Kudanminami\n",
      "air_area_name_Tōkyō-to Chūō-ku Ginza\n",
      "air_area_name_Tōkyō-to Chūō-ku Tsukiji\n",
      "air_area_name_Tōkyō-to Edogawa-ku Chūō\n",
      "air_area_name_Tōkyō-to Fuchū-shi Miyanishichō\n",
      "air_area_name_Tōkyō-to Itabashi-ku Itabashi\n",
      "air_area_name_Tōkyō-to Katsushika-ku Tateishi\n",
      "air_area_name_Tōkyō-to Kita-ku Ōjihonchō\n",
      "air_area_name_Tōkyō-to Koganei-shi Honchō\n",
      "air_area_name_Tōkyō-to Kōtō-ku Kameido\n",
      "air_area_name_Tōkyō-to Kōtō-ku Tomioka\n",
      "air_area_name_Tōkyō-to Kōtō-ku Tōyō\n",
      "air_area_name_Tōkyō-to Machida-shi Morino\n",
      "air_area_name_Tōkyō-to Meguro-ku Jiyūgaoka\n",
      "air_area_name_Tōkyō-to Meguro-ku Kamimeguro\n",
      "air_area_name_Tōkyō-to Meguro-ku Takaban\n",
      "air_area_name_Tōkyō-to Minato-ku Akasaka\n",
      "air_area_name_Tōkyō-to Minato-ku Roppongi\n",
      "air_area_name_Tōkyō-to Minato-ku Shibakōen\n",
      "air_area_name_Tōkyō-to Musashino-shi Kichijōji Honchō\n",
      "air_area_name_Tōkyō-to Musashino-shi Midorichō\n",
      "air_area_name_Tōkyō-to Nakano-ku Nakano\n",
      "air_area_name_Tōkyō-to Nerima-ku Toyotamakita\n",
      "air_area_name_Tōkyō-to Setagaya-ku Kitazawa\n",
      "air_area_name_Tōkyō-to Setagaya-ku Okusawa\n",
      "air_area_name_Tōkyō-to Setagaya-ku Sangenjaya\n",
      "air_area_name_Tōkyō-to Setagaya-ku Setagaya\n",
      "air_area_name_Tōkyō-to Shibuya-ku Dōgenzaka\n",
      "air_area_name_Tōkyō-to Shibuya-ku Higashi\n",
      "air_area_name_Tōkyō-to Shibuya-ku Jingūmae\n",
      "air_area_name_Tōkyō-to Shibuya-ku Shibuya\n",
      "air_area_name_Tōkyō-to Shinagawa-ku Higashigotanda\n",
      "air_area_name_Tōkyō-to Shinagawa-ku Hiromachi\n",
      "air_area_name_Tōkyō-to Shinjuku-ku Kabukichō\n",
      "air_area_name_Tōkyō-to Shinjuku-ku Nishishinjuku\n",
      "air_area_name_Tōkyō-to Suginami-ku Asagayaminami\n",
      "air_area_name_Tōkyō-to Tachikawa-shi Izumichō\n",
      "air_area_name_Tōkyō-to Taitō-ku Asakusa\n",
      "air_area_name_Tōkyō-to Taitō-ku Higashiueno\n",
      "air_area_name_Tōkyō-to Taitō-ku Kuramae\n",
      "air_area_name_Tōkyō-to Toshima-ku Higashiikebukuro\n",
      "air_area_name_Tōkyō-to Toshima-ku Mejiro\n",
      "air_area_name_Tōkyō-to Toshima-ku Minamiikebukuro\n",
      "air_area_name_Tōkyō-to Toshima-ku Nishiikebukuro\n",
      "air_area_name_Tōkyō-to Toshima-ku Sugamo\n",
      "air_area_name_Tōkyō-to Ōta-ku Kamata\n",
      "air_area_name_Tōkyō-to Ōta-ku Kamiikedai\n",
      "air_area_name_Ōsaka-fu Higashiōsaka-shi Aramotokita\n",
      "air_area_name_Ōsaka-fu Neyagawa-shi Honmachi\n",
      "air_area_name_Ōsaka-fu Sakai-shi Minamikawaramachi\n",
      "air_area_name_Ōsaka-fu Suita-shi Izumichō\n",
      "air_area_name_Ōsaka-fu Ōsaka-shi Fuminosato\n",
      "air_area_name_Ōsaka-fu Ōsaka-shi Kyōmachibori\n",
      "air_area_name_Ōsaka-fu Ōsaka-shi Kyūtarōmachi\n",
      "air_area_name_Ōsaka-fu Ōsaka-shi Nakanochō\n",
      "air_area_name_Ōsaka-fu Ōsaka-shi Nanbasennichimae\n",
      "air_area_name_Ōsaka-fu Ōsaka-shi Shinmachi\n",
      "air_area_name_Ōsaka-fu Ōsaka-shi Ōgimachi\n",
      "air_area_name_Ōsaka-fu Ōsaka-shi Ōhiraki\n",
      "147\n"
     ]
    }
   ],
   "source": [
    "cols_to_enc=[\"month\",\"day_of_week\",\"air_genre_name\", 'air_area_name']\n",
    "dummies=pd.get_dummies(data[\"tra_as_hol\"][cols_to_enc])\n",
    "#data[\"tra_as_hol\"].join(dummies)\n",
    "enc=data[\"tra_as_hol\"].join(dummies)\n",
    "#enc.describe()\n",
    "enc=enc.drop(cols_to_enc,axis=1).drop([\"latitude\",\"longitude\"],axis=1)\n",
    "enc.head()\n",
    "for c in enc.columns: print(c)\n",
    "print(len(enc.columns))\n",
    "#print(enc.columns)\n",
    "\n"
   ]
  },
  {
   "cell_type": "markdown",
   "metadata": {},
   "source": [
    "Binary encoder"
   ]
  },
  {
   "cell_type": "code",
   "execution_count": 117,
   "metadata": {
    "collapsed": false
   },
   "outputs": [],
   "source": [
    "import category_encoders as ce\n",
    "encoder = ce.BinaryEncoder(cols=cols_to_enc)\n",
    "enc2=encoder.fit_transform(data[\"tra_as_hol\"])"
   ]
  },
  {
   "cell_type": "code",
   "execution_count": 118,
   "metadata": {
    "collapsed": false
   },
   "outputs": [
    {
     "name": "stdout",
     "output_type": "stream",
     "text": [
      "visitors\n",
      "visitors_dow\n",
      "mean\n",
      "median\n",
      "min\n",
      "max\n",
      "std\n",
      "time_numeric\n",
      "holiday_flg\n",
      "visitors\n",
      "visitors_dow\n",
      "latitude\n",
      "longitude\n",
      "mean\n",
      "median\n",
      "min\n",
      "max\n",
      "std\n",
      "time_numeric\n",
      "month_0\n",
      "month_1\n",
      "month_2\n",
      "month_3\n",
      "day_of_week_0\n",
      "day_of_week_1\n",
      "day_of_week_2\n",
      "air_genre_name_0\n",
      "air_genre_name_1\n",
      "air_genre_name_2\n",
      "air_genre_name_3\n",
      "air_area_name_0\n",
      "air_area_name_1\n",
      "air_area_name_2\n",
      "air_area_name_3\n",
      "air_area_name_4\n",
      "air_area_name_5\n",
      "air_area_name_6\n",
      "holiday_flg\n"
     ]
    }
   ],
   "source": [
    "def f64_to_32(df):\n",
    "    float_cols=df.select_dtypes(include=[\"float64\"]).columns\n",
    "    int_cols=df.select_dtypes(include=[\"int64\"]).columns\n",
    "    for fc in float_cols:\n",
    "        print(fc)\n",
    "        df[fc]=df[fc].astype(\"float32\")\n",
    "    for ic in int_cols:\n",
    "        print(ic)\n",
    "        df[ic]=df[ic].astype(\"int32\")\n",
    " \n",
    "f64_to_32(enc)\n",
    "f64_to_32(enc2)\n",
    "#enc.dtypes"
   ]
  },
  {
   "cell_type": "markdown",
   "metadata": {},
   "source": [
    "Divide train-test before-after"
   ]
  },
  {
   "cell_type": "code",
   "execution_count": 119,
   "metadata": {
    "collapsed": false
   },
   "outputs": [
    {
     "name": "stderr",
     "output_type": "stream",
     "text": [
      "/scratch/baruselli/inst/intelpython35/lib/python3.5/site-packages/ipykernel/__main__.py:4: UserWarning: Boolean Series key will be reindexed to match DataFrame index.\n",
      "/scratch/baruselli/inst/intelpython35/lib/python3.5/site-packages/ipykernel/__main__.py:5: UserWarning: Boolean Series key will be reindexed to match DataFrame index.\n"
     ]
    }
   ],
   "source": [
    "cut_date='2017-3-1'\n",
    "\n",
    "def train_test_eval(df,cut_date):\n",
    "    df_train=df[df.visitors.notnull()][df[\"visit_date\"]<cut_date]        #train\n",
    "    df_test= df[df.visitors.notnull()][df[\"visit_date\"]>= cut_date]      #test (I have data to check)\n",
    "    df_eval= df[df.visitors.isnull()]                                   #eval (for submission only, no data to check)\n",
    "    return(df_train,df_test,df_eval)\n",
    "    \n",
    "df_train,df_test,df_eval=train_test_eval(enc,cut_date)"
   ]
  },
  {
   "cell_type": "code",
   "execution_count": 120,
   "metadata": {
    "collapsed": false
   },
   "outputs": [
    {
     "data": {
      "text/plain": [
       "<matplotlib.axes._subplots.AxesSubplot at 0x7f41d8dc7940>"
      ]
     },
     "execution_count": 120,
     "metadata": {},
     "output_type": "execute_result"
    },
    {
     "data": {
      "image/png": "[encoded data removed]",
      "text/plain": [
       "<matplotlib.figure.Figure at 0x7f41dbdf47b8>"
      ]
     },
     "metadata": {},
     "output_type": "display_data"
    }
   ],
   "source": [
    "%matplotlib inline\n",
    "df_train.groupby(\"visit_date\")[\"visitors\"].mean().plot()\n",
    "df_test.groupby(\"visit_date\")[\"visitors\"].mean().plot()"
   ]
  },
  {
   "cell_type": "code",
   "execution_count": 121,
   "metadata": {
    "collapsed": false
   },
   "outputs": [
    {
     "name": "stdout",
     "output_type": "stream",
     "text": [
      "103 108 108\n",
      "108 108\n"
     ]
    }
   ],
   "source": [
    "print(\n",
    "len(data[\"tra_as_hol\"][\"air_area_name\"].unique()),\n",
    "len(data[\"tra_as_hol\"][\"longitude\"].unique()),\n",
    "len(data[\"tra_as_hol\"][\"latitude\"].unique()),\n",
    ")\n",
    "print(\n",
    "len(data[\"tra_as_hol\"].groupby(['latitude', 'longitude']).size()),\n",
    "len(data[\"tra_as_hol\"].groupby([\"air_area_name\",'latitude', 'longitude']).size())\n",
    ")"
   ]
  },
  {
   "cell_type": "markdown",
   "metadata": {},
   "source": [
    "For each store I use mean, min, max, std, area, genre, day and holiday as predictors"
   ]
  },
  {
   "cell_type": "code",
   "execution_count": 122,
   "metadata": {
    "collapsed": false
   },
   "outputs": [
    {
     "data": {
      "text/html": [
       "<div>\n",
       "<table border=\"1\" class=\"dataframe\">\n",
       "  <thead>\n",
       "    <tr style=\"text-align: right;\">\n",
       "      <th></th>\n",
       "      <th>air_store_id</th>\n",
       "      <th>visit_date</th>\n",
       "      <th>visitors</th>\n",
       "      <th>holiday_flg</th>\n",
       "      <th>visitors_dow</th>\n",
       "      <th>mean</th>\n",
       "      <th>median</th>\n",
       "      <th>min</th>\n",
       "      <th>max</th>\n",
       "      <th>std</th>\n",
       "      <th>...</th>\n",
       "      <th>air_area_name_Ōsaka-fu Sakai-shi Minamikawaramachi</th>\n",
       "      <th>air_area_name_Ōsaka-fu Suita-shi Izumichō</th>\n",
       "      <th>air_area_name_Ōsaka-fu Ōsaka-shi Fuminosato</th>\n",
       "      <th>air_area_name_Ōsaka-fu Ōsaka-shi Kyōmachibori</th>\n",
       "      <th>air_area_name_Ōsaka-fu Ōsaka-shi Kyūtarōmachi</th>\n",
       "      <th>air_area_name_Ōsaka-fu Ōsaka-shi Nakanochō</th>\n",
       "      <th>air_area_name_Ōsaka-fu Ōsaka-shi Nanbasennichimae</th>\n",
       "      <th>air_area_name_Ōsaka-fu Ōsaka-shi Shinmachi</th>\n",
       "      <th>air_area_name_Ōsaka-fu Ōsaka-shi Ōgimachi</th>\n",
       "      <th>air_area_name_Ōsaka-fu Ōsaka-shi Ōhiraki</th>\n",
       "    </tr>\n",
       "  </thead>\n",
       "  <tbody>\n",
       "    <tr>\n",
       "      <th>0</th>\n",
       "      <td>air_ba937bf13d40fb24</td>\n",
       "      <td>2016-01-13</td>\n",
       "      <td>3.258096</td>\n",
       "      <td>0</td>\n",
       "      <td>3.258096</td>\n",
       "      <td>3.014389</td>\n",
       "      <td>3.135494</td>\n",
       "      <td>0.693147</td>\n",
       "      <td>4.127134</td>\n",
       "      <td>0.616634</td>\n",
       "      <td>...</td>\n",
       "      <td>0</td>\n",
       "      <td>0</td>\n",
       "      <td>0</td>\n",
       "      <td>0</td>\n",
       "      <td>0</td>\n",
       "      <td>0</td>\n",
       "      <td>0</td>\n",
       "      <td>0</td>\n",
       "      <td>0</td>\n",
       "      <td>0</td>\n",
       "    </tr>\n",
       "    <tr>\n",
       "      <th>1</th>\n",
       "      <td>air_ba937bf13d40fb24</td>\n",
       "      <td>2016-01-20</td>\n",
       "      <td>3.465736</td>\n",
       "      <td>0</td>\n",
       "      <td>3.258096</td>\n",
       "      <td>3.014389</td>\n",
       "      <td>3.135494</td>\n",
       "      <td>0.693147</td>\n",
       "      <td>4.127134</td>\n",
       "      <td>0.616634</td>\n",
       "      <td>...</td>\n",
       "      <td>0</td>\n",
       "      <td>0</td>\n",
       "      <td>0</td>\n",
       "      <td>0</td>\n",
       "      <td>0</td>\n",
       "      <td>0</td>\n",
       "      <td>0</td>\n",
       "      <td>0</td>\n",
       "      <td>0</td>\n",
       "      <td>0</td>\n",
       "    </tr>\n",
       "    <tr>\n",
       "      <th>2</th>\n",
       "      <td>air_ba937bf13d40fb24</td>\n",
       "      <td>2016-01-27</td>\n",
       "      <td>3.218876</td>\n",
       "      <td>0</td>\n",
       "      <td>3.258096</td>\n",
       "      <td>3.014389</td>\n",
       "      <td>3.135494</td>\n",
       "      <td>0.693147</td>\n",
       "      <td>4.127134</td>\n",
       "      <td>0.616634</td>\n",
       "      <td>...</td>\n",
       "      <td>0</td>\n",
       "      <td>0</td>\n",
       "      <td>0</td>\n",
       "      <td>0</td>\n",
       "      <td>0</td>\n",
       "      <td>0</td>\n",
       "      <td>0</td>\n",
       "      <td>0</td>\n",
       "      <td>0</td>\n",
       "      <td>0</td>\n",
       "    </tr>\n",
       "    <tr>\n",
       "      <th>3</th>\n",
       "      <td>air_ba937bf13d40fb24</td>\n",
       "      <td>2016-02-03</td>\n",
       "      <td>2.944439</td>\n",
       "      <td>0</td>\n",
       "      <td>3.258096</td>\n",
       "      <td>3.014389</td>\n",
       "      <td>3.135494</td>\n",
       "      <td>0.693147</td>\n",
       "      <td>4.127134</td>\n",
       "      <td>0.616634</td>\n",
       "      <td>...</td>\n",
       "      <td>0</td>\n",
       "      <td>0</td>\n",
       "      <td>0</td>\n",
       "      <td>0</td>\n",
       "      <td>0</td>\n",
       "      <td>0</td>\n",
       "      <td>0</td>\n",
       "      <td>0</td>\n",
       "      <td>0</td>\n",
       "      <td>0</td>\n",
       "    </tr>\n",
       "    <tr>\n",
       "      <th>4</th>\n",
       "      <td>air_ba937bf13d40fb24</td>\n",
       "      <td>2016-02-10</td>\n",
       "      <td>3.496508</td>\n",
       "      <td>0</td>\n",
       "      <td>3.258096</td>\n",
       "      <td>3.014389</td>\n",
       "      <td>3.135494</td>\n",
       "      <td>0.693147</td>\n",
       "      <td>4.127134</td>\n",
       "      <td>0.616634</td>\n",
       "      <td>...</td>\n",
       "      <td>0</td>\n",
       "      <td>0</td>\n",
       "      <td>0</td>\n",
       "      <td>0</td>\n",
       "      <td>0</td>\n",
       "      <td>0</td>\n",
       "      <td>0</td>\n",
       "      <td>0</td>\n",
       "      <td>0</td>\n",
       "      <td>0</td>\n",
       "    </tr>\n",
       "  </tbody>\n",
       "</table>\n",
       "<p>5 rows × 147 columns</p>\n",
       "</div>"
      ],
      "text/plain": [
       "           air_store_id visit_date  visitors  holiday_flg  visitors_dow  \\\n",
       "0  air_ba937bf13d40fb24 2016-01-13  3.258096            0      3.258096   \n",
       "1  air_ba937bf13d40fb24 2016-01-20  3.465736            0      3.258096   \n",
       "2  air_ba937bf13d40fb24 2016-01-27  3.218876            0      3.258096   \n",
       "3  air_ba937bf13d40fb24 2016-02-03  2.944439            0      3.258096   \n",
       "4  air_ba937bf13d40fb24 2016-02-10  3.496508            0      3.258096   \n",
       "\n",
       "       mean    median       min       max       std  \\\n",
       "0  3.014389  3.135494  0.693147  4.127134  0.616634   \n",
       "1  3.014389  3.135494  0.693147  4.127134  0.616634   \n",
       "2  3.014389  3.135494  0.693147  4.127134  0.616634   \n",
       "3  3.014389  3.135494  0.693147  4.127134  0.616634   \n",
       "4  3.014389  3.135494  0.693147  4.127134  0.616634   \n",
       "\n",
       "                     ...                     \\\n",
       "0                    ...                      \n",
       "1                    ...                      \n",
       "2                    ...                      \n",
       "3                    ...                      \n",
       "4                    ...                      \n",
       "\n",
       "   air_area_name_Ōsaka-fu Sakai-shi Minamikawaramachi  \\\n",
       "0                                                  0    \n",
       "1                                                  0    \n",
       "2                                                  0    \n",
       "3                                                  0    \n",
       "4                                                  0    \n",
       "\n",
       "   air_area_name_Ōsaka-fu Suita-shi Izumichō  \\\n",
       "0                                          0   \n",
       "1                                          0   \n",
       "2                                          0   \n",
       "3                                          0   \n",
       "4                                          0   \n",
       "\n",
       "   air_area_name_Ōsaka-fu Ōsaka-shi Fuminosato  \\\n",
       "0                                            0   \n",
       "1                                            0   \n",
       "2                                            0   \n",
       "3                                            0   \n",
       "4                                            0   \n",
       "\n",
       "   air_area_name_Ōsaka-fu Ōsaka-shi Kyōmachibori  \\\n",
       "0                                              0   \n",
       "1                                              0   \n",
       "2                                              0   \n",
       "3                                              0   \n",
       "4                                              0   \n",
       "\n",
       "   air_area_name_Ōsaka-fu Ōsaka-shi Kyūtarōmachi  \\\n",
       "0                                              0   \n",
       "1                                              0   \n",
       "2                                              0   \n",
       "3                                              0   \n",
       "4                                              0   \n",
       "\n",
       "   air_area_name_Ōsaka-fu Ōsaka-shi Nakanochō  \\\n",
       "0                                           0   \n",
       "1                                           0   \n",
       "2                                           0   \n",
       "3                                           0   \n",
       "4                                           0   \n",
       "\n",
       "   air_area_name_Ōsaka-fu Ōsaka-shi Nanbasennichimae  \\\n",
       "0                                                  0   \n",
       "1                                                  0   \n",
       "2                                                  0   \n",
       "3                                                  0   \n",
       "4                                                  0   \n",
       "\n",
       "   air_area_name_Ōsaka-fu Ōsaka-shi Shinmachi  \\\n",
       "0                                           0   \n",
       "1                                           0   \n",
       "2                                           0   \n",
       "3                                           0   \n",
       "4                                           0   \n",
       "\n",
       "   air_area_name_Ōsaka-fu Ōsaka-shi Ōgimachi  \\\n",
       "0                                          0   \n",
       "1                                          0   \n",
       "2                                          0   \n",
       "3                                          0   \n",
       "4                                          0   \n",
       "\n",
       "   air_area_name_Ōsaka-fu Ōsaka-shi Ōhiraki  \n",
       "0                                         0  \n",
       "1                                         0  \n",
       "2                                         0  \n",
       "3                                         0  \n",
       "4                                         0  \n",
       "\n",
       "[5 rows x 147 columns]"
      ]
     },
     "execution_count": 122,
     "metadata": {},
     "output_type": "execute_result"
    }
   ],
   "source": [
    "\n",
    "\n",
    "df_train.head()"
   ]
  },
  {
   "cell_type": "code",
   "execution_count": 123,
   "metadata": {
    "collapsed": true,
    "scrolled": true
   },
   "outputs": [],
   "source": [
    "def xy_train_test(df_train,df_test):\n",
    "    try:\n",
    "        X_train = df_train.drop([\"visitors\",\"visit_date\",\"air_store_id\",\"latitude\",\"longitude\"],axis=1).as_matrix()\n",
    "        X_test =  df_test.drop([\"visitors\",\"visit_date\",\"air_store_id\",\"latitude\",\"longitude\"],axis=1).as_matrix()\n",
    "    except:\n",
    "        #try:\n",
    "            X_train = df_train.drop([\"visitors\",\"visit_date\",\"air_store_id\"],axis=1).as_matrix()\n",
    "            X_test =  df_test.drop([\"visitors\",\"visit_date\",\"air_store_id\"],axis=1).as_matrix()\n",
    "        #except: \n",
    "        #            try:\n",
    "        #                X_train = df_train.drop([\"col_visitors\",\"col_visit_date\",\"col_air_store_id\",\"col_latitude\",\"col_longitude\"],axis=1).as_matrix()\n",
    "        #                X_test =  df_test.drop([\"col_visitors\",\"col_visit_date\",\"col_air_store_id\",\"col_latitude\",\"col_longitude\"],axis=1).as_matrix()\n",
    "        #            except:\n",
    "        #                X_train = df_train.drop([\"col_visitors\",\"col_visit_date\",\"col_air_store_id\"],axis=1).as_matrix()\n",
    "        #                X_test =  df_test.drop([\"col_visitors\",\"col_visit_date\",\"col_air_store_id\"],axis=1).as_matrix()\"\"\"\n",
    "    # Split the targets into training/testing sets\n",
    "    try:\n",
    "        y_train = df_train[\"visitors\"].values\n",
    "        y_test =  df_test[\"visitors\"].values\n",
    "    except:\n",
    "        y_train = df_train[\"col_visitors\"].values\n",
    "        y_test =  df_test[\"col_visitors\"].values\n",
    "        \n",
    "    #return(X_train,X_test,y_train,y_test)              \n",
    "    return(X_train.astype(\"float32\"),X_test.astype(\"float32\"),y_train.astype(\"float32\"),y_test.astype(\"float32\"))              \n",
    "\n",
    "\n",
    "def test(df_train,df_test,regr):\n",
    "    #print(df_train.columns)\n",
    "\n",
    "    (X_train,X_test,y_train,y_test) = xy_train_test(df_train,df_test)\n",
    "\n",
    "    #print(X_train.shape,y_train.shape)\n",
    "    #print(X_test.shape,y_test.shape)\n",
    "    regr.fit(X_train, y_train)\n",
    "    y_pred_train = regr.predict(X_train)\n",
    "    y_pred = regr.predict(X_test)\n",
    "    y_pred=np.maximum(0,y_pred)\n",
    "    y_pred_train=np.maximum(0,y_pred_train)\n",
    "    error=RMSE(y_test, y_pred)\n",
    "    error_train=RMSE(y_train, y_pred_train)\n",
    "    print(error,error_train)\n",
    "    return error,error_train"
   ]
  },
  {
   "cell_type": "code",
   "execution_count": 124,
   "metadata": {
    "collapsed": false
   },
   "outputs": [],
   "source": [
    "(X_train,X_test,y_train,y_test) = xy_train_test(df_train,df_test)"
   ]
  },
  {
   "cell_type": "code",
   "execution_count": 125,
   "metadata": {
    "collapsed": false,
    "scrolled": false
   },
   "outputs": [
    {
     "name": "stderr",
     "output_type": "stream",
     "text": [
      "/scratch/baruselli/inst/intelpython35/lib/python3.5/site-packages/ipykernel/__main__.py:4: UserWarning: Boolean Series key will be reindexed to match DataFrame index.\n",
      "/scratch/baruselli/inst/intelpython35/lib/python3.5/site-packages/ipykernel/__main__.py:5: UserWarning: Boolean Series key will be reindexed to match DataFrame index.\n"
     ]
    },
    {
     "name": "stdout",
     "output_type": "stream",
     "text": [
      "0.828419543014 0.803998337227\n",
      "0.830475009956 0.803764814237\n"
     ]
    },
    {
     "data": {
      "text/plain": [
       "(0.83047500995562606, 0.80376481423734114)"
      ]
     },
     "execution_count": 125,
     "metadata": {},
     "output_type": "execute_result"
    }
   ],
   "source": [
    "df_train,df_test,df_eval=train_test_eval(enc,cut_date)\n",
    "test(df_train,df_test, linear_model.LinearRegression())\n",
    "df_train,df_test,df_eval=train_test_eval(enc2,cut_date)\n",
    "test(df_train,df_test, linear_model.LinearRegression())"
   ]
  },
  {
   "cell_type": "code",
   "execution_count": 126,
   "metadata": {
    "collapsed": true
   },
   "outputs": [],
   "source": [
    "#ensemble.RandomForestRegressor?"
   ]
  },
  {
   "cell_type": "code",
   "execution_count": 127,
   "metadata": {
    "collapsed": true
   },
   "outputs": [],
   "source": [
    "encoder = ce.BinaryEncoder(cols=cols_to_enc)\n",
    "enc2=encoder.fit_transform(data[\"tra_as_hol\"])"
   ]
  },
  {
   "cell_type": "code",
   "execution_count": 128,
   "metadata": {
    "collapsed": false
   },
   "outputs": [
    {
     "name": "stderr",
     "output_type": "stream",
     "text": [
      "/scratch/baruselli/inst/intelpython35/lib/python3.5/site-packages/ipykernel/__main__.py:4: UserWarning: Boolean Series key will be reindexed to match DataFrame index.\n",
      "/scratch/baruselli/inst/intelpython35/lib/python3.5/site-packages/ipykernel/__main__.py:5: UserWarning: Boolean Series key will be reindexed to match DataFrame index.\n"
     ]
    },
    {
     "name": "stdout",
     "output_type": "stream",
     "text": [
      "0.830475009956 0.803764814237\n",
      "0.514912083538 0.52243823421\n",
      "0.527267505095 0.421938616808\n",
      "0.528271504711 0.395593253989\n",
      "0.526762076102 0.484824060272\n",
      "0.532968732921 0.362313345194\n",
      "0.526621322169 0.497171826125\n"
     ]
    },
    {
     "ename": "KeyboardInterrupt",
     "evalue": "",
     "output_type": "error",
     "traceback": [
      "\u001b[1;31m---------------------------------------------------------------------------\u001b[0m",
      "\u001b[1;31mKeyboardInterrupt\u001b[0m                         Traceback (most recent call last)",
      "\u001b[1;32m<ipython-input-128-c3ef5da8d198>\u001b[0m in \u001b[0;36m<module>\u001b[1;34m()\u001b[0m\n\u001b[0;32m     26\u001b[0m \u001b[0mtest\u001b[0m\u001b[1;33m(\u001b[0m\u001b[0mdf_train\u001b[0m\u001b[1;33m,\u001b[0m\u001b[0mdf_test\u001b[0m\u001b[1;33m,\u001b[0m\u001b[0mensemble\u001b[0m\u001b[1;33m.\u001b[0m\u001b[0mRandomForestRegressor\u001b[0m\u001b[1;33m(\u001b[0m\u001b[0mn_estimators\u001b[0m\u001b[1;33m=\u001b[0m\u001b[1;36m80\u001b[0m\u001b[1;33m,\u001b[0m\u001b[0mmax_features\u001b[0m\u001b[1;33m=\u001b[0m\u001b[1;34m\"log2\"\u001b[0m\u001b[1;33m,\u001b[0m\u001b[0mmax_depth\u001b[0m\u001b[1;33m=\u001b[0m\u001b[1;36m18\u001b[0m\u001b[1;33m)\u001b[0m\u001b[1;33m)\u001b[0m\u001b[1;33m\u001b[0m\u001b[0m\n\u001b[0;32m     27\u001b[0m \u001b[0mtest\u001b[0m\u001b[1;33m(\u001b[0m\u001b[0mdf_train\u001b[0m\u001b[1;33m,\u001b[0m\u001b[0mdf_test\u001b[0m\u001b[1;33m,\u001b[0m\u001b[0mensemble\u001b[0m\u001b[1;33m.\u001b[0m\u001b[0mRandomForestRegressor\u001b[0m\u001b[1;33m(\u001b[0m\u001b[0mn_estimators\u001b[0m\u001b[1;33m=\u001b[0m\u001b[1;36m150\u001b[0m\u001b[1;33m,\u001b[0m\u001b[0mmax_features\u001b[0m\u001b[1;33m=\u001b[0m\u001b[1;34m\"log2\"\u001b[0m\u001b[1;33m,\u001b[0m\u001b[0mmax_depth\u001b[0m\u001b[1;33m=\u001b[0m\u001b[1;36m12\u001b[0m\u001b[1;33m)\u001b[0m\u001b[1;33m)\u001b[0m\u001b[1;33m\u001b[0m\u001b[0m\n\u001b[1;32m---> 28\u001b[1;33m \u001b[0mtest\u001b[0m\u001b[1;33m(\u001b[0m\u001b[0mdf_train\u001b[0m\u001b[1;33m,\u001b[0m\u001b[0mdf_test\u001b[0m\u001b[1;33m,\u001b[0m\u001b[0mensemble\u001b[0m\u001b[1;33m.\u001b[0m\u001b[0mRandomForestRegressor\u001b[0m\u001b[1;33m(\u001b[0m\u001b[0mn_estimators\u001b[0m\u001b[1;33m=\u001b[0m\u001b[1;36m180\u001b[0m\u001b[1;33m,\u001b[0m\u001b[0mmax_features\u001b[0m\u001b[1;33m=\u001b[0m\u001b[1;34m\"log2\"\u001b[0m\u001b[1;33m,\u001b[0m\u001b[0mmax_depth\u001b[0m\u001b[1;33m=\u001b[0m\u001b[1;36m10\u001b[0m\u001b[1;33m)\u001b[0m\u001b[1;33m)\u001b[0m\u001b[1;33m\u001b[0m\u001b[0m\n\u001b[0m\u001b[0;32m     29\u001b[0m \u001b[0mtest\u001b[0m\u001b[1;33m(\u001b[0m\u001b[0mdf_train\u001b[0m\u001b[1;33m,\u001b[0m\u001b[0mdf_test\u001b[0m\u001b[1;33m,\u001b[0m\u001b[0mensemble\u001b[0m\u001b[1;33m.\u001b[0m\u001b[0mRandomForestRegressor\u001b[0m\u001b[1;33m(\u001b[0m\u001b[0mn_estimators\u001b[0m\u001b[1;33m=\u001b[0m\u001b[1;36m80\u001b[0m\u001b[1;33m,\u001b[0m\u001b[0mmax_features\u001b[0m\u001b[1;33m=\u001b[0m\u001b[1;34m\"log2\"\u001b[0m\u001b[1;33m,\u001b[0m\u001b[0mmax_depth\u001b[0m\u001b[1;33m=\u001b[0m\u001b[1;36m15\u001b[0m\u001b[1;33m)\u001b[0m\u001b[1;33m)\u001b[0m\u001b[1;33m\u001b[0m\u001b[0m\n\u001b[0;32m     30\u001b[0m \u001b[1;31m#test(df_train,df_test,ensemble.RandomForestRegressor(n_estimators=100,max_features=\"log2\",max_depth=15))\u001b[0m\u001b[1;33m\u001b[0m\u001b[1;33m\u001b[0m\u001b[0m\n",
      "\u001b[1;32m<ipython-input-123-77ed4b1ae413>\u001b[0m in \u001b[0;36mtest\u001b[1;34m(df_train, df_test, regr)\u001b[0m\n\u001b[0;32m     33\u001b[0m     \u001b[1;31m#print(X_train.shape,y_train.shape)\u001b[0m\u001b[1;33m\u001b[0m\u001b[1;33m\u001b[0m\u001b[0m\n\u001b[0;32m     34\u001b[0m     \u001b[1;31m#print(X_test.shape,y_test.shape)\u001b[0m\u001b[1;33m\u001b[0m\u001b[1;33m\u001b[0m\u001b[0m\n\u001b[1;32m---> 35\u001b[1;33m     \u001b[0mregr\u001b[0m\u001b[1;33m.\u001b[0m\u001b[0mfit\u001b[0m\u001b[1;33m(\u001b[0m\u001b[0mX_train\u001b[0m\u001b[1;33m,\u001b[0m \u001b[0my_train\u001b[0m\u001b[1;33m)\u001b[0m\u001b[1;33m\u001b[0m\u001b[0m\n\u001b[0m\u001b[0;32m     36\u001b[0m     \u001b[0my_pred_train\u001b[0m \u001b[1;33m=\u001b[0m \u001b[0mregr\u001b[0m\u001b[1;33m.\u001b[0m\u001b[0mpredict\u001b[0m\u001b[1;33m(\u001b[0m\u001b[0mX_train\u001b[0m\u001b[1;33m)\u001b[0m\u001b[1;33m\u001b[0m\u001b[0m\n\u001b[0;32m     37\u001b[0m     \u001b[0my_pred\u001b[0m \u001b[1;33m=\u001b[0m \u001b[0mregr\u001b[0m\u001b[1;33m.\u001b[0m\u001b[0mpredict\u001b[0m\u001b[1;33m(\u001b[0m\u001b[0mX_test\u001b[0m\u001b[1;33m)\u001b[0m\u001b[1;33m\u001b[0m\u001b[0m\n",
      "\u001b[1;32m/scratch/baruselli/inst/intelpython35/lib/python3.5/site-packages/sklearn/ensemble/forest.py\u001b[0m in \u001b[0;36mfit\u001b[1;34m(self, X, y, sample_weight)\u001b[0m\n\u001b[0;32m    326\u001b[0m                     \u001b[0mt\u001b[0m\u001b[1;33m,\u001b[0m \u001b[0mself\u001b[0m\u001b[1;33m,\u001b[0m \u001b[0mX\u001b[0m\u001b[1;33m,\u001b[0m \u001b[0my\u001b[0m\u001b[1;33m,\u001b[0m \u001b[0msample_weight\u001b[0m\u001b[1;33m,\u001b[0m \u001b[0mi\u001b[0m\u001b[1;33m,\u001b[0m \u001b[0mlen\u001b[0m\u001b[1;33m(\u001b[0m\u001b[0mtrees\u001b[0m\u001b[1;33m)\u001b[0m\u001b[1;33m,\u001b[0m\u001b[1;33m\u001b[0m\u001b[0m\n\u001b[0;32m    327\u001b[0m                     verbose=self.verbose, class_weight=self.class_weight)\n\u001b[1;32m--> 328\u001b[1;33m                 for i, t in enumerate(trees))\n\u001b[0m\u001b[0;32m    329\u001b[0m \u001b[1;33m\u001b[0m\u001b[0m\n\u001b[0;32m    330\u001b[0m             \u001b[1;31m# Collect newly grown trees\u001b[0m\u001b[1;33m\u001b[0m\u001b[1;33m\u001b[0m\u001b[0m\n",
      "\u001b[1;32m/scratch/baruselli/inst/intelpython35/lib/python3.5/site-packages/sklearn/externals/joblib/parallel.py\u001b[0m in \u001b[0;36m__call__\u001b[1;34m(self, iterable)\u001b[0m\n\u001b[0;32m    777\u001b[0m             \u001b[1;31m# was dispatched. In particular this covers the edge\u001b[0m\u001b[1;33m\u001b[0m\u001b[1;33m\u001b[0m\u001b[0m\n\u001b[0;32m    778\u001b[0m             \u001b[1;31m# case of Parallel used with an exhausted iterator.\u001b[0m\u001b[1;33m\u001b[0m\u001b[1;33m\u001b[0m\u001b[0m\n\u001b[1;32m--> 779\u001b[1;33m             \u001b[1;32mwhile\u001b[0m \u001b[0mself\u001b[0m\u001b[1;33m.\u001b[0m\u001b[0mdispatch_one_batch\u001b[0m\u001b[1;33m(\u001b[0m\u001b[0miterator\u001b[0m\u001b[1;33m)\u001b[0m\u001b[1;33m:\u001b[0m\u001b[1;33m\u001b[0m\u001b[0m\n\u001b[0m\u001b[0;32m    780\u001b[0m                 \u001b[0mself\u001b[0m\u001b[1;33m.\u001b[0m\u001b[0m_iterating\u001b[0m \u001b[1;33m=\u001b[0m \u001b[1;32mTrue\u001b[0m\u001b[1;33m\u001b[0m\u001b[0m\n\u001b[0;32m    781\u001b[0m             \u001b[1;32melse\u001b[0m\u001b[1;33m:\u001b[0m\u001b[1;33m\u001b[0m\u001b[0m\n",
      "\u001b[1;32m/scratch/baruselli/inst/intelpython35/lib/python3.5/site-packages/sklearn/externals/joblib/parallel.py\u001b[0m in \u001b[0;36mdispatch_one_batch\u001b[1;34m(self, iterator)\u001b[0m\n\u001b[0;32m    623\u001b[0m                 \u001b[1;32mreturn\u001b[0m \u001b[1;32mFalse\u001b[0m\u001b[1;33m\u001b[0m\u001b[0m\n\u001b[0;32m    624\u001b[0m             \u001b[1;32melse\u001b[0m\u001b[1;33m:\u001b[0m\u001b[1;33m\u001b[0m\u001b[0m\n\u001b[1;32m--> 625\u001b[1;33m                 \u001b[0mself\u001b[0m\u001b[1;33m.\u001b[0m\u001b[0m_dispatch\u001b[0m\u001b[1;33m(\u001b[0m\u001b[0mtasks\u001b[0m\u001b[1;33m)\u001b[0m\u001b[1;33m\u001b[0m\u001b[0m\n\u001b[0m\u001b[0;32m    626\u001b[0m                 \u001b[1;32mreturn\u001b[0m \u001b[1;32mTrue\u001b[0m\u001b[1;33m\u001b[0m\u001b[0m\n\u001b[0;32m    627\u001b[0m \u001b[1;33m\u001b[0m\u001b[0m\n",
      "\u001b[1;32m/scratch/baruselli/inst/intelpython35/lib/python3.5/site-packages/sklearn/externals/joblib/parallel.py\u001b[0m in \u001b[0;36m_dispatch\u001b[1;34m(self, batch)\u001b[0m\n\u001b[0;32m    586\u001b[0m         \u001b[0mdispatch_timestamp\u001b[0m \u001b[1;33m=\u001b[0m \u001b[0mtime\u001b[0m\u001b[1;33m.\u001b[0m\u001b[0mtime\u001b[0m\u001b[1;33m(\u001b[0m\u001b[1;33m)\u001b[0m\u001b[1;33m\u001b[0m\u001b[0m\n\u001b[0;32m    587\u001b[0m         \u001b[0mcb\u001b[0m \u001b[1;33m=\u001b[0m \u001b[0mBatchCompletionCallBack\u001b[0m\u001b[1;33m(\u001b[0m\u001b[0mdispatch_timestamp\u001b[0m\u001b[1;33m,\u001b[0m \u001b[0mlen\u001b[0m\u001b[1;33m(\u001b[0m\u001b[0mbatch\u001b[0m\u001b[1;33m)\u001b[0m\u001b[1;33m,\u001b[0m \u001b[0mself\u001b[0m\u001b[1;33m)\u001b[0m\u001b[1;33m\u001b[0m\u001b[0m\n\u001b[1;32m--> 588\u001b[1;33m         \u001b[0mjob\u001b[0m \u001b[1;33m=\u001b[0m \u001b[0mself\u001b[0m\u001b[1;33m.\u001b[0m\u001b[0m_backend\u001b[0m\u001b[1;33m.\u001b[0m\u001b[0mapply_async\u001b[0m\u001b[1;33m(\u001b[0m\u001b[0mbatch\u001b[0m\u001b[1;33m,\u001b[0m \u001b[0mcallback\u001b[0m\u001b[1;33m=\u001b[0m\u001b[0mcb\u001b[0m\u001b[1;33m)\u001b[0m\u001b[1;33m\u001b[0m\u001b[0m\n\u001b[0m\u001b[0;32m    589\u001b[0m         \u001b[0mself\u001b[0m\u001b[1;33m.\u001b[0m\u001b[0m_jobs\u001b[0m\u001b[1;33m.\u001b[0m\u001b[0mappend\u001b[0m\u001b[1;33m(\u001b[0m\u001b[0mjob\u001b[0m\u001b[1;33m)\u001b[0m\u001b[1;33m\u001b[0m\u001b[0m\n\u001b[0;32m    590\u001b[0m \u001b[1;33m\u001b[0m\u001b[0m\n",
      "\u001b[1;32m/scratch/baruselli/inst/intelpython35/lib/python3.5/site-packages/sklearn/externals/joblib/_parallel_backends.py\u001b[0m in \u001b[0;36mapply_async\u001b[1;34m(self, func, callback)\u001b[0m\n\u001b[0;32m    109\u001b[0m     \u001b[1;32mdef\u001b[0m \u001b[0mapply_async\u001b[0m\u001b[1;33m(\u001b[0m\u001b[0mself\u001b[0m\u001b[1;33m,\u001b[0m \u001b[0mfunc\u001b[0m\u001b[1;33m,\u001b[0m \u001b[0mcallback\u001b[0m\u001b[1;33m=\u001b[0m\u001b[1;32mNone\u001b[0m\u001b[1;33m)\u001b[0m\u001b[1;33m:\u001b[0m\u001b[1;33m\u001b[0m\u001b[0m\n\u001b[0;32m    110\u001b[0m         \u001b[1;34m\"\"\"Schedule a func to be run\"\"\"\u001b[0m\u001b[1;33m\u001b[0m\u001b[0m\n\u001b[1;32m--> 111\u001b[1;33m         \u001b[0mresult\u001b[0m \u001b[1;33m=\u001b[0m \u001b[0mImmediateResult\u001b[0m\u001b[1;33m(\u001b[0m\u001b[0mfunc\u001b[0m\u001b[1;33m)\u001b[0m\u001b[1;33m\u001b[0m\u001b[0m\n\u001b[0m\u001b[0;32m    112\u001b[0m         \u001b[1;32mif\u001b[0m \u001b[0mcallback\u001b[0m\u001b[1;33m:\u001b[0m\u001b[1;33m\u001b[0m\u001b[0m\n\u001b[0;32m    113\u001b[0m             \u001b[0mcallback\u001b[0m\u001b[1;33m(\u001b[0m\u001b[0mresult\u001b[0m\u001b[1;33m)\u001b[0m\u001b[1;33m\u001b[0m\u001b[0m\n",
      "\u001b[1;32m/scratch/baruselli/inst/intelpython35/lib/python3.5/site-packages/sklearn/externals/joblib/_parallel_backends.py\u001b[0m in \u001b[0;36m__init__\u001b[1;34m(self, batch)\u001b[0m\n\u001b[0;32m    330\u001b[0m         \u001b[1;31m# Don't delay the application, to avoid keeping the input\u001b[0m\u001b[1;33m\u001b[0m\u001b[1;33m\u001b[0m\u001b[0m\n\u001b[0;32m    331\u001b[0m         \u001b[1;31m# arguments in memory\u001b[0m\u001b[1;33m\u001b[0m\u001b[1;33m\u001b[0m\u001b[0m\n\u001b[1;32m--> 332\u001b[1;33m         \u001b[0mself\u001b[0m\u001b[1;33m.\u001b[0m\u001b[0mresults\u001b[0m \u001b[1;33m=\u001b[0m \u001b[0mbatch\u001b[0m\u001b[1;33m(\u001b[0m\u001b[1;33m)\u001b[0m\u001b[1;33m\u001b[0m\u001b[0m\n\u001b[0m\u001b[0;32m    333\u001b[0m \u001b[1;33m\u001b[0m\u001b[0m\n\u001b[0;32m    334\u001b[0m     \u001b[1;32mdef\u001b[0m \u001b[0mget\u001b[0m\u001b[1;33m(\u001b[0m\u001b[0mself\u001b[0m\u001b[1;33m)\u001b[0m\u001b[1;33m:\u001b[0m\u001b[1;33m\u001b[0m\u001b[0m\n",
      "\u001b[1;32m/scratch/baruselli/inst/intelpython35/lib/python3.5/site-packages/sklearn/externals/joblib/parallel.py\u001b[0m in \u001b[0;36m__call__\u001b[1;34m(self)\u001b[0m\n\u001b[0;32m    129\u001b[0m \u001b[1;33m\u001b[0m\u001b[0m\n\u001b[0;32m    130\u001b[0m     \u001b[1;32mdef\u001b[0m \u001b[0m__call__\u001b[0m\u001b[1;33m(\u001b[0m\u001b[0mself\u001b[0m\u001b[1;33m)\u001b[0m\u001b[1;33m:\u001b[0m\u001b[1;33m\u001b[0m\u001b[0m\n\u001b[1;32m--> 131\u001b[1;33m         \u001b[1;32mreturn\u001b[0m \u001b[1;33m[\u001b[0m\u001b[0mfunc\u001b[0m\u001b[1;33m(\u001b[0m\u001b[1;33m*\u001b[0m\u001b[0margs\u001b[0m\u001b[1;33m,\u001b[0m \u001b[1;33m**\u001b[0m\u001b[0mkwargs\u001b[0m\u001b[1;33m)\u001b[0m \u001b[1;32mfor\u001b[0m \u001b[0mfunc\u001b[0m\u001b[1;33m,\u001b[0m \u001b[0margs\u001b[0m\u001b[1;33m,\u001b[0m \u001b[0mkwargs\u001b[0m \u001b[1;32min\u001b[0m \u001b[0mself\u001b[0m\u001b[1;33m.\u001b[0m\u001b[0mitems\u001b[0m\u001b[1;33m]\u001b[0m\u001b[1;33m\u001b[0m\u001b[0m\n\u001b[0m\u001b[0;32m    132\u001b[0m \u001b[1;33m\u001b[0m\u001b[0m\n\u001b[0;32m    133\u001b[0m     \u001b[1;32mdef\u001b[0m \u001b[0m__len__\u001b[0m\u001b[1;33m(\u001b[0m\u001b[0mself\u001b[0m\u001b[1;33m)\u001b[0m\u001b[1;33m:\u001b[0m\u001b[1;33m\u001b[0m\u001b[0m\n",
      "\u001b[1;32m/scratch/baruselli/inst/intelpython35/lib/python3.5/site-packages/sklearn/externals/joblib/parallel.py\u001b[0m in \u001b[0;36m<listcomp>\u001b[1;34m(.0)\u001b[0m\n\u001b[0;32m    129\u001b[0m \u001b[1;33m\u001b[0m\u001b[0m\n\u001b[0;32m    130\u001b[0m     \u001b[1;32mdef\u001b[0m \u001b[0m__call__\u001b[0m\u001b[1;33m(\u001b[0m\u001b[0mself\u001b[0m\u001b[1;33m)\u001b[0m\u001b[1;33m:\u001b[0m\u001b[1;33m\u001b[0m\u001b[0m\n\u001b[1;32m--> 131\u001b[1;33m         \u001b[1;32mreturn\u001b[0m \u001b[1;33m[\u001b[0m\u001b[0mfunc\u001b[0m\u001b[1;33m(\u001b[0m\u001b[1;33m*\u001b[0m\u001b[0margs\u001b[0m\u001b[1;33m,\u001b[0m \u001b[1;33m**\u001b[0m\u001b[0mkwargs\u001b[0m\u001b[1;33m)\u001b[0m \u001b[1;32mfor\u001b[0m \u001b[0mfunc\u001b[0m\u001b[1;33m,\u001b[0m \u001b[0margs\u001b[0m\u001b[1;33m,\u001b[0m \u001b[0mkwargs\u001b[0m \u001b[1;32min\u001b[0m \u001b[0mself\u001b[0m\u001b[1;33m.\u001b[0m\u001b[0mitems\u001b[0m\u001b[1;33m]\u001b[0m\u001b[1;33m\u001b[0m\u001b[0m\n\u001b[0m\u001b[0;32m    132\u001b[0m \u001b[1;33m\u001b[0m\u001b[0m\n\u001b[0;32m    133\u001b[0m     \u001b[1;32mdef\u001b[0m \u001b[0m__len__\u001b[0m\u001b[1;33m(\u001b[0m\u001b[0mself\u001b[0m\u001b[1;33m)\u001b[0m\u001b[1;33m:\u001b[0m\u001b[1;33m\u001b[0m\u001b[0m\n",
      "\u001b[1;32m/scratch/baruselli/inst/intelpython35/lib/python3.5/site-packages/sklearn/ensemble/forest.py\u001b[0m in \u001b[0;36m_parallel_build_trees\u001b[1;34m(tree, forest, X, y, sample_weight, tree_idx, n_trees, verbose, class_weight)\u001b[0m\n\u001b[0;32m    119\u001b[0m             \u001b[0mcurr_sample_weight\u001b[0m \u001b[1;33m*=\u001b[0m \u001b[0mcompute_sample_weight\u001b[0m\u001b[1;33m(\u001b[0m\u001b[1;34m'balanced'\u001b[0m\u001b[1;33m,\u001b[0m \u001b[0my\u001b[0m\u001b[1;33m,\u001b[0m \u001b[0mindices\u001b[0m\u001b[1;33m)\u001b[0m\u001b[1;33m\u001b[0m\u001b[0m\n\u001b[0;32m    120\u001b[0m \u001b[1;33m\u001b[0m\u001b[0m\n\u001b[1;32m--> 121\u001b[1;33m         \u001b[0mtree\u001b[0m\u001b[1;33m.\u001b[0m\u001b[0mfit\u001b[0m\u001b[1;33m(\u001b[0m\u001b[0mX\u001b[0m\u001b[1;33m,\u001b[0m \u001b[0my\u001b[0m\u001b[1;33m,\u001b[0m \u001b[0msample_weight\u001b[0m\u001b[1;33m=\u001b[0m\u001b[0mcurr_sample_weight\u001b[0m\u001b[1;33m,\u001b[0m \u001b[0mcheck_input\u001b[0m\u001b[1;33m=\u001b[0m\u001b[1;32mFalse\u001b[0m\u001b[1;33m)\u001b[0m\u001b[1;33m\u001b[0m\u001b[0m\n\u001b[0m\u001b[0;32m    122\u001b[0m     \u001b[1;32melse\u001b[0m\u001b[1;33m:\u001b[0m\u001b[1;33m\u001b[0m\u001b[0m\n\u001b[0;32m    123\u001b[0m         \u001b[0mtree\u001b[0m\u001b[1;33m.\u001b[0m\u001b[0mfit\u001b[0m\u001b[1;33m(\u001b[0m\u001b[0mX\u001b[0m\u001b[1;33m,\u001b[0m \u001b[0my\u001b[0m\u001b[1;33m,\u001b[0m \u001b[0msample_weight\u001b[0m\u001b[1;33m=\u001b[0m\u001b[0msample_weight\u001b[0m\u001b[1;33m,\u001b[0m \u001b[0mcheck_input\u001b[0m\u001b[1;33m=\u001b[0m\u001b[1;32mFalse\u001b[0m\u001b[1;33m)\u001b[0m\u001b[1;33m\u001b[0m\u001b[0m\n",
      "\u001b[1;32m/scratch/baruselli/inst/intelpython35/lib/python3.5/site-packages/sklearn/tree/tree.py\u001b[0m in \u001b[0;36mfit\u001b[1;34m(self, X, y, sample_weight, check_input, X_idx_sorted)\u001b[0m\n\u001b[0;32m   1122\u001b[0m             \u001b[0msample_weight\u001b[0m\u001b[1;33m=\u001b[0m\u001b[0msample_weight\u001b[0m\u001b[1;33m,\u001b[0m\u001b[1;33m\u001b[0m\u001b[0m\n\u001b[0;32m   1123\u001b[0m             \u001b[0mcheck_input\u001b[0m\u001b[1;33m=\u001b[0m\u001b[0mcheck_input\u001b[0m\u001b[1;33m,\u001b[0m\u001b[1;33m\u001b[0m\u001b[0m\n\u001b[1;32m-> 1124\u001b[1;33m             X_idx_sorted=X_idx_sorted)\n\u001b[0m\u001b[0;32m   1125\u001b[0m         \u001b[1;32mreturn\u001b[0m \u001b[0mself\u001b[0m\u001b[1;33m\u001b[0m\u001b[0m\n\u001b[0;32m   1126\u001b[0m \u001b[1;33m\u001b[0m\u001b[0m\n",
      "\u001b[1;32m/scratch/baruselli/inst/intelpython35/lib/python3.5/site-packages/sklearn/tree/tree.py\u001b[0m in \u001b[0;36mfit\u001b[1;34m(self, X, y, sample_weight, check_input, X_idx_sorted)\u001b[0m\n\u001b[0;32m    360\u001b[0m                                            min_impurity_split)\n\u001b[0;32m    361\u001b[0m \u001b[1;33m\u001b[0m\u001b[0m\n\u001b[1;32m--> 362\u001b[1;33m         \u001b[0mbuilder\u001b[0m\u001b[1;33m.\u001b[0m\u001b[0mbuild\u001b[0m\u001b[1;33m(\u001b[0m\u001b[0mself\u001b[0m\u001b[1;33m.\u001b[0m\u001b[0mtree_\u001b[0m\u001b[1;33m,\u001b[0m \u001b[0mX\u001b[0m\u001b[1;33m,\u001b[0m \u001b[0my\u001b[0m\u001b[1;33m,\u001b[0m \u001b[0msample_weight\u001b[0m\u001b[1;33m,\u001b[0m \u001b[0mX_idx_sorted\u001b[0m\u001b[1;33m)\u001b[0m\u001b[1;33m\u001b[0m\u001b[0m\n\u001b[0m\u001b[0;32m    363\u001b[0m \u001b[1;33m\u001b[0m\u001b[0m\n\u001b[0;32m    364\u001b[0m         \u001b[1;32mif\u001b[0m \u001b[0mself\u001b[0m\u001b[1;33m.\u001b[0m\u001b[0mn_outputs_\u001b[0m \u001b[1;33m==\u001b[0m \u001b[1;36m1\u001b[0m\u001b[1;33m:\u001b[0m\u001b[1;33m\u001b[0m\u001b[0m\n",
      "\u001b[1;31mKeyboardInterrupt\u001b[0m: "
     ]
    }
   ],
   "source": [
    "df_train,df_test,df_eval=train_test_eval(enc2,cut_date)\n",
    "#df_train,df_test,df_eval=train_test_eval(enc,cut_date)\n",
    "\n",
    "test(df_train,df_test, linear_model.LinearRegression())\n",
    "test(df_train,df_test, linear_model.Ridge(alpha=0.001))\n",
    "#test(df_train,df_test, linear_model.Ridge(alpha=0.01))\n",
    "#test(df_train,df_test, linear_model.Ridge(alpha=0.1))\n",
    "#test(df_train,df_test, linear_model.Ridge(alpha=1))\n",
    "#test(df_train,df_test, linear_model.Ridge(alpha=10))\n",
    "#test(df_train,df_test, linear_model.Lasso(alpha=0.01))\n",
    "\n",
    "\n",
    "#test(df_train,df_test, svm.SVR(C=0.01))\n",
    "#test(df_train,df_test, svm.SVR(C=0.1))\n",
    "#test(df_train,df_test, svm.SVR(C=1))\n",
    "#test(df_train,df_test, svm.SVR(C=10))\n",
    "#test(df_train,df_test, svm.SVR(C=100))\n",
    "\n",
    "#test(df_train,df_test,ensemble.RandomForestRegressor(n_estimators=100,max_features=\"sqrt\",max_depth=20))\n",
    "#test(df_train,df_test,ensemble.RandomForestRegressor(n_estimators=5,max_features=\"sqrt\",max_depth=20))\n",
    "#test(df_train,df_test,ensemble.AdaBoostRegressor)\n",
    "#test(df_train,df_test,ensemble.RandomForestRegressor(n_estimators=200,max_features=\"log2\",max_depth=10))\n",
    "test(df_train,df_test,ensemble.RandomForestRegressor(n_estimators=100,max_features=\"log2\",max_depth=16))\n",
    "test(df_train,df_test,ensemble.RandomForestRegressor(n_estimators=90,max_features=\"log2\",max_depth=17))\n",
    "test(df_train,df_test,ensemble.RandomForestRegressor(n_estimators=120,max_features=\"log2\",max_depth=13))\n",
    "test(df_train,df_test,ensemble.RandomForestRegressor(n_estimators=80,max_features=\"log2\",max_depth=18))\n",
    "test(df_train,df_test,ensemble.RandomForestRegressor(n_estimators=150,max_features=\"log2\",max_depth=12))\n",
    "test(df_train,df_test,ensemble.RandomForestRegressor(n_estimators=180,max_features=\"log2\",max_depth=10))\n",
    "test(df_train,df_test,ensemble.RandomForestRegressor(n_estimators=80,max_features=\"log2\",max_depth=15))\n",
    "#test(df_train,df_test,ensemble.RandomForestRegressor(n_estimators=100,max_features=\"log2\",max_depth=15))\n",
    "#test(df_train,df_test,ensemble.RandomForestRegressor(n_estimators=100,max_features=\"log2\",max_depth=14))\n",
    "\n",
    "#test(df_train,df_test,ensemble.RandomForestRegressor(n_estimators=100,max_features=\"log2\",max_depth=14))\n",
    "#test(df_train,df_test,ensemble.RandomForestRegressor(n_estimators=100,max_features=\"log2\",max_depth=13))\n",
    "#test(df_train,df_test,ensemble.RandomForestRegressor(n_estimators=200,max_features=\"log2\",max_depth=15))\n",
    "#test(df_train,df_test,ensemble.RandomForestRegressor(n_estimators=500,max_features=\"log2\",max_depth=15))\n"
   ]
  },
  {
   "cell_type": "code",
   "execution_count": 129,
   "metadata": {
    "collapsed": false
   },
   "outputs": [
    {
     "name": "stdout",
     "output_type": "stream",
     "text": [
      "Fitting 2 folds for each of 10 candidates, totalling 20 fits\n",
      "[CV] n_estimators=33, max_depth=23 ...................................\n",
      "[CV] .................... n_estimators=33, max_depth=23, total=   4.7s\n",
      "[CV] n_estimators=33, max_depth=23 ...................................\n"
     ]
    },
    {
     "name": "stderr",
     "output_type": "stream",
     "text": [
      "[Parallel(n_jobs=1)]: Done   1 out of   1 | elapsed:    5.3s remaining:    0.0s\n"
     ]
    },
    {
     "name": "stdout",
     "output_type": "stream",
     "text": [
      "[CV] .................... n_estimators=33, max_depth=23, total=   4.8s\n",
      "[CV] n_estimators=182, max_depth=1 ...................................\n",
      "[CV] .................... n_estimators=182, max_depth=1, total=   2.3s\n",
      "[CV] n_estimators=182, max_depth=1 ...................................\n",
      "[CV] .................... n_estimators=182, max_depth=1, total=   2.3s\n",
      "[CV] n_estimators=46, max_depth=23 ...................................\n",
      "[CV] .................... n_estimators=46, max_depth=23, total=   6.6s\n",
      "[CV] n_estimators=46, max_depth=23 ...................................\n",
      "[CV] .................... n_estimators=46, max_depth=23, total=   6.6s\n",
      "[CV] n_estimators=140, max_depth=6 ...................................\n",
      "[CV] .................... n_estimators=140, max_depth=6, total=   6.2s\n",
      "[CV] n_estimators=140, max_depth=6 ...................................\n"
     ]
    },
    {
     "ename": "KeyboardInterrupt",
     "evalue": "",
     "output_type": "error",
     "traceback": [
      "\u001b[1;31m---------------------------------------------------------------------------\u001b[0m",
      "\u001b[1;31mKeyboardInterrupt\u001b[0m                         Traceback (most recent call last)",
      "\u001b[1;32m<ipython-input-129-db711572e08e>\u001b[0m in \u001b[0;36m<module>\u001b[1;34m()\u001b[0m\n\u001b[0;32m     11\u001b[0m \u001b[0my_tot\u001b[0m\u001b[1;33m=\u001b[0m\u001b[0mnp\u001b[0m\u001b[1;33m.\u001b[0m\u001b[0mappend\u001b[0m\u001b[1;33m(\u001b[0m\u001b[0my_train\u001b[0m\u001b[1;33m,\u001b[0m\u001b[0my_test\u001b[0m\u001b[1;33m,\u001b[0m\u001b[0maxis\u001b[0m\u001b[1;33m=\u001b[0m\u001b[1;36m0\u001b[0m\u001b[1;33m)\u001b[0m\u001b[1;33m\u001b[0m\u001b[0m\n\u001b[0;32m     12\u001b[0m \u001b[1;33m\u001b[0m\u001b[0m\n\u001b[1;32m---> 13\u001b[1;33m \u001b[0mgrid\u001b[0m\u001b[1;33m.\u001b[0m\u001b[0mfit\u001b[0m\u001b[1;33m(\u001b[0m\u001b[0mX_tot\u001b[0m\u001b[1;33m,\u001b[0m\u001b[0my_tot\u001b[0m\u001b[1;33m)\u001b[0m\u001b[1;33m\u001b[0m\u001b[0m\n\u001b[0m",
      "\u001b[1;32m/scratch/baruselli/inst/intelpython35/lib/python3.5/site-packages/sklearn/model_selection/_search.py\u001b[0m in \u001b[0;36mfit\u001b[1;34m(self, X, y, groups, **fit_params)\u001b[0m\n\u001b[0;32m    637\u001b[0m                                   error_score=self.error_score)\n\u001b[0;32m    638\u001b[0m           for parameters, (train, test) in product(candidate_params,\n\u001b[1;32m--> 639\u001b[1;33m                                                    cv.split(X, y, groups)))\n\u001b[0m\u001b[0;32m    640\u001b[0m \u001b[1;33m\u001b[0m\u001b[0m\n\u001b[0;32m    641\u001b[0m         \u001b[1;31m# if one choose to see train score, \"out\" will contain train score info\u001b[0m\u001b[1;33m\u001b[0m\u001b[1;33m\u001b[0m\u001b[0m\n",
      "\u001b[1;32m/scratch/baruselli/inst/intelpython35/lib/python3.5/site-packages/sklearn/externals/joblib/parallel.py\u001b[0m in \u001b[0;36m__call__\u001b[1;34m(self, iterable)\u001b[0m\n\u001b[0;32m    777\u001b[0m             \u001b[1;31m# was dispatched. In particular this covers the edge\u001b[0m\u001b[1;33m\u001b[0m\u001b[1;33m\u001b[0m\u001b[0m\n\u001b[0;32m    778\u001b[0m             \u001b[1;31m# case of Parallel used with an exhausted iterator.\u001b[0m\u001b[1;33m\u001b[0m\u001b[1;33m\u001b[0m\u001b[0m\n\u001b[1;32m--> 779\u001b[1;33m             \u001b[1;32mwhile\u001b[0m \u001b[0mself\u001b[0m\u001b[1;33m.\u001b[0m\u001b[0mdispatch_one_batch\u001b[0m\u001b[1;33m(\u001b[0m\u001b[0miterator\u001b[0m\u001b[1;33m)\u001b[0m\u001b[1;33m:\u001b[0m\u001b[1;33m\u001b[0m\u001b[0m\n\u001b[0m\u001b[0;32m    780\u001b[0m                 \u001b[0mself\u001b[0m\u001b[1;33m.\u001b[0m\u001b[0m_iterating\u001b[0m \u001b[1;33m=\u001b[0m \u001b[1;32mTrue\u001b[0m\u001b[1;33m\u001b[0m\u001b[0m\n\u001b[0;32m    781\u001b[0m             \u001b[1;32melse\u001b[0m\u001b[1;33m:\u001b[0m\u001b[1;33m\u001b[0m\u001b[0m\n",
      "\u001b[1;32m/scratch/baruselli/inst/intelpython35/lib/python3.5/site-packages/sklearn/externals/joblib/parallel.py\u001b[0m in \u001b[0;36mdispatch_one_batch\u001b[1;34m(self, iterator)\u001b[0m\n\u001b[0;32m    623\u001b[0m                 \u001b[1;32mreturn\u001b[0m \u001b[1;32mFalse\u001b[0m\u001b[1;33m\u001b[0m\u001b[0m\n\u001b[0;32m    624\u001b[0m             \u001b[1;32melse\u001b[0m\u001b[1;33m:\u001b[0m\u001b[1;33m\u001b[0m\u001b[0m\n\u001b[1;32m--> 625\u001b[1;33m                 \u001b[0mself\u001b[0m\u001b[1;33m.\u001b[0m\u001b[0m_dispatch\u001b[0m\u001b[1;33m(\u001b[0m\u001b[0mtasks\u001b[0m\u001b[1;33m)\u001b[0m\u001b[1;33m\u001b[0m\u001b[0m\n\u001b[0m\u001b[0;32m    626\u001b[0m                 \u001b[1;32mreturn\u001b[0m \u001b[1;32mTrue\u001b[0m\u001b[1;33m\u001b[0m\u001b[0m\n\u001b[0;32m    627\u001b[0m \u001b[1;33m\u001b[0m\u001b[0m\n",
      "\u001b[1;32m/scratch/baruselli/inst/intelpython35/lib/python3.5/site-packages/sklearn/externals/joblib/parallel.py\u001b[0m in \u001b[0;36m_dispatch\u001b[1;34m(self, batch)\u001b[0m\n\u001b[0;32m    586\u001b[0m         \u001b[0mdispatch_timestamp\u001b[0m \u001b[1;33m=\u001b[0m \u001b[0mtime\u001b[0m\u001b[1;33m.\u001b[0m\u001b[0mtime\u001b[0m\u001b[1;33m(\u001b[0m\u001b[1;33m)\u001b[0m\u001b[1;33m\u001b[0m\u001b[0m\n\u001b[0;32m    587\u001b[0m         \u001b[0mcb\u001b[0m \u001b[1;33m=\u001b[0m \u001b[0mBatchCompletionCallBack\u001b[0m\u001b[1;33m(\u001b[0m\u001b[0mdispatch_timestamp\u001b[0m\u001b[1;33m,\u001b[0m \u001b[0mlen\u001b[0m\u001b[1;33m(\u001b[0m\u001b[0mbatch\u001b[0m\u001b[1;33m)\u001b[0m\u001b[1;33m,\u001b[0m \u001b[0mself\u001b[0m\u001b[1;33m)\u001b[0m\u001b[1;33m\u001b[0m\u001b[0m\n\u001b[1;32m--> 588\u001b[1;33m         \u001b[0mjob\u001b[0m \u001b[1;33m=\u001b[0m \u001b[0mself\u001b[0m\u001b[1;33m.\u001b[0m\u001b[0m_backend\u001b[0m\u001b[1;33m.\u001b[0m\u001b[0mapply_async\u001b[0m\u001b[1;33m(\u001b[0m\u001b[0mbatch\u001b[0m\u001b[1;33m,\u001b[0m \u001b[0mcallback\u001b[0m\u001b[1;33m=\u001b[0m\u001b[0mcb\u001b[0m\u001b[1;33m)\u001b[0m\u001b[1;33m\u001b[0m\u001b[0m\n\u001b[0m\u001b[0;32m    589\u001b[0m         \u001b[0mself\u001b[0m\u001b[1;33m.\u001b[0m\u001b[0m_jobs\u001b[0m\u001b[1;33m.\u001b[0m\u001b[0mappend\u001b[0m\u001b[1;33m(\u001b[0m\u001b[0mjob\u001b[0m\u001b[1;33m)\u001b[0m\u001b[1;33m\u001b[0m\u001b[0m\n\u001b[0;32m    590\u001b[0m \u001b[1;33m\u001b[0m\u001b[0m\n",
      "\u001b[1;32m/scratch/baruselli/inst/intelpython35/lib/python3.5/site-packages/sklearn/externals/joblib/_parallel_backends.py\u001b[0m in \u001b[0;36mapply_async\u001b[1;34m(self, func, callback)\u001b[0m\n\u001b[0;32m    109\u001b[0m     \u001b[1;32mdef\u001b[0m \u001b[0mapply_async\u001b[0m\u001b[1;33m(\u001b[0m\u001b[0mself\u001b[0m\u001b[1;33m,\u001b[0m \u001b[0mfunc\u001b[0m\u001b[1;33m,\u001b[0m \u001b[0mcallback\u001b[0m\u001b[1;33m=\u001b[0m\u001b[1;32mNone\u001b[0m\u001b[1;33m)\u001b[0m\u001b[1;33m:\u001b[0m\u001b[1;33m\u001b[0m\u001b[0m\n\u001b[0;32m    110\u001b[0m         \u001b[1;34m\"\"\"Schedule a func to be run\"\"\"\u001b[0m\u001b[1;33m\u001b[0m\u001b[0m\n\u001b[1;32m--> 111\u001b[1;33m         \u001b[0mresult\u001b[0m \u001b[1;33m=\u001b[0m \u001b[0mImmediateResult\u001b[0m\u001b[1;33m(\u001b[0m\u001b[0mfunc\u001b[0m\u001b[1;33m)\u001b[0m\u001b[1;33m\u001b[0m\u001b[0m\n\u001b[0m\u001b[0;32m    112\u001b[0m         \u001b[1;32mif\u001b[0m \u001b[0mcallback\u001b[0m\u001b[1;33m:\u001b[0m\u001b[1;33m\u001b[0m\u001b[0m\n\u001b[0;32m    113\u001b[0m             \u001b[0mcallback\u001b[0m\u001b[1;33m(\u001b[0m\u001b[0mresult\u001b[0m\u001b[1;33m)\u001b[0m\u001b[1;33m\u001b[0m\u001b[0m\n",
      "\u001b[1;32m/scratch/baruselli/inst/intelpython35/lib/python3.5/site-packages/sklearn/externals/joblib/_parallel_backends.py\u001b[0m in \u001b[0;36m__init__\u001b[1;34m(self, batch)\u001b[0m\n\u001b[0;32m    330\u001b[0m         \u001b[1;31m# Don't delay the application, to avoid keeping the input\u001b[0m\u001b[1;33m\u001b[0m\u001b[1;33m\u001b[0m\u001b[0m\n\u001b[0;32m    331\u001b[0m         \u001b[1;31m# arguments in memory\u001b[0m\u001b[1;33m\u001b[0m\u001b[1;33m\u001b[0m\u001b[0m\n\u001b[1;32m--> 332\u001b[1;33m         \u001b[0mself\u001b[0m\u001b[1;33m.\u001b[0m\u001b[0mresults\u001b[0m \u001b[1;33m=\u001b[0m \u001b[0mbatch\u001b[0m\u001b[1;33m(\u001b[0m\u001b[1;33m)\u001b[0m\u001b[1;33m\u001b[0m\u001b[0m\n\u001b[0m\u001b[0;32m    333\u001b[0m \u001b[1;33m\u001b[0m\u001b[0m\n\u001b[0;32m    334\u001b[0m     \u001b[1;32mdef\u001b[0m \u001b[0mget\u001b[0m\u001b[1;33m(\u001b[0m\u001b[0mself\u001b[0m\u001b[1;33m)\u001b[0m\u001b[1;33m:\u001b[0m\u001b[1;33m\u001b[0m\u001b[0m\n",
      "\u001b[1;32m/scratch/baruselli/inst/intelpython35/lib/python3.5/site-packages/sklearn/externals/joblib/parallel.py\u001b[0m in \u001b[0;36m__call__\u001b[1;34m(self)\u001b[0m\n\u001b[0;32m    129\u001b[0m \u001b[1;33m\u001b[0m\u001b[0m\n\u001b[0;32m    130\u001b[0m     \u001b[1;32mdef\u001b[0m \u001b[0m__call__\u001b[0m\u001b[1;33m(\u001b[0m\u001b[0mself\u001b[0m\u001b[1;33m)\u001b[0m\u001b[1;33m:\u001b[0m\u001b[1;33m\u001b[0m\u001b[0m\n\u001b[1;32m--> 131\u001b[1;33m         \u001b[1;32mreturn\u001b[0m \u001b[1;33m[\u001b[0m\u001b[0mfunc\u001b[0m\u001b[1;33m(\u001b[0m\u001b[1;33m*\u001b[0m\u001b[0margs\u001b[0m\u001b[1;33m,\u001b[0m \u001b[1;33m**\u001b[0m\u001b[0mkwargs\u001b[0m\u001b[1;33m)\u001b[0m \u001b[1;32mfor\u001b[0m \u001b[0mfunc\u001b[0m\u001b[1;33m,\u001b[0m \u001b[0margs\u001b[0m\u001b[1;33m,\u001b[0m \u001b[0mkwargs\u001b[0m \u001b[1;32min\u001b[0m \u001b[0mself\u001b[0m\u001b[1;33m.\u001b[0m\u001b[0mitems\u001b[0m\u001b[1;33m]\u001b[0m\u001b[1;33m\u001b[0m\u001b[0m\n\u001b[0m\u001b[0;32m    132\u001b[0m \u001b[1;33m\u001b[0m\u001b[0m\n\u001b[0;32m    133\u001b[0m     \u001b[1;32mdef\u001b[0m \u001b[0m__len__\u001b[0m\u001b[1;33m(\u001b[0m\u001b[0mself\u001b[0m\u001b[1;33m)\u001b[0m\u001b[1;33m:\u001b[0m\u001b[1;33m\u001b[0m\u001b[0m\n",
      "\u001b[1;32m/scratch/baruselli/inst/intelpython35/lib/python3.5/site-packages/sklearn/externals/joblib/parallel.py\u001b[0m in \u001b[0;36m<listcomp>\u001b[1;34m(.0)\u001b[0m\n\u001b[0;32m    129\u001b[0m \u001b[1;33m\u001b[0m\u001b[0m\n\u001b[0;32m    130\u001b[0m     \u001b[1;32mdef\u001b[0m \u001b[0m__call__\u001b[0m\u001b[1;33m(\u001b[0m\u001b[0mself\u001b[0m\u001b[1;33m)\u001b[0m\u001b[1;33m:\u001b[0m\u001b[1;33m\u001b[0m\u001b[0m\n\u001b[1;32m--> 131\u001b[1;33m         \u001b[1;32mreturn\u001b[0m \u001b[1;33m[\u001b[0m\u001b[0mfunc\u001b[0m\u001b[1;33m(\u001b[0m\u001b[1;33m*\u001b[0m\u001b[0margs\u001b[0m\u001b[1;33m,\u001b[0m \u001b[1;33m**\u001b[0m\u001b[0mkwargs\u001b[0m\u001b[1;33m)\u001b[0m \u001b[1;32mfor\u001b[0m \u001b[0mfunc\u001b[0m\u001b[1;33m,\u001b[0m \u001b[0margs\u001b[0m\u001b[1;33m,\u001b[0m \u001b[0mkwargs\u001b[0m \u001b[1;32min\u001b[0m \u001b[0mself\u001b[0m\u001b[1;33m.\u001b[0m\u001b[0mitems\u001b[0m\u001b[1;33m]\u001b[0m\u001b[1;33m\u001b[0m\u001b[0m\n\u001b[0m\u001b[0;32m    132\u001b[0m \u001b[1;33m\u001b[0m\u001b[0m\n\u001b[0;32m    133\u001b[0m     \u001b[1;32mdef\u001b[0m \u001b[0m__len__\u001b[0m\u001b[1;33m(\u001b[0m\u001b[0mself\u001b[0m\u001b[1;33m)\u001b[0m\u001b[1;33m:\u001b[0m\u001b[1;33m\u001b[0m\u001b[0m\n",
      "\u001b[1;32m/scratch/baruselli/inst/intelpython35/lib/python3.5/site-packages/sklearn/model_selection/_validation.py\u001b[0m in \u001b[0;36m_fit_and_score\u001b[1;34m(estimator, X, y, scorer, train, test, verbose, parameters, fit_params, return_train_score, return_parameters, return_n_test_samples, return_times, error_score)\u001b[0m\n\u001b[0;32m    456\u001b[0m             \u001b[0mestimator\u001b[0m\u001b[1;33m.\u001b[0m\u001b[0mfit\u001b[0m\u001b[1;33m(\u001b[0m\u001b[0mX_train\u001b[0m\u001b[1;33m,\u001b[0m \u001b[1;33m**\u001b[0m\u001b[0mfit_params\u001b[0m\u001b[1;33m)\u001b[0m\u001b[1;33m\u001b[0m\u001b[0m\n\u001b[0;32m    457\u001b[0m         \u001b[1;32melse\u001b[0m\u001b[1;33m:\u001b[0m\u001b[1;33m\u001b[0m\u001b[0m\n\u001b[1;32m--> 458\u001b[1;33m             \u001b[0mestimator\u001b[0m\u001b[1;33m.\u001b[0m\u001b[0mfit\u001b[0m\u001b[1;33m(\u001b[0m\u001b[0mX_train\u001b[0m\u001b[1;33m,\u001b[0m \u001b[0my_train\u001b[0m\u001b[1;33m,\u001b[0m \u001b[1;33m**\u001b[0m\u001b[0mfit_params\u001b[0m\u001b[1;33m)\u001b[0m\u001b[1;33m\u001b[0m\u001b[0m\n\u001b[0m\u001b[0;32m    459\u001b[0m \u001b[1;33m\u001b[0m\u001b[0m\n\u001b[0;32m    460\u001b[0m     \u001b[1;32mexcept\u001b[0m \u001b[0mException\u001b[0m \u001b[1;32mas\u001b[0m \u001b[0me\u001b[0m\u001b[1;33m:\u001b[0m\u001b[1;33m\u001b[0m\u001b[0m\n",
      "\u001b[1;32m/scratch/baruselli/inst/intelpython35/lib/python3.5/site-packages/sklearn/ensemble/forest.py\u001b[0m in \u001b[0;36mfit\u001b[1;34m(self, X, y, sample_weight)\u001b[0m\n\u001b[0;32m    326\u001b[0m                     \u001b[0mt\u001b[0m\u001b[1;33m,\u001b[0m \u001b[0mself\u001b[0m\u001b[1;33m,\u001b[0m \u001b[0mX\u001b[0m\u001b[1;33m,\u001b[0m \u001b[0my\u001b[0m\u001b[1;33m,\u001b[0m \u001b[0msample_weight\u001b[0m\u001b[1;33m,\u001b[0m \u001b[0mi\u001b[0m\u001b[1;33m,\u001b[0m \u001b[0mlen\u001b[0m\u001b[1;33m(\u001b[0m\u001b[0mtrees\u001b[0m\u001b[1;33m)\u001b[0m\u001b[1;33m,\u001b[0m\u001b[1;33m\u001b[0m\u001b[0m\n\u001b[0;32m    327\u001b[0m                     verbose=self.verbose, class_weight=self.class_weight)\n\u001b[1;32m--> 328\u001b[1;33m                 for i, t in enumerate(trees))\n\u001b[0m\u001b[0;32m    329\u001b[0m \u001b[1;33m\u001b[0m\u001b[0m\n\u001b[0;32m    330\u001b[0m             \u001b[1;31m# Collect newly grown trees\u001b[0m\u001b[1;33m\u001b[0m\u001b[1;33m\u001b[0m\u001b[0m\n",
      "\u001b[1;32m/scratch/baruselli/inst/intelpython35/lib/python3.5/site-packages/sklearn/externals/joblib/parallel.py\u001b[0m in \u001b[0;36m__call__\u001b[1;34m(self, iterable)\u001b[0m\n\u001b[0;32m    777\u001b[0m             \u001b[1;31m# was dispatched. In particular this covers the edge\u001b[0m\u001b[1;33m\u001b[0m\u001b[1;33m\u001b[0m\u001b[0m\n\u001b[0;32m    778\u001b[0m             \u001b[1;31m# case of Parallel used with an exhausted iterator.\u001b[0m\u001b[1;33m\u001b[0m\u001b[1;33m\u001b[0m\u001b[0m\n\u001b[1;32m--> 779\u001b[1;33m             \u001b[1;32mwhile\u001b[0m \u001b[0mself\u001b[0m\u001b[1;33m.\u001b[0m\u001b[0mdispatch_one_batch\u001b[0m\u001b[1;33m(\u001b[0m\u001b[0miterator\u001b[0m\u001b[1;33m)\u001b[0m\u001b[1;33m:\u001b[0m\u001b[1;33m\u001b[0m\u001b[0m\n\u001b[0m\u001b[0;32m    780\u001b[0m                 \u001b[0mself\u001b[0m\u001b[1;33m.\u001b[0m\u001b[0m_iterating\u001b[0m \u001b[1;33m=\u001b[0m \u001b[1;32mTrue\u001b[0m\u001b[1;33m\u001b[0m\u001b[0m\n\u001b[0;32m    781\u001b[0m             \u001b[1;32melse\u001b[0m\u001b[1;33m:\u001b[0m\u001b[1;33m\u001b[0m\u001b[0m\n",
      "\u001b[1;32m/scratch/baruselli/inst/intelpython35/lib/python3.5/site-packages/sklearn/externals/joblib/parallel.py\u001b[0m in \u001b[0;36mdispatch_one_batch\u001b[1;34m(self, iterator)\u001b[0m\n\u001b[0;32m    623\u001b[0m                 \u001b[1;32mreturn\u001b[0m \u001b[1;32mFalse\u001b[0m\u001b[1;33m\u001b[0m\u001b[0m\n\u001b[0;32m    624\u001b[0m             \u001b[1;32melse\u001b[0m\u001b[1;33m:\u001b[0m\u001b[1;33m\u001b[0m\u001b[0m\n\u001b[1;32m--> 625\u001b[1;33m                 \u001b[0mself\u001b[0m\u001b[1;33m.\u001b[0m\u001b[0m_dispatch\u001b[0m\u001b[1;33m(\u001b[0m\u001b[0mtasks\u001b[0m\u001b[1;33m)\u001b[0m\u001b[1;33m\u001b[0m\u001b[0m\n\u001b[0m\u001b[0;32m    626\u001b[0m                 \u001b[1;32mreturn\u001b[0m \u001b[1;32mTrue\u001b[0m\u001b[1;33m\u001b[0m\u001b[0m\n\u001b[0;32m    627\u001b[0m \u001b[1;33m\u001b[0m\u001b[0m\n",
      "\u001b[1;32m/scratch/baruselli/inst/intelpython35/lib/python3.5/site-packages/sklearn/externals/joblib/parallel.py\u001b[0m in \u001b[0;36m_dispatch\u001b[1;34m(self, batch)\u001b[0m\n\u001b[0;32m    586\u001b[0m         \u001b[0mdispatch_timestamp\u001b[0m \u001b[1;33m=\u001b[0m \u001b[0mtime\u001b[0m\u001b[1;33m.\u001b[0m\u001b[0mtime\u001b[0m\u001b[1;33m(\u001b[0m\u001b[1;33m)\u001b[0m\u001b[1;33m\u001b[0m\u001b[0m\n\u001b[0;32m    587\u001b[0m         \u001b[0mcb\u001b[0m \u001b[1;33m=\u001b[0m \u001b[0mBatchCompletionCallBack\u001b[0m\u001b[1;33m(\u001b[0m\u001b[0mdispatch_timestamp\u001b[0m\u001b[1;33m,\u001b[0m \u001b[0mlen\u001b[0m\u001b[1;33m(\u001b[0m\u001b[0mbatch\u001b[0m\u001b[1;33m)\u001b[0m\u001b[1;33m,\u001b[0m \u001b[0mself\u001b[0m\u001b[1;33m)\u001b[0m\u001b[1;33m\u001b[0m\u001b[0m\n\u001b[1;32m--> 588\u001b[1;33m         \u001b[0mjob\u001b[0m \u001b[1;33m=\u001b[0m \u001b[0mself\u001b[0m\u001b[1;33m.\u001b[0m\u001b[0m_backend\u001b[0m\u001b[1;33m.\u001b[0m\u001b[0mapply_async\u001b[0m\u001b[1;33m(\u001b[0m\u001b[0mbatch\u001b[0m\u001b[1;33m,\u001b[0m \u001b[0mcallback\u001b[0m\u001b[1;33m=\u001b[0m\u001b[0mcb\u001b[0m\u001b[1;33m)\u001b[0m\u001b[1;33m\u001b[0m\u001b[0m\n\u001b[0m\u001b[0;32m    589\u001b[0m         \u001b[0mself\u001b[0m\u001b[1;33m.\u001b[0m\u001b[0m_jobs\u001b[0m\u001b[1;33m.\u001b[0m\u001b[0mappend\u001b[0m\u001b[1;33m(\u001b[0m\u001b[0mjob\u001b[0m\u001b[1;33m)\u001b[0m\u001b[1;33m\u001b[0m\u001b[0m\n\u001b[0;32m    590\u001b[0m \u001b[1;33m\u001b[0m\u001b[0m\n",
      "\u001b[1;32m/scratch/baruselli/inst/intelpython35/lib/python3.5/site-packages/sklearn/externals/joblib/_parallel_backends.py\u001b[0m in \u001b[0;36mapply_async\u001b[1;34m(self, func, callback)\u001b[0m\n\u001b[0;32m    109\u001b[0m     \u001b[1;32mdef\u001b[0m \u001b[0mapply_async\u001b[0m\u001b[1;33m(\u001b[0m\u001b[0mself\u001b[0m\u001b[1;33m,\u001b[0m \u001b[0mfunc\u001b[0m\u001b[1;33m,\u001b[0m \u001b[0mcallback\u001b[0m\u001b[1;33m=\u001b[0m\u001b[1;32mNone\u001b[0m\u001b[1;33m)\u001b[0m\u001b[1;33m:\u001b[0m\u001b[1;33m\u001b[0m\u001b[0m\n\u001b[0;32m    110\u001b[0m         \u001b[1;34m\"\"\"Schedule a func to be run\"\"\"\u001b[0m\u001b[1;33m\u001b[0m\u001b[0m\n\u001b[1;32m--> 111\u001b[1;33m         \u001b[0mresult\u001b[0m \u001b[1;33m=\u001b[0m \u001b[0mImmediateResult\u001b[0m\u001b[1;33m(\u001b[0m\u001b[0mfunc\u001b[0m\u001b[1;33m)\u001b[0m\u001b[1;33m\u001b[0m\u001b[0m\n\u001b[0m\u001b[0;32m    112\u001b[0m         \u001b[1;32mif\u001b[0m \u001b[0mcallback\u001b[0m\u001b[1;33m:\u001b[0m\u001b[1;33m\u001b[0m\u001b[0m\n\u001b[0;32m    113\u001b[0m             \u001b[0mcallback\u001b[0m\u001b[1;33m(\u001b[0m\u001b[0mresult\u001b[0m\u001b[1;33m)\u001b[0m\u001b[1;33m\u001b[0m\u001b[0m\n",
      "\u001b[1;32m/scratch/baruselli/inst/intelpython35/lib/python3.5/site-packages/sklearn/externals/joblib/_parallel_backends.py\u001b[0m in \u001b[0;36m__init__\u001b[1;34m(self, batch)\u001b[0m\n\u001b[0;32m    330\u001b[0m         \u001b[1;31m# Don't delay the application, to avoid keeping the input\u001b[0m\u001b[1;33m\u001b[0m\u001b[1;33m\u001b[0m\u001b[0m\n\u001b[0;32m    331\u001b[0m         \u001b[1;31m# arguments in memory\u001b[0m\u001b[1;33m\u001b[0m\u001b[1;33m\u001b[0m\u001b[0m\n\u001b[1;32m--> 332\u001b[1;33m         \u001b[0mself\u001b[0m\u001b[1;33m.\u001b[0m\u001b[0mresults\u001b[0m \u001b[1;33m=\u001b[0m \u001b[0mbatch\u001b[0m\u001b[1;33m(\u001b[0m\u001b[1;33m)\u001b[0m\u001b[1;33m\u001b[0m\u001b[0m\n\u001b[0m\u001b[0;32m    333\u001b[0m \u001b[1;33m\u001b[0m\u001b[0m\n\u001b[0;32m    334\u001b[0m     \u001b[1;32mdef\u001b[0m \u001b[0mget\u001b[0m\u001b[1;33m(\u001b[0m\u001b[0mself\u001b[0m\u001b[1;33m)\u001b[0m\u001b[1;33m:\u001b[0m\u001b[1;33m\u001b[0m\u001b[0m\n",
      "\u001b[1;32m/scratch/baruselli/inst/intelpython35/lib/python3.5/site-packages/sklearn/externals/joblib/parallel.py\u001b[0m in \u001b[0;36m__call__\u001b[1;34m(self)\u001b[0m\n\u001b[0;32m    129\u001b[0m \u001b[1;33m\u001b[0m\u001b[0m\n\u001b[0;32m    130\u001b[0m     \u001b[1;32mdef\u001b[0m \u001b[0m__call__\u001b[0m\u001b[1;33m(\u001b[0m\u001b[0mself\u001b[0m\u001b[1;33m)\u001b[0m\u001b[1;33m:\u001b[0m\u001b[1;33m\u001b[0m\u001b[0m\n\u001b[1;32m--> 131\u001b[1;33m         \u001b[1;32mreturn\u001b[0m \u001b[1;33m[\u001b[0m\u001b[0mfunc\u001b[0m\u001b[1;33m(\u001b[0m\u001b[1;33m*\u001b[0m\u001b[0margs\u001b[0m\u001b[1;33m,\u001b[0m \u001b[1;33m**\u001b[0m\u001b[0mkwargs\u001b[0m\u001b[1;33m)\u001b[0m \u001b[1;32mfor\u001b[0m \u001b[0mfunc\u001b[0m\u001b[1;33m,\u001b[0m \u001b[0margs\u001b[0m\u001b[1;33m,\u001b[0m \u001b[0mkwargs\u001b[0m \u001b[1;32min\u001b[0m \u001b[0mself\u001b[0m\u001b[1;33m.\u001b[0m\u001b[0mitems\u001b[0m\u001b[1;33m]\u001b[0m\u001b[1;33m\u001b[0m\u001b[0m\n\u001b[0m\u001b[0;32m    132\u001b[0m \u001b[1;33m\u001b[0m\u001b[0m\n\u001b[0;32m    133\u001b[0m     \u001b[1;32mdef\u001b[0m \u001b[0m__len__\u001b[0m\u001b[1;33m(\u001b[0m\u001b[0mself\u001b[0m\u001b[1;33m)\u001b[0m\u001b[1;33m:\u001b[0m\u001b[1;33m\u001b[0m\u001b[0m\n",
      "\u001b[1;32m/scratch/baruselli/inst/intelpython35/lib/python3.5/site-packages/sklearn/externals/joblib/parallel.py\u001b[0m in \u001b[0;36m<listcomp>\u001b[1;34m(.0)\u001b[0m\n\u001b[0;32m    129\u001b[0m \u001b[1;33m\u001b[0m\u001b[0m\n\u001b[0;32m    130\u001b[0m     \u001b[1;32mdef\u001b[0m \u001b[0m__call__\u001b[0m\u001b[1;33m(\u001b[0m\u001b[0mself\u001b[0m\u001b[1;33m)\u001b[0m\u001b[1;33m:\u001b[0m\u001b[1;33m\u001b[0m\u001b[0m\n\u001b[1;32m--> 131\u001b[1;33m         \u001b[1;32mreturn\u001b[0m \u001b[1;33m[\u001b[0m\u001b[0mfunc\u001b[0m\u001b[1;33m(\u001b[0m\u001b[1;33m*\u001b[0m\u001b[0margs\u001b[0m\u001b[1;33m,\u001b[0m \u001b[1;33m**\u001b[0m\u001b[0mkwargs\u001b[0m\u001b[1;33m)\u001b[0m \u001b[1;32mfor\u001b[0m \u001b[0mfunc\u001b[0m\u001b[1;33m,\u001b[0m \u001b[0margs\u001b[0m\u001b[1;33m,\u001b[0m \u001b[0mkwargs\u001b[0m \u001b[1;32min\u001b[0m \u001b[0mself\u001b[0m\u001b[1;33m.\u001b[0m\u001b[0mitems\u001b[0m\u001b[1;33m]\u001b[0m\u001b[1;33m\u001b[0m\u001b[0m\n\u001b[0m\u001b[0;32m    132\u001b[0m \u001b[1;33m\u001b[0m\u001b[0m\n\u001b[0;32m    133\u001b[0m     \u001b[1;32mdef\u001b[0m \u001b[0m__len__\u001b[0m\u001b[1;33m(\u001b[0m\u001b[0mself\u001b[0m\u001b[1;33m)\u001b[0m\u001b[1;33m:\u001b[0m\u001b[1;33m\u001b[0m\u001b[0m\n",
      "\u001b[1;32m/scratch/baruselli/inst/intelpython35/lib/python3.5/site-packages/sklearn/ensemble/forest.py\u001b[0m in \u001b[0;36m_parallel_build_trees\u001b[1;34m(tree, forest, X, y, sample_weight, tree_idx, n_trees, verbose, class_weight)\u001b[0m\n\u001b[0;32m    119\u001b[0m             \u001b[0mcurr_sample_weight\u001b[0m \u001b[1;33m*=\u001b[0m \u001b[0mcompute_sample_weight\u001b[0m\u001b[1;33m(\u001b[0m\u001b[1;34m'balanced'\u001b[0m\u001b[1;33m,\u001b[0m \u001b[0my\u001b[0m\u001b[1;33m,\u001b[0m \u001b[0mindices\u001b[0m\u001b[1;33m)\u001b[0m\u001b[1;33m\u001b[0m\u001b[0m\n\u001b[0;32m    120\u001b[0m \u001b[1;33m\u001b[0m\u001b[0m\n\u001b[1;32m--> 121\u001b[1;33m         \u001b[0mtree\u001b[0m\u001b[1;33m.\u001b[0m\u001b[0mfit\u001b[0m\u001b[1;33m(\u001b[0m\u001b[0mX\u001b[0m\u001b[1;33m,\u001b[0m \u001b[0my\u001b[0m\u001b[1;33m,\u001b[0m \u001b[0msample_weight\u001b[0m\u001b[1;33m=\u001b[0m\u001b[0mcurr_sample_weight\u001b[0m\u001b[1;33m,\u001b[0m \u001b[0mcheck_input\u001b[0m\u001b[1;33m=\u001b[0m\u001b[1;32mFalse\u001b[0m\u001b[1;33m)\u001b[0m\u001b[1;33m\u001b[0m\u001b[0m\n\u001b[0m\u001b[0;32m    122\u001b[0m     \u001b[1;32melse\u001b[0m\u001b[1;33m:\u001b[0m\u001b[1;33m\u001b[0m\u001b[0m\n\u001b[0;32m    123\u001b[0m         \u001b[0mtree\u001b[0m\u001b[1;33m.\u001b[0m\u001b[0mfit\u001b[0m\u001b[1;33m(\u001b[0m\u001b[0mX\u001b[0m\u001b[1;33m,\u001b[0m \u001b[0my\u001b[0m\u001b[1;33m,\u001b[0m \u001b[0msample_weight\u001b[0m\u001b[1;33m=\u001b[0m\u001b[0msample_weight\u001b[0m\u001b[1;33m,\u001b[0m \u001b[0mcheck_input\u001b[0m\u001b[1;33m=\u001b[0m\u001b[1;32mFalse\u001b[0m\u001b[1;33m)\u001b[0m\u001b[1;33m\u001b[0m\u001b[0m\n",
      "\u001b[1;32m/scratch/baruselli/inst/intelpython35/lib/python3.5/site-packages/sklearn/tree/tree.py\u001b[0m in \u001b[0;36mfit\u001b[1;34m(self, X, y, sample_weight, check_input, X_idx_sorted)\u001b[0m\n\u001b[0;32m   1122\u001b[0m             \u001b[0msample_weight\u001b[0m\u001b[1;33m=\u001b[0m\u001b[0msample_weight\u001b[0m\u001b[1;33m,\u001b[0m\u001b[1;33m\u001b[0m\u001b[0m\n\u001b[0;32m   1123\u001b[0m             \u001b[0mcheck_input\u001b[0m\u001b[1;33m=\u001b[0m\u001b[0mcheck_input\u001b[0m\u001b[1;33m,\u001b[0m\u001b[1;33m\u001b[0m\u001b[0m\n\u001b[1;32m-> 1124\u001b[1;33m             X_idx_sorted=X_idx_sorted)\n\u001b[0m\u001b[0;32m   1125\u001b[0m         \u001b[1;32mreturn\u001b[0m \u001b[0mself\u001b[0m\u001b[1;33m\u001b[0m\u001b[0m\n\u001b[0;32m   1126\u001b[0m \u001b[1;33m\u001b[0m\u001b[0m\n",
      "\u001b[1;32m/scratch/baruselli/inst/intelpython35/lib/python3.5/site-packages/sklearn/tree/tree.py\u001b[0m in \u001b[0;36mfit\u001b[1;34m(self, X, y, sample_weight, check_input, X_idx_sorted)\u001b[0m\n\u001b[0;32m    360\u001b[0m                                            min_impurity_split)\n\u001b[0;32m    361\u001b[0m \u001b[1;33m\u001b[0m\u001b[0m\n\u001b[1;32m--> 362\u001b[1;33m         \u001b[0mbuilder\u001b[0m\u001b[1;33m.\u001b[0m\u001b[0mbuild\u001b[0m\u001b[1;33m(\u001b[0m\u001b[0mself\u001b[0m\u001b[1;33m.\u001b[0m\u001b[0mtree_\u001b[0m\u001b[1;33m,\u001b[0m \u001b[0mX\u001b[0m\u001b[1;33m,\u001b[0m \u001b[0my\u001b[0m\u001b[1;33m,\u001b[0m \u001b[0msample_weight\u001b[0m\u001b[1;33m,\u001b[0m \u001b[0mX_idx_sorted\u001b[0m\u001b[1;33m)\u001b[0m\u001b[1;33m\u001b[0m\u001b[0m\n\u001b[0m\u001b[0;32m    363\u001b[0m \u001b[1;33m\u001b[0m\u001b[0m\n\u001b[0;32m    364\u001b[0m         \u001b[1;32mif\u001b[0m \u001b[0mself\u001b[0m\u001b[1;33m.\u001b[0m\u001b[0mn_outputs_\u001b[0m \u001b[1;33m==\u001b[0m \u001b[1;36m1\u001b[0m\u001b[1;33m:\u001b[0m\u001b[1;33m\u001b[0m\u001b[0m\n",
      "\u001b[1;31mKeyboardInterrupt\u001b[0m: "
     ]
    }
   ],
   "source": [
    "import scipy\n",
    "from  sklearn.model_selection import RandomizedSearchCV\n",
    "grid=RandomizedSearchCV(ensemble.RandomForestRegressor(max_features=\"log2\"), \n",
    "                                        param_distributions=\n",
    "                        {\"max_depth\": scipy.stats.randint(1,30), \n",
    "                         'n_estimators': scipy.stats.randint(10,200),},\n",
    "                                        n_iter=10,verbose=2,cv=2 )\n",
    "\n",
    "(X_train,X_test,y_train,y_test) = xy_train_test(df_train,df_test)\n",
    "X_tot=np.append(X_train,X_test,axis=0)\n",
    "y_tot=np.append(y_train,y_test,axis=0)\n",
    "\n",
    "grid.fit(X_tot,y_tot)"
   ]
  },
  {
   "cell_type": "code",
   "execution_count": 130,
   "metadata": {
    "collapsed": false
   },
   "outputs": [
    {
     "ename": "AttributeError",
     "evalue": "'RandomizedSearchCV' object has no attribute 'best_score_'",
     "output_type": "error",
     "traceback": [
      "\u001b[1;31m---------------------------------------------------------------------------\u001b[0m",
      "\u001b[1;31mAttributeError\u001b[0m                            Traceback (most recent call last)",
      "\u001b[1;32m<ipython-input-130-9f568b257f65>\u001b[0m in \u001b[0;36m<module>\u001b[1;34m()\u001b[0m\n\u001b[1;32m----> 1\u001b[1;33m \u001b[0mgrid\u001b[0m\u001b[1;33m.\u001b[0m\u001b[0mbest_score_\u001b[0m\u001b[1;33m\u001b[0m\u001b[0m\n\u001b[0m",
      "\u001b[1;31mAttributeError\u001b[0m: 'RandomizedSearchCV' object has no attribute 'best_score_'"
     ]
    }
   ],
   "source": [
    "grid.best_score_"
   ]
  },
  {
   "cell_type": "code",
   "execution_count": null,
   "metadata": {
    "collapsed": false,
    "scrolled": true
   },
   "outputs": [],
   "source": [
    "test(df_train,df_test,ensemble.GradientBoostingRegressor(loss=\"ls\", learning_rate=1, n_estimators=50,max_depth=5))\n",
    "test(df_train,df_test,ensemble.GradientBoostingRegressor(loss=\"ls\", learning_rate=1, n_estimators=100,max_depth=5))\n",
    "#test(df_train,df_test,ensemble.GradientBoostingRegressor(loss=\"ls\", learning_rate=1, n_estimators=50,max_depth=10))\n",
    "#test(df_train,df_test,ensemble.GradientBoostingRegressor(loss=\"ls\", learning_rate=1, n_estimators=100,max_depth=10))\n",
    "#test(df_train,df_test,ensemble.AdaBoostRegressor(n_estimators=100, learning_rate=0.5, loss=\"square\"))"
   ]
  },
  {
   "cell_type": "code",
   "execution_count": null,
   "metadata": {
    "collapsed": false
   },
   "outputs": [],
   "source": [
    "from xgboost import XGBRegressor\n",
    "for rate in 0.1,:\n",
    "    print(rate)\n",
    "    test(df_train,df_test,XGBRegressor(max_depth=10, learning_rate=rate, n_estimators=50))"
   ]
  },
  {
   "cell_type": "code",
   "execution_count": null,
   "metadata": {
    "collapsed": true
   },
   "outputs": [],
   "source": [
    "ps = PredefinedSplit(test_fold=your_test_fold)"
   ]
  },
  {
   "cell_type": "code",
   "execution_count": null,
   "metadata": {
    "collapsed": false
   },
   "outputs": [],
   "source": [
    "from sklearn.model_selection import PredefinedSplit\n",
    "test_fold=np.append(-np.ones(len(df_train)),np.zeros(len(df_test)))\n",
    "ps = PredefinedSplit(test_fold)\n",
    "ps.get_n_splits()\n",
    "print(ps)       \n",
    "for train_index, test_index in ps.split():\n",
    "    print(len(train_index),len(test_index))\n",
    "    print(len(df_train),len(df_test))\n",
    "    print(train_index,test_index)\n"
   ]
  },
  {
   "cell_type": "code",
   "execution_count": null,
   "metadata": {
    "collapsed": false
   },
   "outputs": [],
   "source": [
    "import scipy\n",
    "\n",
    "\n",
    "grid=model_selection.RandomizedSearchCV(XGBRegressor(learning_rate=0.1), \n",
    "                                        param_distributions={\n",
    "                        \"max_depth\": scipy.stats.randint(1,30), \n",
    "                         'n_estimators': scipy.stats.randint(10,200),\n",
    "                         #'learning_rate':scipy.stats.uniform(0,1),\n",
    "                        }, \n",
    "                                        n_iter=10,verbose=10 ,cv=ps,scoring=\"neg_mean_squared_error\")\n",
    "\n",
    "(X_train,X_test,y_train,y_test) = xy_train_test(df_train,df_test)\n",
    "\n",
    "X_tot=np.append(X_train,X_test,axis=0)\n",
    "y_tot=np.append(y_train,y_test,axis=0)\n",
    "\n",
    "\n",
    "grid.fit(X_tot,y_tot)"
   ]
  },
  {
   "cell_type": "code",
   "execution_count": null,
   "metadata": {
    "collapsed": false
   },
   "outputs": [],
   "source": [
    "grid.best_params_"
   ]
  },
  {
   "cell_type": "code",
   "execution_count": null,
   "metadata": {
    "collapsed": false
   },
   "outputs": [],
   "source": [
    "test(df_train,df_test,XGBRegressor(learning_rate=0.1, n_estimators=89,max_depth=5))\n"
   ]
  },
  {
   "cell_type": "code",
   "execution_count": null,
   "metadata": {
    "collapsed": false
   },
   "outputs": [],
   "source": []
  },
  {
   "cell_type": "code",
   "execution_count": null,
   "metadata": {
    "collapsed": true,
    "scrolled": true
   },
   "outputs": [],
   "source": [
    "\"\"\"\n",
    "for fct in (ce.BinaryEncoder,ce.HashingEncoder,\\\n",
    "                ce.OneHotEncoder,ce.OrdinalEncoder,ce.PolynomialEncoder,\\\n",
    "                ce.BaseNEncoder,ce.LeaveOneOutEncoder):\n",
    "    print(fct)\n",
    "    encoder=fct(cols=cols_to_enc)\n",
    "    enc=encoder.fit_transform(data[\"tra_as_hol\"])\n",
    "    df_train,df_test,df_eval=train_test_eval(enc,cut_date)\n",
    "    test(df_train,df_test, linear_model.LinearRegression())\n",
    "\n",
    "    \n",
    "   \n",
    "ce.BackwardDifferenceEncoder(cols=[...])\n",
    "ce.BinaryEncoder(cols=[...])\n",
    "ce.HashingEncoder(cols=[...])\n",
    "ce.HelmertEncoder(cols=[...])\n",
    "ce.OneHotEncoder(cols=[...])\n",
    "ce.OrdinalEncoder(cols=[...])\n",
    "ce.SumEncoder(cols=[...])\n",
    "ce.PolynomialEncoder(cols=[...])\n",
    "ce.BaseNEncoder(cols=[...])\n",
    "ce.LeaveOneOutEncoder(cols=[...])\n",
    "\"\"\""
   ]
  },
  {
   "cell_type": "markdown",
   "metadata": {},
   "source": [
    "## For submission"
   ]
  },
  {
   "cell_type": "code",
   "execution_count": null,
   "metadata": {
    "collapsed": true
   },
   "outputs": [],
   "source": [
    "df_eval"
   ]
  },
  {
   "cell_type": "code",
   "execution_count": null,
   "metadata": {
    "collapsed": true
   },
   "outputs": [],
   "source": [
    "def make_csv(df_train,df_test,df_eval,regr,file):\n",
    "    df_train_tot=df_train.append(df_test)\n",
    "    print(df_train_tot.columns)\n",
    "    print(df_eval.columns)\n",
    "    X_train = df_train_tot.drop([\"visitors\",\"visit_date\",\"air_store_id\",\"latitude\",\"longitude\"],axis=1).as_matrix()\n",
    "    X_test =  df_eval.drop([\"visitors\",\"visit_date\",\"air_store_id\",\"latitude\",\"longitude\"],axis=1).as_matrix()\n",
    "    # Split the targets into training/testing sets\n",
    "    y_train = df_train_tot[\"visitors\"].values\n",
    "    print(X_train.shape,y_train.shape)\n",
    "    regr.fit(X_train, y_train)\n",
    "    y_pred = regr.predict(X_test)\n",
    "    y_pred=np.maximum(0,y_pred)\n",
    "    y_pred=np.expm1(y_pred)\n",
    "    df_eval[\"visitors\"]=y_pred\n",
    "    df_eval[\"id\"]=df_eval[\"air_store_id\"].map(str)+\"_\"+df_eval[\"visit_date\"].dt.strftime('%Y-%m-%d')\n",
    "    df_sub=df_eval[[\"id\",\"visitors\"]]\n",
    "    df_sub.to_csv(file,index=False)"
   ]
  },
  {
   "cell_type": "code",
   "execution_count": null,
   "metadata": {
    "collapsed": true
   },
   "outputs": [],
   "source": [
    "df_eval=enc[enc.visitors.isna()]  \n",
    "make_csv(df_train,df_test,df_eval,linear_model.LinearRegression(),\"linear_binary.csv\")"
   ]
  },
  {
   "cell_type": "code",
   "execution_count": null,
   "metadata": {
    "collapsed": true
   },
   "outputs": [],
   "source": [
    "df_train,df_test,df_eval=train_test_eval(enc2,cut_date)\n",
    "make_csv(df_train,df_test,df_eval,ensemble.RandomForestRegressor(n_estimators=90,max_features=\"log2\",max_depth=18),\n",
    "         \"random_f_binary_log.csv\")"
   ]
  },
  {
   "cell_type": "code",
   "execution_count": null,
   "metadata": {
    "collapsed": false
   },
   "outputs": [],
   "source": [
    "df_train,df_test,df_eval=train_test_eval(enc2,cut_date)\n",
    "make_csv(df_train,df_test,df_eval,XGBRegressor(learning_rate=0.1, n_estimators=89,max_depth=5),\n",
    "         \"xgb.csv\")"
   ]
  },
  {
   "cell_type": "code",
   "execution_count": 131,
   "metadata": {
    "collapsed": false
   },
   "outputs": [
    {
     "name": "stderr",
     "output_type": "stream",
     "text": [
      "/scratch/baruselli/inst/intelpython35/lib/python3.5/site-packages/ipykernel/__main__.py:4: UserWarning: Boolean Series key will be reindexed to match DataFrame index.\n",
      "/scratch/baruselli/inst/intelpython35/lib/python3.5/site-packages/ipykernel/__main__.py:5: UserWarning: Boolean Series key will be reindexed to match DataFrame index.\n"
     ]
    },
    {
     "name": "stdout",
     "output_type": "stream",
     "text": [
      "Index(['month_0', 'month_1', 'month_2', 'month_3', 'day_of_week_0',\n",
      "       'day_of_week_1', 'day_of_week_2', 'air_genre_name_0',\n",
      "       'air_genre_name_1', 'air_genre_name_2', 'air_genre_name_3',\n",
      "       'air_area_name_0', 'air_area_name_1', 'air_area_name_2',\n",
      "       'air_area_name_3', 'air_area_name_4', 'air_area_name_5',\n",
      "       'air_area_name_6', 'air_store_id', 'visit_date', 'visitors',\n",
      "       'holiday_flg', 'visitors_dow', 'latitude', 'longitude', 'mean',\n",
      "       'median', 'min', 'max', 'std', 'time_numeric'],\n",
      "      dtype='object')\n",
      "Index(['month_0', 'month_1', 'month_2', 'month_3', 'day_of_week_0',\n",
      "       'day_of_week_1', 'day_of_week_2', 'air_genre_name_0',\n",
      "       'air_genre_name_1', 'air_genre_name_2', 'air_genre_name_3',\n",
      "       'air_area_name_0', 'air_area_name_1', 'air_area_name_2',\n",
      "       'air_area_name_3', 'air_area_name_4', 'air_area_name_5',\n",
      "       'air_area_name_6', 'air_store_id', 'visit_date', 'visitors',\n",
      "       'holiday_flg', 'visitors_dow', 'latitude', 'longitude', 'mean',\n",
      "       'median', 'min', 'max', 'std', 'time_numeric'],\n",
      "      dtype='object')\n",
      "(252108, 26) (252108,)\n"
     ]
    },
    {
     "name": "stderr",
     "output_type": "stream",
     "text": [
      "/scratch/baruselli/inst/intelpython35/lib/python3.5/site-packages/ipykernel/__main__.py:14: SettingWithCopyWarning: \n",
      "A value is trying to be set on a copy of a slice from a DataFrame.\n",
      "Try using .loc[row_indexer,col_indexer] = value instead\n",
      "\n",
      "See the caveats in the documentation: http://pandas.pydata.org/pandas-docs/stable/indexing.html#indexing-view-versus-copy\n",
      "/scratch/baruselli/inst/intelpython35/lib/python3.5/site-packages/ipykernel/__main__.py:15: SettingWithCopyWarning: \n",
      "A value is trying to be set on a copy of a slice from a DataFrame.\n",
      "Try using .loc[row_indexer,col_indexer] = value instead\n",
      "\n",
      "See the caveats in the documentation: http://pandas.pydata.org/pandas-docs/stable/indexing.html#indexing-view-versus-copy\n"
     ]
    }
   ],
   "source": [
    "df_train,df_test,df_eval=train_test_eval(enc2,cut_date)\n",
    "make_csv(df_train,df_test,df_eval,ensemble.RandomForestRegressor(n_estimators=100,max_features=\"log2\",max_depth=16),\n",
    "         \"forest.csv\")"
   ]
  },
  {
   "cell_type": "code",
   "execution_count": null,
   "metadata": {
    "collapsed": true
   },
   "outputs": [],
   "source": []
  },
  {
   "cell_type": "code",
   "execution_count": null,
   "metadata": {
    "collapsed": true
   },
   "outputs": [],
   "source": []
  },
  {
   "cell_type": "code",
   "execution_count": null,
   "metadata": {
    "collapsed": true
   },
   "outputs": [],
   "source": []
  },
  {
   "cell_type": "code",
   "execution_count": null,
   "metadata": {
    "collapsed": true
   },
   "outputs": [],
   "source": [
    "df_test=data[\"tes\"].merge(data[\"hol\"],left_on=\"time\",right_on=\"calendar_date\").\\\n",
    "            drop(\"time\",axis=1).\\\n",
    "            merge(data[\"as\"],right_on=\"air_store_id\",left_on=\"store_id\").\\\n",
    "            drop([\"store_id\"],axis=1)"
   ]
  },
  {
   "cell_type": "code",
   "execution_count": null,
   "metadata": {
    "collapsed": true
   },
   "outputs": [],
   "source": [
    "df_test"
   ]
  },
  {
   "cell_type": "code",
   "execution_count": null,
   "metadata": {
    "collapsed": true
   },
   "outputs": [],
   "source": [
    "df_test[\"month\"]=df_test.calendar_date.map(lambda x: x.month)\n",
    "df_test[\"month\"]=df_test[\"month\"].astype('category')"
   ]
  },
  {
   "cell_type": "code",
   "execution_count": null,
   "metadata": {
    "collapsed": true
   },
   "outputs": [],
   "source": [
    "#cols_to_enc=[\"holiday_flg\",\"air_genre_name\",\"air_area_name\",\"day_of_week\"]\n",
    "cols_to_enc=[\"month\",\"holiday_flg\",\"day_of_week\",\"air_genre_name\", 'air_area_name']\n",
    "dummies=pd.get_dummies(df_test[cols_to_enc])\n",
    "#data[\"tra_as_hol\"].join(dummies)\n",
    "df_test=df_test.join(dummies)\n",
    "#enc.describe()\n",
    "df_test=df_test.drop(cols_to_enc,axis=1).drop([\"air_store_id\",\"latitude\",\"longitude\"],axis=1)\n",
    "enc.head()\n",
    "for c in df_test.columns: print(c)\n",
    "print(len(df_test.columns))"
   ]
  },
  {
   "cell_type": "code",
   "execution_count": null,
   "metadata": {
    "collapsed": true
   },
   "outputs": [],
   "source": [
    "df_train"
   ]
  },
  {
   "cell_type": "markdown",
   "metadata": {},
   "source": [
    "### reservations"
   ]
  },
  {
   "cell_type": "code",
   "execution_count": null,
   "metadata": {
    "collapsed": true,
    "scrolled": true
   },
   "outputs": [],
   "source": [
    "#total number of reservations per day, for a stores\n",
    "data[\"ar\"][\"visit_date\"]=data[\"ar\"][\"visit_datetime\"].map(lambda x:x.date())\n",
    "data[\"ar\"][\"visit_date\"]=pd.to_datetime(data[\"ar\"][\"visit_date\"])\n",
    "#data[\"ar\"].groupby(\"air_store_id\",\"visit_date\")[\"reserve_visitors\"].sum()\n",
    "\n",
    "#data[\"ar\"]\n",
    "data[\"ar_sum\"]=data[\"ar\"].groupby([\"air_store_id\",\"visit_date\"]) [\"reserve_visitors\"].sum().reset_index()\n",
    "data[\"ar_sum\"].head()"
   ]
  },
  {
   "cell_type": "code",
   "execution_count": null,
   "metadata": {
    "collapsed": true
   },
   "outputs": [],
   "source": [
    "#this contains only days with reservations\n",
    "data[\"tra_ar_sum\"]=data[\"ar_sum\"].merge(data[\"tra_as_hol\"],on=[\"visit_date\",\"air_store_id\"])\n",
    "data[\"tra_ar_sum\"].head()\n",
    "df_train"
   ]
  },
  {
   "cell_type": "code",
   "execution_count": null,
   "metadata": {
    "collapsed": true
   },
   "outputs": [],
   "source": [
    "#cols_to_enc=[\"holiday_flg\",\"air_genre_name\",\"air_area_name\",\"day_of_week\"]\n",
    "cols_to_enc=[\"month\",\"holiday_flg\",\"day_of_week\",\"air_genre_name\", 'air_area_name']\n",
    "dummies=pd.get_dummies(data[\"tra_as_hol\"][cols_to_enc])\n",
    "#data[\"tra_as_hol\"].join(dummies)\n",
    "enc=data[\"tra_as_hol\"].join(dummies)\n",
    "#enc.describe()\n",
    "enc=enc.drop(cols_to_enc,axis=1).drop([\"air_store_id\",\"latitude\",\"longitude\"],axis=1)\n",
    "enc.head()\n",
    "for c in enc.columns: print(c)\n",
    "print(len(enc.columns))\n",
    "#print(enc.columns)\n",
    "df_train=enc[enc[\"visit_date\"]<cut_date]\n",
    "df_test= enc[enc[\"visit_date\"]>= cut_date]"
   ]
  },
  {
   "cell_type": "code",
   "execution_count": null,
   "metadata": {
    "collapsed": true
   },
   "outputs": [],
   "source": [
    "from sklearn import *\n",
    "print(df_train.columns)\n",
    "X_train = df_train.drop([\"visitors\",\"visit_date\"],axis=1).as_matrix()\n",
    "X_test =  df_test.drop([\"visitors\",\"visit_date\"],axis=1).as_matrix()\n",
    "    # Split the targets into training/testing sets\n",
    "y_train = df_train[\"visitors\"].values\n",
    "y_test =  df_test[\"visitors\"].values\n",
    "print(X_train.shape,y_train.shape)\n",
    "print(X_test.shape,y_test.shape)\n",
    "regr = linear_model.LinearRegression()\n",
    "regr.fit(X_train, y_train)\n",
    "y_pred = regr.predict(X_test)\n",
    "y_pred=np.maximum(0,y_pred)\n",
    "error=RMSLE(y_test, y_pred)\n",
    "print(error)"
   ]
  },
  {
   "cell_type": "code",
   "execution_count": null,
   "metadata": {
    "collapsed": true
   },
   "outputs": [],
   "source": [
    "df_store_test[[\"visitors\",\"visitors_predicted\"]]\n",
    "df_test[[\"visitors\",\"visitors_predicted\"]]"
   ]
  },
  {
   "cell_type": "code",
   "execution_count": null,
   "metadata": {
    "collapsed": true
   },
   "outputs": [],
   "source": [
    "df_train.columns"
   ]
  },
  {
   "cell_type": "code",
   "execution_count": null,
   "metadata": {
    "collapsed": true
   },
   "outputs": [],
   "source": [
    "X_train = df_train.drop([\"visitors\",\"visit_date\"],axis=1).values\n",
    "X_test =  df_test.drop([\"visitors\",\"visit_date\"],axis=1).values\n",
    "# Split the targets into training/testing sets\n",
    "y_train = df_train[\"visitors\"].values\n",
    "y_test =  df_test[\"visitors\"].values"
   ]
  },
  {
   "cell_type": "code",
   "execution_count": null,
   "metadata": {
    "collapsed": true
   },
   "outputs": [],
   "source": [
    "y_train"
   ]
  },
  {
   "cell_type": "code",
   "execution_count": null,
   "metadata": {
    "collapsed": true
   },
   "outputs": [],
   "source": [
    "regr = linear_model.LinearRegression()\n",
    "regr.fit(X_train, y_train)\n",
    "\n",
    "y_pred = regr.predict(X_test)"
   ]
  },
  {
   "cell_type": "markdown",
   "metadata": {},
   "source": [
    "### unique stores"
   ]
  },
  {
   "cell_type": "code",
   "execution_count": null,
   "metadata": {
    "collapsed": true
   },
   "outputs": [],
   "source": [
    "data[\"hr\"]"
   ]
  },
  {
   "cell_type": "code",
   "execution_count": null,
   "metadata": {
    "collapsed": true
   },
   "outputs": [],
   "source": [
    "stores_tra=set(data[\"tra\"].air_store_id.unique())\n",
    "stores_ar=set(data[\"ar\"].air_store_id.unique())\n",
    "stores_hr=set(data[\"hr\"].hpg_store_id.unique())\n",
    "stores_as=set(data[\"as\"].air_store_id.unique())\n",
    "stores_hs=set(data[\"hs\"].hpg_store_id.unique())\n",
    "stores_id_a=set(data[\"id\"].air_store_id.unique())\n",
    "stores_id_h=set(data[\"id\"].hpg_store_id.unique())\n",
    "stores_tes=set(data[\"tes\"].store_id.unique())"
   ]
  },
  {
   "cell_type": "code",
   "execution_count": null,
   "metadata": {
    "collapsed": true,
    "scrolled": true
   },
   "outputs": [],
   "source": [
    "stores_tes-stores_tra"
   ]
  },
  {
   "cell_type": "code",
   "execution_count": null,
   "metadata": {
    "collapsed": true
   },
   "outputs": [],
   "source": [
    "print(\n",
    "    len(stores_tra),len(stores_ar),len(stores_as),len(stores_id_a),\"\\n\",\n",
    "                    len(stores_hr),len(stores_hs),len(stores_id_h),\"\\n\",\n",
    "    len(stores_tes))"
   ]
  },
  {
   "cell_type": "code",
   "execution_count": null,
   "metadata": {
    "collapsed": true
   },
   "outputs": [],
   "source": [
    "X_train"
   ]
  },
  {
   "cell_type": "code",
   "execution_count": null,
   "metadata": {
    "collapsed": true
   },
   "outputs": [],
   "source": [
    "df_train.shape,df_test.shape"
   ]
  },
  {
   "cell_type": "markdown",
   "metadata": {
    "collapsed": true
   },
   "source": [
    "### Time series"
   ]
  },
  {
   "cell_type": "code",
   "execution_count": null,
   "metadata": {
    "collapsed": true
   },
   "outputs": [],
   "source": [
    "data[\"tra_as_hol\"]"
   ]
  },
  {
   "cell_type": "code",
   "execution_count": null,
   "metadata": {
    "collapsed": true
   },
   "outputs": [],
   "source": [
    "stores_groups=data[\"tra_as_hol\"].groupby(\"air_store_id\")"
   ]
  },
  {
   "cell_type": "code",
   "execution_count": null,
   "metadata": {
    "collapsed": true,
    "scrolled": true
   },
   "outputs": [],
   "source": [
    "series_test=stores_groups.get_group(\"air_00a91d42b08b08d9\")[[\"visit_date\",\"visitors\"]]\n",
    "series_test=series_test.set_index(series_test.visit_date).drop(\"visit_date\",axis=1).dropna()\n",
    "series_test.plot()"
   ]
  },
  {
   "cell_type": "code",
   "execution_count": null,
   "metadata": {
    "collapsed": true
   },
   "outputs": [],
   "source": [
    "from statsmodels.tsa.arima_model import ARIMA\n",
    "model = ARIMA(series_test, order=(1,1,0))\n",
    "model_fit = model.fit(disp=0)\n",
    "print(model_fit.summary())\n",
    "# plot residual errors\n",
    "residuals = pd.DataFrame(model_fit.resid)\n",
    "residuals.plot()\n",
    "residuals.plot(kind='kde')\n",
    "print(residuals.describe())"
   ]
  },
  {
   "cell_type": "code",
   "execution_count": null,
   "metadata": {
    "collapsed": true
   },
   "outputs": [],
   "source": [
    "model_fit.fittedvalues.plot()\n",
    "series_test.plot()"
   ]
  },
  {
   "cell_type": "markdown",
   "metadata": {},
   "source": [
    "### DOW HOL average"
   ]
  },
  {
   "cell_type": "code",
   "execution_count": null,
   "metadata": {
    "collapsed": true
   },
   "outputs": [],
   "source": [
    "df_train,df_test,df_eval=train_test_eval(data[\"tra_as_hol\"],cut_date)"
   ]
  },
  {
   "cell_type": "code",
   "execution_count": null,
   "metadata": {
    "collapsed": true
   },
   "outputs": [],
   "source": []
  },
  {
   "cell_type": "code",
   "execution_count": null,
   "metadata": {
    "collapsed": true
   },
   "outputs": [],
   "source": [
    "mean_store_dow_hol_month=df_train.groupby([\"air_store_id\",\"day_of_week\",\"holiday_flg\",\"month\"]).visitors.mean().reset_index()\n",
    "mean_store_dow_hol=df_train.groupby([\"air_store_id\",\"day_of_week\",\"holiday_flg\"]).visitors.mean().reset_index()\n",
    "mean_store_dow=df_train.groupby([\"air_store_id\",\"day_of_week\"]).visitors.mean().reset_index()\n",
    "mean_store_hol=df_train.groupby([\"air_store_id\",\"holiday_flg\"]).visitors.mean().reset_index()\n",
    "mean_store=df_train.groupby([\"air_store_id\"]).visitors.mean().reset_index()"
   ]
  },
  {
   "cell_type": "code",
   "execution_count": null,
   "metadata": {
    "collapsed": true
   },
   "outputs": [],
   "source": [
    "mean_store_dow_hol.head()"
   ]
  },
  {
   "cell_type": "code",
   "execution_count": null,
   "metadata": {
    "collapsed": true
   },
   "outputs": [],
   "source": [
    "df_test.head()"
   ]
  },
  {
   "cell_type": "code",
   "execution_count": null,
   "metadata": {
    "collapsed": true
   },
   "outputs": [],
   "source": [
    "len(df_2)"
   ]
  },
  {
   "cell_type": "code",
   "execution_count": null,
   "metadata": {
    "collapsed": true
   },
   "outputs": [],
   "source": [
    "df_0_t=df_train.merge(mean_store_dow_hol_month,on=[\"air_store_id\",\"day_of_week\",\"holiday_flg\",\"month\"],how=\"left\")\n",
    "df_1_t=df_train.merge(mean_store_dow_hol,on=[\"air_store_id\",\"day_of_week\",\"holiday_flg\"],how=\"left\")\n",
    "df_2_t=df_train.merge(mean_store_hol,on=[\"air_store_id\",\"holiday_flg\"],how=\"left\")\n",
    "df_3_t=df_train.merge(mean_store_dow,on=[\"air_store_id\",\"day_of_week\"],how=\"left\")\n",
    "df_4_t=df_train.merge(mean_store,on=[\"air_store_id\"],how=\"left\")\n",
    "df_0=df_test.merge(mean_store_dow_hol_month,on=[\"air_store_id\",\"day_of_week\",\"holiday_flg\",\"month\"],how=\"left\")\n",
    "df_1=df_test.merge(mean_store_dow_hol,on=[\"air_store_id\",\"day_of_week\",\"holiday_flg\"],how=\"left\")\n",
    "df_2=df_test.merge(mean_store_hol,on=[\"air_store_id\",\"holiday_flg\"],how=\"left\")\n",
    "df_3=df_test.merge(mean_store_dow,on=[\"air_store_id\",\"day_of_week\"],how=\"left\")\n",
    "df_4=df_test.merge(mean_store,on=[\"air_store_id\"],how=\"left\")\n",
    "y_pred_0=df_0.visitors_y.values\n",
    "y_pred_1=df_1.visitors_y.values\n",
    "y_pred_2=df_2.visitors_y.values\n",
    "y_pred_3=df_3.visitors_y.values\n",
    "y_pred_4=df_4.visitors_y.values\n",
    "y_test=df_1.visitors_x.values\n",
    "y_pred_0_t=df_0_t.visitors_y.values\n",
    "y_pred_1_t=df_1_t.visitors_y.values\n",
    "y_pred_2_t=df_2_t.visitors_y.values\n",
    "y_pred_3_t=df_3_t.visitors_y.values\n",
    "y_pred_4_t=df_4_t.visitors_y.values\n",
    "y_train=df_1_t.visitors_x.values\n"
   ]
  },
  {
   "cell_type": "code",
   "execution_count": null,
   "metadata": {
    "collapsed": true
   },
   "outputs": [],
   "source": [
    "for i,y in enumerate(y_pred_1):\n",
    "    if np.isnan(y): \n",
    "        if not np.isnan(y_pred_2[i]): y_pred_1[i]=y_pred_2[i]\n",
    "        else:\n",
    "            if not np.isnan(y_pred_3[i]): y_pred_1[i]=y_pred_3[i]\n",
    "            else:\n",
    "                if not np.isnan(y_pred_4[i]):y_pred_1[i]=y_pred_4[i]\n",
    "                else:y_pred_1[i]=0\n",
    "                #y_pred_1[i]=0\n",
    "for i,y in enumerate(y_pred_1_t):\n",
    "    if np.isnan(y): \n",
    "        if not np.isnan(y_pred_2_t[i]): y_pred_1_t[i]=y_pred_2_t[i]\n",
    "        else:\n",
    "            if not np.isnan(y_pred_3_t[i]): y_pred_1_t[i]=y_pred_3_t[i]\n",
    "            else:\n",
    "                if not np.isnan(y_pred_4_t[i]):y_pred_1_t[i]=y_pred_4_t[i]\n",
    "                else:y_pred_1_t[i]=0\n",
    "        "
   ]
  },
  {
   "cell_type": "code",
   "execution_count": null,
   "metadata": {
    "collapsed": true
   },
   "outputs": [],
   "source": [
    "RMSLE(y_test,y_pred_1)"
   ]
  },
  {
   "cell_type": "code",
   "execution_count": null,
   "metadata": {
    "collapsed": true
   },
   "outputs": [],
   "source": [
    "RMSLE(y_train,y_pred_1_t)"
   ]
  },
  {
   "cell_type": "code",
   "execution_count": null,
   "metadata": {
    "collapsed": true
   },
   "outputs": [],
   "source": []
  },
  {
   "cell_type": "markdown",
   "metadata": {
    "collapsed": true
   },
   "source": []
  }
 ],
 "metadata": {
  "kernelspec": {
   "display_name": "Python 3",
   "language": "python",
   "name": "python3"
  },
  "language_info": {
   "codemirror_mode": {
    "name": "ipython",
    "version": 3
   },
   "file_extension": ".py",
   "mimetype": "text/x-python",
   "name": "python",
   "nbconvert_exporter": "python",
   "pygments_lexer": "ipython3",
   "version": "3.5.2"
  }
 },
 "nbformat": 4,
 "nbformat_minor": 2
}
